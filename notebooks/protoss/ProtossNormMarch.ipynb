{
 "cells": [
  {
   "cell_type": "code",
   "execution_count": 38,
   "id": "worse-verification",
   "metadata": {},
   "outputs": [
    {
     "data": {
      "text/html": [
       "<div>\n",
       "<style scoped>\n",
       "    .dataframe tbody tr th:only-of-type {\n",
       "        vertical-align: middle;\n",
       "    }\n",
       "\n",
       "    .dataframe tbody tr th {\n",
       "        vertical-align: top;\n",
       "    }\n",
       "\n",
       "    .dataframe thead th {\n",
       "        text-align: right;\n",
       "    }\n",
       "</style>\n",
       "<table border=\"1\" class=\"dataframe\">\n",
       "  <thead>\n",
       "    <tr style=\"text-align: right;\">\n",
       "      <th></th>\n",
       "      <th>match_id</th>\n",
       "      <th>map_name</th>\n",
       "      <th>region</th>\n",
       "      <th>game_length</th>\n",
       "      <th>race</th>\n",
       "      <th>enemy_race</th>\n",
       "      <th>ap30s</th>\n",
       "      <th>frame</th>\n",
       "      <th>second</th>\n",
       "      <th>player</th>\n",
       "      <th>...</th>\n",
       "      <th>stalker</th>\n",
       "      <th>stargate</th>\n",
       "      <th>tempest</th>\n",
       "      <th>templararchive</th>\n",
       "      <th>twilightcouncil</th>\n",
       "      <th>voidray</th>\n",
       "      <th>warpgate</th>\n",
       "      <th>warpprism</th>\n",
       "      <th>zealot</th>\n",
       "      <th>win</th>\n",
       "    </tr>\n",
       "  </thead>\n",
       "  <tbody>\n",
       "    <tr>\n",
       "      <th>0</th>\n",
       "      <td>0</td>\n",
       "      <td>World of Sleepers LE</td>\n",
       "      <td>us</td>\n",
       "      <td>437</td>\n",
       "      <td>P</td>\n",
       "      <td>T</td>\n",
       "      <td>0.0</td>\n",
       "      <td>1</td>\n",
       "      <td>0</td>\n",
       "      <td>Player 2 - Harstem (Protoss)</td>\n",
       "      <td>...</td>\n",
       "      <td>0</td>\n",
       "      <td>0</td>\n",
       "      <td>0</td>\n",
       "      <td>0</td>\n",
       "      <td>0</td>\n",
       "      <td>0</td>\n",
       "      <td>0</td>\n",
       "      <td>0</td>\n",
       "      <td>0</td>\n",
       "      <td>0</td>\n",
       "    </tr>\n",
       "    <tr>\n",
       "      <th>1</th>\n",
       "      <td>0</td>\n",
       "      <td>World of Sleepers LE</td>\n",
       "      <td>us</td>\n",
       "      <td>437</td>\n",
       "      <td>P</td>\n",
       "      <td>T</td>\n",
       "      <td>155.4</td>\n",
       "      <td>480</td>\n",
       "      <td>30</td>\n",
       "      <td>Player 2 - Harstem (Protoss)</td>\n",
       "      <td>...</td>\n",
       "      <td>0</td>\n",
       "      <td>0</td>\n",
       "      <td>0</td>\n",
       "      <td>0</td>\n",
       "      <td>0</td>\n",
       "      <td>0</td>\n",
       "      <td>0</td>\n",
       "      <td>0</td>\n",
       "      <td>0</td>\n",
       "      <td>0</td>\n",
       "    </tr>\n",
       "    <tr>\n",
       "      <th>2</th>\n",
       "      <td>0</td>\n",
       "      <td>World of Sleepers LE</td>\n",
       "      <td>us</td>\n",
       "      <td>437</td>\n",
       "      <td>P</td>\n",
       "      <td>T</td>\n",
       "      <td>183.4</td>\n",
       "      <td>960</td>\n",
       "      <td>60</td>\n",
       "      <td>Player 2 - Harstem (Protoss)</td>\n",
       "      <td>...</td>\n",
       "      <td>0</td>\n",
       "      <td>0</td>\n",
       "      <td>0</td>\n",
       "      <td>0</td>\n",
       "      <td>0</td>\n",
       "      <td>0</td>\n",
       "      <td>0</td>\n",
       "      <td>0</td>\n",
       "      <td>0</td>\n",
       "      <td>0</td>\n",
       "    </tr>\n",
       "    <tr>\n",
       "      <th>3</th>\n",
       "      <td>0</td>\n",
       "      <td>World of Sleepers LE</td>\n",
       "      <td>us</td>\n",
       "      <td>437</td>\n",
       "      <td>P</td>\n",
       "      <td>T</td>\n",
       "      <td>148.4</td>\n",
       "      <td>1440</td>\n",
       "      <td>90</td>\n",
       "      <td>Player 2 - Harstem (Protoss)</td>\n",
       "      <td>...</td>\n",
       "      <td>0</td>\n",
       "      <td>0</td>\n",
       "      <td>0</td>\n",
       "      <td>0</td>\n",
       "      <td>0</td>\n",
       "      <td>0</td>\n",
       "      <td>1</td>\n",
       "      <td>0</td>\n",
       "      <td>0</td>\n",
       "      <td>0</td>\n",
       "    </tr>\n",
       "    <tr>\n",
       "      <th>4</th>\n",
       "      <td>0</td>\n",
       "      <td>World of Sleepers LE</td>\n",
       "      <td>us</td>\n",
       "      <td>437</td>\n",
       "      <td>P</td>\n",
       "      <td>T</td>\n",
       "      <td>152.6</td>\n",
       "      <td>1920</td>\n",
       "      <td>120</td>\n",
       "      <td>Player 2 - Harstem (Protoss)</td>\n",
       "      <td>...</td>\n",
       "      <td>0</td>\n",
       "      <td>0</td>\n",
       "      <td>0</td>\n",
       "      <td>0</td>\n",
       "      <td>0</td>\n",
       "      <td>0</td>\n",
       "      <td>1</td>\n",
       "      <td>0</td>\n",
       "      <td>0</td>\n",
       "      <td>0</td>\n",
       "    </tr>\n",
       "    <tr>\n",
       "      <th>...</th>\n",
       "      <td>...</td>\n",
       "      <td>...</td>\n",
       "      <td>...</td>\n",
       "      <td>...</td>\n",
       "      <td>...</td>\n",
       "      <td>...</td>\n",
       "      <td>...</td>\n",
       "      <td>...</td>\n",
       "      <td>...</td>\n",
       "      <td>...</td>\n",
       "      <td>...</td>\n",
       "      <td>...</td>\n",
       "      <td>...</td>\n",
       "      <td>...</td>\n",
       "      <td>...</td>\n",
       "      <td>...</td>\n",
       "      <td>...</td>\n",
       "      <td>...</td>\n",
       "      <td>...</td>\n",
       "      <td>...</td>\n",
       "      <td>...</td>\n",
       "    </tr>\n",
       "    <tr>\n",
       "      <th>76362</th>\n",
       "      <td>2307</td>\n",
       "      <td>Eternal Empire LE</td>\n",
       "      <td>eu</td>\n",
       "      <td>768</td>\n",
       "      <td>P</td>\n",
       "      <td>T</td>\n",
       "      <td>145.6</td>\n",
       "      <td>14880</td>\n",
       "      <td>930</td>\n",
       "      <td>Player 2 - PtitDrogo (Protoss)</td>\n",
       "      <td>...</td>\n",
       "      <td>8</td>\n",
       "      <td>0</td>\n",
       "      <td>0</td>\n",
       "      <td>1</td>\n",
       "      <td>1</td>\n",
       "      <td>0</td>\n",
       "      <td>8</td>\n",
       "      <td>0</td>\n",
       "      <td>10</td>\n",
       "      <td>0</td>\n",
       "    </tr>\n",
       "    <tr>\n",
       "      <th>76363</th>\n",
       "      <td>2307</td>\n",
       "      <td>Eternal Empire LE</td>\n",
       "      <td>eu</td>\n",
       "      <td>768</td>\n",
       "      <td>P</td>\n",
       "      <td>T</td>\n",
       "      <td>162.4</td>\n",
       "      <td>15360</td>\n",
       "      <td>960</td>\n",
       "      <td>Player 2 - PtitDrogo (Protoss)</td>\n",
       "      <td>...</td>\n",
       "      <td>14</td>\n",
       "      <td>0</td>\n",
       "      <td>0</td>\n",
       "      <td>1</td>\n",
       "      <td>1</td>\n",
       "      <td>0</td>\n",
       "      <td>8</td>\n",
       "      <td>0</td>\n",
       "      <td>7</td>\n",
       "      <td>0</td>\n",
       "    </tr>\n",
       "    <tr>\n",
       "      <th>76364</th>\n",
       "      <td>2307</td>\n",
       "      <td>Eternal Empire LE</td>\n",
       "      <td>eu</td>\n",
       "      <td>768</td>\n",
       "      <td>P</td>\n",
       "      <td>T</td>\n",
       "      <td>140.0</td>\n",
       "      <td>15840</td>\n",
       "      <td>990</td>\n",
       "      <td>Player 2 - PtitDrogo (Protoss)</td>\n",
       "      <td>...</td>\n",
       "      <td>14</td>\n",
       "      <td>0</td>\n",
       "      <td>0</td>\n",
       "      <td>1</td>\n",
       "      <td>1</td>\n",
       "      <td>0</td>\n",
       "      <td>8</td>\n",
       "      <td>0</td>\n",
       "      <td>9</td>\n",
       "      <td>0</td>\n",
       "    </tr>\n",
       "    <tr>\n",
       "      <th>76365</th>\n",
       "      <td>2307</td>\n",
       "      <td>Eternal Empire LE</td>\n",
       "      <td>eu</td>\n",
       "      <td>768</td>\n",
       "      <td>P</td>\n",
       "      <td>T</td>\n",
       "      <td>26.6</td>\n",
       "      <td>16320</td>\n",
       "      <td>1020</td>\n",
       "      <td>Player 2 - PtitDrogo (Protoss)</td>\n",
       "      <td>...</td>\n",
       "      <td>12</td>\n",
       "      <td>0</td>\n",
       "      <td>0</td>\n",
       "      <td>1</td>\n",
       "      <td>1</td>\n",
       "      <td>0</td>\n",
       "      <td>8</td>\n",
       "      <td>0</td>\n",
       "      <td>12</td>\n",
       "      <td>0</td>\n",
       "    </tr>\n",
       "    <tr>\n",
       "      <th>76366</th>\n",
       "      <td>2307</td>\n",
       "      <td>Eternal Empire LE</td>\n",
       "      <td>eu</td>\n",
       "      <td>768</td>\n",
       "      <td>P</td>\n",
       "      <td>T</td>\n",
       "      <td>0.0</td>\n",
       "      <td>16800</td>\n",
       "      <td>1050</td>\n",
       "      <td>Player 2 - PtitDrogo (Protoss)</td>\n",
       "      <td>...</td>\n",
       "      <td>0</td>\n",
       "      <td>0</td>\n",
       "      <td>0</td>\n",
       "      <td>1</td>\n",
       "      <td>1</td>\n",
       "      <td>0</td>\n",
       "      <td>8</td>\n",
       "      <td>0</td>\n",
       "      <td>6</td>\n",
       "      <td>0</td>\n",
       "    </tr>\n",
       "  </tbody>\n",
       "</table>\n",
       "<p>76367 rows × 64 columns</p>\n",
       "</div>"
      ],
      "text/plain": [
       "       match_id              map_name region  game_length race enemy_race  \\\n",
       "0             0  World of Sleepers LE     us          437    P          T   \n",
       "1             0  World of Sleepers LE     us          437    P          T   \n",
       "2             0  World of Sleepers LE     us          437    P          T   \n",
       "3             0  World of Sleepers LE     us          437    P          T   \n",
       "4             0  World of Sleepers LE     us          437    P          T   \n",
       "...         ...                   ...    ...          ...  ...        ...   \n",
       "76362      2307     Eternal Empire LE     eu          768    P          T   \n",
       "76363      2307     Eternal Empire LE     eu          768    P          T   \n",
       "76364      2307     Eternal Empire LE     eu          768    P          T   \n",
       "76365      2307     Eternal Empire LE     eu          768    P          T   \n",
       "76366      2307     Eternal Empire LE     eu          768    P          T   \n",
       "\n",
       "       ap30s  frame  second                          player  ...  stalker  \\\n",
       "0        0.0      1       0    Player 2 - Harstem (Protoss)  ...        0   \n",
       "1      155.4    480      30    Player 2 - Harstem (Protoss)  ...        0   \n",
       "2      183.4    960      60    Player 2 - Harstem (Protoss)  ...        0   \n",
       "3      148.4   1440      90    Player 2 - Harstem (Protoss)  ...        0   \n",
       "4      152.6   1920     120    Player 2 - Harstem (Protoss)  ...        0   \n",
       "...      ...    ...     ...                             ...  ...      ...   \n",
       "76362  145.6  14880     930  Player 2 - PtitDrogo (Protoss)  ...        8   \n",
       "76363  162.4  15360     960  Player 2 - PtitDrogo (Protoss)  ...       14   \n",
       "76364  140.0  15840     990  Player 2 - PtitDrogo (Protoss)  ...       14   \n",
       "76365   26.6  16320    1020  Player 2 - PtitDrogo (Protoss)  ...       12   \n",
       "76366    0.0  16800    1050  Player 2 - PtitDrogo (Protoss)  ...        0   \n",
       "\n",
       "       stargate  tempest  templararchive  twilightcouncil  voidray  warpgate  \\\n",
       "0             0        0               0                0        0         0   \n",
       "1             0        0               0                0        0         0   \n",
       "2             0        0               0                0        0         0   \n",
       "3             0        0               0                0        0         1   \n",
       "4             0        0               0                0        0         1   \n",
       "...         ...      ...             ...              ...      ...       ...   \n",
       "76362         0        0               1                1        0         8   \n",
       "76363         0        0               1                1        0         8   \n",
       "76364         0        0               1                1        0         8   \n",
       "76365         0        0               1                1        0         8   \n",
       "76366         0        0               1                1        0         8   \n",
       "\n",
       "       warpprism  zealot  win  \n",
       "0              0       0    0  \n",
       "1              0       0    0  \n",
       "2              0       0    0  \n",
       "3              0       0    0  \n",
       "4              0       0    0  \n",
       "...          ...     ...  ...  \n",
       "76362          0      10    0  \n",
       "76363          0       7    0  \n",
       "76364          0       9    0  \n",
       "76365          0      12    0  \n",
       "76366          0       6    0  \n",
       "\n",
       "[76367 rows x 64 columns]"
      ]
     },
     "metadata": {},
     "output_type": "display_data"
    }
   ],
   "source": [
    "#Importing data from csv\n",
    "from pandas import read_csv\n",
    "import pandas as pd\n",
    "\n",
    "protoss_data = read_csv('../Output/ProtossMarch.csv', header=0, index_col=False)\n",
    "display(protoss_data)"
   ]
  },
  {
   "cell_type": "code",
   "execution_count": 39,
   "id": "charming-nancy",
   "metadata": {
    "scrolled": true
   },
   "outputs": [
    {
     "data": {
      "text/html": [
       "<div>\n",
       "<style scoped>\n",
       "    .dataframe tbody tr th:only-of-type {\n",
       "        vertical-align: middle;\n",
       "    }\n",
       "\n",
       "    .dataframe tbody tr th {\n",
       "        vertical-align: top;\n",
       "    }\n",
       "\n",
       "    .dataframe thead th {\n",
       "        text-align: right;\n",
       "    }\n",
       "</style>\n",
       "<table border=\"1\" class=\"dataframe\">\n",
       "  <thead>\n",
       "    <tr style=\"text-align: right;\">\n",
       "      <th></th>\n",
       "      <th>ap30s</th>\n",
       "      <th>workers_active_count</th>\n",
       "      <th>food_used</th>\n",
       "      <th>food_made</th>\n",
       "      <th>minerals_current</th>\n",
       "      <th>minerals_collection_rate</th>\n",
       "      <th>minerals_used_in_progress</th>\n",
       "      <th>minerals_used_current</th>\n",
       "      <th>minerals_used_active_forces</th>\n",
       "      <th>minerals_lost</th>\n",
       "      <th>...</th>\n",
       "      <th>Map_트라이튼 - 래더</th>\n",
       "      <th>Map_포트 알렉산더 - 래더</th>\n",
       "      <th>Map_필러스 오브 골드 - 래더</th>\n",
       "      <th>Region_cn</th>\n",
       "      <th>Region_eu</th>\n",
       "      <th>Region_kr</th>\n",
       "      <th>Region_us</th>\n",
       "      <th>Enemy_P</th>\n",
       "      <th>Enemy_T</th>\n",
       "      <th>Enemy_Z</th>\n",
       "    </tr>\n",
       "  </thead>\n",
       "  <tbody>\n",
       "    <tr>\n",
       "      <th>0</th>\n",
       "      <td>0.000000</td>\n",
       "      <td>0.099174</td>\n",
       "      <td>0.045685</td>\n",
       "      <td>0.032967</td>\n",
       "      <td>0.004451</td>\n",
       "      <td>0.000000</td>\n",
       "      <td>0.00000</td>\n",
       "      <td>0.000000</td>\n",
       "      <td>0.0</td>\n",
       "      <td>0.0</td>\n",
       "      <td>...</td>\n",
       "      <td>0</td>\n",
       "      <td>0</td>\n",
       "      <td>0</td>\n",
       "      <td>0</td>\n",
       "      <td>0</td>\n",
       "      <td>0</td>\n",
       "      <td>1</td>\n",
       "      <td>0</td>\n",
       "      <td>1</td>\n",
       "      <td>0</td>\n",
       "    </tr>\n",
       "    <tr>\n",
       "      <th>1</th>\n",
       "      <td>0.310056</td>\n",
       "      <td>0.107438</td>\n",
       "      <td>0.055838</td>\n",
       "      <td>0.032967</td>\n",
       "      <td>0.004451</td>\n",
       "      <td>0.170858</td>\n",
       "      <td>0.03750</td>\n",
       "      <td>0.001457</td>\n",
       "      <td>0.0</td>\n",
       "      <td>0.0</td>\n",
       "      <td>...</td>\n",
       "      <td>0</td>\n",
       "      <td>0</td>\n",
       "      <td>0</td>\n",
       "      <td>0</td>\n",
       "      <td>0</td>\n",
       "      <td>0</td>\n",
       "      <td>1</td>\n",
       "      <td>0</td>\n",
       "      <td>1</td>\n",
       "      <td>0</td>\n",
       "    </tr>\n",
       "    <tr>\n",
       "      <th>2</th>\n",
       "      <td>0.365922</td>\n",
       "      <td>0.123967</td>\n",
       "      <td>0.065990</td>\n",
       "      <td>0.050549</td>\n",
       "      <td>0.010237</td>\n",
       "      <td>0.203760</td>\n",
       "      <td>0.03125</td>\n",
       "      <td>0.007287</td>\n",
       "      <td>0.0</td>\n",
       "      <td>0.0</td>\n",
       "      <td>...</td>\n",
       "      <td>0</td>\n",
       "      <td>0</td>\n",
       "      <td>0</td>\n",
       "      <td>0</td>\n",
       "      <td>0</td>\n",
       "      <td>0</td>\n",
       "      <td>1</td>\n",
       "      <td>0</td>\n",
       "      <td>1</td>\n",
       "      <td>0</td>\n",
       "    </tr>\n",
       "    <tr>\n",
       "      <th>3</th>\n",
       "      <td>0.296089</td>\n",
       "      <td>0.148760</td>\n",
       "      <td>0.081218</td>\n",
       "      <td>0.050549</td>\n",
       "      <td>0.012017</td>\n",
       "      <td>0.223502</td>\n",
       "      <td>0.05000</td>\n",
       "      <td>0.013844</td>\n",
       "      <td>0.0</td>\n",
       "      <td>0.0</td>\n",
       "      <td>...</td>\n",
       "      <td>0</td>\n",
       "      <td>0</td>\n",
       "      <td>0</td>\n",
       "      <td>0</td>\n",
       "      <td>0</td>\n",
       "      <td>0</td>\n",
       "      <td>1</td>\n",
       "      <td>0</td>\n",
       "      <td>1</td>\n",
       "      <td>0</td>\n",
       "    </tr>\n",
       "    <tr>\n",
       "      <th>4</th>\n",
       "      <td>0.304469</td>\n",
       "      <td>0.157025</td>\n",
       "      <td>0.086294</td>\n",
       "      <td>0.050549</td>\n",
       "      <td>0.005786</td>\n",
       "      <td>0.210341</td>\n",
       "      <td>0.15000</td>\n",
       "      <td>0.015302</td>\n",
       "      <td>0.0</td>\n",
       "      <td>0.0</td>\n",
       "      <td>...</td>\n",
       "      <td>0</td>\n",
       "      <td>0</td>\n",
       "      <td>0</td>\n",
       "      <td>0</td>\n",
       "      <td>0</td>\n",
       "      <td>0</td>\n",
       "      <td>1</td>\n",
       "      <td>0</td>\n",
       "      <td>1</td>\n",
       "      <td>0</td>\n",
       "    </tr>\n",
       "  </tbody>\n",
       "</table>\n",
       "<p>5 rows × 124 columns</p>\n",
       "</div>"
      ],
      "text/plain": [
       "      ap30s  workers_active_count  food_used  food_made  minerals_current  \\\n",
       "0  0.000000              0.099174   0.045685   0.032967          0.004451   \n",
       "1  0.310056              0.107438   0.055838   0.032967          0.004451   \n",
       "2  0.365922              0.123967   0.065990   0.050549          0.010237   \n",
       "3  0.296089              0.148760   0.081218   0.050549          0.012017   \n",
       "4  0.304469              0.157025   0.086294   0.050549          0.005786   \n",
       "\n",
       "   minerals_collection_rate  minerals_used_in_progress  minerals_used_current  \\\n",
       "0                  0.000000                    0.00000               0.000000   \n",
       "1                  0.170858                    0.03750               0.001457   \n",
       "2                  0.203760                    0.03125               0.007287   \n",
       "3                  0.223502                    0.05000               0.013844   \n",
       "4                  0.210341                    0.15000               0.015302   \n",
       "\n",
       "   minerals_used_active_forces  minerals_lost  ...  Map_트라이튼 - 래더  \\\n",
       "0                          0.0            0.0  ...              0   \n",
       "1                          0.0            0.0  ...              0   \n",
       "2                          0.0            0.0  ...              0   \n",
       "3                          0.0            0.0  ...              0   \n",
       "4                          0.0            0.0  ...              0   \n",
       "\n",
       "   Map_포트 알렉산더 - 래더  Map_필러스 오브 골드 - 래더  Region_cn  Region_eu  Region_kr  \\\n",
       "0                 0                   0          0          0          0   \n",
       "1                 0                   0          0          0          0   \n",
       "2                 0                   0          0          0          0   \n",
       "3                 0                   0          0          0          0   \n",
       "4                 0                   0          0          0          0   \n",
       "\n",
       "   Region_us  Enemy_P  Enemy_T  Enemy_Z  \n",
       "0          1        0        1        0  \n",
       "1          1        0        1        0  \n",
       "2          1        0        1        0  \n",
       "3          1        0        1        0  \n",
       "4          1        0        1        0  \n",
       "\n",
       "[5 rows x 124 columns]"
      ]
     },
     "metadata": {},
     "output_type": "display_data"
    },
    {
     "data": {
      "text/html": [
       "<div>\n",
       "<style scoped>\n",
       "    .dataframe tbody tr th:only-of-type {\n",
       "        vertical-align: middle;\n",
       "    }\n",
       "\n",
       "    .dataframe tbody tr th {\n",
       "        vertical-align: top;\n",
       "    }\n",
       "\n",
       "    .dataframe thead th {\n",
       "        text-align: right;\n",
       "    }\n",
       "</style>\n",
       "<table border=\"1\" class=\"dataframe\">\n",
       "  <thead>\n",
       "    <tr style=\"text-align: right;\">\n",
       "      <th></th>\n",
       "      <th>ap30s</th>\n",
       "      <th>workers_active_count</th>\n",
       "      <th>food_used</th>\n",
       "      <th>food_made</th>\n",
       "      <th>minerals_current</th>\n",
       "      <th>minerals_collection_rate</th>\n",
       "      <th>minerals_used_in_progress</th>\n",
       "      <th>minerals_used_current</th>\n",
       "      <th>minerals_used_active_forces</th>\n",
       "      <th>minerals_lost</th>\n",
       "      <th>...</th>\n",
       "      <th>Map_트라이튼 - 래더</th>\n",
       "      <th>Map_포트 알렉산더 - 래더</th>\n",
       "      <th>Map_필러스 오브 골드 - 래더</th>\n",
       "      <th>Region_cn</th>\n",
       "      <th>Region_eu</th>\n",
       "      <th>Region_kr</th>\n",
       "      <th>Region_us</th>\n",
       "      <th>Enemy_P</th>\n",
       "      <th>Enemy_T</th>\n",
       "      <th>Enemy_Z</th>\n",
       "    </tr>\n",
       "  </thead>\n",
       "  <tbody>\n",
       "    <tr>\n",
       "      <th>76362</th>\n",
       "      <td>0.290503</td>\n",
       "      <td>0.462810</td>\n",
       "      <td>0.558376</td>\n",
       "      <td>0.30989</td>\n",
       "      <td>0.044063</td>\n",
       "      <td>0.506463</td>\n",
       "      <td>0.15625</td>\n",
       "      <td>0.279073</td>\n",
       "      <td>0.215424</td>\n",
       "      <td>0.098810</td>\n",
       "      <td>...</td>\n",
       "      <td>0</td>\n",
       "      <td>0</td>\n",
       "      <td>0</td>\n",
       "      <td>0</td>\n",
       "      <td>1</td>\n",
       "      <td>0</td>\n",
       "      <td>0</td>\n",
       "      <td>0</td>\n",
       "      <td>1</td>\n",
       "      <td>0</td>\n",
       "    </tr>\n",
       "    <tr>\n",
       "      <th>76363</th>\n",
       "      <td>0.324022</td>\n",
       "      <td>0.462810</td>\n",
       "      <td>0.619289</td>\n",
       "      <td>0.30989</td>\n",
       "      <td>0.009792</td>\n",
       "      <td>0.519624</td>\n",
       "      <td>0.22500</td>\n",
       "      <td>0.292918</td>\n",
       "      <td>0.249819</td>\n",
       "      <td>0.102927</td>\n",
       "      <td>...</td>\n",
       "      <td>0</td>\n",
       "      <td>0</td>\n",
       "      <td>0</td>\n",
       "      <td>0</td>\n",
       "      <td>1</td>\n",
       "      <td>0</td>\n",
       "      <td>0</td>\n",
       "      <td>0</td>\n",
       "      <td>1</td>\n",
       "      <td>0</td>\n",
       "    </tr>\n",
       "    <tr>\n",
       "      <th>76364</th>\n",
       "      <td>0.279330</td>\n",
       "      <td>0.462810</td>\n",
       "      <td>0.675127</td>\n",
       "      <td>0.30989</td>\n",
       "      <td>0.011572</td>\n",
       "      <td>0.466980</td>\n",
       "      <td>0.21875</td>\n",
       "      <td>0.311862</td>\n",
       "      <td>0.264301</td>\n",
       "      <td>0.104300</td>\n",
       "      <td>...</td>\n",
       "      <td>0</td>\n",
       "      <td>0</td>\n",
       "      <td>0</td>\n",
       "      <td>0</td>\n",
       "      <td>1</td>\n",
       "      <td>0</td>\n",
       "      <td>0</td>\n",
       "      <td>0</td>\n",
       "      <td>1</td>\n",
       "      <td>0</td>\n",
       "    </tr>\n",
       "    <tr>\n",
       "      <th>76365</th>\n",
       "      <td>0.053073</td>\n",
       "      <td>0.454545</td>\n",
       "      <td>0.680203</td>\n",
       "      <td>0.30989</td>\n",
       "      <td>0.037832</td>\n",
       "      <td>0.473561</td>\n",
       "      <td>0.00000</td>\n",
       "      <td>0.334451</td>\n",
       "      <td>0.313179</td>\n",
       "      <td>0.110132</td>\n",
       "      <td>...</td>\n",
       "      <td>0</td>\n",
       "      <td>0</td>\n",
       "      <td>0</td>\n",
       "      <td>0</td>\n",
       "      <td>1</td>\n",
       "      <td>0</td>\n",
       "      <td>0</td>\n",
       "      <td>0</td>\n",
       "      <td>1</td>\n",
       "      <td>0</td>\n",
       "    </tr>\n",
       "    <tr>\n",
       "      <th>76366</th>\n",
       "      <td>0.000000</td>\n",
       "      <td>0.454545</td>\n",
       "      <td>0.395939</td>\n",
       "      <td>0.30989</td>\n",
       "      <td>0.051184</td>\n",
       "      <td>0.513043</td>\n",
       "      <td>0.00000</td>\n",
       "      <td>0.244827</td>\n",
       "      <td>0.090514</td>\n",
       "      <td>0.160567</td>\n",
       "      <td>...</td>\n",
       "      <td>0</td>\n",
       "      <td>0</td>\n",
       "      <td>0</td>\n",
       "      <td>0</td>\n",
       "      <td>1</td>\n",
       "      <td>0</td>\n",
       "      <td>0</td>\n",
       "      <td>0</td>\n",
       "      <td>1</td>\n",
       "      <td>0</td>\n",
       "    </tr>\n",
       "  </tbody>\n",
       "</table>\n",
       "<p>5 rows × 124 columns</p>\n",
       "</div>"
      ],
      "text/plain": [
       "          ap30s  workers_active_count  food_used  food_made  minerals_current  \\\n",
       "76362  0.290503              0.462810   0.558376    0.30989          0.044063   \n",
       "76363  0.324022              0.462810   0.619289    0.30989          0.009792   \n",
       "76364  0.279330              0.462810   0.675127    0.30989          0.011572   \n",
       "76365  0.053073              0.454545   0.680203    0.30989          0.037832   \n",
       "76366  0.000000              0.454545   0.395939    0.30989          0.051184   \n",
       "\n",
       "       minerals_collection_rate  minerals_used_in_progress  \\\n",
       "76362                  0.506463                    0.15625   \n",
       "76363                  0.519624                    0.22500   \n",
       "76364                  0.466980                    0.21875   \n",
       "76365                  0.473561                    0.00000   \n",
       "76366                  0.513043                    0.00000   \n",
       "\n",
       "       minerals_used_current  minerals_used_active_forces  minerals_lost  ...  \\\n",
       "76362               0.279073                     0.215424       0.098810  ...   \n",
       "76363               0.292918                     0.249819       0.102927  ...   \n",
       "76364               0.311862                     0.264301       0.104300  ...   \n",
       "76365               0.334451                     0.313179       0.110132  ...   \n",
       "76366               0.244827                     0.090514       0.160567  ...   \n",
       "\n",
       "       Map_트라이튼 - 래더  Map_포트 알렉산더 - 래더  Map_필러스 오브 골드 - 래더  Region_cn  \\\n",
       "76362              0                 0                   0          0   \n",
       "76363              0                 0                   0          0   \n",
       "76364              0                 0                   0          0   \n",
       "76365              0                 0                   0          0   \n",
       "76366              0                 0                   0          0   \n",
       "\n",
       "       Region_eu  Region_kr  Region_us  Enemy_P  Enemy_T  Enemy_Z  \n",
       "76362          1          0          0        0        1        0  \n",
       "76363          1          0          0        0        1        0  \n",
       "76364          1          0          0        0        1        0  \n",
       "76365          1          0          0        0        1        0  \n",
       "76366          1          0          0        0        1        0  \n",
       "\n",
       "[5 rows x 124 columns]"
      ]
     },
     "metadata": {},
     "output_type": "display_data"
    }
   ],
   "source": [
    "from sklearn.preprocessing import MinMaxScaler\n",
    "\n",
    "no_normalize = ['match_id','map_name','region','race','enemy_race','frame','second','player','game_length']\n",
    "\n",
    "#Names of Columns that we want to Normalize (Numerical variables only)\n",
    "normalize_columns = [x for x in list(protoss_data) if x not in no_normalize]\n",
    "\n",
    "#Normalizing these columns\n",
    "norm = protoss_data[normalize_columns].values\n",
    "norm_scaled = MinMaxScaler().fit_transform(norm)\n",
    "protoss_data_normalized = pd.DataFrame(norm_scaled, columns=normalize_columns, index=protoss_data.index)\n",
    "\n",
    "#One-hot Encoding the categorical variables\n",
    "protoss_data_normalized = protoss_data_normalized.join(pd.get_dummies(protoss_data['map_name'], prefix='Map'))\n",
    "protoss_data_normalized = protoss_data_normalized.join(pd.get_dummies(protoss_data['region'], prefix='Region'))\n",
    "protoss_data_normalized = protoss_data_normalized.join(pd.get_dummies(protoss_data['enemy_race'], prefix='Enemy'))\n",
    "\n",
    "#Displaying first and last 5 rows\n",
    "display(protoss_data_normalized.head(5), protoss_data_normalized.tail(5))"
   ]
  },
  {
   "cell_type": "code",
   "execution_count": 40,
   "id": "satisfied-gather",
   "metadata": {},
   "outputs": [],
   "source": [
    "#Split data into dependent and independent variables\n",
    "no_X = ['win']\n",
    "yes_X = [x for x in list(protoss_data_normalized) if x not in no_X]\n",
    "\n",
    "Y = protoss_data_normalized['win']\n",
    "X_normalized = protoss_data_normalized[yes_X]"
   ]
  },
  {
   "cell_type": "code",
   "execution_count": 41,
   "id": "above-secretary",
   "metadata": {},
   "outputs": [],
   "source": [
    "#Split data into training, validation and testing set\n",
    "train_split = 0.8\n",
    "val_split = 0.2\n",
    "\n",
    "num_data = len(X_normalized)\n",
    "num_val = int(train_split * val_split * num_data)\n",
    "num_train = int(train_split * num_data) - num_val\n",
    "num_test = num_data - int(train_split * num_data)\n",
    "\n",
    "\n",
    "Y_train = Y[0:num_train]\n",
    "Y_val = Y[num_train:(num_train + num_val)]\n",
    "Y_test = Y[(num_val + num_train):]\n",
    "\n",
    "\n",
    "X_normalized_train = X_normalized[0:num_train]\n",
    "X_normalized_val = X_normalized[num_train:(num_train + num_val)]\n",
    "X_normalized_test = X_normalized[(num_val + num_train):]"
   ]
  },
  {
   "cell_type": "code",
   "execution_count": 42,
   "id": "closing-receipt",
   "metadata": {},
   "outputs": [],
   "source": [
    "X_train = protoss_data_normalized[0:num_train]\n",
    "X_val = protoss_data_normalized[num_train:(num_train + num_val)]\n",
    "X_test = protoss_data_normalized[(num_val + num_train):]"
   ]
  },
  {
   "cell_type": "code",
   "execution_count": 43,
   "id": "ordered-chancellor",
   "metadata": {},
   "outputs": [
    {
     "data": {
      "text/plain": [
       "(48875,)"
      ]
     },
     "execution_count": 43,
     "metadata": {},
     "output_type": "execute_result"
    }
   ],
   "source": [
    "Y_train.shape"
   ]
  },
  {
   "cell_type": "code",
   "execution_count": 44,
   "id": "bearing-reminder",
   "metadata": {},
   "outputs": [
    {
     "data": {
      "text/plain": [
       "(48875, 124)"
      ]
     },
     "execution_count": 44,
     "metadata": {},
     "output_type": "execute_result"
    }
   ],
   "source": [
    "X_train.shape"
   ]
  },
  {
   "cell_type": "code",
   "execution_count": 45,
   "id": "accepting-booking",
   "metadata": {},
   "outputs": [],
   "source": [
    "import numpy as np\n",
    "\n",
    "class WindowGenerator():\n",
    "  def __init__(self, input_width, label_width, shift,\n",
    "               train_df=X_train, val_df=X_val, test_df=X_test,\n",
    "               label_columns=None):\n",
    "    # Store the raw data.\n",
    "    self.train_df = train_df\n",
    "    self.val_df = val_df\n",
    "    self.test_df = test_df\n",
    "\n",
    "    # Work out the label column indices.\n",
    "    self.label_columns = label_columns\n",
    "    if label_columns is not None:\n",
    "      self.label_columns_indices = {name: i for i, name in\n",
    "                                    enumerate(label_columns)}\n",
    "    self.column_indices = {name: i for i, name in\n",
    "                           enumerate(train_df.columns)}\n",
    "\n",
    "    # Work out the window parameters.\n",
    "    self.input_width = input_width\n",
    "    self.label_width = label_width\n",
    "    self.shift = shift\n",
    "\n",
    "    self.total_window_size = input_width + shift\n",
    "\n",
    "    self.input_slice = slice(0, input_width)\n",
    "    self.input_indices = np.arange(self.total_window_size)[self.input_slice]\n",
    "\n",
    "    self.label_start = self.total_window_size - self.label_width\n",
    "    self.labels_slice = slice(self.label_start, None)\n",
    "    self.label_indices = np.arange(self.total_window_size)[self.labels_slice]\n",
    "\n",
    "  def __repr__(self):\n",
    "    return '\\n'.join([\n",
    "        f'Total window size: {self.total_window_size}',\n",
    "        f'Input indices: {self.input_indices}',\n",
    "        f'Label indices: {self.label_indices}',\n",
    "        f'Label column name(s): {self.label_columns}'])"
   ]
  },
  {
   "cell_type": "code",
   "execution_count": 46,
   "id": "biblical-experiment",
   "metadata": {},
   "outputs": [
    {
     "data": {
      "text/plain": [
       "Total window size: 16\n",
       "Input indices: [ 0  1  2  3  4  5  6  7  8  9 10 11 12 13 14]\n",
       "Label indices: [ 1  2  3  4  5  6  7  8  9 10 11 12 13 14 15]\n",
       "Label column name(s): ['win']"
      ]
     },
     "execution_count": 46,
     "metadata": {},
     "output_type": "execute_result"
    }
   ],
   "source": [
    "w1 = WindowGenerator(input_width=15, label_width=15, shift=1,\n",
    "                     label_columns=['win'])\n",
    "w1"
   ]
  },
  {
   "cell_type": "code",
   "execution_count": 47,
   "id": "electronic-injection",
   "metadata": {},
   "outputs": [],
   "source": [
    "def split_window(self, features):\n",
    "  inputs = features[:, self.input_slice, :]\n",
    "  labels = features[:, self.labels_slice, :]\n",
    "  if self.label_columns is not None:\n",
    "    labels = tf.stack(\n",
    "        [labels[:, :, self.column_indices[name]] for name in self.label_columns],\n",
    "        axis=-1)\n",
    "\n",
    "  # Slicing doesn't preserve static shape information, so set the shapes\n",
    "  # manually. This way the `tf.data.Datasets` are easier to inspect.\n",
    "  inputs.set_shape([None, self.input_width, None])\n",
    "  labels.set_shape([None, self.label_width, None])\n",
    "\n",
    "  return inputs, labels\n",
    "\n",
    "WindowGenerator.split_window = split_window"
   ]
  },
  {
   "cell_type": "code",
   "execution_count": 48,
   "id": "marked-essence",
   "metadata": {},
   "outputs": [
    {
     "name": "stdout",
     "output_type": "stream",
     "text": [
      "All shapes are: (batch, time, features)\n",
      "Window shape: (1, 16, 123)\n",
      "Inputs shape: (1, 15, 123)\n",
      "labels shape: (1, 15, 1)\n"
     ]
    }
   ],
   "source": [
    "import tensorflow as tf\n",
    "tf.random.set_seed(1111)\n",
    "\n",
    "# Stack three slices, the length of the total window:\n",
    "example_window = tf.stack([np.array(X_normalized[:w1.total_window_size])])\n",
    "\n",
    "example_inputs, example_labels = w1.split_window(example_window)\n",
    "\n",
    "print('All shapes are: (batch, time, features)')\n",
    "print(f'Window shape: {example_window.shape}')\n",
    "print(f'Inputs shape: {example_inputs.shape}')\n",
    "print(f'labels shape: {example_labels.shape}')"
   ]
  },
  {
   "cell_type": "code",
   "execution_count": 49,
   "id": "returning-broadway",
   "metadata": {},
   "outputs": [],
   "source": [
    "import matplotlib.pyplot as plt\n",
    "\n",
    "def plot(self, model=None, plot_col='win', max_subplots=1):\n",
    "  inputs, labels = self.example\n",
    "  plt.figure(figsize=(20,15))\n",
    "  plot_col_index = self.column_indices[plot_col]\n",
    "  max_n = min(max_subplots, len(inputs))\n",
    "  for n in range(max_n):\n",
    "    plt.subplot(3, 1, n+1)\n",
    "    plt.ylabel(f'{plot_col} [normed]')\n",
    "    plt.plot(self.input_indices, inputs[n, :, plot_col_index],\n",
    "             label='Inputs', marker='.', zorder=-10)\n",
    "\n",
    "    if self.label_columns:\n",
    "      label_col_index = self.label_columns_indices.get(plot_col, None)\n",
    "    else:\n",
    "      label_col_index = plot_col_index\n",
    "\n",
    "    if label_col_index is None:\n",
    "      continue\n",
    "\n",
    "    plt.scatter(self.label_indices, labels[n, :, label_col_index],\n",
    "                edgecolors='k', label='Labels', c='#2ca02c', s=64)\n",
    "    if model is not None:\n",
    "      predictions = model(inputs)\n",
    "      plt.scatter(self.label_indices, predictions[n, :, label_col_index],\n",
    "                  marker='X', edgecolors='k', label='Predictions',\n",
    "                  c='#ff7f0e', s=64)\n",
    "\n",
    "    if n == 0:\n",
    "      plt.legend()\n",
    "\n",
    "  plt.xlabel('Time Step')\n",
    "\n",
    "WindowGenerator.plot = plot"
   ]
  },
  {
   "cell_type": "code",
   "execution_count": 50,
   "id": "supported-stuart",
   "metadata": {},
   "outputs": [
    {
     "data": {
      "image/png": "[encoded data removed]",
      "text/plain": [
       "<Figure size 1440x1080 with 1 Axes>"
      ]
     },
     "metadata": {
      "needs_background": "light"
     },
     "output_type": "display_data"
    }
   ],
   "source": [
    "w1.example = example_inputs, example_labels\n",
    "w1.plot()"
   ]
  },
  {
   "cell_type": "code",
   "execution_count": 51,
   "id": "american-humor",
   "metadata": {},
   "outputs": [],
   "source": [
    "def make_dataset(self, data):\n",
    "  data = np.array(data, dtype=np.float32)\n",
    "  ds = tf.keras.preprocessing.timeseries_dataset_from_array(\n",
    "      data=data,\n",
    "      targets=None,\n",
    "      sequence_length=self.total_window_size,\n",
    "      sequence_stride=1,\n",
    "      shuffle=True,\n",
    "      batch_size=32,)\n",
    "\n",
    "  ds = ds.map(self.split_window)\n",
    "\n",
    "  return ds\n",
    "\n",
    "WindowGenerator.make_dataset = make_dataset"
   ]
  },
  {
   "cell_type": "code",
   "execution_count": 52,
   "id": "provincial-timing",
   "metadata": {},
   "outputs": [],
   "source": [
    "@property\n",
    "def train(self):\n",
    "  return self.make_dataset(self.train_df)\n",
    "\n",
    "@property\n",
    "def val(self):\n",
    "  return self.make_dataset(self.val_df)\n",
    "\n",
    "@property\n",
    "def test(self):\n",
    "  return self.make_dataset(self.test_df)\n",
    "\n",
    "@property\n",
    "def example(self):\n",
    "  \"\"\"Get and cache an example batch of `inputs, labels` for plotting.\"\"\"\n",
    "  result = getattr(self, '_example', None)\n",
    "  if result is None:\n",
    "    # No example batch was found, so get one from the `.train` dataset\n",
    "    result = next(iter(self.train))\n",
    "    # And cache it for next time\n",
    "    self._example = result\n",
    "  return result\n",
    "\n",
    "WindowGenerator.train = train\n",
    "WindowGenerator.val = val\n",
    "WindowGenerator.test = test\n",
    "WindowGenerator.example = example"
   ]
  },
  {
   "cell_type": "code",
   "execution_count": 53,
   "id": "intense-guarantee",
   "metadata": {},
   "outputs": [
    {
     "data": {
      "text/plain": [
       "Total window size: 2\n",
       "Input indices: [0]\n",
       "Label indices: [1]\n",
       "Label column name(s): ['win']"
      ]
     },
     "execution_count": 53,
     "metadata": {},
     "output_type": "execute_result"
    }
   ],
   "source": [
    "single_step_window = WindowGenerator(\n",
    "    input_width=1, label_width=1, shift=1,\n",
    "    label_columns=['win'])\n",
    "single_step_window"
   ]
  },
  {
   "cell_type": "code",
   "execution_count": 54,
   "id": "southern-timber",
   "metadata": {},
   "outputs": [
    {
     "data": {
      "text/plain": [
       "Total window size: 16\n",
       "Input indices: [ 0  1  2  3  4  5  6  7  8  9 10 11 12 13 14]\n",
       "Label indices: [ 1  2  3  4  5  6  7  8  9 10 11 12 13 14 15]\n",
       "Label column name(s): ['win']"
      ]
     },
     "execution_count": 54,
     "metadata": {},
     "output_type": "execute_result"
    }
   ],
   "source": [
    "wide_window = WindowGenerator(\n",
    "    input_width=15, label_width=15, shift=1,\n",
    "    label_columns=['win'])\n",
    "\n",
    "wide_window"
   ]
  },
  {
   "cell_type": "code",
   "execution_count": 55,
   "id": "underlying-catering",
   "metadata": {},
   "outputs": [],
   "source": [
    "MAX_EPOCHS = 100\n",
    "\n",
    "def compile_and_fit(model, window, patience=3):\n",
    "    early_stopping = tf.keras.callbacks.EarlyStopping(monitor='val_loss',\n",
    "                                                    patience=patience,\n",
    "                                                    mode='min')\n",
    "    model.compile(loss=tf.keras.losses.BinaryCrossentropy(),\n",
    "                optimizer=tf.optimizers.Adam(),\n",
    "                metrics=[tf.keras.metrics.BinaryAccuracy(),tf.keras.metrics.Precision(),\n",
    "                        tf.keras.metrics.Recall(), tf.keras.metrics.AUC()])\n",
    "\n",
    "    history = model.fit(window.train, epochs=MAX_EPOCHS,\n",
    "                      validation_data=window.val,\n",
    "                     callbacks=[early_stopping])\n",
    "    return history"
   ]
  },
  {
   "cell_type": "code",
   "execution_count": 56,
   "id": "packed-qualification",
   "metadata": {},
   "outputs": [],
   "source": [
    "linear = tf.keras.Sequential([\n",
    "    tf.keras.layers.Dense(units=1, activation='sigmoid')\n",
    "])"
   ]
  },
  {
   "cell_type": "code",
   "execution_count": 57,
   "id": "applied-replication",
   "metadata": {},
   "outputs": [
    {
     "name": "stdout",
     "output_type": "stream",
     "text": [
      "WARNING:tensorflow:AutoGraph could not transform <bound method split_window of Total window size: 16\n",
      "Input indices: [ 0  1  2  3  4  5  6  7  8  9 10 11 12 13 14]\n",
      "Label indices: [ 1  2  3  4  5  6  7  8  9 10 11 12 13 14 15]\n",
      "Label column name(s): ['win']> and will run it as-is.\n",
      "Please report this to the TensorFlow team. When filing the bug, set the verbosity to 10 (on Linux, `export AUTOGRAPH_VERBOSITY=10`) and attach the full output.\n",
      "Cause: module 'gast' has no attribute 'Index'\n",
      "To silence this warning, decorate the function with @tf.autograph.experimental.do_not_convert\n",
      "WARNING: AutoGraph could not transform <bound method split_window of Total window size: 16\n",
      "Input indices: [ 0  1  2  3  4  5  6  7  8  9 10 11 12 13 14]\n",
      "Label indices: [ 1  2  3  4  5  6  7  8  9 10 11 12 13 14 15]\n",
      "Label column name(s): ['win']> and will run it as-is.\n",
      "Please report this to the TensorFlow team. When filing the bug, set the verbosity to 10 (on Linux, `export AUTOGRAPH_VERBOSITY=10`) and attach the full output.\n",
      "Cause: module 'gast' has no attribute 'Index'\n",
      "To silence this warning, decorate the function with @tf.autograph.experimental.do_not_convert\n",
      "Epoch 1/100\n",
      "1527/1527 [==============================] - 3s 2ms/step - loss: 0.5495 - binary_accuracy: 0.8816 - precision_4: 0.8484 - recall_4: 0.9328 - auc_4: 0.9544 - val_loss: 0.4285 - val_binary_accuracy: 0.9842 - val_precision_4: 0.9841 - val_recall_4: 0.9842 - val_auc_4: 0.9831\n",
      "Epoch 2/100\n",
      "1527/1527 [==============================] - 3s 2ms/step - loss: 0.3362 - binary_accuracy: 0.9846 - precision_4: 0.9848 - recall_4: 0.9848 - auc_4: 0.9842 - val_loss: 0.2733 - val_binary_accuracy: 0.9842 - val_precision_4: 0.9841 - val_recall_4: 0.9842 - val_auc_4: 0.9833\n",
      "Epoch 3/100\n",
      "1527/1527 [==============================] - 3s 2ms/step - loss: 0.2198 - binary_accuracy: 0.9846 - precision_4: 0.9848 - recall_4: 0.9848 - auc_4: 0.9842 - val_loss: 0.1857 - val_binary_accuracy: 0.9842 - val_precision_4: 0.9841 - val_recall_4: 0.9842 - val_auc_4: 0.9834\n",
      "Epoch 4/100\n",
      "1527/1527 [==============================] - 3s 2ms/step - loss: 0.1539 - binary_accuracy: 0.9846 - precision_4: 0.9848 - recall_4: 0.9848 - auc_4: 0.9845 - val_loss: 0.1354 - val_binary_accuracy: 0.9842 - val_precision_4: 0.9841 - val_recall_4: 0.9842 - val_auc_4: 0.9841\n",
      "Epoch 5/100\n",
      "1527/1527 [==============================] - 3s 2ms/step - loss: 0.1166 - binary_accuracy: 0.9846 - precision_4: 0.9848 - recall_4: 0.9848 - auc_4: 0.9852 - val_loss: 0.1071 - val_binary_accuracy: 0.9842 - val_precision_4: 0.9841 - val_recall_4: 0.9842 - val_auc_4: 0.9849\n",
      "Epoch 6/100\n",
      "1527/1527 [==============================] - 3s 2ms/step - loss: 0.0960 - binary_accuracy: 0.9846 - precision_4: 0.9848 - recall_4: 0.9848 - auc_4: 0.9862 - val_loss: 0.0919 - val_binary_accuracy: 0.9842 - val_precision_4: 0.9841 - val_recall_4: 0.9842 - val_auc_4: 0.9862\n",
      "Epoch 7/100\n",
      "1527/1527 [==============================] - 3s 2ms/step - loss: 0.0851 - binary_accuracy: 0.9846 - precision_4: 0.9848 - recall_4: 0.9848 - auc_4: 0.9875 - val_loss: 0.0842 - val_binary_accuracy: 0.9842 - val_precision_4: 0.9841 - val_recall_4: 0.9842 - val_auc_4: 0.9875\n",
      "Epoch 8/100\n",
      "1527/1527 [==============================] - 3s 2ms/step - loss: 0.0799 - binary_accuracy: 0.9846 - precision_4: 0.9848 - recall_4: 0.9848 - auc_4: 0.9885 - val_loss: 0.0808 - val_binary_accuracy: 0.9842 - val_precision_4: 0.9841 - val_recall_4: 0.9842 - val_auc_4: 0.9880\n",
      "Epoch 9/100\n",
      "1527/1527 [==============================] - 3s 2ms/step - loss: 0.0777 - binary_accuracy: 0.9846 - precision_4: 0.9848 - recall_4: 0.9848 - auc_4: 0.9891 - val_loss: 0.0796 - val_binary_accuracy: 0.9842 - val_precision_4: 0.9841 - val_recall_4: 0.9842 - val_auc_4: 0.9885\n",
      "Epoch 10/100\n",
      "1527/1527 [==============================] - 3s 2ms/step - loss: 0.0768 - binary_accuracy: 0.9846 - precision_4: 0.9848 - recall_4: 0.9848 - auc_4: 0.9895 - val_loss: 0.0791 - val_binary_accuracy: 0.9842 - val_precision_4: 0.9841 - val_recall_4: 0.9842 - val_auc_4: 0.9887\n",
      "Epoch 11/100\n",
      "1527/1527 [==============================] - 3s 2ms/step - loss: 0.0764 - binary_accuracy: 0.9846 - precision_4: 0.9848 - recall_4: 0.9848 - auc_4: 0.9896 - val_loss: 0.0790 - val_binary_accuracy: 0.9842 - val_precision_4: 0.9841 - val_recall_4: 0.9842 - val_auc_4: 0.9889\n",
      "Epoch 12/100\n",
      "1527/1527 [==============================] - 3s 2ms/step - loss: 0.0761 - binary_accuracy: 0.9846 - precision_4: 0.9848 - recall_4: 0.9848 - auc_4: 0.9897 - val_loss: 0.0789 - val_binary_accuracy: 0.9842 - val_precision_4: 0.9841 - val_recall_4: 0.9842 - val_auc_4: 0.9891\n",
      "Epoch 13/100\n",
      "1527/1527 [==============================] - 3s 2ms/step - loss: 0.0760 - binary_accuracy: 0.9846 - precision_4: 0.9848 - recall_4: 0.9848 - auc_4: 0.9899 - val_loss: 0.0789 - val_binary_accuracy: 0.9842 - val_precision_4: 0.9841 - val_recall_4: 0.9842 - val_auc_4: 0.9891\n",
      "Epoch 14/100\n",
      "1527/1527 [==============================] - 3s 2ms/step - loss: 0.0758 - binary_accuracy: 0.9846 - precision_4: 0.9848 - recall_4: 0.9848 - auc_4: 0.9900 - val_loss: 0.0789 - val_binary_accuracy: 0.9842 - val_precision_4: 0.9841 - val_recall_4: 0.9842 - val_auc_4: 0.9889\n",
      "Epoch 15/100\n",
      "1527/1527 [==============================] - 3s 2ms/step - loss: 0.0758 - binary_accuracy: 0.9846 - precision_4: 0.9848 - recall_4: 0.9848 - auc_4: 0.9900 - val_loss: 0.0789 - val_binary_accuracy: 0.9842 - val_precision_4: 0.9841 - val_recall_4: 0.9842 - val_auc_4: 0.9890\n",
      "Epoch 16/100\n",
      "1527/1527 [==============================] - 3s 2ms/step - loss: 0.0757 - binary_accuracy: 0.9846 - precision_4: 0.9848 - recall_4: 0.9848 - auc_4: 0.9900 - val_loss: 0.0789 - val_binary_accuracy: 0.9842 - val_precision_4: 0.9841 - val_recall_4: 0.9842 - val_auc_4: 0.9890\n",
      "Epoch 17/100\n",
      "1527/1527 [==============================] - 3s 2ms/step - loss: 0.0756 - binary_accuracy: 0.9846 - precision_4: 0.9848 - recall_4: 0.9848 - auc_4: 0.9900 - val_loss: 0.0789 - val_binary_accuracy: 0.9842 - val_precision_4: 0.9841 - val_recall_4: 0.9842 - val_auc_4: 0.9889\n",
      "382/382 [==============================] - 1s 1ms/step - loss: 0.0789 - binary_accuracy: 0.9842 - precision_4: 0.9841 - recall_4: 0.9842 - auc_4: 0.9889\n"
     ]
    }
   ],
   "source": [
    "val_performance = {}\n",
    "performance = {}\n",
    "\n",
    "history_linear = compile_and_fit(linear, wide_window)\n",
    "\n",
    "val_performance['Linear'] = linear.evaluate(wide_window.val)\n",
    "performance['Linear'] = linear.evaluate(wide_window.test, verbose=0)"
   ]
  },
  {
   "cell_type": "code",
   "execution_count": 58,
   "id": "authentic-ghana",
   "metadata": {},
   "outputs": [
    {
     "data": {
      "image/png": "[encoded data removed]",
      "text/plain": [
       "<Figure size 432x288 with 1 Axes>"
      ]
     },
     "metadata": {
      "needs_background": "light"
     },
     "output_type": "display_data"
    },
    {
     "data": {
      "image/png": "[encoded data removed]",
      "text/plain": [
       "<Figure size 432x288 with 1 Axes>"
      ]
     },
     "metadata": {
      "needs_background": "light"
     },
     "output_type": "display_data"
    },
    {
     "data": {
      "image/png": "[encoded data removed]",
      "text/plain": [
       "<Figure size 432x288 with 1 Axes>"
      ]
     },
     "metadata": {
      "needs_background": "light"
     },
     "output_type": "display_data"
    }
   ],
   "source": [
    "import matplotlib.pyplot as plt\n",
    "\n",
    "#Linear Model Loss\n",
    "plt.plot(history_linear.history['loss'])\n",
    "plt.plot(history_linear.history['val_loss'])\n",
    "plt.title('Linear Model Loss')\n",
    "plt.ylabel('Loss')\n",
    "plt.xlabel('Epoch')\n",
    "plt.legend(['Train','Val'], loc='upper right')\n",
    "plt.show()\n",
    "\n",
    "#Linear Model Loss\n",
    "plt.plot(history_linear.history['loss'])\n",
    "plt.plot(history_linear.history['val_loss'])\n",
    "plt.title('Linear Model Loss - Closer Look')\n",
    "plt.ylabel('Loss')\n",
    "plt.xlabel('Epoch')\n",
    "plt.legend(['Train','Val'], loc='upper right')\n",
    "plt.ylim(0.075,0.09)\n",
    "plt.xlim(4,15)\n",
    "plt.show()\n",
    "\n",
    "#Linear Model Binary Accuracy\n",
    "plt.plot(history_linear.history['binary_accuracy'])\n",
    "plt.plot(history_linear.history['val_binary_accuracy'])\n",
    "plt.title('Linear Model Binary Accuracy')\n",
    "plt.ylabel('Binary Accuracy')\n",
    "plt.xlabel('Epoch')\n",
    "plt.legend(['Train','Val'], loc='upper right')\n",
    "plt.show()"
   ]
  },
  {
   "cell_type": "code",
   "execution_count": 59,
   "id": "editorial-departure",
   "metadata": {},
   "outputs": [
    {
     "name": "stdout",
     "output_type": "stream",
     "text": [
      "WARNING:tensorflow:Model was constructed with shape (None, 15, 124) for input Tensor(\"dense_6_input:0\", shape=(None, 15, 124), dtype=float32), but it was called on an input with incompatible shape (None, 124).\n"
     ]
    },
    {
     "data": {
      "image/png": "[encoded data removed]",
      "text/plain": [
       "<Figure size 288x288 with 1 Axes>"
      ]
     },
     "metadata": {
      "needs_background": "light"
     },
     "output_type": "display_data"
    }
   ],
   "source": [
    "#Confusion matrix for Test set using Linear model \n",
    "\n",
    "import numpy as np\n",
    "from sklearn.metrics import classification_report, confusion_matrix\n",
    "\n",
    "cm = confusion_matrix(Y_test, linear.predict_classes(X_test))\n",
    "fig, ax = plt.subplots(figsize=(4,4))\n",
    "ax.imshow(cm)\n",
    "ax.grid(False)\n",
    "ax.xaxis.set(ticks=(0, 1), ticklabels=('Predicted Loss', 'Predicted Win'))\n",
    "ax.yaxis.set(ticks=(0, 1), ticklabels=('Actual Loss', 'Actual Win'))\n",
    "ax.set_ylim(1.5, -0.5)\n",
    "for i in range(2):\n",
    "    for j in range(2):\n",
    "        ax.text(j, i, cm[i, j], ha='center', va='center', color='red')\n",
    "plt.show()"
   ]
  },
  {
   "cell_type": "code",
   "execution_count": 60,
   "id": "centered-huntington",
   "metadata": {
    "scrolled": true
   },
   "outputs": [
    {
     "data": {
      "image/png": "[encoded data removed]",
      "text/plain": [
       "<Figure size 1440x1080 with 1 Axes>"
      ]
     },
     "metadata": {
      "needs_background": "light"
     },
     "output_type": "display_data"
    }
   ],
   "source": [
    "#Linear\n",
    "\n",
    "wide_window.plot(linear)"
   ]
  },
  {
   "cell_type": "code",
   "execution_count": 61,
   "id": "sought-justice",
   "metadata": {},
   "outputs": [
    {
     "name": "stdout",
     "output_type": "stream",
     "text": [
      "Epoch 1/100\n",
      "1527/1527 [==============================] - 4s 3ms/step - loss: 0.1696 - binary_accuracy: 0.9520 - precision_5: 0.9491 - recall_5: 0.9564 - auc_5: 0.9840 - val_loss: 0.0804 - val_binary_accuracy: 0.9836 - val_precision_5: 0.9829 - val_recall_5: 0.9842 - val_auc_5: 0.9885\n",
      "Epoch 2/100\n",
      "1527/1527 [==============================] - 4s 2ms/step - loss: 0.0704 - binary_accuracy: 0.9846 - precision_5: 0.9847 - recall_5: 0.9849 - auc_5: 0.9898 - val_loss: 0.0662 - val_binary_accuracy: 0.9843 - val_precision_5: 0.9841 - val_recall_5: 0.9846 - val_auc_5: 0.9933\n",
      "Epoch 3/100\n",
      "1527/1527 [==============================] - 4s 2ms/step - loss: 0.0538 - binary_accuracy: 0.9846 - precision_5: 0.9846 - recall_5: 0.9851 - auc_5: 0.9973 - val_loss: 0.0521 - val_binary_accuracy: 0.9842 - val_precision_5: 0.9839 - val_recall_5: 0.9844 - val_auc_5: 0.9981\n",
      "Epoch 4/100\n",
      "1527/1527 [==============================] - 4s 2ms/step - loss: 0.0429 - binary_accuracy: 0.9846 - precision_5: 0.9848 - recall_5: 0.9848 - auc_5: 0.9984 - val_loss: 0.0442 - val_binary_accuracy: 0.9841 - val_precision_5: 0.9841 - val_recall_5: 0.9841 - val_auc_5: 0.9984\n",
      "Epoch 5/100\n",
      "1527/1527 [==============================] - 4s 2ms/step - loss: 0.0411 - binary_accuracy: 0.9846 - precision_5: 0.9850 - recall_5: 0.9847 - auc_5: 0.9984 - val_loss: 0.0426 - val_binary_accuracy: 0.9841 - val_precision_5: 0.9842 - val_recall_5: 0.9839 - val_auc_5: 0.9985\n",
      "Epoch 6/100\n",
      "1527/1527 [==============================] - 4s 2ms/step - loss: 0.0406 - binary_accuracy: 0.9847 - precision_5: 0.9854 - recall_5: 0.9843 - auc_5: 0.9984 - val_loss: 0.0424 - val_binary_accuracy: 0.9839 - val_precision_5: 0.9848 - val_recall_5: 0.9827 - val_auc_5: 0.9985\n",
      "Epoch 7/100\n",
      "1527/1527 [==============================] - 4s 2ms/step - loss: 0.0403 - binary_accuracy: 0.9847 - precision_5: 0.9857 - recall_5: 0.9840 - auc_5: 0.9984 - val_loss: 0.0421 - val_binary_accuracy: 0.9839 - val_precision_5: 0.9852 - val_recall_5: 0.9826 - val_auc_5: 0.9984\n",
      "Epoch 8/100\n",
      "1527/1527 [==============================] - 4s 2ms/step - loss: 0.0400 - binary_accuracy: 0.9848 - precision_5: 0.9861 - recall_5: 0.9838 - auc_5: 0.9985 - val_loss: 0.0417 - val_binary_accuracy: 0.9838 - val_precision_5: 0.9850 - val_recall_5: 0.9824 - val_auc_5: 0.9983\n",
      "Epoch 9/100\n",
      "1527/1527 [==============================] - 4s 2ms/step - loss: 0.0396 - binary_accuracy: 0.9848 - precision_5: 0.9864 - recall_5: 0.9835 - auc_5: 0.9985 - val_loss: 0.0419 - val_binary_accuracy: 0.9840 - val_precision_5: 0.9852 - val_recall_5: 0.9827 - val_auc_5: 0.9983\n",
      "Epoch 10/100\n",
      "1527/1527 [==============================] - 4s 2ms/step - loss: 0.0392 - binary_accuracy: 0.9848 - precision_5: 0.9866 - recall_5: 0.9834 - auc_5: 0.9985 - val_loss: 0.0418 - val_binary_accuracy: 0.9841 - val_precision_5: 0.9855 - val_recall_5: 0.9826 - val_auc_5: 0.9983\n",
      "Epoch 11/100\n",
      "1527/1527 [==============================] - 4s 2ms/step - loss: 0.0388 - binary_accuracy: 0.9849 - precision_5: 0.9868 - recall_5: 0.9834 - auc_5: 0.9986 - val_loss: 0.0415 - val_binary_accuracy: 0.9839 - val_precision_5: 0.9861 - val_recall_5: 0.9816 - val_auc_5: 0.9983\n",
      "Epoch 12/100\n",
      "1527/1527 [==============================] - 4s 3ms/step - loss: 0.0385 - binary_accuracy: 0.9849 - precision_5: 0.9870 - recall_5: 0.9832 - auc_5: 0.9986 - val_loss: 0.0414 - val_binary_accuracy: 0.9840 - val_precision_5: 0.9863 - val_recall_5: 0.9816 - val_auc_5: 0.9984\n",
      "Epoch 13/100\n",
      "1527/1527 [==============================] - 4s 3ms/step - loss: 0.0381 - binary_accuracy: 0.9850 - precision_5: 0.9871 - recall_5: 0.9832 - auc_5: 0.9986 - val_loss: 0.0414 - val_binary_accuracy: 0.9840 - val_precision_5: 0.9863 - val_recall_5: 0.9816 - val_auc_5: 0.9984\n",
      "Epoch 14/100\n",
      "1527/1527 [==============================] - 4s 3ms/step - loss: 0.0378 - binary_accuracy: 0.9850 - precision_5: 0.9872 - recall_5: 0.9831 - auc_5: 0.9987 - val_loss: 0.0416 - val_binary_accuracy: 0.9842 - val_precision_5: 0.9857 - val_recall_5: 0.9826 - val_auc_5: 0.9984\n",
      "Epoch 15/100\n",
      "1527/1527 [==============================] - 4s 2ms/step - loss: 0.0375 - binary_accuracy: 0.9851 - precision_5: 0.9874 - recall_5: 0.9831 - auc_5: 0.9987 - val_loss: 0.0416 - val_binary_accuracy: 0.9839 - val_precision_5: 0.9863 - val_recall_5: 0.9813 - val_auc_5: 0.9984\n",
      "382/382 [==============================] - 1s 2ms/step - loss: 0.0416 - binary_accuracy: 0.9839 - precision_5: 0.9863 - recall_5: 0.9813 - auc_5: 0.9984\n"
     ]
    }
   ],
   "source": [
    "dense = tf.keras.Sequential([\n",
    "    tf.keras.layers.Dense(units=131, activation='sigmoid'),\n",
    "    tf.keras.layers.Dense(units=65, activation='sigmoid'),\n",
    "    tf.keras.layers.Dense(units=1, activation='sigmoid')\n",
    "])\n",
    "\n",
    "history_dense = compile_and_fit(dense, wide_window)\n",
    "\n",
    "val_performance['Dense'] = dense.evaluate(wide_window.val)\n",
    "performance['Dense'] = dense.evaluate(wide_window.test, verbose=0)"
   ]
  },
  {
   "cell_type": "code",
   "execution_count": 62,
   "id": "allied-malta",
   "metadata": {},
   "outputs": [
    {
     "data": {
      "image/png": "[encoded data removed]",
      "text/plain": [
       "<Figure size 432x288 with 1 Axes>"
      ]
     },
     "metadata": {
      "needs_background": "light"
     },
     "output_type": "display_data"
    },
    {
     "data": {
      "image/png": "[encoded data removed]",
      "text/plain": [
       "<Figure size 432x288 with 1 Axes>"
      ]
     },
     "metadata": {
      "needs_background": "light"
     },
     "output_type": "display_data"
    },
    {
     "data": {
      "image/png": "[encoded data removed]",
      "text/plain": [
       "<Figure size 432x288 with 1 Axes>"
      ]
     },
     "metadata": {
      "needs_background": "light"
     },
     "output_type": "display_data"
    }
   ],
   "source": [
    "#Dense Model Loss\n",
    "plt.plot(history_dense.history['loss'])\n",
    "plt.plot(history_dense.history['val_loss'])\n",
    "plt.title('Dense Model Loss')\n",
    "plt.ylabel('Loss')\n",
    "plt.xlabel('Epoch')\n",
    "plt.legend(['Train','Val'], loc='upper right')\n",
    "plt.show()\n",
    "\n",
    "#Dense Model Loss\n",
    "plt.plot(history_dense.history['loss'])\n",
    "plt.plot(history_dense.history['val_loss'])\n",
    "plt.title('Dense Model Loss - Closer Look')\n",
    "plt.ylabel('Loss')\n",
    "plt.xlabel('Epoch')\n",
    "plt.legend(['Train','Val'], loc='upper right')\n",
    "plt.ylim(0.03,0.055)\n",
    "plt.xlim(0,15)\n",
    "plt.show()\n",
    "\n",
    "#Dense Model Binary Accuracy\n",
    "plt.plot(history_dense.history['binary_accuracy'])\n",
    "plt.plot(history_dense.history['val_binary_accuracy'])\n",
    "plt.title('Dense Model Binary Accuracy')\n",
    "plt.ylabel('Binary Accuracy')\n",
    "plt.xlabel('Epoch')\n",
    "plt.legend(['Train','Val'], loc='upper right')\n",
    "plt.show()"
   ]
  },
  {
   "cell_type": "code",
   "execution_count": 63,
   "id": "collectible-packet",
   "metadata": {},
   "outputs": [
    {
     "name": "stdout",
     "output_type": "stream",
     "text": [
      "WARNING:tensorflow:Model was constructed with shape (None, 15, 124) for input Tensor(\"dense_7_input:0\", shape=(None, 15, 124), dtype=float32), but it was called on an input with incompatible shape (None, 124).\n"
     ]
    },
    {
     "data": {
      "image/png": "[encoded data removed]",
      "text/plain": [
       "<Figure size 288x288 with 1 Axes>"
      ]
     },
     "metadata": {
      "needs_background": "light"
     },
     "output_type": "display_data"
    }
   ],
   "source": [
    "#Confusion matrix for Test set using Dense NN\n",
    "\n",
    "cm = confusion_matrix(Y_test, dense.predict_classes(X_test))\n",
    "fig, ax = plt.subplots(figsize=(4,4))\n",
    "ax.imshow(cm)\n",
    "ax.grid(False)\n",
    "ax.xaxis.set(ticks=(0, 1), ticklabels=('Predicted Loss', 'Predicted Win'))\n",
    "ax.yaxis.set(ticks=(0, 1), ticklabels=('Actual Loss', 'Actual Win'))\n",
    "ax.set_ylim(1.5, -0.5)\n",
    "for i in range(2):\n",
    "    for j in range(2):\n",
    "        ax.text(j, i, cm[i, j], ha='center', va='center', color='red')\n",
    "plt.show()"
   ]
  },
  {
   "cell_type": "code",
   "execution_count": 64,
   "id": "bizarre-sweet",
   "metadata": {},
   "outputs": [
    {
     "data": {
      "image/png": "[encoded data removed]",
      "text/plain": [
       "<Figure size 1440x1080 with 1 Axes>"
      ]
     },
     "metadata": {
      "needs_background": "light"
     },
     "output_type": "display_data"
    }
   ],
   "source": [
    "#Dense\n",
    "\n",
    "wide_window.plot(dense)"
   ]
  },
  {
   "cell_type": "code",
   "execution_count": 65,
   "id": "directed-spider",
   "metadata": {},
   "outputs": [],
   "source": [
    "lstm_model = tf.keras.models.Sequential([\n",
    "    # Shape [batch, time, features] => [batch, time, lstm_units]\n",
    "    tf.keras.layers.LSTM(32, return_sequences=True),\n",
    "    # Shape => [batch, time, features]\n",
    "    tf.keras.layers.Dense(units=1, activation='sigmoid')\n",
    "])"
   ]
  },
  {
   "cell_type": "code",
   "execution_count": 66,
   "id": "accepting-powder",
   "metadata": {},
   "outputs": [
    {
     "name": "stdout",
     "output_type": "stream",
     "text": [
      "Input shape: (32, 15, 124)\n",
      "Output shape: (32, 15, 1)\n"
     ]
    }
   ],
   "source": [
    "print('Input shape:', wide_window.example[0].shape)\n",
    "print('Output shape:', lstm_model(wide_window.example[0]).shape)"
   ]
  },
  {
   "cell_type": "code",
   "execution_count": 67,
   "id": "proof-vietnam",
   "metadata": {},
   "outputs": [
    {
     "name": "stdout",
     "output_type": "stream",
     "text": [
      "Epoch 1/100\n",
      "1527/1527 [==============================] - 9s 6ms/step - loss: 0.1241 - binary_accuracy: 0.9709 - precision_6: 0.9689 - recall_6: 0.9738 - auc_6: 0.9894 - val_loss: 0.0677 - val_binary_accuracy: 0.9841 - val_precision_6: 0.9841 - val_recall_6: 0.9841 - val_auc_6: 0.9951\n",
      "Epoch 2/100\n",
      "1527/1527 [==============================] - 8s 5ms/step - loss: 0.0522 - binary_accuracy: 0.9849 - precision_6: 0.9851 - recall_6: 0.9850 - auc_6: 0.9977 - val_loss: 0.0504 - val_binary_accuracy: 0.9837 - val_precision_6: 0.9829 - val_recall_6: 0.9844 - val_auc_6: 0.9980\n",
      "Epoch 3/100\n",
      "1527/1527 [==============================] - 8s 5ms/step - loss: 0.0413 - binary_accuracy: 0.9858 - precision_6: 0.9861 - recall_6: 0.9859 - auc_6: 0.9987 - val_loss: 0.0490 - val_binary_accuracy: 0.9835 - val_precision_6: 0.9815 - val_recall_6: 0.9855 - val_auc_6: 0.9980\n",
      "Epoch 4/100\n",
      "1527/1527 [==============================] - 8s 5ms/step - loss: 0.0357 - binary_accuracy: 0.9870 - precision_6: 0.9875 - recall_6: 0.9867 - auc_6: 0.9990 - val_loss: 0.0511 - val_binary_accuracy: 0.9823 - val_precision_6: 0.9812 - val_recall_6: 0.9834 - val_auc_6: 0.9975\n",
      "Epoch 5/100\n",
      "1527/1527 [==============================] - 8s 5ms/step - loss: 0.0315 - binary_accuracy: 0.9882 - precision_6: 0.9891 - recall_6: 0.9877 - auc_6: 0.9992 - val_loss: 0.0554 - val_binary_accuracy: 0.9809 - val_precision_6: 0.9778 - val_recall_6: 0.9840 - val_auc_6: 0.9971\n",
      "Epoch 6/100\n",
      "1527/1527 [==============================] - 7s 5ms/step - loss: 0.0277 - binary_accuracy: 0.9896 - precision_6: 0.9903 - recall_6: 0.9892 - auc_6: 0.9993 - val_loss: 0.0601 - val_binary_accuracy: 0.9796 - val_precision_6: 0.9773 - val_recall_6: 0.9818 - val_auc_6: 0.9968\n",
      "382/382 [==============================] - 1s 2ms/step - loss: 0.0601 - binary_accuracy: 0.9796 - precision_6: 0.9773 - recall_6: 0.9818 - auc_6: 0.9968\n"
     ]
    }
   ],
   "source": [
    "history_lstm = compile_and_fit(lstm_model, wide_window)\n",
    "\n",
    "val_performance['LSTM'] = lstm_model.evaluate(wide_window.val)\n",
    "performance['LSTM'] = lstm_model.evaluate(wide_window.test, verbose=0)"
   ]
  },
  {
   "cell_type": "code",
   "execution_count": 68,
   "id": "wicked-brisbane",
   "metadata": {},
   "outputs": [
    {
     "data": {
      "image/png": "[encoded data removed]",
      "text/plain": [
       "<Figure size 432x288 with 1 Axes>"
      ]
     },
     "metadata": {
      "needs_background": "light"
     },
     "output_type": "display_data"
    },
    {
     "data": {
      "image/png": "[encoded data removed]",
      "text/plain": [
       "<Figure size 432x288 with 1 Axes>"
      ]
     },
     "metadata": {
      "needs_background": "light"
     },
     "output_type": "display_data"
    },
    {
     "data": {
      "image/png": "[encoded data removed]",
      "text/plain": [
       "<Figure size 432x288 with 1 Axes>"
      ]
     },
     "metadata": {
      "needs_background": "light"
     },
     "output_type": "display_data"
    }
   ],
   "source": [
    "#LSTM Model Loss\n",
    "plt.plot(history_lstm.history['loss'])\n",
    "plt.plot(history_lstm.history['val_loss'])\n",
    "plt.title('LSTM Model Loss')\n",
    "plt.ylabel('Loss')\n",
    "plt.xlabel('Epoch')\n",
    "plt.legend(['Train','Val'], loc='upper right')\n",
    "plt.show()\n",
    "\n",
    "#LSTM Model Loss\n",
    "plt.plot(history_lstm.history['loss'])\n",
    "plt.plot(history_lstm.history['val_loss'])\n",
    "plt.title('LSTM Model Loss - Closer Look')\n",
    "plt.ylabel('Loss')\n",
    "plt.xlabel('Epoch')\n",
    "plt.legend(['Train','Val'], loc='upper right')\n",
    "plt.ylim(0.03,0.08)\n",
    "plt.xlim(0,6)\n",
    "plt.show()\n",
    "\n",
    "#LSTM Model Binary Accuracy\n",
    "plt.plot(history_lstm.history['binary_accuracy'])\n",
    "plt.plot(history_lstm.history['val_binary_accuracy'])\n",
    "plt.title('LSTM Model Binary Accuracy')\n",
    "plt.ylabel('Binary Accuracy')\n",
    "plt.xlabel('Epoch')\n",
    "plt.legend(['Train','Val'], loc='upper right')\n",
    "plt.show()"
   ]
  },
  {
   "cell_type": "code",
   "execution_count": 69,
   "id": "appointed-intermediate",
   "metadata": {},
   "outputs": [
    {
     "data": {
      "image/png": "[encoded data removed]",
      "text/plain": [
       "<Figure size 1440x1080 with 1 Axes>"
      ]
     },
     "metadata": {
      "needs_background": "light"
     },
     "output_type": "display_data"
    }
   ],
   "source": [
    "#LSTM\n",
    "\n",
    "wide_window.plot(lstm_model)"
   ]
  },
  {
   "cell_type": "code",
   "execution_count": 70,
   "id": "naval-master",
   "metadata": {},
   "outputs": [],
   "source": [
    "gru_model = tf.keras.models.Sequential([\n",
    "    tf.keras.layers.GRU(32, return_sequences=True),\n",
    "    tf.keras.layers.Dense(units=1, activation='sigmoid')\n",
    "])"
   ]
  },
  {
   "cell_type": "code",
   "execution_count": 71,
   "id": "spiritual-ratio",
   "metadata": {},
   "outputs": [
    {
     "name": "stdout",
     "output_type": "stream",
     "text": [
      "Epoch 1/100\n",
      "1527/1527 [==============================] - 8s 5ms/step - loss: 0.1210 - binary_accuracy: 0.9684 - precision_7: 0.9641 - recall_7: 0.9739 - auc_7: 0.9896 - val_loss: 0.0661 - val_binary_accuracy: 0.9842 - val_precision_7: 0.9841 - val_recall_7: 0.9842 - val_auc_7: 0.9954\n",
      "Epoch 2/100\n",
      "1527/1527 [==============================] - 8s 5ms/step - loss: 0.0518 - binary_accuracy: 0.9848 - precision_7: 0.9850 - recall_7: 0.9849 - auc_7: 0.9977 - val_loss: 0.0483 - val_binary_accuracy: 0.9838 - val_precision_7: 0.9835 - val_recall_7: 0.9840 - val_auc_7: 0.9983\n",
      "Epoch 3/100\n",
      "1527/1527 [==============================] - 8s 5ms/step - loss: 0.0420 - binary_accuracy: 0.9853 - precision_7: 0.9858 - recall_7: 0.9851 - auc_7: 0.9985 - val_loss: 0.0456 - val_binary_accuracy: 0.9837 - val_precision_7: 0.9842 - val_recall_7: 0.9831 - val_auc_7: 0.9984\n",
      "Epoch 4/100\n",
      "1527/1527 [==============================] - 8s 5ms/step - loss: 0.0386 - binary_accuracy: 0.9858 - precision_7: 0.9866 - recall_7: 0.9853 - auc_7: 0.9987 - val_loss: 0.0461 - val_binary_accuracy: 0.9830 - val_precision_7: 0.9847 - val_recall_7: 0.9812 - val_auc_7: 0.9982\n",
      "Epoch 5/100\n",
      "1527/1527 [==============================] - 8s 5ms/step - loss: 0.0359 - binary_accuracy: 0.9866 - precision_7: 0.9873 - recall_7: 0.9862 - auc_7: 0.9989 - val_loss: 0.0476 - val_binary_accuracy: 0.9821 - val_precision_7: 0.9831 - val_recall_7: 0.9810 - val_auc_7: 0.9980\n",
      "Epoch 6/100\n",
      "1527/1527 [==============================] - 8s 5ms/step - loss: 0.0328 - binary_accuracy: 0.9877 - precision_7: 0.9883 - recall_7: 0.9874 - auc_7: 0.9991 - val_loss: 0.0525 - val_binary_accuracy: 0.9811 - val_precision_7: 0.9799 - val_recall_7: 0.9822 - val_auc_7: 0.9974\n",
      "382/382 [==============================] - 1s 2ms/step - loss: 0.0525 - binary_accuracy: 0.9811 - precision_7: 0.9799 - recall_7: 0.9822 - auc_7: 0.9974\n"
     ]
    }
   ],
   "source": [
    "history_gru = compile_and_fit(gru_model, wide_window)\n",
    "\n",
    "val_performance['GRU'] = gru_model.evaluate(wide_window.val)\n",
    "performance['GRU'] = gru_model.evaluate(wide_window.test, verbose=0)"
   ]
  },
  {
   "cell_type": "code",
   "execution_count": 72,
   "id": "impossible-tournament",
   "metadata": {},
   "outputs": [
    {
     "data": {
      "image/png": "[encoded data removed]",
      "text/plain": [
       "<Figure size 432x288 with 1 Axes>"
      ]
     },
     "metadata": {
      "needs_background": "light"
     },
     "output_type": "display_data"
    },
    {
     "data": {
      "image/png": "[encoded data removed]",
      "text/plain": [
       "<Figure size 432x288 with 1 Axes>"
      ]
     },
     "metadata": {
      "needs_background": "light"
     },
     "output_type": "display_data"
    },
    {
     "data": {
      "image/png": "[encoded data removed]",
      "text/plain": [
       "<Figure size 432x288 with 1 Axes>"
      ]
     },
     "metadata": {
      "needs_background": "light"
     },
     "output_type": "display_data"
    }
   ],
   "source": [
    "#GRU Model Loss\n",
    "plt.plot(history_gru.history['loss'])\n",
    "plt.plot(history_gru.history['val_loss'])\n",
    "plt.title('GRU Model Loss')\n",
    "plt.ylabel('Loss')\n",
    "plt.xlabel('Epoch')\n",
    "plt.legend(['Train','Val'], loc='upper right')\n",
    "plt.show()\n",
    "\n",
    "#GRU Model Loss\n",
    "plt.plot(history_gru.history['loss'])\n",
    "plt.plot(history_gru.history['val_loss'])\n",
    "plt.title('GRU Model Loss - Closer Look')\n",
    "plt.ylabel('Loss')\n",
    "plt.xlabel('Epoch')\n",
    "plt.legend(['Train','Val'], loc='upper right')\n",
    "plt.ylim(0.03,0.065)\n",
    "plt.xlim(0,6)\n",
    "plt.show()\n",
    "\n",
    "#GRU Model Binary Accuracy\n",
    "plt.plot(history_gru.history['binary_accuracy'])\n",
    "plt.plot(history_gru.history['val_binary_accuracy'])\n",
    "plt.title('GRU Model Binary Accuracy')\n",
    "plt.ylabel('Binary Accuracy')\n",
    "plt.xlabel('Epoch')\n",
    "plt.legend(['Train','Val'], loc='upper right')\n",
    "plt.show()"
   ]
  },
  {
   "cell_type": "code",
   "execution_count": 73,
   "id": "fossil-stack",
   "metadata": {},
   "outputs": [
    {
     "data": {
      "image/png": "[encoded data removed]",
      "text/plain": [
       "<Figure size 1440x1080 with 1 Axes>"
      ]
     },
     "metadata": {
      "needs_background": "light"
     },
     "output_type": "display_data"
    }
   ],
   "source": [
    "#GRU\n",
    "\n",
    "wide_window.plot(gru_model)"
   ]
  },
  {
   "cell_type": "code",
   "execution_count": 74,
   "id": "described-copyright",
   "metadata": {},
   "outputs": [
    {
     "data": {
      "image/png": "[encoded data removed]",
      "text/plain": [
       "<Figure size 432x288 with 1 Axes>"
      ]
     },
     "metadata": {
      "needs_background": "light"
     },
     "output_type": "display_data"
    }
   ],
   "source": [
    "x = np.arange(len(performance))\n",
    "width = 0.3\n",
    "metric_name = 'loss'\n",
    "metric_index = lstm_model.metrics_names.index('loss')\n",
    "val_loss = [v[metric_index] for v in val_performance.values()]\n",
    "test_loss = [v[metric_index] for v in performance.values()]\n",
    "\n",
    "plt.ylabel('loss [win, normalized]')\n",
    "plt.bar(x - 0.17, val_loss, width, label='Validation')\n",
    "plt.bar(x + 0.17, test_loss, width, label='Test')\n",
    "plt.xticks(ticks=x, labels=performance.keys(),\n",
    "           rotation=45)\n",
    "_ = plt.legend()"
   ]
  },
  {
   "cell_type": "code",
   "execution_count": null,
   "id": "french-harvard",
   "metadata": {},
   "outputs": [],
   "source": []
  }
 ],
 "metadata": {
  "kernelspec": {
   "display_name": "Python 3",
   "language": "python",
   "name": "python3"
  },
  "language_info": {
   "codemirror_mode": {
    "name": "ipython",
    "version": 3
   },
   "file_extension": ".py",
   "mimetype": "text/x-python",
   "name": "python",
   "nbconvert_exporter": "python",
   "pygments_lexer": "ipython3",
   "version": "3.8.5"
  }
 },
 "nbformat": 4,
 "nbformat_minor": 5
}
