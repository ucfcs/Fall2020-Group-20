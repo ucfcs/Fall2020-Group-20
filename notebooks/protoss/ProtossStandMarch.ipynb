{
 "cells": [
  {
   "cell_type": "code",
   "execution_count": 1,
   "id": "perfect-arbor",
   "metadata": {
    "scrolled": true
   },
   "outputs": [
    {
     "data": {
      "text/html": [
       "<div>\n",
       "<style scoped>\n",
       "    .dataframe tbody tr th:only-of-type {\n",
       "        vertical-align: middle;\n",
       "    }\n",
       "\n",
       "    .dataframe tbody tr th {\n",
       "        vertical-align: top;\n",
       "    }\n",
       "\n",
       "    .dataframe thead th {\n",
       "        text-align: right;\n",
       "    }\n",
       "</style>\n",
       "<table border=\"1\" class=\"dataframe\">\n",
       "  <thead>\n",
       "    <tr style=\"text-align: right;\">\n",
       "      <th></th>\n",
       "      <th>match_id</th>\n",
       "      <th>map_name</th>\n",
       "      <th>region</th>\n",
       "      <th>game_length</th>\n",
       "      <th>race</th>\n",
       "      <th>enemy_race</th>\n",
       "      <th>ap30s</th>\n",
       "      <th>frame</th>\n",
       "      <th>second</th>\n",
       "      <th>player</th>\n",
       "      <th>...</th>\n",
       "      <th>stalker</th>\n",
       "      <th>stargate</th>\n",
       "      <th>tempest</th>\n",
       "      <th>templararchive</th>\n",
       "      <th>twilightcouncil</th>\n",
       "      <th>voidray</th>\n",
       "      <th>warpgate</th>\n",
       "      <th>warpprism</th>\n",
       "      <th>zealot</th>\n",
       "      <th>win</th>\n",
       "    </tr>\n",
       "  </thead>\n",
       "  <tbody>\n",
       "    <tr>\n",
       "      <th>0</th>\n",
       "      <td>0</td>\n",
       "      <td>World of Sleepers LE</td>\n",
       "      <td>us</td>\n",
       "      <td>437</td>\n",
       "      <td>P</td>\n",
       "      <td>T</td>\n",
       "      <td>0.0</td>\n",
       "      <td>1</td>\n",
       "      <td>0</td>\n",
       "      <td>Player 2 - Harstem (Protoss)</td>\n",
       "      <td>...</td>\n",
       "      <td>0</td>\n",
       "      <td>0</td>\n",
       "      <td>0</td>\n",
       "      <td>0</td>\n",
       "      <td>0</td>\n",
       "      <td>0</td>\n",
       "      <td>0</td>\n",
       "      <td>0</td>\n",
       "      <td>0</td>\n",
       "      <td>0</td>\n",
       "    </tr>\n",
       "    <tr>\n",
       "      <th>1</th>\n",
       "      <td>0</td>\n",
       "      <td>World of Sleepers LE</td>\n",
       "      <td>us</td>\n",
       "      <td>437</td>\n",
       "      <td>P</td>\n",
       "      <td>T</td>\n",
       "      <td>155.4</td>\n",
       "      <td>480</td>\n",
       "      <td>30</td>\n",
       "      <td>Player 2 - Harstem (Protoss)</td>\n",
       "      <td>...</td>\n",
       "      <td>0</td>\n",
       "      <td>0</td>\n",
       "      <td>0</td>\n",
       "      <td>0</td>\n",
       "      <td>0</td>\n",
       "      <td>0</td>\n",
       "      <td>0</td>\n",
       "      <td>0</td>\n",
       "      <td>0</td>\n",
       "      <td>0</td>\n",
       "    </tr>\n",
       "    <tr>\n",
       "      <th>2</th>\n",
       "      <td>0</td>\n",
       "      <td>World of Sleepers LE</td>\n",
       "      <td>us</td>\n",
       "      <td>437</td>\n",
       "      <td>P</td>\n",
       "      <td>T</td>\n",
       "      <td>183.4</td>\n",
       "      <td>960</td>\n",
       "      <td>60</td>\n",
       "      <td>Player 2 - Harstem (Protoss)</td>\n",
       "      <td>...</td>\n",
       "      <td>0</td>\n",
       "      <td>0</td>\n",
       "      <td>0</td>\n",
       "      <td>0</td>\n",
       "      <td>0</td>\n",
       "      <td>0</td>\n",
       "      <td>0</td>\n",
       "      <td>0</td>\n",
       "      <td>0</td>\n",
       "      <td>0</td>\n",
       "    </tr>\n",
       "    <tr>\n",
       "      <th>3</th>\n",
       "      <td>0</td>\n",
       "      <td>World of Sleepers LE</td>\n",
       "      <td>us</td>\n",
       "      <td>437</td>\n",
       "      <td>P</td>\n",
       "      <td>T</td>\n",
       "      <td>148.4</td>\n",
       "      <td>1440</td>\n",
       "      <td>90</td>\n",
       "      <td>Player 2 - Harstem (Protoss)</td>\n",
       "      <td>...</td>\n",
       "      <td>0</td>\n",
       "      <td>0</td>\n",
       "      <td>0</td>\n",
       "      <td>0</td>\n",
       "      <td>0</td>\n",
       "      <td>0</td>\n",
       "      <td>1</td>\n",
       "      <td>0</td>\n",
       "      <td>0</td>\n",
       "      <td>0</td>\n",
       "    </tr>\n",
       "    <tr>\n",
       "      <th>4</th>\n",
       "      <td>0</td>\n",
       "      <td>World of Sleepers LE</td>\n",
       "      <td>us</td>\n",
       "      <td>437</td>\n",
       "      <td>P</td>\n",
       "      <td>T</td>\n",
       "      <td>152.6</td>\n",
       "      <td>1920</td>\n",
       "      <td>120</td>\n",
       "      <td>Player 2 - Harstem (Protoss)</td>\n",
       "      <td>...</td>\n",
       "      <td>0</td>\n",
       "      <td>0</td>\n",
       "      <td>0</td>\n",
       "      <td>0</td>\n",
       "      <td>0</td>\n",
       "      <td>0</td>\n",
       "      <td>1</td>\n",
       "      <td>0</td>\n",
       "      <td>0</td>\n",
       "      <td>0</td>\n",
       "    </tr>\n",
       "    <tr>\n",
       "      <th>...</th>\n",
       "      <td>...</td>\n",
       "      <td>...</td>\n",
       "      <td>...</td>\n",
       "      <td>...</td>\n",
       "      <td>...</td>\n",
       "      <td>...</td>\n",
       "      <td>...</td>\n",
       "      <td>...</td>\n",
       "      <td>...</td>\n",
       "      <td>...</td>\n",
       "      <td>...</td>\n",
       "      <td>...</td>\n",
       "      <td>...</td>\n",
       "      <td>...</td>\n",
       "      <td>...</td>\n",
       "      <td>...</td>\n",
       "      <td>...</td>\n",
       "      <td>...</td>\n",
       "      <td>...</td>\n",
       "      <td>...</td>\n",
       "      <td>...</td>\n",
       "    </tr>\n",
       "    <tr>\n",
       "      <th>76362</th>\n",
       "      <td>2307</td>\n",
       "      <td>Eternal Empire LE</td>\n",
       "      <td>eu</td>\n",
       "      <td>768</td>\n",
       "      <td>P</td>\n",
       "      <td>T</td>\n",
       "      <td>145.6</td>\n",
       "      <td>14880</td>\n",
       "      <td>930</td>\n",
       "      <td>Player 2 - PtitDrogo (Protoss)</td>\n",
       "      <td>...</td>\n",
       "      <td>8</td>\n",
       "      <td>0</td>\n",
       "      <td>0</td>\n",
       "      <td>1</td>\n",
       "      <td>1</td>\n",
       "      <td>0</td>\n",
       "      <td>8</td>\n",
       "      <td>0</td>\n",
       "      <td>10</td>\n",
       "      <td>0</td>\n",
       "    </tr>\n",
       "    <tr>\n",
       "      <th>76363</th>\n",
       "      <td>2307</td>\n",
       "      <td>Eternal Empire LE</td>\n",
       "      <td>eu</td>\n",
       "      <td>768</td>\n",
       "      <td>P</td>\n",
       "      <td>T</td>\n",
       "      <td>162.4</td>\n",
       "      <td>15360</td>\n",
       "      <td>960</td>\n",
       "      <td>Player 2 - PtitDrogo (Protoss)</td>\n",
       "      <td>...</td>\n",
       "      <td>14</td>\n",
       "      <td>0</td>\n",
       "      <td>0</td>\n",
       "      <td>1</td>\n",
       "      <td>1</td>\n",
       "      <td>0</td>\n",
       "      <td>8</td>\n",
       "      <td>0</td>\n",
       "      <td>7</td>\n",
       "      <td>0</td>\n",
       "    </tr>\n",
       "    <tr>\n",
       "      <th>76364</th>\n",
       "      <td>2307</td>\n",
       "      <td>Eternal Empire LE</td>\n",
       "      <td>eu</td>\n",
       "      <td>768</td>\n",
       "      <td>P</td>\n",
       "      <td>T</td>\n",
       "      <td>140.0</td>\n",
       "      <td>15840</td>\n",
       "      <td>990</td>\n",
       "      <td>Player 2 - PtitDrogo (Protoss)</td>\n",
       "      <td>...</td>\n",
       "      <td>14</td>\n",
       "      <td>0</td>\n",
       "      <td>0</td>\n",
       "      <td>1</td>\n",
       "      <td>1</td>\n",
       "      <td>0</td>\n",
       "      <td>8</td>\n",
       "      <td>0</td>\n",
       "      <td>9</td>\n",
       "      <td>0</td>\n",
       "    </tr>\n",
       "    <tr>\n",
       "      <th>76365</th>\n",
       "      <td>2307</td>\n",
       "      <td>Eternal Empire LE</td>\n",
       "      <td>eu</td>\n",
       "      <td>768</td>\n",
       "      <td>P</td>\n",
       "      <td>T</td>\n",
       "      <td>26.6</td>\n",
       "      <td>16320</td>\n",
       "      <td>1020</td>\n",
       "      <td>Player 2 - PtitDrogo (Protoss)</td>\n",
       "      <td>...</td>\n",
       "      <td>12</td>\n",
       "      <td>0</td>\n",
       "      <td>0</td>\n",
       "      <td>1</td>\n",
       "      <td>1</td>\n",
       "      <td>0</td>\n",
       "      <td>8</td>\n",
       "      <td>0</td>\n",
       "      <td>12</td>\n",
       "      <td>0</td>\n",
       "    </tr>\n",
       "    <tr>\n",
       "      <th>76366</th>\n",
       "      <td>2307</td>\n",
       "      <td>Eternal Empire LE</td>\n",
       "      <td>eu</td>\n",
       "      <td>768</td>\n",
       "      <td>P</td>\n",
       "      <td>T</td>\n",
       "      <td>0.0</td>\n",
       "      <td>16800</td>\n",
       "      <td>1050</td>\n",
       "      <td>Player 2 - PtitDrogo (Protoss)</td>\n",
       "      <td>...</td>\n",
       "      <td>0</td>\n",
       "      <td>0</td>\n",
       "      <td>0</td>\n",
       "      <td>1</td>\n",
       "      <td>1</td>\n",
       "      <td>0</td>\n",
       "      <td>8</td>\n",
       "      <td>0</td>\n",
       "      <td>6</td>\n",
       "      <td>0</td>\n",
       "    </tr>\n",
       "  </tbody>\n",
       "</table>\n",
       "<p>76367 rows × 64 columns</p>\n",
       "</div>"
      ],
      "text/plain": [
       "       match_id              map_name region  game_length race enemy_race  \\\n",
       "0             0  World of Sleepers LE     us          437    P          T   \n",
       "1             0  World of Sleepers LE     us          437    P          T   \n",
       "2             0  World of Sleepers LE     us          437    P          T   \n",
       "3             0  World of Sleepers LE     us          437    P          T   \n",
       "4             0  World of Sleepers LE     us          437    P          T   \n",
       "...         ...                   ...    ...          ...  ...        ...   \n",
       "76362      2307     Eternal Empire LE     eu          768    P          T   \n",
       "76363      2307     Eternal Empire LE     eu          768    P          T   \n",
       "76364      2307     Eternal Empire LE     eu          768    P          T   \n",
       "76365      2307     Eternal Empire LE     eu          768    P          T   \n",
       "76366      2307     Eternal Empire LE     eu          768    P          T   \n",
       "\n",
       "       ap30s  frame  second                          player  ...  stalker  \\\n",
       "0        0.0      1       0    Player 2 - Harstem (Protoss)  ...        0   \n",
       "1      155.4    480      30    Player 2 - Harstem (Protoss)  ...        0   \n",
       "2      183.4    960      60    Player 2 - Harstem (Protoss)  ...        0   \n",
       "3      148.4   1440      90    Player 2 - Harstem (Protoss)  ...        0   \n",
       "4      152.6   1920     120    Player 2 - Harstem (Protoss)  ...        0   \n",
       "...      ...    ...     ...                             ...  ...      ...   \n",
       "76362  145.6  14880     930  Player 2 - PtitDrogo (Protoss)  ...        8   \n",
       "76363  162.4  15360     960  Player 2 - PtitDrogo (Protoss)  ...       14   \n",
       "76364  140.0  15840     990  Player 2 - PtitDrogo (Protoss)  ...       14   \n",
       "76365   26.6  16320    1020  Player 2 - PtitDrogo (Protoss)  ...       12   \n",
       "76366    0.0  16800    1050  Player 2 - PtitDrogo (Protoss)  ...        0   \n",
       "\n",
       "       stargate  tempest  templararchive  twilightcouncil  voidray  warpgate  \\\n",
       "0             0        0               0                0        0         0   \n",
       "1             0        0               0                0        0         0   \n",
       "2             0        0               0                0        0         0   \n",
       "3             0        0               0                0        0         1   \n",
       "4             0        0               0                0        0         1   \n",
       "...         ...      ...             ...              ...      ...       ...   \n",
       "76362         0        0               1                1        0         8   \n",
       "76363         0        0               1                1        0         8   \n",
       "76364         0        0               1                1        0         8   \n",
       "76365         0        0               1                1        0         8   \n",
       "76366         0        0               1                1        0         8   \n",
       "\n",
       "       warpprism  zealot  win  \n",
       "0              0       0    0  \n",
       "1              0       0    0  \n",
       "2              0       0    0  \n",
       "3              0       0    0  \n",
       "4              0       0    0  \n",
       "...          ...     ...  ...  \n",
       "76362          0      10    0  \n",
       "76363          0       7    0  \n",
       "76364          0       9    0  \n",
       "76365          0      12    0  \n",
       "76366          0       6    0  \n",
       "\n",
       "[76367 rows x 64 columns]"
      ]
     },
     "metadata": {},
     "output_type": "display_data"
    }
   ],
   "source": [
    "#Importing data from csv\n",
    "from pandas import read_csv\n",
    "import pandas as pd\n",
    "\n",
    "protoss_data = read_csv('../Output/ProtossMarch.csv', header=0, index_col=False)\n",
    "display(protoss_data)"
   ]
  },
  {
   "cell_type": "code",
   "execution_count": 2,
   "id": "associate-slovak",
   "metadata": {},
   "outputs": [
    {
     "data": {
      "text/html": [
       "<div>\n",
       "<style scoped>\n",
       "    .dataframe tbody tr th:only-of-type {\n",
       "        vertical-align: middle;\n",
       "    }\n",
       "\n",
       "    .dataframe tbody tr th {\n",
       "        vertical-align: top;\n",
       "    }\n",
       "\n",
       "    .dataframe thead th {\n",
       "        text-align: right;\n",
       "    }\n",
       "</style>\n",
       "<table border=\"1\" class=\"dataframe\">\n",
       "  <thead>\n",
       "    <tr style=\"text-align: right;\">\n",
       "      <th></th>\n",
       "      <th>ap30s</th>\n",
       "      <th>workers_active_count</th>\n",
       "      <th>food_used</th>\n",
       "      <th>food_made</th>\n",
       "      <th>minerals_current</th>\n",
       "      <th>minerals_collection_rate</th>\n",
       "      <th>minerals_used_in_progress</th>\n",
       "      <th>minerals_used_current</th>\n",
       "      <th>minerals_used_active_forces</th>\n",
       "      <th>minerals_lost</th>\n",
       "      <th>...</th>\n",
       "      <th>Map_포트 알렉산더 - 래더</th>\n",
       "      <th>Map_필러스 오브 골드 - 래더</th>\n",
       "      <th>Region_cn</th>\n",
       "      <th>Region_eu</th>\n",
       "      <th>Region_kr</th>\n",
       "      <th>Region_us</th>\n",
       "      <th>Enemy_P</th>\n",
       "      <th>Enemy_T</th>\n",
       "      <th>Enemy_Z</th>\n",
       "      <th>win</th>\n",
       "    </tr>\n",
       "  </thead>\n",
       "  <tbody>\n",
       "    <tr>\n",
       "      <th>0</th>\n",
       "      <td>-2.547693</td>\n",
       "      <td>-1.444397</td>\n",
       "      <td>-1.203894</td>\n",
       "      <td>-1.134872</td>\n",
       "      <td>-0.481827</td>\n",
       "      <td>-2.105077</td>\n",
       "      <td>-1.391898</td>\n",
       "      <td>-1.122629</td>\n",
       "      <td>-0.898177</td>\n",
       "      <td>-0.452576</td>\n",
       "      <td>...</td>\n",
       "      <td>0</td>\n",
       "      <td>0</td>\n",
       "      <td>0</td>\n",
       "      <td>0</td>\n",
       "      <td>0</td>\n",
       "      <td>1</td>\n",
       "      <td>0</td>\n",
       "      <td>1</td>\n",
       "      <td>0</td>\n",
       "      <td>0</td>\n",
       "    </tr>\n",
       "    <tr>\n",
       "      <th>1</th>\n",
       "      <td>0.395538</td>\n",
       "      <td>-1.394919</td>\n",
       "      <td>-1.167338</td>\n",
       "      <td>-1.134872</td>\n",
       "      <td>-0.481827</td>\n",
       "      <td>-1.121683</td>\n",
       "      <td>-1.002625</td>\n",
       "      <td>-1.113884</td>\n",
       "      <td>-0.898177</td>\n",
       "      <td>-0.452576</td>\n",
       "      <td>...</td>\n",
       "      <td>0</td>\n",
       "      <td>0</td>\n",
       "      <td>0</td>\n",
       "      <td>0</td>\n",
       "      <td>0</td>\n",
       "      <td>1</td>\n",
       "      <td>0</td>\n",
       "      <td>1</td>\n",
       "      <td>0</td>\n",
       "      <td>0</td>\n",
       "    </tr>\n",
       "    <tr>\n",
       "      <th>2</th>\n",
       "      <td>0.925850</td>\n",
       "      <td>-1.295964</td>\n",
       "      <td>-1.130782</td>\n",
       "      <td>-1.024877</td>\n",
       "      <td>-0.387567</td>\n",
       "      <td>-0.932308</td>\n",
       "      <td>-1.067504</td>\n",
       "      <td>-1.078903</td>\n",
       "      <td>-0.898177</td>\n",
       "      <td>-0.452576</td>\n",
       "      <td>...</td>\n",
       "      <td>0</td>\n",
       "      <td>0</td>\n",
       "      <td>0</td>\n",
       "      <td>0</td>\n",
       "      <td>0</td>\n",
       "      <td>1</td>\n",
       "      <td>0</td>\n",
       "      <td>1</td>\n",
       "      <td>0</td>\n",
       "      <td>0</td>\n",
       "    </tr>\n",
       "    <tr>\n",
       "      <th>3</th>\n",
       "      <td>0.262960</td>\n",
       "      <td>-1.147530</td>\n",
       "      <td>-1.075948</td>\n",
       "      <td>-1.024877</td>\n",
       "      <td>-0.358564</td>\n",
       "      <td>-0.818684</td>\n",
       "      <td>-0.872868</td>\n",
       "      <td>-1.039549</td>\n",
       "      <td>-0.898177</td>\n",
       "      <td>-0.452576</td>\n",
       "      <td>...</td>\n",
       "      <td>0</td>\n",
       "      <td>0</td>\n",
       "      <td>0</td>\n",
       "      <td>0</td>\n",
       "      <td>0</td>\n",
       "      <td>1</td>\n",
       "      <td>0</td>\n",
       "      <td>1</td>\n",
       "      <td>0</td>\n",
       "      <td>0</td>\n",
       "    </tr>\n",
       "    <tr>\n",
       "      <th>4</th>\n",
       "      <td>0.342507</td>\n",
       "      <td>-1.098052</td>\n",
       "      <td>-1.057670</td>\n",
       "      <td>-1.024877</td>\n",
       "      <td>-0.460074</td>\n",
       "      <td>-0.894433</td>\n",
       "      <td>0.165194</td>\n",
       "      <td>-1.030804</td>\n",
       "      <td>-0.898177</td>\n",
       "      <td>-0.452576</td>\n",
       "      <td>...</td>\n",
       "      <td>0</td>\n",
       "      <td>0</td>\n",
       "      <td>0</td>\n",
       "      <td>0</td>\n",
       "      <td>0</td>\n",
       "      <td>1</td>\n",
       "      <td>0</td>\n",
       "      <td>1</td>\n",
       "      <td>0</td>\n",
       "      <td>0</td>\n",
       "    </tr>\n",
       "  </tbody>\n",
       "</table>\n",
       "<p>5 rows × 124 columns</p>\n",
       "</div>"
      ],
      "text/plain": [
       "      ap30s  workers_active_count  food_used  food_made  minerals_current  \\\n",
       "0 -2.547693             -1.444397  -1.203894  -1.134872         -0.481827   \n",
       "1  0.395538             -1.394919  -1.167338  -1.134872         -0.481827   \n",
       "2  0.925850             -1.295964  -1.130782  -1.024877         -0.387567   \n",
       "3  0.262960             -1.147530  -1.075948  -1.024877         -0.358564   \n",
       "4  0.342507             -1.098052  -1.057670  -1.024877         -0.460074   \n",
       "\n",
       "   minerals_collection_rate  minerals_used_in_progress  minerals_used_current  \\\n",
       "0                 -2.105077                  -1.391898              -1.122629   \n",
       "1                 -1.121683                  -1.002625              -1.113884   \n",
       "2                 -0.932308                  -1.067504              -1.078903   \n",
       "3                 -0.818684                  -0.872868              -1.039549   \n",
       "4                 -0.894433                   0.165194              -1.030804   \n",
       "\n",
       "   minerals_used_active_forces  minerals_lost  ...  Map_포트 알렉산더 - 래더  \\\n",
       "0                    -0.898177      -0.452576  ...                 0   \n",
       "1                    -0.898177      -0.452576  ...                 0   \n",
       "2                    -0.898177      -0.452576  ...                 0   \n",
       "3                    -0.898177      -0.452576  ...                 0   \n",
       "4                    -0.898177      -0.452576  ...                 0   \n",
       "\n",
       "   Map_필러스 오브 골드 - 래더  Region_cn  Region_eu  Region_kr  Region_us  Enemy_P  \\\n",
       "0                   0          0          0          0          1        0   \n",
       "1                   0          0          0          0          1        0   \n",
       "2                   0          0          0          0          1        0   \n",
       "3                   0          0          0          0          1        0   \n",
       "4                   0          0          0          0          1        0   \n",
       "\n",
       "   Enemy_T  Enemy_Z  win  \n",
       "0        1        0    0  \n",
       "1        1        0    0  \n",
       "2        1        0    0  \n",
       "3        1        0    0  \n",
       "4        1        0    0  \n",
       "\n",
       "[5 rows x 124 columns]"
      ]
     },
     "metadata": {},
     "output_type": "display_data"
    },
    {
     "data": {
      "text/html": [
       "<div>\n",
       "<style scoped>\n",
       "    .dataframe tbody tr th:only-of-type {\n",
       "        vertical-align: middle;\n",
       "    }\n",
       "\n",
       "    .dataframe tbody tr th {\n",
       "        vertical-align: top;\n",
       "    }\n",
       "\n",
       "    .dataframe thead th {\n",
       "        text-align: right;\n",
       "    }\n",
       "</style>\n",
       "<table border=\"1\" class=\"dataframe\">\n",
       "  <thead>\n",
       "    <tr style=\"text-align: right;\">\n",
       "      <th></th>\n",
       "      <th>ap30s</th>\n",
       "      <th>workers_active_count</th>\n",
       "      <th>food_used</th>\n",
       "      <th>food_made</th>\n",
       "      <th>minerals_current</th>\n",
       "      <th>minerals_collection_rate</th>\n",
       "      <th>minerals_used_in_progress</th>\n",
       "      <th>minerals_used_current</th>\n",
       "      <th>minerals_used_active_forces</th>\n",
       "      <th>minerals_lost</th>\n",
       "      <th>...</th>\n",
       "      <th>Map_포트 알렉산더 - 래더</th>\n",
       "      <th>Map_필러스 오브 골드 - 래더</th>\n",
       "      <th>Region_cn</th>\n",
       "      <th>Region_eu</th>\n",
       "      <th>Region_kr</th>\n",
       "      <th>Region_us</th>\n",
       "      <th>Enemy_P</th>\n",
       "      <th>Enemy_T</th>\n",
       "      <th>Enemy_Z</th>\n",
       "      <th>win</th>\n",
       "    </tr>\n",
       "  </thead>\n",
       "  <tbody>\n",
       "    <tr>\n",
       "      <th>76362</th>\n",
       "      <td>0.209929</td>\n",
       "      <td>0.732626</td>\n",
       "      <td>0.642182</td>\n",
       "      <td>0.597538</td>\n",
       "      <td>0.163488</td>\n",
       "      <td>0.809936</td>\n",
       "      <td>0.230073</td>\n",
       "      <td>0.552082</td>\n",
       "      <td>0.580203</td>\n",
       "      <td>0.615070</td>\n",
       "      <td>...</td>\n",
       "      <td>0</td>\n",
       "      <td>0</td>\n",
       "      <td>0</td>\n",
       "      <td>1</td>\n",
       "      <td>0</td>\n",
       "      <td>0</td>\n",
       "      <td>0</td>\n",
       "      <td>1</td>\n",
       "      <td>0</td>\n",
       "      <td>0</td>\n",
       "    </tr>\n",
       "    <tr>\n",
       "      <th>76363</th>\n",
       "      <td>0.528116</td>\n",
       "      <td>0.732626</td>\n",
       "      <td>0.861517</td>\n",
       "      <td>0.597538</td>\n",
       "      <td>-0.394818</td>\n",
       "      <td>0.885686</td>\n",
       "      <td>0.943740</td>\n",
       "      <td>0.635162</td>\n",
       "      <td>0.816247</td>\n",
       "      <td>0.659555</td>\n",
       "      <td>...</td>\n",
       "      <td>0</td>\n",
       "      <td>0</td>\n",
       "      <td>0</td>\n",
       "      <td>1</td>\n",
       "      <td>0</td>\n",
       "      <td>0</td>\n",
       "      <td>0</td>\n",
       "      <td>1</td>\n",
       "      <td>0</td>\n",
       "      <td>0</td>\n",
       "    </tr>\n",
       "    <tr>\n",
       "      <th>76364</th>\n",
       "      <td>0.103866</td>\n",
       "      <td>0.732626</td>\n",
       "      <td>1.062575</td>\n",
       "      <td>0.597538</td>\n",
       "      <td>-0.365815</td>\n",
       "      <td>0.582687</td>\n",
       "      <td>0.878861</td>\n",
       "      <td>0.748850</td>\n",
       "      <td>0.915634</td>\n",
       "      <td>0.674383</td>\n",
       "      <td>...</td>\n",
       "      <td>0</td>\n",
       "      <td>0</td>\n",
       "      <td>0</td>\n",
       "      <td>1</td>\n",
       "      <td>0</td>\n",
       "      <td>0</td>\n",
       "      <td>0</td>\n",
       "      <td>1</td>\n",
       "      <td>0</td>\n",
       "      <td>0</td>\n",
       "    </tr>\n",
       "    <tr>\n",
       "      <th>76365</th>\n",
       "      <td>-2.043897</td>\n",
       "      <td>0.683148</td>\n",
       "      <td>1.080853</td>\n",
       "      <td>0.597538</td>\n",
       "      <td>0.061978</td>\n",
       "      <td>0.620562</td>\n",
       "      <td>-1.391898</td>\n",
       "      <td>0.884401</td>\n",
       "      <td>1.251064</td>\n",
       "      <td>0.737404</td>\n",
       "      <td>...</td>\n",
       "      <td>0</td>\n",
       "      <td>0</td>\n",
       "      <td>0</td>\n",
       "      <td>1</td>\n",
       "      <td>0</td>\n",
       "      <td>0</td>\n",
       "      <td>0</td>\n",
       "      <td>1</td>\n",
       "      <td>0</td>\n",
       "      <td>0</td>\n",
       "    </tr>\n",
       "    <tr>\n",
       "      <th>76366</th>\n",
       "      <td>-2.547693</td>\n",
       "      <td>0.683148</td>\n",
       "      <td>0.057286</td>\n",
       "      <td>0.597538</td>\n",
       "      <td>0.279500</td>\n",
       "      <td>0.847811</td>\n",
       "      <td>-1.391898</td>\n",
       "      <td>0.346569</td>\n",
       "      <td>-0.277009</td>\n",
       "      <td>1.282349</td>\n",
       "      <td>...</td>\n",
       "      <td>0</td>\n",
       "      <td>0</td>\n",
       "      <td>0</td>\n",
       "      <td>1</td>\n",
       "      <td>0</td>\n",
       "      <td>0</td>\n",
       "      <td>0</td>\n",
       "      <td>1</td>\n",
       "      <td>0</td>\n",
       "      <td>0</td>\n",
       "    </tr>\n",
       "  </tbody>\n",
       "</table>\n",
       "<p>5 rows × 124 columns</p>\n",
       "</div>"
      ],
      "text/plain": [
       "          ap30s  workers_active_count  food_used  food_made  minerals_current  \\\n",
       "76362  0.209929              0.732626   0.642182   0.597538          0.163488   \n",
       "76363  0.528116              0.732626   0.861517   0.597538         -0.394818   \n",
       "76364  0.103866              0.732626   1.062575   0.597538         -0.365815   \n",
       "76365 -2.043897              0.683148   1.080853   0.597538          0.061978   \n",
       "76366 -2.547693              0.683148   0.057286   0.597538          0.279500   \n",
       "\n",
       "       minerals_collection_rate  minerals_used_in_progress  \\\n",
       "76362                  0.809936                   0.230073   \n",
       "76363                  0.885686                   0.943740   \n",
       "76364                  0.582687                   0.878861   \n",
       "76365                  0.620562                  -1.391898   \n",
       "76366                  0.847811                  -1.391898   \n",
       "\n",
       "       minerals_used_current  minerals_used_active_forces  minerals_lost  ...  \\\n",
       "76362               0.552082                     0.580203       0.615070  ...   \n",
       "76363               0.635162                     0.816247       0.659555  ...   \n",
       "76364               0.748850                     0.915634       0.674383  ...   \n",
       "76365               0.884401                     1.251064       0.737404  ...   \n",
       "76366               0.346569                    -0.277009       1.282349  ...   \n",
       "\n",
       "       Map_포트 알렉산더 - 래더  Map_필러스 오브 골드 - 래더  Region_cn  Region_eu  Region_kr  \\\n",
       "76362                 0                   0          0          1          0   \n",
       "76363                 0                   0          0          1          0   \n",
       "76364                 0                   0          0          1          0   \n",
       "76365                 0                   0          0          1          0   \n",
       "76366                 0                   0          0          1          0   \n",
       "\n",
       "       Region_us  Enemy_P  Enemy_T  Enemy_Z  win  \n",
       "76362          0        0        1        0    0  \n",
       "76363          0        0        1        0    0  \n",
       "76364          0        0        1        0    0  \n",
       "76365          0        0        1        0    0  \n",
       "76366          0        0        1        0    0  \n",
       "\n",
       "[5 rows x 124 columns]"
      ]
     },
     "metadata": {},
     "output_type": "display_data"
    }
   ],
   "source": [
    "#Standardization\n",
    "\n",
    "from sklearn.preprocessing import StandardScaler\n",
    "\n",
    "no_standardize = ['match_id','map_name','region','race','enemy_race','frame','second','player','game_length','win']\n",
    "\n",
    "#Names of Columns that we do want to Standardize\n",
    "standardize_columns = [x for x in list(protoss_data) if x not in no_standardize]\n",
    "\n",
    "#Standardizing these columns\n",
    "stand = protoss_data[standardize_columns].values\n",
    "stand_scaled = StandardScaler().fit_transform(stand)\n",
    "protoss_data_standardized = pd.DataFrame(stand_scaled, columns=standardize_columns, index=protoss_data.index)\n",
    "\n",
    "#One-hot Encoding the categorical variables\n",
    "protoss_data_standardized = protoss_data_standardized.join(pd.get_dummies(protoss_data['map_name'], prefix='Map'))\n",
    "protoss_data_standardized = protoss_data_standardized.join(pd.get_dummies(protoss_data['region'], prefix='Region'))\n",
    "protoss_data_standardized = protoss_data_standardized.join(pd.get_dummies(protoss_data['enemy_race'], prefix='Enemy'))\n",
    "protoss_data_standardized = protoss_data_standardized.join(protoss_data['win'])\n",
    "\n",
    "#Displaying first and last 5 rows\n",
    "display(protoss_data_standardized.head(5), protoss_data_standardized.tail(5))"
   ]
  },
  {
   "cell_type": "code",
   "execution_count": 3,
   "id": "similar-cherry",
   "metadata": {},
   "outputs": [],
   "source": [
    "#Split data into dependent and independent variables\n",
    "no_X = ['win']\n",
    "yes_X = [x for x in list(protoss_data_standardized) if x not in no_X]\n",
    "\n",
    "Y = protoss_data_standardized['win']\n",
    "X_standardized = protoss_data_standardized[yes_X]"
   ]
  },
  {
   "cell_type": "code",
   "execution_count": 4,
   "id": "expected-wrapping",
   "metadata": {},
   "outputs": [],
   "source": [
    "#Split data into training, validation and testing set\n",
    "train_split = 0.8\n",
    "val_split = 0.2\n",
    "\n",
    "num_data = len(protoss_data_standardized)\n",
    "num_val = int(train_split * val_split * num_data)\n",
    "num_train = int(train_split * num_data) - num_val\n",
    "num_test = num_data - int(train_split * num_data)\n",
    "\n",
    "\n",
    "Y_train = Y[0:num_train]\n",
    "Y_val = Y[num_train:(num_train + num_val)]\n",
    "Y_test = Y[(num_val + num_train):]\n",
    "\n",
    "\n",
    "X_standardized_train = X_standardized[0:num_train]\n",
    "X_standardized_val = X_standardized[num_train:(num_train + num_val)]\n",
    "X_standardized_test = X_standardized[(num_val + num_train):]"
   ]
  },
  {
   "cell_type": "code",
   "execution_count": 5,
   "id": "floppy-medline",
   "metadata": {},
   "outputs": [],
   "source": [
    "X_train = protoss_data_standardized[0:num_train]\n",
    "X_val = protoss_data_standardized[num_train:(num_train + num_val)]\n",
    "X_test = protoss_data_standardized[(num_val + num_train):]"
   ]
  },
  {
   "cell_type": "code",
   "execution_count": 6,
   "id": "affiliated-prairie",
   "metadata": {},
   "outputs": [
    {
     "data": {
      "text/plain": [
       "(48875,)"
      ]
     },
     "execution_count": 6,
     "metadata": {},
     "output_type": "execute_result"
    }
   ],
   "source": [
    "Y_train.shape"
   ]
  },
  {
   "cell_type": "code",
   "execution_count": 7,
   "id": "right-hopkins",
   "metadata": {},
   "outputs": [
    {
     "data": {
      "text/plain": [
       "(48875, 124)"
      ]
     },
     "execution_count": 7,
     "metadata": {},
     "output_type": "execute_result"
    }
   ],
   "source": [
    "X_train.shape"
   ]
  },
  {
   "cell_type": "code",
   "execution_count": 8,
   "id": "generous-burner",
   "metadata": {},
   "outputs": [],
   "source": [
    "import numpy as np\n",
    "\n",
    "class WindowGenerator():\n",
    "  def __init__(self, input_width, label_width, shift,\n",
    "               train_df=X_train, val_df=X_val, test_df=X_test,\n",
    "               label_columns=None):\n",
    "    # Store the raw data.\n",
    "    self.train_df = train_df\n",
    "    self.val_df = val_df\n",
    "    self.test_df = test_df\n",
    "\n",
    "    # Work out the label column indices.\n",
    "    self.label_columns = label_columns\n",
    "    if label_columns is not None:\n",
    "      self.label_columns_indices = {name: i for i, name in\n",
    "                                    enumerate(label_columns)}\n",
    "    self.column_indices = {name: i for i, name in\n",
    "                           enumerate(train_df.columns)}\n",
    "\n",
    "    # Work out the window parameters.\n",
    "    self.input_width = input_width\n",
    "    self.label_width = label_width\n",
    "    self.shift = shift\n",
    "\n",
    "    self.total_window_size = input_width + shift\n",
    "\n",
    "    self.input_slice = slice(0, input_width)\n",
    "    self.input_indices = np.arange(self.total_window_size)[self.input_slice]\n",
    "\n",
    "    self.label_start = self.total_window_size - self.label_width\n",
    "    self.labels_slice = slice(self.label_start, None)\n",
    "    self.label_indices = np.arange(self.total_window_size)[self.labels_slice]\n",
    "\n",
    "  def __repr__(self):\n",
    "    return '\\n'.join([\n",
    "        f'Total window size: {self.total_window_size}',\n",
    "        f'Input indices: {self.input_indices}',\n",
    "        f'Label indices: {self.label_indices}',\n",
    "        f'Label column name(s): {self.label_columns}'])"
   ]
  },
  {
   "cell_type": "code",
   "execution_count": 9,
   "id": "ready-berkeley",
   "metadata": {},
   "outputs": [
    {
     "data": {
      "text/plain": [
       "Total window size: 16\n",
       "Input indices: [ 0  1  2  3  4  5  6  7  8  9 10 11 12 13 14]\n",
       "Label indices: [ 1  2  3  4  5  6  7  8  9 10 11 12 13 14 15]\n",
       "Label column name(s): ['win']"
      ]
     },
     "execution_count": 9,
     "metadata": {},
     "output_type": "execute_result"
    }
   ],
   "source": [
    "w1 = WindowGenerator(input_width=15, label_width=15, shift=1,\n",
    "                     label_columns=['win'])\n",
    "w1"
   ]
  },
  {
   "cell_type": "code",
   "execution_count": 10,
   "id": "resistant-swing",
   "metadata": {},
   "outputs": [],
   "source": [
    "def split_window(self, features):\n",
    "  inputs = features[:, self.input_slice, :]\n",
    "  labels = features[:, self.labels_slice, :]\n",
    "  if self.label_columns is not None:\n",
    "    labels = tf.stack(\n",
    "        [labels[:, :, self.column_indices[name]] for name in self.label_columns],\n",
    "        axis=-1)\n",
    "\n",
    "  # Slicing doesn't preserve static shape information, so set the shapes\n",
    "  # manually. This way the `tf.data.Datasets` are easier to inspect.\n",
    "  inputs.set_shape([None, self.input_width, None])\n",
    "  labels.set_shape([None, self.label_width, None])\n",
    "\n",
    "  return inputs, labels\n",
    "\n",
    "WindowGenerator.split_window = split_window"
   ]
  },
  {
   "cell_type": "code",
   "execution_count": 11,
   "id": "better-relaxation",
   "metadata": {},
   "outputs": [
    {
     "name": "stdout",
     "output_type": "stream",
     "text": [
      "All shapes are: (batch, time, features)\n",
      "Window shape: (1, 16, 124)\n",
      "Inputs shape: (1, 15, 124)\n",
      "labels shape: (1, 15, 1)\n"
     ]
    }
   ],
   "source": [
    "import tensorflow as tf\n",
    "tf.random.set_seed(1111)\n",
    "\n",
    "# Stack three slices, the length of the total window:\n",
    "example_window = tf.stack([np.array(protoss_data_standardized[:w1.total_window_size])])\n",
    "\n",
    "\n",
    "\n",
    "example_inputs, example_labels = w1.split_window(example_window)\n",
    "\n",
    "print('All shapes are: (batch, time, features)')\n",
    "print(f'Window shape: {example_window.shape}')\n",
    "print(f'Inputs shape: {example_inputs.shape}')\n",
    "print(f'labels shape: {example_labels.shape}')"
   ]
  },
  {
   "cell_type": "code",
   "execution_count": 12,
   "id": "twelve-restaurant",
   "metadata": {},
   "outputs": [],
   "source": [
    "import matplotlib.pyplot as plt\n",
    "\n",
    "def plot(self, model=None, plot_col='win', max_subplots=1):\n",
    "  inputs, labels = self.example\n",
    "  plt.figure(figsize=(20,15))\n",
    "  plot_col_index = self.column_indices[plot_col]\n",
    "  max_n = min(max_subplots, len(inputs))\n",
    "  for n in range(max_n):\n",
    "    plt.subplot(3, 1, n+1)\n",
    "    plt.ylabel(f'{plot_col} [standardized]')\n",
    "    plt.plot(self.input_indices, inputs[n, :, plot_col_index],\n",
    "             label='Inputs', marker='.', zorder=-10)\n",
    "\n",
    "    if self.label_columns:\n",
    "      label_col_index = self.label_columns_indices.get(plot_col, None)\n",
    "    else:\n",
    "      label_col_index = plot_col_index\n",
    "\n",
    "    if label_col_index is None:\n",
    "      continue\n",
    "\n",
    "    plt.scatter(self.label_indices, labels[n, :, label_col_index],\n",
    "                edgecolors='k', label='Labels', c='#2ca02c', s=64)\n",
    "    if model is not None:\n",
    "      predictions = model(inputs)\n",
    "      plt.scatter(self.label_indices, predictions[n, :, label_col_index],\n",
    "                  marker='X', edgecolors='k', label='Predictions',\n",
    "                  c='#ff7f0e', s=64)\n",
    "\n",
    "    if n == 0:\n",
    "      plt.legend()\n",
    "\n",
    "  plt.xlabel('Time Step')\n",
    "\n",
    "WindowGenerator.plot = plot"
   ]
  },
  {
   "cell_type": "code",
   "execution_count": 13,
   "id": "cordless-gossip",
   "metadata": {},
   "outputs": [
    {
     "data": {
      "image/png": "[encoded data removed]",
      "text/plain": [
       "<Figure size 1440x1080 with 1 Axes>"
      ]
     },
     "metadata": {
      "needs_background": "light"
     },
     "output_type": "display_data"
    }
   ],
   "source": [
    "w1.example = example_inputs, example_labels\n",
    "w1.plot()"
   ]
  },
  {
   "cell_type": "code",
   "execution_count": 14,
   "id": "substantial-snapshot",
   "metadata": {},
   "outputs": [],
   "source": [
    "def make_dataset(self, data):\n",
    "  data = np.array(data, dtype=np.float32)\n",
    "  ds = tf.keras.preprocessing.timeseries_dataset_from_array(\n",
    "      data=data,\n",
    "      targets=None,\n",
    "      sequence_length=self.total_window_size,\n",
    "      sequence_stride=1,\n",
    "      shuffle=True,\n",
    "      batch_size=32,)\n",
    "\n",
    "  ds = ds.map(self.split_window)\n",
    "\n",
    "  return ds\n",
    "\n",
    "WindowGenerator.make_dataset = make_dataset"
   ]
  },
  {
   "cell_type": "code",
   "execution_count": 15,
   "id": "qualified-communications",
   "metadata": {},
   "outputs": [],
   "source": [
    "@property\n",
    "def train(self):\n",
    "  return self.make_dataset(self.train_df)\n",
    "\n",
    "@property\n",
    "def val(self):\n",
    "  return self.make_dataset(self.val_df)\n",
    "\n",
    "@property\n",
    "def test(self):\n",
    "  return self.make_dataset(self.test_df)\n",
    "\n",
    "@property\n",
    "def example(self):\n",
    "  \"\"\"Get and cache an example batch of `inputs, labels` for plotting.\"\"\"\n",
    "  result = getattr(self, '_example', None)\n",
    "  if result is None:\n",
    "    # No example batch was found, so get one from the `.train` dataset\n",
    "    result = next(iter(self.train))\n",
    "    # And cache it for next time\n",
    "    self._example = result\n",
    "  return result\n",
    "\n",
    "WindowGenerator.train = train\n",
    "WindowGenerator.val = val\n",
    "WindowGenerator.test = test\n",
    "WindowGenerator.example = example"
   ]
  },
  {
   "cell_type": "code",
   "execution_count": 16,
   "id": "powerful-district",
   "metadata": {},
   "outputs": [
    {
     "data": {
      "text/plain": [
       "Total window size: 2\n",
       "Input indices: [0]\n",
       "Label indices: [1]\n",
       "Label column name(s): ['win']"
      ]
     },
     "execution_count": 16,
     "metadata": {},
     "output_type": "execute_result"
    }
   ],
   "source": [
    "single_step_window = WindowGenerator(\n",
    "    input_width=1, label_width=1, shift=1,\n",
    "    label_columns=['win'])\n",
    "single_step_window"
   ]
  },
  {
   "cell_type": "code",
   "execution_count": 17,
   "id": "shared-andorra",
   "metadata": {},
   "outputs": [
    {
     "data": {
      "text/plain": [
       "Total window size: 16\n",
       "Input indices: [ 0  1  2  3  4  5  6  7  8  9 10 11 12 13 14]\n",
       "Label indices: [ 1  2  3  4  5  6  7  8  9 10 11 12 13 14 15]\n",
       "Label column name(s): ['win']"
      ]
     },
     "execution_count": 17,
     "metadata": {},
     "output_type": "execute_result"
    }
   ],
   "source": [
    "wide_window = WindowGenerator(\n",
    "    input_width=15, label_width=15, shift=1,\n",
    "    label_columns=['win'])\n",
    "\n",
    "wide_window"
   ]
  },
  {
   "cell_type": "code",
   "execution_count": 18,
   "id": "sexual-flush",
   "metadata": {},
   "outputs": [],
   "source": [
    "MAX_EPOCHS = 100\n",
    "\n",
    "def compile_and_fit(model, window, patience=3):\n",
    "    early_stopping = tf.keras.callbacks.EarlyStopping(monitor='val_loss',\n",
    "                                                    patience=patience,\n",
    "                                                    mode='min')\n",
    "    model.compile(loss=tf.keras.losses.BinaryCrossentropy(),\n",
    "                optimizer=tf.optimizers.Adam(),\n",
    "                metrics=[tf.keras.metrics.BinaryAccuracy(),tf.keras.metrics.Precision(),\n",
    "                        tf.keras.metrics.Recall(), tf.keras.metrics.AUC()])\n",
    "\n",
    "    history = model.fit(window.train, epochs=MAX_EPOCHS,\n",
    "                      validation_data=window.val,\n",
    "                     callbacks=[early_stopping])\n",
    "    return history"
   ]
  },
  {
   "cell_type": "code",
   "execution_count": 19,
   "id": "logical-therapist",
   "metadata": {},
   "outputs": [],
   "source": [
    "linear = tf.keras.Sequential([\n",
    "    tf.keras.layers.Dense(units=1, activation='sigmoid')\n",
    "])"
   ]
  },
  {
   "cell_type": "code",
   "execution_count": 20,
   "id": "excited-cruise",
   "metadata": {},
   "outputs": [
    {
     "name": "stdout",
     "output_type": "stream",
     "text": [
      "WARNING:tensorflow:AutoGraph could not transform <bound method split_window of Total window size: 16\n",
      "Input indices: [ 0  1  2  3  4  5  6  7  8  9 10 11 12 13 14]\n",
      "Label indices: [ 1  2  3  4  5  6  7  8  9 10 11 12 13 14 15]\n",
      "Label column name(s): ['win']> and will run it as-is.\n",
      "Please report this to the TensorFlow team. When filing the bug, set the verbosity to 10 (on Linux, `export AUTOGRAPH_VERBOSITY=10`) and attach the full output.\n",
      "Cause: module 'gast' has no attribute 'Index'\n",
      "To silence this warning, decorate the function with @tf.autograph.experimental.do_not_convert\n",
      "WARNING: AutoGraph could not transform <bound method split_window of Total window size: 16\n",
      "Input indices: [ 0  1  2  3  4  5  6  7  8  9 10 11 12 13 14]\n",
      "Label indices: [ 1  2  3  4  5  6  7  8  9 10 11 12 13 14 15]\n",
      "Label column name(s): ['win']> and will run it as-is.\n",
      "Please report this to the TensorFlow team. When filing the bug, set the verbosity to 10 (on Linux, `export AUTOGRAPH_VERBOSITY=10`) and attach the full output.\n",
      "Cause: module 'gast' has no attribute 'Index'\n",
      "To silence this warning, decorate the function with @tf.autograph.experimental.do_not_convert\n",
      "Epoch 1/100\n",
      "1527/1527 [==============================] - 3s 2ms/step - loss: 0.5211 - binary_accuracy: 0.8803 - precision: 0.8656 - recall: 0.9039 - auc: 0.9323 - val_loss: 0.4035 - val_binary_accuracy: 0.9735 - val_precision: 0.9632 - val_recall: 0.9846 - val_auc: 0.9811\n",
      "Epoch 2/100\n",
      "1527/1527 [==============================] - 3s 2ms/step - loss: 0.3168 - binary_accuracy: 0.9835 - precision: 0.9837 - recall: 0.9838 - auc: 0.9832 - val_loss: 0.2585 - val_binary_accuracy: 0.9840 - val_precision: 0.9836 - val_recall: 0.9844 - val_auc: 0.9823\n",
      "Epoch 3/100\n",
      "1527/1527 [==============================] - 3s 2ms/step - loss: 0.2083 - binary_accuracy: 0.9846 - precision: 0.9848 - recall: 0.9848 - auc: 0.9839 - val_loss: 0.1772 - val_binary_accuracy: 0.9842 - val_precision: 0.9841 - val_recall: 0.9842 - val_auc: 0.9829nary_accuracy: 0.9846 - precision: 0.9848 - recall: 0.9848 - auc: 0.\n",
      "Epoch 4/100\n",
      "1527/1527 [==============================] - 3s 2ms/step - loss: 0.1471 - binary_accuracy: 0.9846 - precision: 0.9848 - recall: 0.9848 - auc: 0.9848 - val_loss: 0.1303 - val_binary_accuracy: 0.9842 - val_precision: 0.9841 - val_recall: 0.9842 - val_auc: 0.9844\n",
      "Epoch 5/100\n",
      "1527/1527 [==============================] - 3s 2ms/step - loss: 0.1125 - binary_accuracy: 0.9846 - precision: 0.9848 - recall: 0.9848 - auc: 0.9863 - val_loss: 0.1041 - val_binary_accuracy: 0.9842 - val_precision: 0.9841 - val_recall: 0.9842 - val_auc: 0.9861\n",
      "Epoch 6/100\n",
      "1527/1527 [==============================] - 3s 2ms/step - loss: 0.0933 - binary_accuracy: 0.9846 - precision: 0.9848 - recall: 0.9848 - auc: 0.9880 - val_loss: 0.0901 - val_binary_accuracy: 0.9842 - val_precision: 0.9841 - val_recall: 0.9842 - val_auc: 0.9878\n",
      "Epoch 7/100\n",
      "1527/1527 [==============================] - 3s 2ms/step - loss: 0.0833 - binary_accuracy: 0.9846 - precision: 0.9848 - recall: 0.9848 - auc: 0.9892 - val_loss: 0.0830 - val_binary_accuracy: 0.9842 - val_precision: 0.9841 - val_recall: 0.9842 - val_auc: 0.9890\n",
      "Epoch 8/100\n",
      "1527/1527 [==============================] - 3s 2ms/step - loss: 0.0784 - binary_accuracy: 0.9846 - precision: 0.9848 - recall: 0.9848 - auc: 0.9898 - val_loss: 0.0800 - val_binary_accuracy: 0.9842 - val_precision: 0.9841 - val_recall: 0.9842 - val_auc: 0.9892\n",
      "Epoch 9/100\n",
      "1527/1527 [==============================] - 3s 2ms/step - loss: 0.0764 - binary_accuracy: 0.9846 - precision: 0.9848 - recall: 0.9848 - auc: 0.9900 - val_loss: 0.0791 - val_binary_accuracy: 0.9842 - val_precision: 0.9841 - val_recall: 0.9842 - val_auc: 0.9894\n",
      "Epoch 10/100\n",
      "1527/1527 [==============================] - 3s 2ms/step - loss: 0.0758 - binary_accuracy: 0.9846 - precision: 0.9848 - recall: 0.9848 - auc: 0.9901 - val_loss: 0.0789 - val_binary_accuracy: 0.9842 - val_precision: 0.9841 - val_recall: 0.9842 - val_auc: 0.9893\n",
      "Epoch 11/100\n",
      "1527/1527 [==============================] - 3s 2ms/step - loss: 0.0755 - binary_accuracy: 0.9846 - precision: 0.9848 - recall: 0.9848 - auc: 0.9902 - val_loss: 0.0788 - val_binary_accuracy: 0.9842 - val_precision: 0.9841 - val_recall: 0.9842 - val_auc: 0.9892\n",
      "Epoch 12/100\n",
      "1527/1527 [==============================] - 3s 2ms/step - loss: 0.0755 - binary_accuracy: 0.9846 - precision: 0.9848 - recall: 0.9848 - auc: 0.9902 - val_loss: 0.0789 - val_binary_accuracy: 0.9842 - val_precision: 0.9841 - val_recall: 0.9842 - val_auc: 0.9892\n",
      "Epoch 13/100\n",
      "1527/1527 [==============================] - 3s 2ms/step - loss: 0.0754 - binary_accuracy: 0.9846 - precision: 0.9848 - recall: 0.9848 - auc: 0.9902 - val_loss: 0.0788 - val_binary_accuracy: 0.9842 - val_precision: 0.9841 - val_recall: 0.9842 - val_auc: 0.9892\n",
      "Epoch 14/100\n",
      "1527/1527 [==============================] - 3s 2ms/step - loss: 0.0754 - binary_accuracy: 0.9846 - precision: 0.9848 - recall: 0.9848 - auc: 0.9902 - val_loss: 0.0788 - val_binary_accuracy: 0.9842 - val_precision: 0.9841 - val_recall: 0.9842 - val_auc: 0.9892\n",
      "Epoch 15/100\n",
      "1527/1527 [==============================] - 3s 2ms/step - loss: 0.0754 - binary_accuracy: 0.9846 - precision: 0.9848 - recall: 0.9848 - auc: 0.9902 - val_loss: 0.0788 - val_binary_accuracy: 0.9842 - val_precision: 0.9841 - val_recall: 0.9842 - val_auc: 0.9892\n",
      "Epoch 16/100\n",
      "1527/1527 [==============================] - 3s 2ms/step - loss: 0.0753 - binary_accuracy: 0.9846 - precision: 0.9848 - recall: 0.9848 - auc: 0.9902 - val_loss: 0.0788 - val_binary_accuracy: 0.9842 - val_precision: 0.9841 - val_recall: 0.9842 - val_auc: 0.9892\n",
      "Epoch 17/100\n",
      "1527/1527 [==============================] - 3s 2ms/step - loss: 0.0753 - binary_accuracy: 0.9846 - precision: 0.9848 - recall: 0.9848 - auc: 0.9903 - val_loss: 0.0788 - val_binary_accuracy: 0.9842 - val_precision: 0.9841 - val_recall: 0.9842 - val_auc: 0.9890\n",
      "Epoch 18/100\n",
      "1527/1527 [==============================] - 3s 2ms/step - loss: 0.0753 - binary_accuracy: 0.9846 - precision: 0.9848 - recall: 0.9848 - auc: 0.9903 - val_loss: 0.0787 - val_binary_accuracy: 0.9842 - val_precision: 0.9841 - val_recall: 0.9842 - val_auc: 0.9892\n",
      "Epoch 19/100\n",
      "1527/1527 [==============================] - 3s 2ms/step - loss: 0.0753 - binary_accuracy: 0.9846 - precision: 0.9848 - recall: 0.9848 - auc: 0.9903 - val_loss: 0.0787 - val_binary_accuracy: 0.9842 - val_precision: 0.9841 - val_recall: 0.9842 - val_auc: 0.9890\n",
      "Epoch 20/100\n",
      "1527/1527 [==============================] - 3s 2ms/step - loss: 0.0753 - binary_accuracy: 0.9846 - precision: 0.9848 - recall: 0.9848 - auc: 0.9903 - val_loss: 0.0787 - val_binary_accuracy: 0.9842 - val_precision: 0.9841 - val_recall: 0.9842 - val_auc: 0.9892\n",
      "Epoch 21/100\n",
      "1527/1527 [==============================] - 3s 2ms/step - loss: 0.0753 - binary_accuracy: 0.9846 - precision: 0.9848 - recall: 0.9848 - auc: 0.9903 - val_loss: 0.0788 - val_binary_accuracy: 0.9842 - val_precision: 0.9841 - val_recall: 0.9842 - val_auc: 0.9891\n",
      "Epoch 22/100\n",
      "1527/1527 [==============================] - 3s 2ms/step - loss: 0.0753 - binary_accuracy: 0.9846 - precision: 0.9848 - recall: 0.9848 - auc: 0.9903 - val_loss: 0.0787 - val_binary_accuracy: 0.9842 - val_precision: 0.9841 - val_recall: 0.9842 - val_auc: 0.9892\n",
      "Epoch 23/100\n",
      "1527/1527 [==============================] - 3s 2ms/step - loss: 0.0752 - binary_accuracy: 0.9846 - precision: 0.9848 - recall: 0.9848 - auc: 0.9903 - val_loss: 0.0787 - val_binary_accuracy: 0.9842 - val_precision: 0.9841 - val_recall: 0.9842 - val_auc: 0.9892\n",
      "Epoch 24/100\n",
      "1527/1527 [==============================] - 3s 2ms/step - loss: 0.0752 - binary_accuracy: 0.9846 - precision: 0.9848 - recall: 0.9848 - auc: 0.9903 - val_loss: 0.0787 - val_binary_accuracy: 0.9842 - val_precision: 0.9841 - val_recall: 0.9842 - val_auc: 0.9892\n",
      "Epoch 25/100\n",
      "1527/1527 [==============================] - 3s 2ms/step - loss: 0.0752 - binary_accuracy: 0.9846 - precision: 0.9848 - recall: 0.9848 - auc: 0.9902 - val_loss: 0.0787 - val_binary_accuracy: 0.9842 - val_precision: 0.9841 - val_recall: 0.9842 - val_auc: 0.9892\n",
      "Epoch 26/100\n"
     ]
    },
    {
     "name": "stdout",
     "output_type": "stream",
     "text": [
      "1527/1527 [==============================] - 3s 2ms/step - loss: 0.0752 - binary_accuracy: 0.9846 - precision: 0.9848 - recall: 0.9848 - auc: 0.9903 - val_loss: 0.0787 - val_binary_accuracy: 0.9842 - val_precision: 0.9841 - val_recall: 0.9842 - val_auc: 0.9892\n",
      "Epoch 27/100\n",
      "1527/1527 [==============================] - 3s 2ms/step - loss: 0.0752 - binary_accuracy: 0.9846 - precision: 0.9848 - recall: 0.9848 - auc: 0.9902 - val_loss: 0.0787 - val_binary_accuracy: 0.9842 - val_precision: 0.9841 - val_recall: 0.9842 - val_auc: 0.9891\n",
      "Epoch 28/100\n",
      "1527/1527 [==============================] - 3s 2ms/step - loss: 0.0752 - binary_accuracy: 0.9846 - precision: 0.9848 - recall: 0.9848 - auc: 0.9902 - val_loss: 0.0787 - val_binary_accuracy: 0.9842 - val_precision: 0.9841 - val_recall: 0.9842 - val_auc: 0.9891\n",
      "Epoch 29/100\n",
      "1527/1527 [==============================] - 3s 2ms/step - loss: 0.0752 - binary_accuracy: 0.9846 - precision: 0.9848 - recall: 0.9848 - auc: 0.9902 - val_loss: 0.0787 - val_binary_accuracy: 0.9842 - val_precision: 0.9841 - val_recall: 0.9842 - val_auc: 0.9891\n",
      "Epoch 30/100\n",
      "1527/1527 [==============================] - 3s 2ms/step - loss: 0.0752 - binary_accuracy: 0.9846 - precision: 0.9848 - recall: 0.9848 - auc: 0.9902 - val_loss: 0.0787 - val_binary_accuracy: 0.9842 - val_precision: 0.9841 - val_recall: 0.9842 - val_auc: 0.9891\n",
      "Epoch 31/100\n",
      "1527/1527 [==============================] - 3s 2ms/step - loss: 0.0752 - binary_accuracy: 0.9846 - precision: 0.9848 - recall: 0.9848 - auc: 0.9902 - val_loss: 0.0787 - val_binary_accuracy: 0.9842 - val_precision: 0.9841 - val_recall: 0.9842 - val_auc: 0.9892\n",
      "Epoch 32/100\n",
      "1527/1527 [==============================] - 3s 2ms/step - loss: 0.0752 - binary_accuracy: 0.9846 - precision: 0.9848 - recall: 0.9848 - auc: 0.9902 - val_loss: 0.0787 - val_binary_accuracy: 0.9842 - val_precision: 0.9841 - val_recall: 0.9842 - val_auc: 0.9891\n",
      "Epoch 33/100\n",
      "1527/1527 [==============================] - 3s 2ms/step - loss: 0.0752 - binary_accuracy: 0.9846 - precision: 0.9848 - recall: 0.9848 - auc: 0.9902 - val_loss: 0.0787 - val_binary_accuracy: 0.9842 - val_precision: 0.9841 - val_recall: 0.9842 - val_auc: 0.9890\n",
      "382/382 [==============================] - 1s 1ms/step - loss: 0.0787 - binary_accuracy: 0.9842 - precision: 0.9841 - recall: 0.9842 - auc: 0.9890\n"
     ]
    }
   ],
   "source": [
    "val_performance = {}\n",
    "performance = {}\n",
    "\n",
    "history_linear = compile_and_fit(linear, wide_window)\n",
    "\n",
    "val_performance['Linear'] = linear.evaluate(wide_window.val)\n",
    "performance['Linear'] = linear.evaluate(wide_window.test, verbose=0)"
   ]
  },
  {
   "cell_type": "code",
   "execution_count": 21,
   "id": "hungry-limitation",
   "metadata": {},
   "outputs": [
    {
     "data": {
      "image/png": "[encoded data removed]",
      "text/plain": [
       "<Figure size 432x288 with 1 Axes>"
      ]
     },
     "metadata": {
      "needs_background": "light"
     },
     "output_type": "display_data"
    },
    {
     "data": {
      "image/png": "[encoded data removed]",
      "text/plain": [
       "<Figure size 432x288 with 1 Axes>"
      ]
     },
     "metadata": {
      "needs_background": "light"
     },
     "output_type": "display_data"
    },
    {
     "data": {
      "image/png": "[encoded data removed]",
      "text/plain": [
       "<Figure size 432x288 with 1 Axes>"
      ]
     },
     "metadata": {
      "needs_background": "light"
     },
     "output_type": "display_data"
    }
   ],
   "source": [
    "import matplotlib.pyplot as plt\n",
    "\n",
    "#Linear Model Loss\n",
    "plt.plot(history_linear.history['loss'])\n",
    "plt.plot(history_linear.history['val_loss'])\n",
    "plt.title('Linear Model Loss')\n",
    "plt.ylabel('Loss')\n",
    "plt.xlabel('Epoch')\n",
    "plt.legend(['Train','Val'], loc='upper right')\n",
    "plt.show()\n",
    "\n",
    "#Linear Model Loss\n",
    "plt.plot(history_linear.history['loss'])\n",
    "plt.plot(history_linear.history['val_loss'])\n",
    "plt.title('Linear Model Loss - Closer Look')\n",
    "plt.ylabel('Loss')\n",
    "plt.xlabel('Epoch')\n",
    "plt.legend(['Train','Val'], loc='upper right')\n",
    "plt.ylim(0.07,0.1)\n",
    "plt.xlim(3,12)\n",
    "plt.show()\n",
    "\n",
    "#Linear Model Binary Accuracy\n",
    "plt.plot(history_linear.history['binary_accuracy'])\n",
    "plt.plot(history_linear.history['val_binary_accuracy'])\n",
    "plt.title('Linear Model Binary Accuracy')\n",
    "plt.ylabel('Binary Accuracy')\n",
    "plt.xlabel('Epoch')\n",
    "plt.legend(['Train','Val'], loc='upper right')\n",
    "plt.show()"
   ]
  },
  {
   "cell_type": "code",
   "execution_count": 22,
   "id": "educational-lotus",
   "metadata": {},
   "outputs": [
    {
     "name": "stdout",
     "output_type": "stream",
     "text": [
      "WARNING:tensorflow:From <ipython-input-22-4d8cd6ff24c2>:6: Sequential.predict_classes (from tensorflow.python.keras.engine.sequential) is deprecated and will be removed after 2021-01-01.\n",
      "Instructions for updating:\n",
      "Please use instead:* `np.argmax(model.predict(x), axis=-1)`,   if your model does multi-class classification   (e.g. if it uses a `softmax` last-layer activation).* `(model.predict(x) > 0.5).astype(\"int32\")`,   if your model does binary classification   (e.g. if it uses a `sigmoid` last-layer activation).\n",
      "WARNING:tensorflow:Model was constructed with shape (None, 15, 124) for input Tensor(\"dense_input:0\", shape=(None, 15, 124), dtype=float32), but it was called on an input with incompatible shape (None, 124).\n"
     ]
    },
    {
     "data": {
      "image/png": "[encoded data removed]",
      "text/plain": [
       "<Figure size 288x288 with 1 Axes>"
      ]
     },
     "metadata": {
      "needs_background": "light"
     },
     "output_type": "display_data"
    }
   ],
   "source": [
    "#Confusion matrix for Test set using Linear model \n",
    "\n",
    "import numpy as np\n",
    "from sklearn.metrics import classification_report, confusion_matrix\n",
    "\n",
    "cm = confusion_matrix(Y_test, linear.predict_classes(X_test))\n",
    "fig, ax = plt.subplots(figsize=(4,4))\n",
    "ax.imshow(cm)\n",
    "ax.grid(False)\n",
    "ax.xaxis.set(ticks=(0, 1), ticklabels=('Predicted Loss', 'Predicted Win'))\n",
    "ax.yaxis.set(ticks=(0, 1), ticklabels=('Actual Loss', 'Actual Win'))\n",
    "ax.set_ylim(1.5, -0.5)\n",
    "for i in range(2):\n",
    "    for j in range(2):\n",
    "        ax.text(j, i, cm[i, j], ha='center', va='center', color='red')\n",
    "plt.show()"
   ]
  },
  {
   "cell_type": "code",
   "execution_count": 23,
   "id": "individual-chapter",
   "metadata": {},
   "outputs": [
    {
     "data": {
      "image/png": "[encoded data removed]",
      "text/plain": [
       "<Figure size 1440x1080 with 1 Axes>"
      ]
     },
     "metadata": {
      "needs_background": "light"
     },
     "output_type": "display_data"
    }
   ],
   "source": [
    "#Linear\n",
    "\n",
    "wide_window.plot(linear)"
   ]
  },
  {
   "cell_type": "code",
   "execution_count": 24,
   "id": "increasing-quilt",
   "metadata": {},
   "outputs": [
    {
     "name": "stdout",
     "output_type": "stream",
     "text": [
      "Epoch 1/100\n",
      "1527/1527 [==============================] - 4s 3ms/step - loss: 0.1709 - binary_accuracy: 0.9415 - precision_1: 0.9420 - recall_1: 0.9424 - auc_1: 0.9854 - val_loss: 0.0531 - val_binary_accuracy: 0.9842 - val_precision_1: 0.9841 - val_recall_1: 0.9842 - val_auc_1: 0.9982\n",
      "Epoch 2/100\n",
      "1527/1527 [==============================] - 4s 2ms/step - loss: 0.0427 - binary_accuracy: 0.9846 - precision_1: 0.9849 - recall_1: 0.9847 - auc_1: 0.9984 - val_loss: 0.0421 - val_binary_accuracy: 0.9840 - val_precision_1: 0.9841 - val_recall_1: 0.9839 - val_auc_1: 0.9985\n",
      "Epoch 3/100\n",
      "1527/1527 [==============================] - 4s 2ms/step - loss: 0.0389 - binary_accuracy: 0.9847 - precision_1: 0.9851 - recall_1: 0.9847 - auc_1: 0.9985 - val_loss: 0.0422 - val_binary_accuracy: 0.9842 - val_precision_1: 0.9842 - val_recall_1: 0.9841 - val_auc_1: 0.9983\n",
      "Epoch 4/100\n",
      "1527/1527 [==============================] - 4s 2ms/step - loss: 0.0371 - binary_accuracy: 0.9848 - precision_1: 0.9853 - recall_1: 0.9846 - auc_1: 0.9987 - val_loss: 0.0439 - val_binary_accuracy: 0.9841 - val_precision_1: 0.9844 - val_recall_1: 0.9837 - val_auc_1: 0.9982\n",
      "Epoch 5/100\n",
      "1527/1527 [==============================] - 4s 2ms/step - loss: 0.0351 - binary_accuracy: 0.9849 - precision_1: 0.9855 - recall_1: 0.9846 - auc_1: 0.9989 - val_loss: 0.0455 - val_binary_accuracy: 0.9841 - val_precision_1: 0.9844 - val_recall_1: 0.9837 - val_auc_1: 0.9981\n",
      "382/382 [==============================] - 1s 2ms/step - loss: 0.0455 - binary_accuracy: 0.9841 - precision_1: 0.9844 - recall_1: 0.9837 - auc_1: 0.9981\n"
     ]
    }
   ],
   "source": [
    "dense = tf.keras.Sequential([\n",
    "    tf.keras.layers.Dense(units=131, activation='sigmoid'),\n",
    "    tf.keras.layers.Dense(units=65, activation='sigmoid'),\n",
    "    tf.keras.layers.Dense(units=1, activation='sigmoid')\n",
    "])\n",
    "\n",
    "history_dense = compile_and_fit(dense, wide_window)\n",
    "\n",
    "val_performance['Dense'] = dense.evaluate(wide_window.val)\n",
    "performance['Dense'] = dense.evaluate(wide_window.test, verbose=0)"
   ]
  },
  {
   "cell_type": "code",
   "execution_count": 25,
   "id": "functioning-truck",
   "metadata": {},
   "outputs": [
    {
     "data": {
      "image/png": "[encoded data removed]",
      "text/plain": [
       "<Figure size 432x288 with 1 Axes>"
      ]
     },
     "metadata": {
      "needs_background": "light"
     },
     "output_type": "display_data"
    },
    {
     "data": {
      "image/png": "[encoded data removed]",
      "text/plain": [
       "<Figure size 432x288 with 1 Axes>"
      ]
     },
     "metadata": {
      "needs_background": "light"
     },
     "output_type": "display_data"
    },
    {
     "data": {
      "image/png": "[encoded data removed]",
      "text/plain": [
       "<Figure size 432x288 with 1 Axes>"
      ]
     },
     "metadata": {
      "needs_background": "light"
     },
     "output_type": "display_data"
    }
   ],
   "source": [
    "#Dense Model Loss\n",
    "plt.plot(history_dense.history['loss'])\n",
    "plt.plot(history_dense.history['val_loss'])\n",
    "plt.title('Dense Model Loss')\n",
    "plt.ylabel('Loss')\n",
    "plt.xlabel('Epoch')\n",
    "plt.legend(['Train','Val'], loc='upper right')\n",
    "plt.show()\n",
    "\n",
    "#Dense Model Loss\n",
    "plt.plot(history_dense.history['loss'])\n",
    "plt.plot(history_dense.history['val_loss'])\n",
    "plt.title('Dense Model Loss - Closer Look')\n",
    "plt.ylabel('Loss')\n",
    "plt.xlabel('Epoch')\n",
    "plt.legend(['Train','Val'], loc='upper right')\n",
    "plt.ylim(0.03,0.06)\n",
    "plt.xlim(0,6)\n",
    "plt.show()\n",
    "\n",
    "#Dense Model Binary Accuracy\n",
    "plt.plot(history_dense.history['binary_accuracy'])\n",
    "plt.plot(history_dense.history['val_binary_accuracy'])\n",
    "plt.title('Dense Model Binary Accuracy')\n",
    "plt.ylabel('Binary Accuracy')\n",
    "plt.xlabel('Epoch')\n",
    "plt.legend(['Train','Val'], loc='upper right')\n",
    "plt.show()"
   ]
  },
  {
   "cell_type": "code",
   "execution_count": 26,
   "id": "better-street",
   "metadata": {},
   "outputs": [
    {
     "name": "stdout",
     "output_type": "stream",
     "text": [
      "WARNING:tensorflow:Model was constructed with shape (None, 15, 124) for input Tensor(\"dense_1_input:0\", shape=(None, 15, 124), dtype=float32), but it was called on an input with incompatible shape (None, 124).\n"
     ]
    },
    {
     "data": {
      "image/png": "[encoded data removed]",
      "text/plain": [
       "<Figure size 288x288 with 1 Axes>"
      ]
     },
     "metadata": {
      "needs_background": "light"
     },
     "output_type": "display_data"
    }
   ],
   "source": [
    "#Confusion matrix for Test set using Dense NN\n",
    "\n",
    "cm = confusion_matrix(Y_test, dense.predict_classes(X_test))\n",
    "fig, ax = plt.subplots(figsize=(4,4))\n",
    "ax.imshow(cm)\n",
    "ax.grid(False)\n",
    "ax.xaxis.set(ticks=(0, 1), ticklabels=('Predicted Loss', 'Predicted Win'))\n",
    "ax.yaxis.set(ticks=(0, 1), ticklabels=('Actual Loss', 'Actual Win'))\n",
    "ax.set_ylim(1.5, -0.5)\n",
    "for i in range(2):\n",
    "    for j in range(2):\n",
    "        ax.text(j, i, cm[i, j], ha='center', va='center', color='red')\n",
    "plt.show()"
   ]
  },
  {
   "cell_type": "code",
   "execution_count": 27,
   "id": "grateful-prior",
   "metadata": {},
   "outputs": [
    {
     "data": {
      "image/png": "[encoded data removed]",
      "text/plain": [
       "<Figure size 1440x1080 with 1 Axes>"
      ]
     },
     "metadata": {
      "needs_background": "light"
     },
     "output_type": "display_data"
    }
   ],
   "source": [
    "#Dense\n",
    "\n",
    "wide_window.plot(dense)"
   ]
  },
  {
   "cell_type": "code",
   "execution_count": 28,
   "id": "thousand-story",
   "metadata": {},
   "outputs": [],
   "source": [
    "lstm_model = tf.keras.models.Sequential([\n",
    "    # Shape [batch, time, features] => [batch, time, lstm_units]\n",
    "    tf.keras.layers.LSTM(32, return_sequences=True),\n",
    "    # Shape => [batch, time, features]\n",
    "    tf.keras.layers.Dense(units=1, activation='sigmoid')\n",
    "])"
   ]
  },
  {
   "cell_type": "code",
   "execution_count": 29,
   "id": "broad-peter",
   "metadata": {},
   "outputs": [
    {
     "name": "stdout",
     "output_type": "stream",
     "text": [
      "Epoch 1/100\n",
      "1527/1527 [==============================] - 8s 5ms/step - loss: 0.1213 - binary_accuracy: 0.9641 - precision_2: 0.9617 - recall_2: 0.9676 - auc_2: 0.9928 - val_loss: 0.0526 - val_binary_accuracy: 0.9828 - val_precision_2: 0.9835 - val_recall_2: 0.9819 - val_auc_2: 0.9980\n",
      "Epoch 2/100\n",
      "1527/1527 [==============================] - 7s 5ms/step - loss: 0.0374 - binary_accuracy: 0.9865 - precision_2: 0.9880 - recall_2: 0.9853 - auc_2: 0.9989 - val_loss: 0.0483 - val_binary_accuracy: 0.9819 - val_precision_2: 0.9821 - val_recall_2: 0.9816 - val_auc_2: 0.9979\n",
      "Epoch 3/100\n",
      "1527/1527 [==============================] - 8s 5ms/step - loss: 0.0267 - binary_accuracy: 0.9898 - precision_2: 0.9903 - recall_2: 0.9896 - auc_2: 0.9994 - val_loss: 0.0610 - val_binary_accuracy: 0.9772 - val_precision_2: 0.9810 - val_recall_2: 0.9731 - val_auc_2: 0.9970\n",
      "Epoch 4/100\n",
      "1527/1527 [==============================] - 7s 5ms/step - loss: 0.0185 - binary_accuracy: 0.9933 - precision_2: 0.9932 - recall_2: 0.9935 - auc_2: 0.9997 - val_loss: 0.0668 - val_binary_accuracy: 0.9769 - val_precision_2: 0.9751 - val_recall_2: 0.9785 - val_auc_2: 0.9962\n",
      "Epoch 5/100\n",
      "1527/1527 [==============================] - 7s 5ms/step - loss: 0.0132 - binary_accuracy: 0.9955 - precision_2: 0.9954 - recall_2: 0.9956 - auc_2: 0.9998 - val_loss: 0.0833 - val_binary_accuracy: 0.9755 - val_precision_2: 0.9757 - val_recall_2: 0.9751 - val_auc_2: 0.9947\n",
      "382/382 [==============================] - 1s 2ms/step - loss: 0.0833 - binary_accuracy: 0.9755 - precision_2: 0.9757 - recall_2: 0.9751 - auc_2: 0.9947: 0s - loss: 0.0860 - binary_accuracy: 0.9758 - precision_2: 0.9774 - re\n"
     ]
    }
   ],
   "source": [
    "history_lstm = compile_and_fit(lstm_model, wide_window)\n",
    "\n",
    "val_performance['LSTM'] = lstm_model.evaluate(wide_window.val)\n",
    "performance['LSTM'] = lstm_model.evaluate(wide_window.test, verbose=0)"
   ]
  },
  {
   "cell_type": "code",
   "execution_count": 30,
   "id": "single-personality",
   "metadata": {},
   "outputs": [
    {
     "data": {
      "image/png": "[encoded data removed]",
      "text/plain": [
       "<Figure size 432x288 with 1 Axes>"
      ]
     },
     "metadata": {
      "needs_background": "light"
     },
     "output_type": "display_data"
    },
    {
     "data": {
      "image/png": "[encoded data removed]",
      "text/plain": [
       "<Figure size 432x288 with 1 Axes>"
      ]
     },
     "metadata": {
      "needs_background": "light"
     },
     "output_type": "display_data"
    },
    {
     "data": {
      "image/png": "[encoded data removed]",
      "text/plain": [
       "<Figure size 432x288 with 1 Axes>"
      ]
     },
     "metadata": {
      "needs_background": "light"
     },
     "output_type": "display_data"
    }
   ],
   "source": [
    "#LSTM Model Loss\n",
    "plt.plot(history_lstm.history['loss'])\n",
    "plt.plot(history_lstm.history['val_loss'])\n",
    "plt.title('LSTM Model Loss')\n",
    "plt.ylabel('Loss')\n",
    "plt.xlabel('Epoch')\n",
    "plt.legend(['Train','Val'], loc='upper right')\n",
    "plt.show()\n",
    "\n",
    "#LSTM Model Loss\n",
    "plt.plot(history_lstm.history['loss'])\n",
    "plt.plot(history_lstm.history['val_loss'])\n",
    "plt.title('LSTM Model Loss - Closer Look')\n",
    "plt.ylabel('Loss')\n",
    "plt.xlabel('Epoch')\n",
    "plt.legend(['Train','Val'], loc='upper right')\n",
    "plt.ylim(0.03,0.07)\n",
    "plt.xlim(0,4)\n",
    "plt.show()\n",
    "\n",
    "#LSTM Model Binary Accuracy\n",
    "plt.plot(history_lstm.history['binary_accuracy'])\n",
    "plt.plot(history_lstm.history['val_binary_accuracy'])\n",
    "plt.title('LSTM Model Binary Accuracy')\n",
    "plt.ylabel('Binary Accuracy')\n",
    "plt.xlabel('Epoch')\n",
    "plt.legend(['Train','Val'], loc='upper right')\n",
    "plt.show()"
   ]
  },
  {
   "cell_type": "code",
   "execution_count": 31,
   "id": "psychological-publisher",
   "metadata": {
    "scrolled": true
   },
   "outputs": [
    {
     "data": {
      "image/png": "[encoded data removed]",
      "text/plain": [
       "<Figure size 1440x1080 with 1 Axes>"
      ]
     },
     "metadata": {
      "needs_background": "light"
     },
     "output_type": "display_data"
    }
   ],
   "source": [
    "#LSTM\n",
    "\n",
    "wide_window.plot(lstm_model)"
   ]
  },
  {
   "cell_type": "code",
   "execution_count": 32,
   "id": "worse-treaty",
   "metadata": {},
   "outputs": [],
   "source": [
    "gru_model = tf.keras.models.Sequential([\n",
    "    tf.keras.layers.GRU(32, return_sequences=True),\n",
    "    tf.keras.layers.Dense(units=1, activation='sigmoid')\n",
    "])"
   ]
  },
  {
   "cell_type": "code",
   "execution_count": 33,
   "id": "desperate-ontario",
   "metadata": {},
   "outputs": [
    {
     "name": "stdout",
     "output_type": "stream",
     "text": [
      "Epoch 1/100\n",
      "1527/1527 [==============================] - 9s 6ms/step - loss: 0.1198 - binary_accuracy: 0.9602 - precision_3: 0.9558 - recall_3: 0.9660 - auc_3: 0.9925 - val_loss: 0.0493 - val_binary_accuracy: 0.9839 - val_precision_3: 0.9845 - val_recall_3: 0.9832 - val_auc_3: 0.9981\n",
      "Epoch 2/100\n",
      "1527/1527 [==============================] - 8s 5ms/step - loss: 0.0389 - binary_accuracy: 0.9856 - precision_3: 0.9866 - recall_3: 0.9850 - auc_3: 0.9987 - val_loss: 0.0469 - val_binary_accuracy: 0.9829 - val_precision_3: 0.9829 - val_recall_3: 0.9827 - val_auc_3: 0.9978\n",
      "Epoch 3/100\n",
      "1527/1527 [==============================] - 8s 5ms/step - loss: 0.0305 - binary_accuracy: 0.9882 - precision_3: 0.9889 - recall_3: 0.9878 - auc_3: 0.9992 - val_loss: 0.0513 - val_binary_accuracy: 0.9827 - val_precision_3: 0.9808 - val_recall_3: 0.9846 - val_auc_3: 0.9972\n",
      "Epoch 4/100\n",
      "1527/1527 [==============================] - 8s 5ms/step - loss: 0.0232 - binary_accuracy: 0.9911 - precision_3: 0.9915 - recall_3: 0.9909 - auc_3: 0.9996 - val_loss: 0.0570 - val_binary_accuracy: 0.9819 - val_precision_3: 0.9816 - val_recall_3: 0.9822 - val_auc_3: 0.9967\n",
      "Epoch 5/100\n",
      "1527/1527 [==============================] - 8s 5ms/step - loss: 0.0172 - binary_accuracy: 0.9939 - precision_3: 0.9942 - recall_3: 0.9938 - auc_3: 0.9998 - val_loss: 0.0662 - val_binary_accuracy: 0.9808 - val_precision_3: 0.9794 - val_recall_3: 0.9821 - val_auc_3: 0.9959\n",
      "382/382 [==============================] - 1s 2ms/step - loss: 0.0662 - binary_accuracy: 0.9808 - precision_3: 0.9794 - recall_3: 0.9821 - auc_3: 0.9959\n"
     ]
    }
   ],
   "source": [
    "history_gru = compile_and_fit(gru_model, wide_window)\n",
    "\n",
    "val_performance['GRU'] = gru_model.evaluate(wide_window.val)\n",
    "performance['GRU'] = gru_model.evaluate(wide_window.test, verbose=0)"
   ]
  },
  {
   "cell_type": "code",
   "execution_count": 34,
   "id": "annual-treaty",
   "metadata": {},
   "outputs": [
    {
     "data": {
      "image/png": "[encoded data removed]",
      "text/plain": [
       "<Figure size 432x288 with 1 Axes>"
      ]
     },
     "metadata": {
      "needs_background": "light"
     },
     "output_type": "display_data"
    },
    {
     "data": {
      "image/png": "[encoded data removed]",
      "text/plain": [
       "<Figure size 432x288 with 1 Axes>"
      ]
     },
     "metadata": {
      "needs_background": "light"
     },
     "output_type": "display_data"
    },
    {
     "data": {
      "image/png": "[encoded data removed]",
      "text/plain": [
       "<Figure size 432x288 with 1 Axes>"
      ]
     },
     "metadata": {
      "needs_background": "light"
     },
     "output_type": "display_data"
    }
   ],
   "source": [
    "#GRU Model Loss\n",
    "plt.plot(history_gru.history['loss'])\n",
    "plt.plot(history_gru.history['val_loss'])\n",
    "plt.title('GRU Model Loss')\n",
    "plt.ylabel('Loss')\n",
    "plt.xlabel('Epoch')\n",
    "plt.legend(['Train','Val'], loc='upper right')\n",
    "plt.show()\n",
    "\n",
    "#GRU Model Loss\n",
    "plt.plot(history_gru.history['loss'])\n",
    "plt.plot(history_gru.history['val_loss'])\n",
    "plt.title('GRU Model Loss - Closer Look')\n",
    "plt.ylabel('Loss')\n",
    "plt.xlabel('Epoch')\n",
    "plt.legend(['Train','Val'], loc='upper right')\n",
    "plt.ylim(0.04,0.06)\n",
    "plt.xlim(0,4)\n",
    "plt.show()\n",
    "\n",
    "#GRU Model Binary Accuracy\n",
    "plt.plot(history_gru.history['binary_accuracy'])\n",
    "plt.plot(history_gru.history['val_binary_accuracy'])\n",
    "plt.title('GRU Model Binary Accuracy')\n",
    "plt.ylabel('Binary Accuracy')\n",
    "plt.xlabel('Epoch')\n",
    "plt.legend(['Train','Val'], loc='upper right')\n",
    "plt.show()"
   ]
  },
  {
   "cell_type": "code",
   "execution_count": 35,
   "id": "integrated-color",
   "metadata": {},
   "outputs": [
    {
     "data": {
      "image/png": "[encoded data removed]",
      "text/plain": [
       "<Figure size 1440x1080 with 1 Axes>"
      ]
     },
     "metadata": {
      "needs_background": "light"
     },
     "output_type": "display_data"
    }
   ],
   "source": [
    "#GRU\n",
    "\n",
    "wide_window.plot(gru_model)"
   ]
  },
  {
   "cell_type": "code",
   "execution_count": 36,
   "id": "premier-martial",
   "metadata": {},
   "outputs": [
    {
     "data": {
      "image/png": "[encoded data removed]",
      "text/plain": [
       "<Figure size 432x288 with 1 Axes>"
      ]
     },
     "metadata": {
      "needs_background": "light"
     },
     "output_type": "display_data"
    }
   ],
   "source": [
    "x = np.arange(len(performance))\n",
    "width = 0.3\n",
    "metric_name = 'loss'\n",
    "metric_index = lstm_model.metrics_names.index('loss')\n",
    "val_loss = [v[metric_index] for v in val_performance.values()]\n",
    "test_loss = [v[metric_index] for v in performance.values()]\n",
    "\n",
    "plt.ylabel('loss [win, standardized]')\n",
    "plt.bar(x - 0.17, val_loss, width, label='Validation')\n",
    "plt.bar(x + 0.17, test_loss, width, label='Test')\n",
    "plt.xticks(ticks=x, labels=performance.keys(),\n",
    "           rotation=45)\n",
    "_ = plt.legend()"
   ]
  },
  {
   "cell_type": "code",
   "execution_count": null,
   "id": "universal-retrieval",
   "metadata": {},
   "outputs": [],
   "source": []
  }
 ],
 "metadata": {
  "kernelspec": {
   "display_name": "Python 3",
   "language": "python",
   "name": "python3"
  },
  "language_info": {
   "codemirror_mode": {
    "name": "ipython",
    "version": 3
   },
   "file_extension": ".py",
   "mimetype": "text/x-python",
   "name": "python",
   "nbconvert_exporter": "python",
   "pygments_lexer": "ipython3",
   "version": "3.8.5"
  }
 },
 "nbformat": 4,
 "nbformat_minor": 5
}
