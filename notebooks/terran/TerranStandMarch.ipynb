{
 "cells": [
  {
   "cell_type": "code",
   "execution_count": 1,
   "id": "perfect-arbor",
   "metadata": {
    "scrolled": true
   },
   "outputs": [
    {
     "data": {
      "text/html": [
       "<div>\n",
       "<style scoped>\n",
       "    .dataframe tbody tr th:only-of-type {\n",
       "        vertical-align: middle;\n",
       "    }\n",
       "\n",
       "    .dataframe tbody tr th {\n",
       "        vertical-align: top;\n",
       "    }\n",
       "\n",
       "    .dataframe thead th {\n",
       "        text-align: right;\n",
       "    }\n",
       "</style>\n",
       "<table border=\"1\" class=\"dataframe\">\n",
       "  <thead>\n",
       "    <tr style=\"text-align: right;\">\n",
       "      <th></th>\n",
       "      <th>match_id</th>\n",
       "      <th>map_name</th>\n",
       "      <th>region</th>\n",
       "      <th>game_length</th>\n",
       "      <th>race</th>\n",
       "      <th>enemy_race</th>\n",
       "      <th>ap30s</th>\n",
       "      <th>frame</th>\n",
       "      <th>second</th>\n",
       "      <th>player</th>\n",
       "      <th>...</th>\n",
       "      <th>starport</th>\n",
       "      <th>starportreactor</th>\n",
       "      <th>starporttechlab</th>\n",
       "      <th>supplydepot</th>\n",
       "      <th>techlab</th>\n",
       "      <th>thor</th>\n",
       "      <th>viking</th>\n",
       "      <th>warhound</th>\n",
       "      <th>widowmine</th>\n",
       "      <th>win</th>\n",
       "    </tr>\n",
       "  </thead>\n",
       "  <tbody>\n",
       "    <tr>\n",
       "      <th>0</th>\n",
       "      <td>0</td>\n",
       "      <td>World of Sleepers LE</td>\n",
       "      <td>us</td>\n",
       "      <td>437</td>\n",
       "      <td>T</td>\n",
       "      <td>P</td>\n",
       "      <td>0.0</td>\n",
       "      <td>1</td>\n",
       "      <td>0</td>\n",
       "      <td>Player 1 - INnoVation (Terran)</td>\n",
       "      <td>...</td>\n",
       "      <td>0</td>\n",
       "      <td>0</td>\n",
       "      <td>0</td>\n",
       "      <td>0</td>\n",
       "      <td>0</td>\n",
       "      <td>0</td>\n",
       "      <td>0</td>\n",
       "      <td>0</td>\n",
       "      <td>0</td>\n",
       "      <td>1</td>\n",
       "    </tr>\n",
       "    <tr>\n",
       "      <th>1</th>\n",
       "      <td>0</td>\n",
       "      <td>World of Sleepers LE</td>\n",
       "      <td>us</td>\n",
       "      <td>437</td>\n",
       "      <td>T</td>\n",
       "      <td>P</td>\n",
       "      <td>117.6</td>\n",
       "      <td>480</td>\n",
       "      <td>30</td>\n",
       "      <td>Player 1 - INnoVation (Terran)</td>\n",
       "      <td>...</td>\n",
       "      <td>0</td>\n",
       "      <td>0</td>\n",
       "      <td>0</td>\n",
       "      <td>1</td>\n",
       "      <td>0</td>\n",
       "      <td>0</td>\n",
       "      <td>0</td>\n",
       "      <td>0</td>\n",
       "      <td>0</td>\n",
       "      <td>1</td>\n",
       "    </tr>\n",
       "    <tr>\n",
       "      <th>2</th>\n",
       "      <td>0</td>\n",
       "      <td>World of Sleepers LE</td>\n",
       "      <td>us</td>\n",
       "      <td>437</td>\n",
       "      <td>T</td>\n",
       "      <td>P</td>\n",
       "      <td>197.4</td>\n",
       "      <td>960</td>\n",
       "      <td>60</td>\n",
       "      <td>Player 1 - INnoVation (Terran)</td>\n",
       "      <td>...</td>\n",
       "      <td>0</td>\n",
       "      <td>0</td>\n",
       "      <td>0</td>\n",
       "      <td>1</td>\n",
       "      <td>0</td>\n",
       "      <td>0</td>\n",
       "      <td>0</td>\n",
       "      <td>0</td>\n",
       "      <td>0</td>\n",
       "      <td>1</td>\n",
       "    </tr>\n",
       "    <tr>\n",
       "      <th>3</th>\n",
       "      <td>0</td>\n",
       "      <td>World of Sleepers LE</td>\n",
       "      <td>us</td>\n",
       "      <td>437</td>\n",
       "      <td>T</td>\n",
       "      <td>P</td>\n",
       "      <td>200.2</td>\n",
       "      <td>1440</td>\n",
       "      <td>90</td>\n",
       "      <td>Player 1 - INnoVation (Terran)</td>\n",
       "      <td>...</td>\n",
       "      <td>0</td>\n",
       "      <td>0</td>\n",
       "      <td>0</td>\n",
       "      <td>1</td>\n",
       "      <td>0</td>\n",
       "      <td>0</td>\n",
       "      <td>0</td>\n",
       "      <td>0</td>\n",
       "      <td>0</td>\n",
       "      <td>1</td>\n",
       "    </tr>\n",
       "    <tr>\n",
       "      <th>4</th>\n",
       "      <td>0</td>\n",
       "      <td>World of Sleepers LE</td>\n",
       "      <td>us</td>\n",
       "      <td>437</td>\n",
       "      <td>T</td>\n",
       "      <td>P</td>\n",
       "      <td>149.8</td>\n",
       "      <td>1920</td>\n",
       "      <td>120</td>\n",
       "      <td>Player 1 - INnoVation (Terran)</td>\n",
       "      <td>...</td>\n",
       "      <td>0</td>\n",
       "      <td>0</td>\n",
       "      <td>0</td>\n",
       "      <td>1</td>\n",
       "      <td>0</td>\n",
       "      <td>0</td>\n",
       "      <td>0</td>\n",
       "      <td>0</td>\n",
       "      <td>0</td>\n",
       "      <td>1</td>\n",
       "    </tr>\n",
       "    <tr>\n",
       "      <th>...</th>\n",
       "      <td>...</td>\n",
       "      <td>...</td>\n",
       "      <td>...</td>\n",
       "      <td>...</td>\n",
       "      <td>...</td>\n",
       "      <td>...</td>\n",
       "      <td>...</td>\n",
       "      <td>...</td>\n",
       "      <td>...</td>\n",
       "      <td>...</td>\n",
       "      <td>...</td>\n",
       "      <td>...</td>\n",
       "      <td>...</td>\n",
       "      <td>...</td>\n",
       "      <td>...</td>\n",
       "      <td>...</td>\n",
       "      <td>...</td>\n",
       "      <td>...</td>\n",
       "      <td>...</td>\n",
       "      <td>...</td>\n",
       "      <td>...</td>\n",
       "    </tr>\n",
       "    <tr>\n",
       "      <th>69856</th>\n",
       "      <td>1983</td>\n",
       "      <td>Eternal Empire LE</td>\n",
       "      <td>eu</td>\n",
       "      <td>1610</td>\n",
       "      <td>T</td>\n",
       "      <td>Z</td>\n",
       "      <td>159.6</td>\n",
       "      <td>33600</td>\n",
       "      <td>2100</td>\n",
       "      <td>Player 2 - LiquidClem (Terran)</td>\n",
       "      <td>...</td>\n",
       "      <td>2</td>\n",
       "      <td>2</td>\n",
       "      <td>0</td>\n",
       "      <td>15</td>\n",
       "      <td>0</td>\n",
       "      <td>0</td>\n",
       "      <td>0</td>\n",
       "      <td>0</td>\n",
       "      <td>11</td>\n",
       "      <td>0</td>\n",
       "    </tr>\n",
       "    <tr>\n",
       "      <th>69857</th>\n",
       "      <td>1983</td>\n",
       "      <td>Eternal Empire LE</td>\n",
       "      <td>eu</td>\n",
       "      <td>1610</td>\n",
       "      <td>T</td>\n",
       "      <td>Z</td>\n",
       "      <td>229.6</td>\n",
       "      <td>34080</td>\n",
       "      <td>2130</td>\n",
       "      <td>Player 2 - LiquidClem (Terran)</td>\n",
       "      <td>...</td>\n",
       "      <td>2</td>\n",
       "      <td>2</td>\n",
       "      <td>0</td>\n",
       "      <td>15</td>\n",
       "      <td>0</td>\n",
       "      <td>0</td>\n",
       "      <td>0</td>\n",
       "      <td>0</td>\n",
       "      <td>11</td>\n",
       "      <td>0</td>\n",
       "    </tr>\n",
       "    <tr>\n",
       "      <th>69858</th>\n",
       "      <td>1983</td>\n",
       "      <td>Eternal Empire LE</td>\n",
       "      <td>eu</td>\n",
       "      <td>1610</td>\n",
       "      <td>T</td>\n",
       "      <td>Z</td>\n",
       "      <td>169.4</td>\n",
       "      <td>34560</td>\n",
       "      <td>2160</td>\n",
       "      <td>Player 2 - LiquidClem (Terran)</td>\n",
       "      <td>...</td>\n",
       "      <td>2</td>\n",
       "      <td>2</td>\n",
       "      <td>0</td>\n",
       "      <td>15</td>\n",
       "      <td>0</td>\n",
       "      <td>0</td>\n",
       "      <td>0</td>\n",
       "      <td>0</td>\n",
       "      <td>12</td>\n",
       "      <td>0</td>\n",
       "    </tr>\n",
       "    <tr>\n",
       "      <th>69859</th>\n",
       "      <td>1983</td>\n",
       "      <td>Eternal Empire LE</td>\n",
       "      <td>eu</td>\n",
       "      <td>1610</td>\n",
       "      <td>T</td>\n",
       "      <td>Z</td>\n",
       "      <td>159.6</td>\n",
       "      <td>35040</td>\n",
       "      <td>2190</td>\n",
       "      <td>Player 2 - LiquidClem (Terran)</td>\n",
       "      <td>...</td>\n",
       "      <td>2</td>\n",
       "      <td>2</td>\n",
       "      <td>0</td>\n",
       "      <td>15</td>\n",
       "      <td>0</td>\n",
       "      <td>0</td>\n",
       "      <td>0</td>\n",
       "      <td>0</td>\n",
       "      <td>10</td>\n",
       "      <td>0</td>\n",
       "    </tr>\n",
       "    <tr>\n",
       "      <th>69860</th>\n",
       "      <td>1983</td>\n",
       "      <td>Eternal Empire LE</td>\n",
       "      <td>eu</td>\n",
       "      <td>1610</td>\n",
       "      <td>T</td>\n",
       "      <td>Z</td>\n",
       "      <td>0.0</td>\n",
       "      <td>35520</td>\n",
       "      <td>2220</td>\n",
       "      <td>Player 2 - LiquidClem (Terran)</td>\n",
       "      <td>...</td>\n",
       "      <td>2</td>\n",
       "      <td>2</td>\n",
       "      <td>0</td>\n",
       "      <td>15</td>\n",
       "      <td>0</td>\n",
       "      <td>0</td>\n",
       "      <td>0</td>\n",
       "      <td>0</td>\n",
       "      <td>11</td>\n",
       "      <td>0</td>\n",
       "    </tr>\n",
       "  </tbody>\n",
       "</table>\n",
       "<p>69861 rows × 69 columns</p>\n",
       "</div>"
      ],
      "text/plain": [
       "       match_id              map_name region  game_length race enemy_race  \\\n",
       "0             0  World of Sleepers LE     us          437    T          P   \n",
       "1             0  World of Sleepers LE     us          437    T          P   \n",
       "2             0  World of Sleepers LE     us          437    T          P   \n",
       "3             0  World of Sleepers LE     us          437    T          P   \n",
       "4             0  World of Sleepers LE     us          437    T          P   \n",
       "...         ...                   ...    ...          ...  ...        ...   \n",
       "69856      1983     Eternal Empire LE     eu         1610    T          Z   \n",
       "69857      1983     Eternal Empire LE     eu         1610    T          Z   \n",
       "69858      1983     Eternal Empire LE     eu         1610    T          Z   \n",
       "69859      1983     Eternal Empire LE     eu         1610    T          Z   \n",
       "69860      1983     Eternal Empire LE     eu         1610    T          Z   \n",
       "\n",
       "       ap30s  frame  second                          player  ...  starport  \\\n",
       "0        0.0      1       0  Player 1 - INnoVation (Terran)  ...         0   \n",
       "1      117.6    480      30  Player 1 - INnoVation (Terran)  ...         0   \n",
       "2      197.4    960      60  Player 1 - INnoVation (Terran)  ...         0   \n",
       "3      200.2   1440      90  Player 1 - INnoVation (Terran)  ...         0   \n",
       "4      149.8   1920     120  Player 1 - INnoVation (Terran)  ...         0   \n",
       "...      ...    ...     ...                             ...  ...       ...   \n",
       "69856  159.6  33600    2100  Player 2 - LiquidClem (Terran)  ...         2   \n",
       "69857  229.6  34080    2130  Player 2 - LiquidClem (Terran)  ...         2   \n",
       "69858  169.4  34560    2160  Player 2 - LiquidClem (Terran)  ...         2   \n",
       "69859  159.6  35040    2190  Player 2 - LiquidClem (Terran)  ...         2   \n",
       "69860    0.0  35520    2220  Player 2 - LiquidClem (Terran)  ...         2   \n",
       "\n",
       "       starportreactor  starporttechlab  supplydepot  techlab  thor  viking  \\\n",
       "0                    0                0            0        0     0       0   \n",
       "1                    0                0            1        0     0       0   \n",
       "2                    0                0            1        0     0       0   \n",
       "3                    0                0            1        0     0       0   \n",
       "4                    0                0            1        0     0       0   \n",
       "...                ...              ...          ...      ...   ...     ...   \n",
       "69856                2                0           15        0     0       0   \n",
       "69857                2                0           15        0     0       0   \n",
       "69858                2                0           15        0     0       0   \n",
       "69859                2                0           15        0     0       0   \n",
       "69860                2                0           15        0     0       0   \n",
       "\n",
       "       warhound  widowmine  win  \n",
       "0             0          0    1  \n",
       "1             0          0    1  \n",
       "2             0          0    1  \n",
       "3             0          0    1  \n",
       "4             0          0    1  \n",
       "...         ...        ...  ...  \n",
       "69856         0         11    0  \n",
       "69857         0         11    0  \n",
       "69858         0         12    0  \n",
       "69859         0         10    0  \n",
       "69860         0         11    0  \n",
       "\n",
       "[69861 rows x 69 columns]"
      ]
     },
     "metadata": {},
     "output_type": "display_data"
    }
   ],
   "source": [
    "#Importing data from csv\n",
    "from pandas import read_csv\n",
    "import pandas as pd\n",
    "\n",
    "terran_data = read_csv('../Output/TerranMarch.csv', header=0, index_col=False)\n",
    "display(terran_data)"
   ]
  },
  {
   "cell_type": "code",
   "execution_count": 2,
   "id": "associate-slovak",
   "metadata": {},
   "outputs": [
    {
     "data": {
      "text/html": [
       "<div>\n",
       "<style scoped>\n",
       "    .dataframe tbody tr th:only-of-type {\n",
       "        vertical-align: middle;\n",
       "    }\n",
       "\n",
       "    .dataframe tbody tr th {\n",
       "        vertical-align: top;\n",
       "    }\n",
       "\n",
       "    .dataframe thead th {\n",
       "        text-align: right;\n",
       "    }\n",
       "</style>\n",
       "<table border=\"1\" class=\"dataframe\">\n",
       "  <thead>\n",
       "    <tr style=\"text-align: right;\">\n",
       "      <th></th>\n",
       "      <th>ap30s</th>\n",
       "      <th>workers_active_count</th>\n",
       "      <th>food_used</th>\n",
       "      <th>food_made</th>\n",
       "      <th>minerals_current</th>\n",
       "      <th>minerals_collection_rate</th>\n",
       "      <th>minerals_used_in_progress</th>\n",
       "      <th>minerals_used_current</th>\n",
       "      <th>minerals_used_active_forces</th>\n",
       "      <th>minerals_lost</th>\n",
       "      <th>...</th>\n",
       "      <th>Map_트라이튼 - 래더</th>\n",
       "      <th>Map_필러스 오브 골드 - 래더</th>\n",
       "      <th>Region_cn</th>\n",
       "      <th>Region_eu</th>\n",
       "      <th>Region_kr</th>\n",
       "      <th>Region_us</th>\n",
       "      <th>Enemy_P</th>\n",
       "      <th>Enemy_T</th>\n",
       "      <th>Enemy_Z</th>\n",
       "      <th>win</th>\n",
       "    </tr>\n",
       "  </thead>\n",
       "  <tbody>\n",
       "    <tr>\n",
       "      <th>0</th>\n",
       "      <td>-3.003363</td>\n",
       "      <td>-1.415927</td>\n",
       "      <td>-1.237729</td>\n",
       "      <td>-1.174913</td>\n",
       "      <td>-0.514795</td>\n",
       "      <td>-2.048131</td>\n",
       "      <td>-1.612501</td>\n",
       "      <td>-1.191799</td>\n",
       "      <td>-0.970655</td>\n",
       "      <td>-0.523886</td>\n",
       "      <td>...</td>\n",
       "      <td>0</td>\n",
       "      <td>0</td>\n",
       "      <td>0</td>\n",
       "      <td>0</td>\n",
       "      <td>0</td>\n",
       "      <td>1</td>\n",
       "      <td>1</td>\n",
       "      <td>0</td>\n",
       "      <td>0</td>\n",
       "      <td>1</td>\n",
       "    </tr>\n",
       "    <tr>\n",
       "      <th>1</th>\n",
       "      <td>-0.620782</td>\n",
       "      <td>-1.369031</td>\n",
       "      <td>-1.204103</td>\n",
       "      <td>-1.174913</td>\n",
       "      <td>-0.514795</td>\n",
       "      <td>-1.180274</td>\n",
       "      <td>-1.283774</td>\n",
       "      <td>-1.182962</td>\n",
       "      <td>-0.970655</td>\n",
       "      <td>-0.523886</td>\n",
       "      <td>...</td>\n",
       "      <td>0</td>\n",
       "      <td>0</td>\n",
       "      <td>0</td>\n",
       "      <td>0</td>\n",
       "      <td>0</td>\n",
       "      <td>1</td>\n",
       "      <td>1</td>\n",
       "      <td>0</td>\n",
       "      <td>0</td>\n",
       "      <td>1</td>\n",
       "    </tr>\n",
       "    <tr>\n",
       "      <th>2</th>\n",
       "      <td>0.995970</td>\n",
       "      <td>-1.275239</td>\n",
       "      <td>-1.170476</td>\n",
       "      <td>-1.070870</td>\n",
       "      <td>-0.485305</td>\n",
       "      <td>-1.180274</td>\n",
       "      <td>-1.174198</td>\n",
       "      <td>-1.147613</td>\n",
       "      <td>-0.970655</td>\n",
       "      <td>-0.523886</td>\n",
       "      <td>...</td>\n",
       "      <td>0</td>\n",
       "      <td>0</td>\n",
       "      <td>0</td>\n",
       "      <td>0</td>\n",
       "      <td>0</td>\n",
       "      <td>1</td>\n",
       "      <td>1</td>\n",
       "      <td>0</td>\n",
       "      <td>0</td>\n",
       "      <td>1</td>\n",
       "    </tr>\n",
       "    <tr>\n",
       "      <th>3</th>\n",
       "      <td>1.052698</td>\n",
       "      <td>-1.181446</td>\n",
       "      <td>-1.136850</td>\n",
       "      <td>-1.070870</td>\n",
       "      <td>-0.347684</td>\n",
       "      <td>-1.013148</td>\n",
       "      <td>-1.009834</td>\n",
       "      <td>-1.129939</td>\n",
       "      <td>-0.970655</td>\n",
       "      <td>-0.523886</td>\n",
       "      <td>...</td>\n",
       "      <td>0</td>\n",
       "      <td>0</td>\n",
       "      <td>0</td>\n",
       "      <td>0</td>\n",
       "      <td>0</td>\n",
       "      <td>1</td>\n",
       "      <td>1</td>\n",
       "      <td>0</td>\n",
       "      <td>0</td>\n",
       "      <td>1</td>\n",
       "    </tr>\n",
       "    <tr>\n",
       "      <th>4</th>\n",
       "      <td>0.031592</td>\n",
       "      <td>-1.134550</td>\n",
       "      <td>-1.120037</td>\n",
       "      <td>-1.070870</td>\n",
       "      <td>0.183139</td>\n",
       "      <td>-1.146849</td>\n",
       "      <td>-1.174198</td>\n",
       "      <td>-1.107846</td>\n",
       "      <td>-0.970655</td>\n",
       "      <td>-0.523886</td>\n",
       "      <td>...</td>\n",
       "      <td>0</td>\n",
       "      <td>0</td>\n",
       "      <td>0</td>\n",
       "      <td>0</td>\n",
       "      <td>0</td>\n",
       "      <td>1</td>\n",
       "      <td>1</td>\n",
       "      <td>0</td>\n",
       "      <td>0</td>\n",
       "      <td>1</td>\n",
       "    </tr>\n",
       "  </tbody>\n",
       "</table>\n",
       "<p>5 rows × 132 columns</p>\n",
       "</div>"
      ],
      "text/plain": [
       "      ap30s  workers_active_count  food_used  food_made  minerals_current  \\\n",
       "0 -3.003363             -1.415927  -1.237729  -1.174913         -0.514795   \n",
       "1 -0.620782             -1.369031  -1.204103  -1.174913         -0.514795   \n",
       "2  0.995970             -1.275239  -1.170476  -1.070870         -0.485305   \n",
       "3  1.052698             -1.181446  -1.136850  -1.070870         -0.347684   \n",
       "4  0.031592             -1.134550  -1.120037  -1.070870          0.183139   \n",
       "\n",
       "   minerals_collection_rate  minerals_used_in_progress  minerals_used_current  \\\n",
       "0                 -2.048131                  -1.612501              -1.191799   \n",
       "1                 -1.180274                  -1.283774              -1.182962   \n",
       "2                 -1.180274                  -1.174198              -1.147613   \n",
       "3                 -1.013148                  -1.009834              -1.129939   \n",
       "4                 -1.146849                  -1.174198              -1.107846   \n",
       "\n",
       "   minerals_used_active_forces  minerals_lost  ...  Map_트라이튼 - 래더  \\\n",
       "0                    -0.970655      -0.523886  ...              0   \n",
       "1                    -0.970655      -0.523886  ...              0   \n",
       "2                    -0.970655      -0.523886  ...              0   \n",
       "3                    -0.970655      -0.523886  ...              0   \n",
       "4                    -0.970655      -0.523886  ...              0   \n",
       "\n",
       "   Map_필러스 오브 골드 - 래더  Region_cn  Region_eu  Region_kr  Region_us  Enemy_P  \\\n",
       "0                   0          0          0          0          1        1   \n",
       "1                   0          0          0          0          1        1   \n",
       "2                   0          0          0          0          1        1   \n",
       "3                   0          0          0          0          1        1   \n",
       "4                   0          0          0          0          1        1   \n",
       "\n",
       "   Enemy_T  Enemy_Z  win  \n",
       "0        0        0    1  \n",
       "1        0        0    1  \n",
       "2        0        0    1  \n",
       "3        0        0    1  \n",
       "4        0        0    1  \n",
       "\n",
       "[5 rows x 132 columns]"
      ]
     },
     "metadata": {},
     "output_type": "display_data"
    },
    {
     "data": {
      "text/html": [
       "<div>\n",
       "<style scoped>\n",
       "    .dataframe tbody tr th:only-of-type {\n",
       "        vertical-align: middle;\n",
       "    }\n",
       "\n",
       "    .dataframe tbody tr th {\n",
       "        vertical-align: top;\n",
       "    }\n",
       "\n",
       "    .dataframe thead th {\n",
       "        text-align: right;\n",
       "    }\n",
       "</style>\n",
       "<table border=\"1\" class=\"dataframe\">\n",
       "  <thead>\n",
       "    <tr style=\"text-align: right;\">\n",
       "      <th></th>\n",
       "      <th>ap30s</th>\n",
       "      <th>workers_active_count</th>\n",
       "      <th>food_used</th>\n",
       "      <th>food_made</th>\n",
       "      <th>minerals_current</th>\n",
       "      <th>minerals_collection_rate</th>\n",
       "      <th>minerals_used_in_progress</th>\n",
       "      <th>minerals_used_current</th>\n",
       "      <th>minerals_used_active_forces</th>\n",
       "      <th>minerals_lost</th>\n",
       "      <th>...</th>\n",
       "      <th>Map_트라이튼 - 래더</th>\n",
       "      <th>Map_필러스 오브 골드 - 래더</th>\n",
       "      <th>Region_cn</th>\n",
       "      <th>Region_eu</th>\n",
       "      <th>Region_kr</th>\n",
       "      <th>Region_us</th>\n",
       "      <th>Enemy_P</th>\n",
       "      <th>Enemy_T</th>\n",
       "      <th>Enemy_Z</th>\n",
       "      <th>win</th>\n",
       "    </tr>\n",
       "  </thead>\n",
       "  <tbody>\n",
       "    <tr>\n",
       "      <th>69856</th>\n",
       "      <td>0.230140</td>\n",
       "      <td>0.928880</td>\n",
       "      <td>1.368305</td>\n",
       "      <td>1.66025</td>\n",
       "      <td>0.261779</td>\n",
       "      <td>-0.277797</td>\n",
       "      <td>1.346044</td>\n",
       "      <td>1.675877</td>\n",
       "      <td>1.136455</td>\n",
       "      <td>5.354281</td>\n",
       "      <td>...</td>\n",
       "      <td>0</td>\n",
       "      <td>0</td>\n",
       "      <td>0</td>\n",
       "      <td>1</td>\n",
       "      <td>0</td>\n",
       "      <td>0</td>\n",
       "      <td>0</td>\n",
       "      <td>0</td>\n",
       "      <td>1</td>\n",
       "      <td>0</td>\n",
       "    </tr>\n",
       "    <tr>\n",
       "      <th>69857</th>\n",
       "      <td>1.648343</td>\n",
       "      <td>0.131646</td>\n",
       "      <td>1.048856</td>\n",
       "      <td>1.66025</td>\n",
       "      <td>-0.475475</td>\n",
       "      <td>-1.213699</td>\n",
       "      <td>-0.188016</td>\n",
       "      <td>1.605180</td>\n",
       "      <td>1.454510</td>\n",
       "      <td>5.658517</td>\n",
       "      <td>...</td>\n",
       "      <td>0</td>\n",
       "      <td>0</td>\n",
       "      <td>0</td>\n",
       "      <td>1</td>\n",
       "      <td>0</td>\n",
       "      <td>0</td>\n",
       "      <td>0</td>\n",
       "      <td>0</td>\n",
       "      <td>1</td>\n",
       "      <td>0</td>\n",
       "    </tr>\n",
       "    <tr>\n",
       "      <th>69858</th>\n",
       "      <td>0.428689</td>\n",
       "      <td>-0.055939</td>\n",
       "      <td>0.880724</td>\n",
       "      <td>1.66025</td>\n",
       "      <td>-0.278874</td>\n",
       "      <td>-0.745748</td>\n",
       "      <td>-0.955046</td>\n",
       "      <td>1.565412</td>\n",
       "      <td>1.441257</td>\n",
       "      <td>5.802412</td>\n",
       "      <td>...</td>\n",
       "      <td>0</td>\n",
       "      <td>0</td>\n",
       "      <td>0</td>\n",
       "      <td>1</td>\n",
       "      <td>0</td>\n",
       "      <td>0</td>\n",
       "      <td>0</td>\n",
       "      <td>0</td>\n",
       "      <td>1</td>\n",
       "      <td>0</td>\n",
       "    </tr>\n",
       "    <tr>\n",
       "      <th>69859</th>\n",
       "      <td>0.230140</td>\n",
       "      <td>-0.243524</td>\n",
       "      <td>0.460396</td>\n",
       "      <td>1.46517</td>\n",
       "      <td>0.576341</td>\n",
       "      <td>-0.077247</td>\n",
       "      <td>-0.900258</td>\n",
       "      <td>1.194249</td>\n",
       "      <td>0.778644</td>\n",
       "      <td>6.202194</td>\n",
       "      <td>...</td>\n",
       "      <td>0</td>\n",
       "      <td>0</td>\n",
       "      <td>0</td>\n",
       "      <td>1</td>\n",
       "      <td>0</td>\n",
       "      <td>0</td>\n",
       "      <td>0</td>\n",
       "      <td>0</td>\n",
       "      <td>1</td>\n",
       "      <td>0</td>\n",
       "    </tr>\n",
       "    <tr>\n",
       "      <th>69860</th>\n",
       "      <td>-3.003363</td>\n",
       "      <td>-0.243524</td>\n",
       "      <td>0.796659</td>\n",
       "      <td>1.46517</td>\n",
       "      <td>-0.528557</td>\n",
       "      <td>-0.277797</td>\n",
       "      <td>0.798165</td>\n",
       "      <td>1.234017</td>\n",
       "      <td>0.897914</td>\n",
       "      <td>6.202194</td>\n",
       "      <td>...</td>\n",
       "      <td>0</td>\n",
       "      <td>0</td>\n",
       "      <td>0</td>\n",
       "      <td>1</td>\n",
       "      <td>0</td>\n",
       "      <td>0</td>\n",
       "      <td>0</td>\n",
       "      <td>0</td>\n",
       "      <td>1</td>\n",
       "      <td>0</td>\n",
       "    </tr>\n",
       "  </tbody>\n",
       "</table>\n",
       "<p>5 rows × 132 columns</p>\n",
       "</div>"
      ],
      "text/plain": [
       "          ap30s  workers_active_count  food_used  food_made  minerals_current  \\\n",
       "69856  0.230140              0.928880   1.368305    1.66025          0.261779   \n",
       "69857  1.648343              0.131646   1.048856    1.66025         -0.475475   \n",
       "69858  0.428689             -0.055939   0.880724    1.66025         -0.278874   \n",
       "69859  0.230140             -0.243524   0.460396    1.46517          0.576341   \n",
       "69860 -3.003363             -0.243524   0.796659    1.46517         -0.528557   \n",
       "\n",
       "       minerals_collection_rate  minerals_used_in_progress  \\\n",
       "69856                 -0.277797                   1.346044   \n",
       "69857                 -1.213699                  -0.188016   \n",
       "69858                 -0.745748                  -0.955046   \n",
       "69859                 -0.077247                  -0.900258   \n",
       "69860                 -0.277797                   0.798165   \n",
       "\n",
       "       minerals_used_current  minerals_used_active_forces  minerals_lost  ...  \\\n",
       "69856               1.675877                     1.136455       5.354281  ...   \n",
       "69857               1.605180                     1.454510       5.658517  ...   \n",
       "69858               1.565412                     1.441257       5.802412  ...   \n",
       "69859               1.194249                     0.778644       6.202194  ...   \n",
       "69860               1.234017                     0.897914       6.202194  ...   \n",
       "\n",
       "       Map_트라이튼 - 래더  Map_필러스 오브 골드 - 래더  Region_cn  Region_eu  Region_kr  \\\n",
       "69856              0                   0          0          1          0   \n",
       "69857              0                   0          0          1          0   \n",
       "69858              0                   0          0          1          0   \n",
       "69859              0                   0          0          1          0   \n",
       "69860              0                   0          0          1          0   \n",
       "\n",
       "       Region_us  Enemy_P  Enemy_T  Enemy_Z  win  \n",
       "69856          0        0        0        1    0  \n",
       "69857          0        0        0        1    0  \n",
       "69858          0        0        0        1    0  \n",
       "69859          0        0        0        1    0  \n",
       "69860          0        0        0        1    0  \n",
       "\n",
       "[5 rows x 132 columns]"
      ]
     },
     "metadata": {},
     "output_type": "display_data"
    }
   ],
   "source": [
    "#Standardization\n",
    "\n",
    "from sklearn.preprocessing import StandardScaler\n",
    "\n",
    "no_standardize = ['match_id','map_name','region','race','enemy_race','frame','second','player','game_length','win']\n",
    "\n",
    "#Names of Columns that we do want to Standardize\n",
    "standardize_columns = [x for x in list(terran_data) if x not in no_standardize]\n",
    "\n",
    "#Standardizing these columns\n",
    "stand = terran_data[standardize_columns].values\n",
    "stand_scaled = StandardScaler().fit_transform(stand)\n",
    "terran_data_standardized = pd.DataFrame(stand_scaled, columns=standardize_columns, index=terran_data.index)\n",
    "\n",
    "#One-hot Encoding the categorical variables\n",
    "terran_data_standardized = terran_data_standardized.join(pd.get_dummies(terran_data['map_name'], prefix='Map'))\n",
    "terran_data_standardized = terran_data_standardized.join(pd.get_dummies(terran_data['region'], prefix='Region'))\n",
    "terran_data_standardized = terran_data_standardized.join(pd.get_dummies(terran_data['enemy_race'], prefix='Enemy'))\n",
    "terran_data_standardized = terran_data_standardized.join(terran_data['win'])\n",
    "\n",
    "#Displaying first and last 5 rows\n",
    "display(terran_data_standardized.head(5), terran_data_standardized.tail(5))"
   ]
  },
  {
   "cell_type": "code",
   "execution_count": 3,
   "id": "similar-cherry",
   "metadata": {},
   "outputs": [],
   "source": [
    "#Split data into dependent and independent variables\n",
    "no_X = ['win']\n",
    "yes_X = [x for x in list(terran_data_standardized) if x not in no_X]\n",
    "\n",
    "Y = terran_data_standardized['win']\n",
    "X_standardized = terran_data_standardized[yes_X]"
   ]
  },
  {
   "cell_type": "code",
   "execution_count": 4,
   "id": "expected-wrapping",
   "metadata": {},
   "outputs": [],
   "source": [
    "#Split data into training, validation and testing set\n",
    "train_split = 0.8\n",
    "val_split = 0.2\n",
    "\n",
    "num_data = len(terran_data_standardized)\n",
    "num_val = int(train_split * val_split * num_data)\n",
    "num_train = int(train_split * num_data) - num_val\n",
    "num_test = num_data - int(train_split * num_data)\n",
    "\n",
    "\n",
    "Y_train = Y[0:num_train]\n",
    "Y_val = Y[num_train:(num_train + num_val)]\n",
    "Y_test = Y[(num_val + num_train):]\n",
    "\n",
    "\n",
    "X_standardized_train = X_standardized[0:num_train]\n",
    "X_standardized_val = X_standardized[num_train:(num_train + num_val)]\n",
    "X_standardized_test = X_standardized[(num_val + num_train):]"
   ]
  },
  {
   "cell_type": "code",
   "execution_count": 5,
   "id": "floppy-medline",
   "metadata": {},
   "outputs": [],
   "source": [
    "X_train = terran_data_standardized[0:num_train]\n",
    "X_val = terran_data_standardized[num_train:(num_train + num_val)]\n",
    "X_test = terran_data_standardized[(num_val + num_train):]"
   ]
  },
  {
   "cell_type": "code",
   "execution_count": 6,
   "id": "affiliated-prairie",
   "metadata": {},
   "outputs": [
    {
     "data": {
      "text/plain": [
       "(44711,)"
      ]
     },
     "execution_count": 6,
     "metadata": {},
     "output_type": "execute_result"
    }
   ],
   "source": [
    "Y_train.shape"
   ]
  },
  {
   "cell_type": "code",
   "execution_count": 7,
   "id": "right-hopkins",
   "metadata": {},
   "outputs": [
    {
     "data": {
      "text/plain": [
       "(44711, 132)"
      ]
     },
     "execution_count": 7,
     "metadata": {},
     "output_type": "execute_result"
    }
   ],
   "source": [
    "X_train.shape"
   ]
  },
  {
   "cell_type": "code",
   "execution_count": 8,
   "id": "generous-burner",
   "metadata": {},
   "outputs": [],
   "source": [
    "import numpy as np\n",
    "\n",
    "class WindowGenerator():\n",
    "  def __init__(self, input_width, label_width, shift,\n",
    "               train_df=X_train, val_df=X_val, test_df=X_test,\n",
    "               label_columns=None):\n",
    "    # Store the raw data.\n",
    "    self.train_df = train_df\n",
    "    self.val_df = val_df\n",
    "    self.test_df = test_df\n",
    "\n",
    "    # Work out the label column indices.\n",
    "    self.label_columns = label_columns\n",
    "    if label_columns is not None:\n",
    "      self.label_columns_indices = {name: i for i, name in\n",
    "                                    enumerate(label_columns)}\n",
    "    self.column_indices = {name: i for i, name in\n",
    "                           enumerate(train_df.columns)}\n",
    "\n",
    "    # Work out the window parameters.\n",
    "    self.input_width = input_width\n",
    "    self.label_width = label_width\n",
    "    self.shift = shift\n",
    "\n",
    "    self.total_window_size = input_width + shift\n",
    "\n",
    "    self.input_slice = slice(0, input_width)\n",
    "    self.input_indices = np.arange(self.total_window_size)[self.input_slice]\n",
    "\n",
    "    self.label_start = self.total_window_size - self.label_width\n",
    "    self.labels_slice = slice(self.label_start, None)\n",
    "    self.label_indices = np.arange(self.total_window_size)[self.labels_slice]\n",
    "\n",
    "  def __repr__(self):\n",
    "    return '\\n'.join([\n",
    "        f'Total window size: {self.total_window_size}',\n",
    "        f'Input indices: {self.input_indices}',\n",
    "        f'Label indices: {self.label_indices}',\n",
    "        f'Label column name(s): {self.label_columns}'])"
   ]
  },
  {
   "cell_type": "code",
   "execution_count": 9,
   "id": "ready-berkeley",
   "metadata": {},
   "outputs": [
    {
     "data": {
      "text/plain": [
       "Total window size: 16\n",
       "Input indices: [ 0  1  2  3  4  5  6  7  8  9 10 11 12 13 14]\n",
       "Label indices: [ 1  2  3  4  5  6  7  8  9 10 11 12 13 14 15]\n",
       "Label column name(s): ['win']"
      ]
     },
     "execution_count": 9,
     "metadata": {},
     "output_type": "execute_result"
    }
   ],
   "source": [
    "w1 = WindowGenerator(input_width=15, label_width=15, shift=1,\n",
    "                     label_columns=['win'])\n",
    "w1"
   ]
  },
  {
   "cell_type": "code",
   "execution_count": 10,
   "id": "resistant-swing",
   "metadata": {},
   "outputs": [],
   "source": [
    "def split_window(self, features):\n",
    "  inputs = features[:, self.input_slice, :]\n",
    "  labels = features[:, self.labels_slice, :]\n",
    "  if self.label_columns is not None:\n",
    "    labels = tf.stack(\n",
    "        [labels[:, :, self.column_indices[name]] for name in self.label_columns],\n",
    "        axis=-1)\n",
    "\n",
    "  # Slicing doesn't preserve static shape information, so set the shapes\n",
    "  # manually. This way the `tf.data.Datasets` are easier to inspect.\n",
    "  inputs.set_shape([None, self.input_width, None])\n",
    "  labels.set_shape([None, self.label_width, None])\n",
    "\n",
    "  return inputs, labels\n",
    "\n",
    "WindowGenerator.split_window = split_window"
   ]
  },
  {
   "cell_type": "code",
   "execution_count": 11,
   "id": "better-relaxation",
   "metadata": {},
   "outputs": [
    {
     "name": "stdout",
     "output_type": "stream",
     "text": [
      "All shapes are: (batch, time, features)\n",
      "Window shape: (1, 16, 132)\n",
      "Inputs shape: (1, 15, 132)\n",
      "labels shape: (1, 15, 1)\n"
     ]
    }
   ],
   "source": [
    "import tensorflow as tf\n",
    "tf.random.set_seed(1111)\n",
    "\n",
    "# Stack three slices, the length of the total window:\n",
    "example_window = tf.stack([np.array(terran_data_standardized[:w1.total_window_size])])\n",
    "\n",
    "\n",
    "\n",
    "example_inputs, example_labels = w1.split_window(example_window)\n",
    "\n",
    "print('All shapes are: (batch, time, features)')\n",
    "print(f'Window shape: {example_window.shape}')\n",
    "print(f'Inputs shape: {example_inputs.shape}')\n",
    "print(f'labels shape: {example_labels.shape}')"
   ]
  },
  {
   "cell_type": "code",
   "execution_count": 12,
   "id": "twelve-restaurant",
   "metadata": {},
   "outputs": [],
   "source": [
    "import matplotlib.pyplot as plt\n",
    "\n",
    "def plot(self, model=None, plot_col='win', max_subplots=1):\n",
    "  inputs, labels = self.example\n",
    "  plt.figure(figsize=(20,15))\n",
    "  plot_col_index = self.column_indices[plot_col]\n",
    "  max_n = min(max_subplots, len(inputs))\n",
    "  for n in range(max_n):\n",
    "    plt.subplot(3, 1, n+1)\n",
    "    plt.ylabel(f'{plot_col} [standardized]')\n",
    "    plt.plot(self.input_indices, inputs[n, :, plot_col_index],\n",
    "             label='Inputs', marker='.', zorder=-10)\n",
    "\n",
    "    if self.label_columns:\n",
    "      label_col_index = self.label_columns_indices.get(plot_col, None)\n",
    "    else:\n",
    "      label_col_index = plot_col_index\n",
    "\n",
    "    if label_col_index is None:\n",
    "      continue\n",
    "\n",
    "    plt.scatter(self.label_indices, labels[n, :, label_col_index],\n",
    "                edgecolors='k', label='Labels', c='#2ca02c', s=64)\n",
    "    if model is not None:\n",
    "      predictions = model(inputs)\n",
    "      plt.scatter(self.label_indices, predictions[n, :, label_col_index],\n",
    "                  marker='X', edgecolors='k', label='Predictions',\n",
    "                  c='#ff7f0e', s=64)\n",
    "\n",
    "    if n == 0:\n",
    "      plt.legend()\n",
    "\n",
    "  plt.xlabel('Time Step')\n",
    "\n",
    "WindowGenerator.plot = plot"
   ]
  },
  {
   "cell_type": "code",
   "execution_count": 13,
   "id": "cordless-gossip",
   "metadata": {},
   "outputs": [
    {
     "data": {
      "image/png": "[encoded data removed]",
      "text/plain": [
       "<Figure size 1440x1080 with 1 Axes>"
      ]
     },
     "metadata": {
      "needs_background": "light"
     },
     "output_type": "display_data"
    }
   ],
   "source": [
    "w1.example = example_inputs, example_labels\n",
    "w1.plot()"
   ]
  },
  {
   "cell_type": "code",
   "execution_count": 14,
   "id": "substantial-snapshot",
   "metadata": {},
   "outputs": [],
   "source": [
    "def make_dataset(self, data):\n",
    "  data = np.array(data, dtype=np.float32)\n",
    "  ds = tf.keras.preprocessing.timeseries_dataset_from_array(\n",
    "      data=data,\n",
    "      targets=None,\n",
    "      sequence_length=self.total_window_size,\n",
    "      sequence_stride=1,\n",
    "      shuffle=True,\n",
    "      batch_size=32,)\n",
    "\n",
    "  ds = ds.map(self.split_window)\n",
    "\n",
    "  return ds\n",
    "\n",
    "WindowGenerator.make_dataset = make_dataset"
   ]
  },
  {
   "cell_type": "code",
   "execution_count": 15,
   "id": "qualified-communications",
   "metadata": {},
   "outputs": [],
   "source": [
    "@property\n",
    "def train(self):\n",
    "  return self.make_dataset(self.train_df)\n",
    "\n",
    "@property\n",
    "def val(self):\n",
    "  return self.make_dataset(self.val_df)\n",
    "\n",
    "@property\n",
    "def test(self):\n",
    "  return self.make_dataset(self.test_df)\n",
    "\n",
    "@property\n",
    "def example(self):\n",
    "  \"\"\"Get and cache an example batch of `inputs, labels` for plotting.\"\"\"\n",
    "  result = getattr(self, '_example', None)\n",
    "  if result is None:\n",
    "    # No example batch was found, so get one from the `.train` dataset\n",
    "    result = next(iter(self.train))\n",
    "    # And cache it for next time\n",
    "    self._example = result\n",
    "  return result\n",
    "\n",
    "WindowGenerator.train = train\n",
    "WindowGenerator.val = val\n",
    "WindowGenerator.test = test\n",
    "WindowGenerator.example = example"
   ]
  },
  {
   "cell_type": "code",
   "execution_count": 16,
   "id": "powerful-district",
   "metadata": {},
   "outputs": [
    {
     "data": {
      "text/plain": [
       "Total window size: 2\n",
       "Input indices: [0]\n",
       "Label indices: [1]\n",
       "Label column name(s): ['win']"
      ]
     },
     "execution_count": 16,
     "metadata": {},
     "output_type": "execute_result"
    }
   ],
   "source": [
    "single_step_window = WindowGenerator(\n",
    "    input_width=1, label_width=1, shift=1,\n",
    "    label_columns=['win'])\n",
    "single_step_window"
   ]
  },
  {
   "cell_type": "code",
   "execution_count": 17,
   "id": "shared-andorra",
   "metadata": {},
   "outputs": [
    {
     "data": {
      "text/plain": [
       "Total window size: 16\n",
       "Input indices: [ 0  1  2  3  4  5  6  7  8  9 10 11 12 13 14]\n",
       "Label indices: [ 1  2  3  4  5  6  7  8  9 10 11 12 13 14 15]\n",
       "Label column name(s): ['win']"
      ]
     },
     "execution_count": 17,
     "metadata": {},
     "output_type": "execute_result"
    }
   ],
   "source": [
    "wide_window = WindowGenerator(\n",
    "    input_width=15, label_width=15, shift=1,\n",
    "    label_columns=['win'])\n",
    "\n",
    "wide_window"
   ]
  },
  {
   "cell_type": "code",
   "execution_count": 18,
   "id": "sexual-flush",
   "metadata": {},
   "outputs": [],
   "source": [
    "MAX_EPOCHS = 100\n",
    "\n",
    "def compile_and_fit(model, window, patience=3):\n",
    "    early_stopping = tf.keras.callbacks.EarlyStopping(monitor='val_loss',\n",
    "                                                    patience=patience,\n",
    "                                                    mode='min')\n",
    "    model.compile(loss=tf.keras.losses.BinaryCrossentropy(),\n",
    "                optimizer=tf.optimizers.Adam(),\n",
    "                metrics=[tf.keras.metrics.BinaryAccuracy(),tf.keras.metrics.Precision(),\n",
    "                        tf.keras.metrics.Recall(), tf.keras.metrics.AUC()])\n",
    "\n",
    "    history = model.fit(window.train, epochs=MAX_EPOCHS,\n",
    "                      validation_data=window.val,\n",
    "                     callbacks=[early_stopping])\n",
    "    return history"
   ]
  },
  {
   "cell_type": "code",
   "execution_count": 19,
   "id": "guilty-decimal",
   "metadata": {},
   "outputs": [],
   "source": [
    "linear = tf.keras.Sequential([\n",
    "    tf.keras.layers.Dense(units=1, activation='sigmoid')\n",
    "])"
   ]
  },
  {
   "cell_type": "code",
   "execution_count": 20,
   "id": "excited-cruise",
   "metadata": {},
   "outputs": [
    {
     "name": "stdout",
     "output_type": "stream",
     "text": [
      "WARNING:tensorflow:AutoGraph could not transform <bound method split_window of Total window size: 16\n",
      "Input indices: [ 0  1  2  3  4  5  6  7  8  9 10 11 12 13 14]\n",
      "Label indices: [ 1  2  3  4  5  6  7  8  9 10 11 12 13 14 15]\n",
      "Label column name(s): ['win']> and will run it as-is.\n",
      "Please report this to the TensorFlow team. When filing the bug, set the verbosity to 10 (on Linux, `export AUTOGRAPH_VERBOSITY=10`) and attach the full output.\n",
      "Cause: module 'gast' has no attribute 'Index'\n",
      "To silence this warning, decorate the function with @tf.autograph.experimental.do_not_convert\n",
      "WARNING: AutoGraph could not transform <bound method split_window of Total window size: 16\n",
      "Input indices: [ 0  1  2  3  4  5  6  7  8  9 10 11 12 13 14]\n",
      "Label indices: [ 1  2  3  4  5  6  7  8  9 10 11 12 13 14 15]\n",
      "Label column name(s): ['win']> and will run it as-is.\n",
      "Please report this to the TensorFlow team. When filing the bug, set the verbosity to 10 (on Linux, `export AUTOGRAPH_VERBOSITY=10`) and attach the full output.\n",
      "Cause: module 'gast' has no attribute 'Index'\n",
      "To silence this warning, decorate the function with @tf.autograph.experimental.do_not_convert\n",
      "Epoch 1/100\n",
      "1397/1397 [==============================] - 3s 2ms/step - loss: 0.5533 - binary_accuracy: 0.8276 - precision: 0.8160 - recall: 0.8354 - auc: 0.8908 - val_loss: 0.4369 - val_binary_accuracy: 0.9548 - val_precision: 0.9504 - val_recall: 0.9668 - val_auc: 0.9791\n",
      "Epoch 2/100\n",
      "1397/1397 [==============================] - 2s 2ms/step - loss: 0.3461 - binary_accuracy: 0.9783 - precision: 0.9758 - recall: 0.9798 - auc: 0.9841 - val_loss: 0.2872 - val_binary_accuracy: 0.9846 - val_precision: 0.9843 - val_recall: 0.9872 - val_auc: 0.9868\n",
      "Epoch 3/100\n",
      "1397/1397 [==============================] - 2s 2ms/step - loss: 0.2323 - binary_accuracy: 0.9848 - precision: 0.9841 - recall: 0.9848 - auc: 0.9852 - val_loss: 0.1978 - val_binary_accuracy: 0.9863 - val_precision: 0.9874 - val_recall: 0.9872 - val_auc: 0.9871\n",
      "Epoch 4/100\n",
      "1397/1397 [==============================] - 2s 2ms/step - loss: 0.1646 - binary_accuracy: 0.9854 - precision: 0.9850 - recall: 0.9851 - auc: 0.9860 - val_loss: 0.1433 - val_binary_accuracy: 0.9863 - val_precision: 0.9874 - val_recall: 0.9872 - val_auc: 0.9878\n",
      "Epoch 5/100\n",
      "1397/1397 [==============================] - 2s 2ms/step - loss: 0.1239 - binary_accuracy: 0.9854 - precision: 0.9850 - recall: 0.9851 - auc: 0.9870 - val_loss: 0.1105 - val_binary_accuracy: 0.9863 - val_precision: 0.9874 - val_recall: 0.9872 - val_auc: 0.9883\n",
      "Epoch 6/100\n",
      "1397/1397 [==============================] - 2s 2ms/step - loss: 0.0998 - binary_accuracy: 0.9854 - precision: 0.9850 - recall: 0.9851 - auc: 0.9882 - val_loss: 0.0909 - val_binary_accuracy: 0.9863 - val_precision: 0.9874 - val_recall: 0.9872 - val_auc: 0.9895\n",
      "Epoch 7/100\n",
      "1397/1397 [==============================] - 2s 2ms/step - loss: 0.0858 - binary_accuracy: 0.9854 - precision: 0.9850 - recall: 0.9851 - auc: 0.9893 - val_loss: 0.0796 - val_binary_accuracy: 0.9863 - val_precision: 0.9874 - val_recall: 0.9872 - val_auc: 0.9906\n",
      "Epoch 8/100\n",
      "1397/1397 [==============================] - 2s 2ms/step - loss: 0.0781 - binary_accuracy: 0.9854 - precision: 0.9850 - recall: 0.9851 - auc: 0.9901 - val_loss: 0.0736 - val_binary_accuracy: 0.9863 - val_precision: 0.9874 - val_recall: 0.9872 - val_auc: 0.9910\n",
      "Epoch 9/100\n",
      "1397/1397 [==============================] - 2s 2ms/step - loss: 0.0742 - binary_accuracy: 0.9854 - precision: 0.9850 - recall: 0.9851 - auc: 0.9906 - val_loss: 0.0706 - val_binary_accuracy: 0.9863 - val_precision: 0.9874 - val_recall: 0.9872 - val_auc: 0.9915\n",
      "Epoch 10/100\n",
      "1397/1397 [==============================] - 2s 2ms/step - loss: 0.0724 - binary_accuracy: 0.9854 - precision: 0.9850 - recall: 0.9851 - auc: 0.9909 - val_loss: 0.0694 - val_binary_accuracy: 0.9863 - val_precision: 0.9874 - val_recall: 0.9872 - val_auc: 0.9911\n",
      "Epoch 11/100\n",
      "1397/1397 [==============================] - 2s 2ms/step - loss: 0.0716 - binary_accuracy: 0.9854 - precision: 0.9850 - recall: 0.9850 - auc: 0.9911 - val_loss: 0.0689 - val_binary_accuracy: 0.9863 - val_precision: 0.9874 - val_recall: 0.9872 - val_auc: 0.9912\n",
      "Epoch 12/100\n",
      "1397/1397 [==============================] - 2s 2ms/step - loss: 0.0713 - binary_accuracy: 0.9854 - precision: 0.9850 - recall: 0.9850 - auc: 0.9911 - val_loss: 0.0689 - val_binary_accuracy: 0.9863 - val_precision: 0.9874 - val_recall: 0.9872 - val_auc: 0.9911\n",
      "Epoch 13/100\n",
      "1397/1397 [==============================] - 2s 2ms/step - loss: 0.0712 - binary_accuracy: 0.9854 - precision: 0.9850 - recall: 0.9850 - auc: 0.9911 - val_loss: 0.0688 - val_binary_accuracy: 0.9863 - val_precision: 0.9874 - val_recall: 0.9872 - val_auc: 0.9913\n",
      "Epoch 14/100\n",
      "1397/1397 [==============================] - 2s 2ms/step - loss: 0.0711 - binary_accuracy: 0.9853 - precision: 0.9850 - recall: 0.9850 - auc: 0.9912 - val_loss: 0.0687 - val_binary_accuracy: 0.9863 - val_precision: 0.9874 - val_recall: 0.9872 - val_auc: 0.9913\n",
      "Epoch 15/100\n",
      "1397/1397 [==============================] - 2s 2ms/step - loss: 0.0711 - binary_accuracy: 0.9853 - precision: 0.9849 - recall: 0.9850 - auc: 0.9913 - val_loss: 0.0687 - val_binary_accuracy: 0.9863 - val_precision: 0.9874 - val_recall: 0.9872 - val_auc: 0.9912\n",
      "Epoch 16/100\n",
      "1397/1397 [==============================] - 2s 2ms/step - loss: 0.0710 - binary_accuracy: 0.9853 - precision: 0.9849 - recall: 0.9850 - auc: 0.9913 - val_loss: 0.0686 - val_binary_accuracy: 0.9863 - val_precision: 0.9874 - val_recall: 0.9872 - val_auc: 0.9913\n",
      "Epoch 17/100\n",
      "1397/1397 [==============================] - 2s 2ms/step - loss: 0.0710 - binary_accuracy: 0.9853 - precision: 0.9849 - recall: 0.9850 - auc: 0.9913 - val_loss: 0.0687 - val_binary_accuracy: 0.9863 - val_precision: 0.9874 - val_recall: 0.9872 - val_auc: 0.9913\n",
      "Epoch 18/100\n",
      "1397/1397 [==============================] - 2s 2ms/step - loss: 0.0710 - binary_accuracy: 0.9853 - precision: 0.9849 - recall: 0.9850 - auc: 0.9914 - val_loss: 0.0686 - val_binary_accuracy: 0.9863 - val_precision: 0.9874 - val_recall: 0.9872 - val_auc: 0.9913\n",
      "Epoch 19/100\n",
      "1397/1397 [==============================] - 2s 2ms/step - loss: 0.0709 - binary_accuracy: 0.9853 - precision: 0.9849 - recall: 0.9850 - auc: 0.9914 - val_loss: 0.0685 - val_binary_accuracy: 0.9863 - val_precision: 0.9874 - val_recall: 0.9872 - val_auc: 0.9914\n",
      "Epoch 20/100\n",
      "1397/1397 [==============================] - 2s 2ms/step - loss: 0.0709 - binary_accuracy: 0.9853 - precision: 0.9849 - recall: 0.9850 - auc: 0.9914 - val_loss: 0.0685 - val_binary_accuracy: 0.9863 - val_precision: 0.9874 - val_recall: 0.9872 - val_auc: 0.9914\n",
      "Epoch 21/100\n",
      "1397/1397 [==============================] - 2s 2ms/step - loss: 0.0709 - binary_accuracy: 0.9853 - precision: 0.9849 - recall: 0.9850 - auc: 0.9914 - val_loss: 0.0685 - val_binary_accuracy: 0.9863 - val_precision: 0.9874 - val_recall: 0.9872 - val_auc: 0.9914\n",
      "Epoch 22/100\n",
      "1397/1397 [==============================] - 2s 2ms/step - loss: 0.0709 - binary_accuracy: 0.9853 - precision: 0.9849 - recall: 0.9850 - auc: 0.9914 - val_loss: 0.0685 - val_binary_accuracy: 0.9863 - val_precision: 0.9874 - val_recall: 0.9872 - val_auc: 0.9914\n",
      "Epoch 23/100\n",
      "1397/1397 [==============================] - 2s 2ms/step - loss: 0.0709 - binary_accuracy: 0.9853 - precision: 0.9849 - recall: 0.9850 - auc: 0.9914 - val_loss: 0.0685 - val_binary_accuracy: 0.9863 - val_precision: 0.9874 - val_recall: 0.9872 - val_auc: 0.9914\n",
      "Epoch 24/100\n",
      "1397/1397 [==============================] - 2s 2ms/step - loss: 0.0709 - binary_accuracy: 0.9853 - precision: 0.9849 - recall: 0.9850 - auc: 0.9914 - val_loss: 0.0684 - val_binary_accuracy: 0.9863 - val_precision: 0.9874 - val_recall: 0.9872 - val_auc: 0.9915\n",
      "Epoch 25/100\n",
      "1397/1397 [==============================] - 2s 2ms/step - loss: 0.0709 - binary_accuracy: 0.9853 - precision: 0.9849 - recall: 0.9850 - auc: 0.9914 - val_loss: 0.0684 - val_binary_accuracy: 0.9863 - val_precision: 0.9874 - val_recall: 0.9872 - val_auc: 0.9915\n",
      "Epoch 26/100\n",
      "1397/1397 [==============================] - 2s 2ms/step - loss: 0.0709 - binary_accuracy: 0.9853 - precision: 0.9849 - recall: 0.9850 - auc: 0.9914 - val_loss: 0.0684 - val_binary_accuracy: 0.9863 - val_precision: 0.9874 - val_recall: 0.9872 - val_auc: 0.9915\n"
     ]
    },
    {
     "name": "stdout",
     "output_type": "stream",
     "text": [
      "Epoch 27/100\n",
      "1397/1397 [==============================] - 2s 2ms/step - loss: 0.0709 - binary_accuracy: 0.9853 - precision: 0.9849 - recall: 0.9850 - auc: 0.9914 - val_loss: 0.0684 - val_binary_accuracy: 0.9863 - val_precision: 0.9874 - val_recall: 0.9872 - val_auc: 0.9915\n",
      "Epoch 28/100\n",
      "1397/1397 [==============================] - 2s 2ms/step - loss: 0.0708 - binary_accuracy: 0.9853 - precision: 0.9849 - recall: 0.9850 - auc: 0.9914 - val_loss: 0.0683 - val_binary_accuracy: 0.9863 - val_precision: 0.9874 - val_recall: 0.9872 - val_auc: 0.9914\n",
      "Epoch 29/100\n",
      "1397/1397 [==============================] - 2s 2ms/step - loss: 0.0708 - binary_accuracy: 0.9853 - precision: 0.9849 - recall: 0.9850 - auc: 0.9914 - val_loss: 0.0684 - val_binary_accuracy: 0.9863 - val_precision: 0.9874 - val_recall: 0.9872 - val_auc: 0.9915\n",
      "Epoch 30/100\n",
      "1397/1397 [==============================] - 3s 2ms/step - loss: 0.0708 - binary_accuracy: 0.9853 - precision: 0.9849 - recall: 0.9850 - auc: 0.9914 - val_loss: 0.0683 - val_binary_accuracy: 0.9863 - val_precision: 0.9874 - val_recall: 0.9872 - val_auc: 0.9915\n",
      "Epoch 31/100\n",
      "1397/1397 [==============================] - 2s 2ms/step - loss: 0.0708 - binary_accuracy: 0.9853 - precision: 0.9849 - recall: 0.9850 - auc: 0.9914 - val_loss: 0.0683 - val_binary_accuracy: 0.9863 - val_precision: 0.9874 - val_recall: 0.9872 - val_auc: 0.9915\n",
      "Epoch 32/100\n",
      "1397/1397 [==============================] - 2s 2ms/step - loss: 0.0708 - binary_accuracy: 0.9853 - precision: 0.9849 - recall: 0.9850 - auc: 0.9914 - val_loss: 0.0683 - val_binary_accuracy: 0.9863 - val_precision: 0.9874 - val_recall: 0.9872 - val_auc: 0.9915\n",
      "Epoch 33/100\n",
      "1397/1397 [==============================] - 2s 2ms/step - loss: 0.0708 - binary_accuracy: 0.9853 - precision: 0.9849 - recall: 0.9850 - auc: 0.9914 - val_loss: 0.0683 - val_binary_accuracy: 0.9863 - val_precision: 0.9874 - val_recall: 0.9872 - val_auc: 0.9914\n",
      "Epoch 34/100\n",
      "1397/1397 [==============================] - 2s 2ms/step - loss: 0.0708 - binary_accuracy: 0.9853 - precision: 0.9849 - recall: 0.9850 - auc: 0.9914 - val_loss: 0.0682 - val_binary_accuracy: 0.9863 - val_precision: 0.9874 - val_recall: 0.9872 - val_auc: 0.9915\n",
      "Epoch 35/100\n",
      "1397/1397 [==============================] - 2s 2ms/step - loss: 0.0708 - binary_accuracy: 0.9853 - precision: 0.9848 - recall: 0.9850 - auc: 0.9914 - val_loss: 0.0683 - val_binary_accuracy: 0.9863 - val_precision: 0.9874 - val_recall: 0.9872 - val_auc: 0.9915\n",
      "Epoch 36/100\n",
      "1397/1397 [==============================] - 2s 2ms/step - loss: 0.0708 - binary_accuracy: 0.9853 - precision: 0.9849 - recall: 0.9850 - auc: 0.9914 - val_loss: 0.0682 - val_binary_accuracy: 0.9863 - val_precision: 0.9874 - val_recall: 0.9872 - val_auc: 0.9915\n",
      "Epoch 37/100\n",
      "1397/1397 [==============================] - 2s 2ms/step - loss: 0.0708 - binary_accuracy: 0.9853 - precision: 0.9849 - recall: 0.9850 - auc: 0.9915 - val_loss: 0.0682 - val_binary_accuracy: 0.9863 - val_precision: 0.9874 - val_recall: 0.9872 - val_auc: 0.9915\n",
      "Epoch 38/100\n",
      "1397/1397 [==============================] - 2s 2ms/step - loss: 0.0708 - binary_accuracy: 0.9853 - precision: 0.9849 - recall: 0.9850 - auc: 0.9915 - val_loss: 0.0682 - val_binary_accuracy: 0.9863 - val_precision: 0.9874 - val_recall: 0.9872 - val_auc: 0.9914\n",
      "Epoch 39/100\n",
      "1397/1397 [==============================] - 2s 2ms/step - loss: 0.0708 - binary_accuracy: 0.9853 - precision: 0.9849 - recall: 0.9850 - auc: 0.9915 - val_loss: 0.0683 - val_binary_accuracy: 0.9863 - val_precision: 0.9874 - val_recall: 0.9872 - val_auc: 0.9915\n",
      "Epoch 40/100\n",
      "1397/1397 [==============================] - 2s 2ms/step - loss: 0.0708 - binary_accuracy: 0.9853 - precision: 0.9849 - recall: 0.9850 - auc: 0.9914 - val_loss: 0.0682 - val_binary_accuracy: 0.9863 - val_precision: 0.9874 - val_recall: 0.9872 - val_auc: 0.9915\n",
      "Epoch 41/100\n",
      "1397/1397 [==============================] - 2s 2ms/step - loss: 0.0708 - binary_accuracy: 0.9853 - precision: 0.9849 - recall: 0.9850 - auc: 0.9914 - val_loss: 0.0682 - val_binary_accuracy: 0.9863 - val_precision: 0.9874 - val_recall: 0.9872 - val_auc: 0.9915\n",
      "Epoch 42/100\n",
      "1397/1397 [==============================] - 2s 2ms/step - loss: 0.0708 - binary_accuracy: 0.9853 - precision: 0.9849 - recall: 0.9850 - auc: 0.9915 - val_loss: 0.0682 - val_binary_accuracy: 0.9863 - val_precision: 0.9874 - val_recall: 0.9872 - val_auc: 0.9914\n",
      "Epoch 43/100\n",
      "1397/1397 [==============================] - 2s 2ms/step - loss: 0.0708 - binary_accuracy: 0.9853 - precision: 0.9849 - recall: 0.9850 - auc: 0.9914 - val_loss: 0.0682 - val_binary_accuracy: 0.9863 - val_precision: 0.9874 - val_recall: 0.9872 - val_auc: 0.9914\n",
      "Epoch 44/100\n",
      "1397/1397 [==============================] - 2s 2ms/step - loss: 0.0708 - binary_accuracy: 0.9853 - precision: 0.9848 - recall: 0.9850 - auc: 0.9915 - val_loss: 0.0682 - val_binary_accuracy: 0.9863 - val_precision: 0.9874 - val_recall: 0.9872 - val_auc: 0.9914\n",
      "Epoch 45/100\n",
      "1397/1397 [==============================] - 2s 2ms/step - loss: 0.0708 - binary_accuracy: 0.9853 - precision: 0.9849 - recall: 0.9850 - auc: 0.9915 - val_loss: 0.0682 - val_binary_accuracy: 0.9863 - val_precision: 0.9874 - val_recall: 0.9872 - val_auc: 0.9915\n",
      "Epoch 46/100\n",
      "1397/1397 [==============================] - 2s 2ms/step - loss: 0.0708 - binary_accuracy: 0.9853 - precision: 0.9848 - recall: 0.9850 - auc: 0.9915 - val_loss: 0.0682 - val_binary_accuracy: 0.9863 - val_precision: 0.9874 - val_recall: 0.9872 - val_auc: 0.9915\n",
      "Epoch 47/100\n",
      "1397/1397 [==============================] - 2s 2ms/step - loss: 0.0708 - binary_accuracy: 0.9853 - precision: 0.9849 - recall: 0.9850 - auc: 0.9915 - val_loss: 0.0682 - val_binary_accuracy: 0.9863 - val_precision: 0.9874 - val_recall: 0.9872 - val_auc: 0.9915\n",
      "Epoch 48/100\n",
      "1397/1397 [==============================] - 2s 2ms/step - loss: 0.0708 - binary_accuracy: 0.9853 - precision: 0.9848 - recall: 0.9850 - auc: 0.9915 - val_loss: 0.0682 - val_binary_accuracy: 0.9863 - val_precision: 0.9874 - val_recall: 0.9872 - val_auc: 0.9914\n",
      "Epoch 49/100\n",
      "1397/1397 [==============================] - 2s 2ms/step - loss: 0.0708 - binary_accuracy: 0.9853 - precision: 0.9848 - recall: 0.9850 - auc: 0.9915 - val_loss: 0.0682 - val_binary_accuracy: 0.9863 - val_precision: 0.9874 - val_recall: 0.9872 - val_auc: 0.9915\n",
      "349/349 [==============================] - 0s 1ms/step - loss: 0.0682 - binary_accuracy: 0.9863 - precision: 0.9874 - recall: 0.9872 - auc: 0.9915\n",
      "437/437 - 1s - loss: 0.0821 - binary_accuracy: 0.9820 - precision: 0.9743 - recall: 0.9860 - auc: 0.9909\n"
     ]
    }
   ],
   "source": [
    "val_performance = {}\n",
    "performance = {}\n",
    "\n",
    "history_linear = compile_and_fit(linear, wide_window)\n",
    "\n",
    "val_performance['Linear'] = linear.evaluate(wide_window.val)\n",
    "performance['Linear'] = linear.evaluate(wide_window.test, verbose=2)"
   ]
  },
  {
   "cell_type": "code",
   "execution_count": 21,
   "id": "measured-assistant",
   "metadata": {},
   "outputs": [
    {
     "data": {
      "image/png": "[encoded data removed]",
      "text/plain": [
       "<Figure size 432x288 with 1 Axes>"
      ]
     },
     "metadata": {
      "needs_background": "light"
     },
     "output_type": "display_data"
    },
    {
     "data": {
      "image/png": "[encoded data removed]",
      "text/plain": [
       "<Figure size 432x288 with 1 Axes>"
      ]
     },
     "metadata": {
      "needs_background": "light"
     },
     "output_type": "display_data"
    },
    {
     "data": {
      "image/png": "[encoded data removed]",
      "text/plain": [
       "<Figure size 432x288 with 1 Axes>"
      ]
     },
     "metadata": {
      "needs_background": "light"
     },
     "output_type": "display_data"
    }
   ],
   "source": [
    "import matplotlib.pyplot as plt\n",
    "\n",
    "#Linear Model Loss\n",
    "plt.plot(history_linear.history['loss'])\n",
    "plt.plot(history_linear.history['val_loss'])\n",
    "plt.title('Linear Model Loss')\n",
    "plt.ylabel('Loss')\n",
    "plt.xlabel('Epoch')\n",
    "plt.legend(['Train','Val'], loc='upper right')\n",
    "plt.show()\n",
    "\n",
    "#Linear Model Loss\n",
    "plt.plot(history_linear.history['loss'])\n",
    "plt.plot(history_linear.history['val_loss'])\n",
    "plt.title('Linear Model Loss - Closer Look')\n",
    "plt.ylabel('Loss')\n",
    "plt.xlabel('Epoch')\n",
    "plt.legend(['Train','Val'], loc='upper right')\n",
    "plt.ylim(0.065,0.08)\n",
    "plt.xlim(3,20)\n",
    "plt.show()\n",
    "\n",
    "#Linear Model Binary Accuracy\n",
    "plt.plot(history_linear.history['binary_accuracy'])\n",
    "plt.plot(history_linear.history['val_binary_accuracy'])\n",
    "plt.title('Linear Model Binary Accuracy')\n",
    "plt.ylabel('Binary Accuracy')\n",
    "plt.xlabel('Epoch')\n",
    "plt.legend(['Train','Val'], loc='upper right')\n",
    "plt.show()"
   ]
  },
  {
   "cell_type": "code",
   "execution_count": 22,
   "id": "thirty-cream",
   "metadata": {},
   "outputs": [
    {
     "name": "stdout",
     "output_type": "stream",
     "text": [
      "WARNING:tensorflow:From <ipython-input-22-4d8cd6ff24c2>:6: Sequential.predict_classes (from tensorflow.python.keras.engine.sequential) is deprecated and will be removed after 2021-01-01.\n",
      "Instructions for updating:\n",
      "Please use instead:* `np.argmax(model.predict(x), axis=-1)`,   if your model does multi-class classification   (e.g. if it uses a `softmax` last-layer activation).* `(model.predict(x) > 0.5).astype(\"int32\")`,   if your model does binary classification   (e.g. if it uses a `sigmoid` last-layer activation).\n",
      "WARNING:tensorflow:Model was constructed with shape (None, 15, 132) for input Tensor(\"dense_input:0\", shape=(None, 15, 132), dtype=float32), but it was called on an input with incompatible shape (None, 132).\n"
     ]
    },
    {
     "data": {
      "image/png": "[encoded data removed]",
      "text/plain": [
       "<Figure size 288x288 with 1 Axes>"
      ]
     },
     "metadata": {
      "needs_background": "light"
     },
     "output_type": "display_data"
    }
   ],
   "source": [
    "#Confusion matrix for Test set using Linear model \n",
    "\n",
    "import numpy as np\n",
    "from sklearn.metrics import classification_report, confusion_matrix\n",
    "\n",
    "cm = confusion_matrix(Y_test, linear.predict_classes(X_test))\n",
    "fig, ax = plt.subplots(figsize=(4,4))\n",
    "ax.imshow(cm)\n",
    "ax.grid(False)\n",
    "ax.xaxis.set(ticks=(0, 1), ticklabels=('Predicted Loss', 'Predicted Win'))\n",
    "ax.yaxis.set(ticks=(0, 1), ticklabels=('Actual Loss', 'Actual Win'))\n",
    "ax.set_ylim(1.5, -0.5)\n",
    "for i in range(2):\n",
    "    for j in range(2):\n",
    "        ax.text(j, i, cm[i, j], ha='center', va='center', color='red')\n",
    "plt.show()"
   ]
  },
  {
   "cell_type": "code",
   "execution_count": 23,
   "id": "individual-chapter",
   "metadata": {},
   "outputs": [
    {
     "data": {
      "image/png": "[encoded data removed]",
      "text/plain": [
       "<Figure size 1440x1080 with 1 Axes>"
      ]
     },
     "metadata": {
      "needs_background": "light"
     },
     "output_type": "display_data"
    }
   ],
   "source": [
    "#Linear\n",
    "\n",
    "wide_window.plot(linear)"
   ]
  },
  {
   "cell_type": "code",
   "execution_count": 24,
   "id": "increasing-quilt",
   "metadata": {},
   "outputs": [
    {
     "name": "stdout",
     "output_type": "stream",
     "text": [
      "Epoch 1/100\n",
      "1397/1397 [==============================] - 4s 3ms/step - loss: 0.1727 - binary_accuracy: 0.9449 - precision_1: 0.9495 - recall_1: 0.9371 - auc_1: 0.9857 - val_loss: 0.0492 - val_binary_accuracy: 0.9863 - val_precision_1: 0.9874 - val_recall_1: 0.9872 - val_auc_1: 0.9983\n",
      "Epoch 2/100\n",
      "1397/1397 [==============================] - 3s 2ms/step - loss: 0.0426 - binary_accuracy: 0.9854 - precision_1: 0.9851 - recall_1: 0.9850 - auc_1: 0.9982 - val_loss: 0.0398 - val_binary_accuracy: 0.9863 - val_precision_1: 0.9875 - val_recall_1: 0.9871 - val_auc_1: 0.9986\n",
      "Epoch 3/100\n",
      "1397/1397 [==============================] - 3s 2ms/step - loss: 0.0369 - binary_accuracy: 0.9855 - precision_1: 0.9853 - recall_1: 0.9850 - auc_1: 0.9985 - val_loss: 0.0380 - val_binary_accuracy: 0.9863 - val_precision_1: 0.9877 - val_recall_1: 0.9869 - val_auc_1: 0.9986\n",
      "Epoch 4/100\n",
      "1397/1397 [==============================] - 3s 2ms/step - loss: 0.0340 - binary_accuracy: 0.9856 - precision_1: 0.9855 - recall_1: 0.9850 - auc_1: 0.9988 - val_loss: 0.0387 - val_binary_accuracy: 0.9862 - val_precision_1: 0.9877 - val_recall_1: 0.9867 - val_auc_1: 0.9985\n",
      "Epoch 5/100\n",
      "1397/1397 [==============================] - 3s 2ms/step - loss: 0.0316 - binary_accuracy: 0.9858 - precision_1: 0.9858 - recall_1: 0.9851 - auc_1: 0.9990 - val_loss: 0.0389 - val_binary_accuracy: 0.9857 - val_precision_1: 0.9877 - val_recall_1: 0.9859 - val_auc_1: 0.9985\n",
      "Epoch 6/100\n",
      "1397/1397 [==============================] - 3s 2ms/step - loss: 0.0290 - binary_accuracy: 0.9862 - precision_1: 0.9862 - recall_1: 0.9855 - auc_1: 0.9992 - val_loss: 0.0415 - val_binary_accuracy: 0.9849 - val_precision_1: 0.9873 - val_recall_1: 0.9846 - val_auc_1: 0.9981\n",
      "349/349 [==============================] - 1s 2ms/step - loss: 0.0415 - binary_accuracy: 0.9849 - precision_1: 0.9873 - recall_1: 0.9846 - auc_1: 0.9981\n"
     ]
    }
   ],
   "source": [
    "dense = tf.keras.Sequential([\n",
    "    tf.keras.layers.Dense(units=131, activation='sigmoid'),\n",
    "    tf.keras.layers.Dense(units=65, activation='sigmoid'),\n",
    "    tf.keras.layers.Dense(units=1, activation='sigmoid')\n",
    "])\n",
    "\n",
    "history_dense = compile_and_fit(dense, wide_window)\n",
    "\n",
    "val_performance['Dense'] = dense.evaluate(wide_window.val)\n",
    "performance['Dense'] = dense.evaluate(wide_window.test, verbose=0)"
   ]
  },
  {
   "cell_type": "code",
   "execution_count": 25,
   "id": "sought-estimate",
   "metadata": {
    "scrolled": false
   },
   "outputs": [
    {
     "data": {
      "image/png": "[encoded data removed]",
      "text/plain": [
       "<Figure size 432x288 with 1 Axes>"
      ]
     },
     "metadata": {
      "needs_background": "light"
     },
     "output_type": "display_data"
    },
    {
     "data": {
      "image/png": "[encoded data removed]",
      "text/plain": [
       "<Figure size 432x288 with 1 Axes>"
      ]
     },
     "metadata": {
      "needs_background": "light"
     },
     "output_type": "display_data"
    },
    {
     "data": {
      "image/png": "[encoded data removed]",
      "text/plain": [
       "<Figure size 432x288 with 1 Axes>"
      ]
     },
     "metadata": {
      "needs_background": "light"
     },
     "output_type": "display_data"
    }
   ],
   "source": [
    "#Dense Model Loss\n",
    "plt.plot(history_dense.history['loss'])\n",
    "plt.plot(history_dense.history['val_loss'])\n",
    "plt.title('Dense Model Loss')\n",
    "plt.ylabel('Loss')\n",
    "plt.xlabel('Epoch')\n",
    "plt.legend(['Train','Val'], loc='upper right')\n",
    "plt.show()\n",
    "\n",
    "#Dense Model Loss\n",
    "plt.plot(history_dense.history['loss'])\n",
    "plt.plot(history_dense.history['val_loss'])\n",
    "plt.title('Dense Model Loss - Closer Look')\n",
    "plt.ylabel('Loss')\n",
    "plt.xlabel('Epoch')\n",
    "plt.legend(['Train','Val'], loc='upper right')\n",
    "plt.ylim(0.025,0.055)\n",
    "plt.xlim(0,6)\n",
    "plt.show()\n",
    "\n",
    "#Dense Model Binary Accuracy\n",
    "plt.plot(history_dense.history['binary_accuracy'])\n",
    "plt.plot(history_dense.history['val_binary_accuracy'])\n",
    "plt.title('Dense Model Binary Accuracy')\n",
    "plt.ylabel('Binary Accuracy')\n",
    "plt.xlabel('Epoch')\n",
    "plt.legend(['Train','Val'], loc='upper right')\n",
    "plt.show()"
   ]
  },
  {
   "cell_type": "code",
   "execution_count": 26,
   "id": "behavioral-custody",
   "metadata": {},
   "outputs": [
    {
     "name": "stdout",
     "output_type": "stream",
     "text": [
      "WARNING:tensorflow:Model was constructed with shape (None, 15, 132) for input Tensor(\"dense_1_input:0\", shape=(None, 15, 132), dtype=float32), but it was called on an input with incompatible shape (None, 132).\n"
     ]
    },
    {
     "data": {
      "image/png": "[encoded data removed]",
      "text/plain": [
       "<Figure size 288x288 with 1 Axes>"
      ]
     },
     "metadata": {
      "needs_background": "light"
     },
     "output_type": "display_data"
    }
   ],
   "source": [
    "#Confusion matrix for Test set using Dense NN\n",
    "\n",
    "cm = confusion_matrix(Y_test, dense.predict_classes(X_test))\n",
    "fig, ax = plt.subplots(figsize=(4,4))\n",
    "ax.imshow(cm)\n",
    "ax.grid(False)\n",
    "ax.xaxis.set(ticks=(0, 1), ticklabels=('Predicted Loss', 'Predicted Win'))\n",
    "ax.yaxis.set(ticks=(0, 1), ticklabels=('Actual Loss', 'Actual Win'))\n",
    "ax.set_ylim(1.5, -0.5)\n",
    "for i in range(2):\n",
    "    for j in range(2):\n",
    "        ax.text(j, i, cm[i, j], ha='center', va='center', color='red')\n",
    "plt.show()"
   ]
  },
  {
   "cell_type": "code",
   "execution_count": 27,
   "id": "grateful-prior",
   "metadata": {},
   "outputs": [
    {
     "data": {
      "image/png": "[encoded data removed]",
      "text/plain": [
       "<Figure size 1440x1080 with 1 Axes>"
      ]
     },
     "metadata": {
      "needs_background": "light"
     },
     "output_type": "display_data"
    }
   ],
   "source": [
    "#Dense\n",
    "\n",
    "wide_window.plot(dense)"
   ]
  },
  {
   "cell_type": "code",
   "execution_count": 28,
   "id": "thousand-story",
   "metadata": {},
   "outputs": [],
   "source": [
    "lstm_model = tf.keras.models.Sequential([\n",
    "    # Shape [batch, time, features] => [batch, time, lstm_units]\n",
    "    tf.keras.layers.LSTM(32, return_sequences=True),\n",
    "    # Shape => [batch, time, features]\n",
    "    tf.keras.layers.Dense(units=1, activation='sigmoid')\n",
    "])"
   ]
  },
  {
   "cell_type": "code",
   "execution_count": 29,
   "id": "broad-peter",
   "metadata": {},
   "outputs": [
    {
     "name": "stdout",
     "output_type": "stream",
     "text": [
      "Epoch 1/100\n",
      "1397/1397 [==============================] - 8s 5ms/step - loss: 0.1362 - binary_accuracy: 0.9561 - precision_2: 0.9509 - recall_2: 0.9596 - auc_2: 0.9911 - val_loss: 0.0510 - val_binary_accuracy: 0.9848 - val_precision_2: 0.9858 - val_recall_2: 0.9861 - val_auc_2: 0.9982\n",
      "Epoch 2/100\n",
      "1397/1397 [==============================] - 7s 5ms/step - loss: 0.0365 - binary_accuracy: 0.9881 - precision_2: 0.9885 - recall_2: 0.9872 - auc_2: 0.9988 - val_loss: 0.0473 - val_binary_accuracy: 0.9828 - val_precision_2: 0.9848 - val_recall_2: 0.9833 - val_auc_2: 0.9978\n",
      "Epoch 3/100\n",
      "1397/1397 [==============================] - 7s 5ms/step - loss: 0.0244 - binary_accuracy: 0.9917 - precision_2: 0.9917 - recall_2: 0.9913 - auc_2: 0.9994 - val_loss: 0.0576 - val_binary_accuracy: 0.9805 - val_precision_2: 0.9807 - val_recall_2: 0.9832 - val_auc_2: 0.9968\n",
      "Epoch 4/100\n",
      "1397/1397 [==============================] - 7s 5ms/step - loss: 0.0169 - binary_accuracy: 0.9944 - precision_2: 0.9943 - recall_2: 0.9942 - auc_2: 0.9997 - val_loss: 0.0657 - val_binary_accuracy: 0.9792 - val_precision_2: 0.9823 - val_recall_2: 0.9790 - val_auc_2: 0.9960\n",
      "Epoch 5/100\n",
      "1397/1397 [==============================] - 7s 5ms/step - loss: 0.0114 - binary_accuracy: 0.9965 - precision_2: 0.9964 - recall_2: 0.9964 - auc_2: 0.9998 - val_loss: 0.0758 - val_binary_accuracy: 0.9782 - val_precision_2: 0.9804 - val_recall_2: 0.9792 - val_auc_2: 0.9950\n",
      "349/349 [==============================] - 1s 2ms/step - loss: 0.0758 - binary_accuracy: 0.9782 - precision_2: 0.9804 - recall_2: 0.9792 - auc_2: 0.9950\n"
     ]
    }
   ],
   "source": [
    "history_lstm = compile_and_fit(lstm_model, wide_window)\n",
    "\n",
    "val_performance['LSTM'] = lstm_model.evaluate(wide_window.val)\n",
    "performance['LSTM'] = lstm_model.evaluate(wide_window.test, verbose=0)"
   ]
  },
  {
   "cell_type": "code",
   "execution_count": 30,
   "id": "patent-letter",
   "metadata": {
    "scrolled": false
   },
   "outputs": [
    {
     "data": {
      "image/png": "[encoded data removed]",
      "text/plain": [
       "<Figure size 432x288 with 1 Axes>"
      ]
     },
     "metadata": {
      "needs_background": "light"
     },
     "output_type": "display_data"
    },
    {
     "data": {
      "image/png": "[encoded data removed]",
      "text/plain": [
       "<Figure size 432x288 with 1 Axes>"
      ]
     },
     "metadata": {
      "needs_background": "light"
     },
     "output_type": "display_data"
    },
    {
     "data": {
      "image/png": "[encoded data removed]",
      "text/plain": [
       "<Figure size 432x288 with 1 Axes>"
      ]
     },
     "metadata": {
      "needs_background": "light"
     },
     "output_type": "display_data"
    }
   ],
   "source": [
    "#LSTM Model Loss\n",
    "plt.plot(history_lstm.history['loss'])\n",
    "plt.plot(history_lstm.history['val_loss'])\n",
    "plt.title('LSTM Model Loss')\n",
    "plt.ylabel('Loss')\n",
    "plt.xlabel('Epoch')\n",
    "plt.legend(['Train','Val'], loc='upper right')\n",
    "plt.show()\n",
    "\n",
    "#LSTM Model Loss\n",
    "plt.plot(history_lstm.history['loss'])\n",
    "plt.plot(history_lstm.history['val_loss'])\n",
    "plt.title('LSTM Model Loss - Closer Look')\n",
    "plt.ylabel('Loss')\n",
    "plt.xlabel('Epoch')\n",
    "plt.legend(['Train','Val'], loc='upper right')\n",
    "plt.ylim(0,0.08)\n",
    "plt.xlim(0,5)\n",
    "plt.show()\n",
    "\n",
    "#LSTM Model Binary Accuracy\n",
    "plt.plot(history_lstm.history['binary_accuracy'])\n",
    "plt.plot(history_lstm.history['val_binary_accuracy'])\n",
    "plt.title('LSTM Model Binary Accuracy')\n",
    "plt.ylabel('Binary Accuracy')\n",
    "plt.xlabel('Epoch')\n",
    "plt.legend(['Train','Val'], loc='upper right')\n",
    "plt.show()"
   ]
  },
  {
   "cell_type": "code",
   "execution_count": 31,
   "id": "psychological-publisher",
   "metadata": {
    "scrolled": true
   },
   "outputs": [
    {
     "data": {
      "image/png": "[encoded data removed]",
      "text/plain": [
       "<Figure size 1440x1080 with 1 Axes>"
      ]
     },
     "metadata": {
      "needs_background": "light"
     },
     "output_type": "display_data"
    }
   ],
   "source": [
    "#LSTM\n",
    "\n",
    "wide_window.plot(lstm_model)"
   ]
  },
  {
   "cell_type": "code",
   "execution_count": 32,
   "id": "shared-insurance",
   "metadata": {},
   "outputs": [],
   "source": [
    "gru_model = tf.keras.models.Sequential([\n",
    "    tf.keras.layers.GRU(32, return_sequences=True),\n",
    "    tf.keras.layers.Dense(units=1, activation='sigmoid')\n",
    "])"
   ]
  },
  {
   "cell_type": "code",
   "execution_count": 33,
   "id": "knowing-worship",
   "metadata": {},
   "outputs": [
    {
     "name": "stdout",
     "output_type": "stream",
     "text": [
      "Epoch 1/100\n",
      "1397/1397 [==============================] - 8s 6ms/step - loss: 0.1227 - binary_accuracy: 0.9607 - precision_3: 0.9596 - recall_3: 0.9601 - auc_3: 0.9922 - val_loss: 0.0467 - val_binary_accuracy: 0.9859 - val_precision_3: 0.9872 - val_recall_3: 0.9866 - val_auc_3: 0.9983\n",
      "Epoch 2/100\n",
      "1397/1397 [==============================] - 7s 5ms/step - loss: 0.0372 - binary_accuracy: 0.9869 - precision_3: 0.9871 - recall_3: 0.9861 - auc_3: 0.9988 - val_loss: 0.0419 - val_binary_accuracy: 0.9843 - val_precision_3: 0.9885 - val_recall_3: 0.9823 - val_auc_3: 0.9982\n",
      "Epoch 3/100\n",
      "1397/1397 [==============================] - 7s 5ms/step - loss: 0.0334 - binary_accuracy: 0.9878 - precision_3: 0.9872 - recall_3: 0.9879 - auc_3: 0.9989 - val_loss: 0.0441 - val_binary_accuracy: 0.9832 - val_precision_3: 0.9837 - val_recall_3: 0.9853 - val_auc_3: 0.9980\n",
      "Epoch 4/100\n",
      "1397/1397 [==============================] - 7s 5ms/step - loss: 0.0240 - binary_accuracy: 0.9911 - precision_3: 0.9909 - recall_3: 0.9910 - auc_3: 0.9995 - val_loss: 0.0474 - val_binary_accuracy: 0.9828 - val_precision_3: 0.9844 - val_recall_3: 0.9838 - val_auc_3: 0.9976\n",
      "Epoch 5/100\n",
      "1397/1397 [==============================] - 7s 5ms/step - loss: 0.0186 - binary_accuracy: 0.9934 - precision_3: 0.9933 - recall_3: 0.9932 - auc_3: 0.9997 - val_loss: 0.0531 - val_binary_accuracy: 0.9827 - val_precision_3: 0.9853 - val_recall_3: 0.9827 - val_auc_3: 0.9970\n",
      "349/349 [==============================] - 1s 2ms/step - loss: 0.0531 - binary_accuracy: 0.9827 - precision_3: 0.9853 - recall_3: 0.9827 - auc_3: 0.9970\n"
     ]
    }
   ],
   "source": [
    "history_gru = compile_and_fit(gru_model, wide_window)\n",
    "\n",
    "val_performance['GRU'] = gru_model.evaluate(wide_window.val)\n",
    "performance['GRU'] = gru_model.evaluate(wide_window.test, verbose=0)"
   ]
  },
  {
   "cell_type": "code",
   "execution_count": 34,
   "id": "instant-secret",
   "metadata": {},
   "outputs": [
    {
     "data": {
      "image/png": "[encoded data removed]",
      "text/plain": [
       "<Figure size 432x288 with 1 Axes>"
      ]
     },
     "metadata": {
      "needs_background": "light"
     },
     "output_type": "display_data"
    },
    {
     "data": {
      "image/png": "[encoded data removed]",
      "text/plain": [
       "<Figure size 432x288 with 1 Axes>"
      ]
     },
     "metadata": {
      "needs_background": "light"
     },
     "output_type": "display_data"
    },
    {
     "data": {
      "image/png": "[encoded data removed]",
      "text/plain": [
       "<Figure size 432x288 with 1 Axes>"
      ]
     },
     "metadata": {
      "needs_background": "light"
     },
     "output_type": "display_data"
    }
   ],
   "source": [
    "#GRU Model Loss\n",
    "plt.plot(history_gru.history['loss'])\n",
    "plt.plot(history_gru.history['val_loss'])\n",
    "plt.title('GRU Model Loss')\n",
    "plt.ylabel('Loss')\n",
    "plt.xlabel('Epoch')\n",
    "plt.legend(['Train','Val'], loc='upper right')\n",
    "plt.show()\n",
    "\n",
    "#GRU Model Loss\n",
    "plt.plot(history_gru.history['loss'])\n",
    "plt.plot(history_gru.history['val_loss'])\n",
    "plt.title('GRU Model Loss - Closer Look')\n",
    "plt.ylabel('Loss')\n",
    "plt.xlabel('Epoch')\n",
    "plt.legend(['Train','Val'], loc='upper right')\n",
    "plt.ylim(0.03,0.06)\n",
    "plt.xlim(0,4)\n",
    "plt.show()\n",
    "\n",
    "#GRU Model Binary Accuracy\n",
    "plt.plot(history_gru.history['binary_accuracy'])\n",
    "plt.plot(history_gru.history['val_binary_accuracy'])\n",
    "plt.title('GRU Model Binary Accuracy')\n",
    "plt.ylabel('Binary Accuracy')\n",
    "plt.xlabel('Epoch')\n",
    "plt.legend(['Train','Val'], loc='upper right')\n",
    "plt.show()"
   ]
  },
  {
   "cell_type": "code",
   "execution_count": 35,
   "id": "published-password",
   "metadata": {},
   "outputs": [
    {
     "data": {
      "image/png": "[encoded data removed]",
      "text/plain": [
       "<Figure size 1440x1080 with 1 Axes>"
      ]
     },
     "metadata": {
      "needs_background": "light"
     },
     "output_type": "display_data"
    }
   ],
   "source": [
    "#GRU\n",
    "\n",
    "wide_window.plot(gru_model)"
   ]
  },
  {
   "cell_type": "code",
   "execution_count": 36,
   "id": "premier-martial",
   "metadata": {},
   "outputs": [
    {
     "data": {
      "image/png": "[encoded data removed]",
      "text/plain": [
       "<Figure size 432x288 with 1 Axes>"
      ]
     },
     "metadata": {
      "needs_background": "light"
     },
     "output_type": "display_data"
    }
   ],
   "source": [
    "x = np.arange(len(performance))\n",
    "width = 0.3\n",
    "metric_name = 'loss'\n",
    "metric_index = lstm_model.metrics_names.index('loss')\n",
    "val_loss = [v[metric_index] for v in val_performance.values()]\n",
    "test_loss = [v[metric_index] for v in performance.values()]\n",
    "\n",
    "plt.ylabel('loss [win, standardized]')\n",
    "plt.bar(x - 0.17, val_loss, width, label='Validation')\n",
    "plt.bar(x + 0.17, test_loss, width, label='Test')\n",
    "plt.xticks(ticks=x, labels=performance.keys(),\n",
    "           rotation=45)\n",
    "_ = plt.legend()"
   ]
  },
  {
   "cell_type": "code",
   "execution_count": null,
   "id": "coastal-complex",
   "metadata": {},
   "outputs": [],
   "source": []
  }
 ],
 "metadata": {
  "kernelspec": {
   "display_name": "Python 3",
   "language": "python",
   "name": "python3"
  },
  "language_info": {
   "codemirror_mode": {
    "name": "ipython",
    "version": 3
   },
   "file_extension": ".py",
   "mimetype": "text/x-python",
   "name": "python",
   "nbconvert_exporter": "python",
   "pygments_lexer": "ipython3",
   "version": "3.8.5"
  }
 },
 "nbformat": 4,
 "nbformat_minor": 5
}
