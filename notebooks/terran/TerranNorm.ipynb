{
 "cells": [
  {
   "cell_type": "code",
   "execution_count": 83,
   "id": "worse-verification",
   "metadata": {},
   "outputs": [
    {
     "data": {
      "text/html": [
       "<div>\n",
       "<style scoped>\n",
       "    .dataframe tbody tr th:only-of-type {\n",
       "        vertical-align: middle;\n",
       "    }\n",
       "\n",
       "    .dataframe tbody tr th {\n",
       "        vertical-align: top;\n",
       "    }\n",
       "\n",
       "    .dataframe thead th {\n",
       "        text-align: right;\n",
       "    }\n",
       "</style>\n",
       "<table border=\"1\" class=\"dataframe\">\n",
       "  <thead>\n",
       "    <tr style=\"text-align: right;\">\n",
       "      <th></th>\n",
       "      <th>match_id</th>\n",
       "      <th>map_name</th>\n",
       "      <th>region</th>\n",
       "      <th>game_length</th>\n",
       "      <th>race</th>\n",
       "      <th>enemy_race</th>\n",
       "      <th>ap30s</th>\n",
       "      <th>frame</th>\n",
       "      <th>second</th>\n",
       "      <th>player</th>\n",
       "      <th>...</th>\n",
       "      <th>starport</th>\n",
       "      <th>starportreactor</th>\n",
       "      <th>starporttechlab</th>\n",
       "      <th>supplydepot</th>\n",
       "      <th>techlab</th>\n",
       "      <th>thor</th>\n",
       "      <th>viking</th>\n",
       "      <th>warhound</th>\n",
       "      <th>widowmine</th>\n",
       "      <th>win</th>\n",
       "    </tr>\n",
       "  </thead>\n",
       "  <tbody>\n",
       "    <tr>\n",
       "      <th>0</th>\n",
       "      <td>1</td>\n",
       "      <td>World of Sleepers LE</td>\n",
       "      <td>us</td>\n",
       "      <td>437</td>\n",
       "      <td>T</td>\n",
       "      <td>P</td>\n",
       "      <td>0.0</td>\n",
       "      <td>1</td>\n",
       "      <td>0</td>\n",
       "      <td>Player 1 - INnoVation (Terran)</td>\n",
       "      <td>...</td>\n",
       "      <td>0</td>\n",
       "      <td>0</td>\n",
       "      <td>0</td>\n",
       "      <td>0</td>\n",
       "      <td>0</td>\n",
       "      <td>0</td>\n",
       "      <td>0</td>\n",
       "      <td>0</td>\n",
       "      <td>0</td>\n",
       "      <td>1</td>\n",
       "    </tr>\n",
       "    <tr>\n",
       "      <th>1</th>\n",
       "      <td>1</td>\n",
       "      <td>World of Sleepers LE</td>\n",
       "      <td>us</td>\n",
       "      <td>437</td>\n",
       "      <td>T</td>\n",
       "      <td>P</td>\n",
       "      <td>235.2</td>\n",
       "      <td>480</td>\n",
       "      <td>30</td>\n",
       "      <td>Player 1 - INnoVation (Terran)</td>\n",
       "      <td>...</td>\n",
       "      <td>0</td>\n",
       "      <td>0</td>\n",
       "      <td>0</td>\n",
       "      <td>1</td>\n",
       "      <td>0</td>\n",
       "      <td>0</td>\n",
       "      <td>0</td>\n",
       "      <td>0</td>\n",
       "      <td>0</td>\n",
       "      <td>1</td>\n",
       "    </tr>\n",
       "    <tr>\n",
       "      <th>2</th>\n",
       "      <td>1</td>\n",
       "      <td>World of Sleepers LE</td>\n",
       "      <td>us</td>\n",
       "      <td>437</td>\n",
       "      <td>T</td>\n",
       "      <td>P</td>\n",
       "      <td>394.8</td>\n",
       "      <td>960</td>\n",
       "      <td>60</td>\n",
       "      <td>Player 1 - INnoVation (Terran)</td>\n",
       "      <td>...</td>\n",
       "      <td>0</td>\n",
       "      <td>0</td>\n",
       "      <td>0</td>\n",
       "      <td>1</td>\n",
       "      <td>0</td>\n",
       "      <td>0</td>\n",
       "      <td>0</td>\n",
       "      <td>0</td>\n",
       "      <td>0</td>\n",
       "      <td>1</td>\n",
       "    </tr>\n",
       "    <tr>\n",
       "      <th>3</th>\n",
       "      <td>1</td>\n",
       "      <td>World of Sleepers LE</td>\n",
       "      <td>us</td>\n",
       "      <td>437</td>\n",
       "      <td>T</td>\n",
       "      <td>P</td>\n",
       "      <td>400.4</td>\n",
       "      <td>1440</td>\n",
       "      <td>90</td>\n",
       "      <td>Player 1 - INnoVation (Terran)</td>\n",
       "      <td>...</td>\n",
       "      <td>0</td>\n",
       "      <td>0</td>\n",
       "      <td>0</td>\n",
       "      <td>1</td>\n",
       "      <td>0</td>\n",
       "      <td>0</td>\n",
       "      <td>0</td>\n",
       "      <td>0</td>\n",
       "      <td>0</td>\n",
       "      <td>1</td>\n",
       "    </tr>\n",
       "    <tr>\n",
       "      <th>4</th>\n",
       "      <td>1</td>\n",
       "      <td>World of Sleepers LE</td>\n",
       "      <td>us</td>\n",
       "      <td>437</td>\n",
       "      <td>T</td>\n",
       "      <td>P</td>\n",
       "      <td>299.6</td>\n",
       "      <td>1920</td>\n",
       "      <td>120</td>\n",
       "      <td>Player 1 - INnoVation (Terran)</td>\n",
       "      <td>...</td>\n",
       "      <td>0</td>\n",
       "      <td>0</td>\n",
       "      <td>0</td>\n",
       "      <td>1</td>\n",
       "      <td>0</td>\n",
       "      <td>0</td>\n",
       "      <td>0</td>\n",
       "      <td>0</td>\n",
       "      <td>0</td>\n",
       "      <td>1</td>\n",
       "    </tr>\n",
       "    <tr>\n",
       "      <th>...</th>\n",
       "      <td>...</td>\n",
       "      <td>...</td>\n",
       "      <td>...</td>\n",
       "      <td>...</td>\n",
       "      <td>...</td>\n",
       "      <td>...</td>\n",
       "      <td>...</td>\n",
       "      <td>...</td>\n",
       "      <td>...</td>\n",
       "      <td>...</td>\n",
       "      <td>...</td>\n",
       "      <td>...</td>\n",
       "      <td>...</td>\n",
       "      <td>...</td>\n",
       "      <td>...</td>\n",
       "      <td>...</td>\n",
       "      <td>...</td>\n",
       "      <td>...</td>\n",
       "      <td>...</td>\n",
       "      <td>...</td>\n",
       "      <td>...</td>\n",
       "    </tr>\n",
       "    <tr>\n",
       "      <th>69856</th>\n",
       "      <td>3455</td>\n",
       "      <td>Eternal Empire LE</td>\n",
       "      <td>eu</td>\n",
       "      <td>1610</td>\n",
       "      <td>T</td>\n",
       "      <td>Z</td>\n",
       "      <td>319.2</td>\n",
       "      <td>33600</td>\n",
       "      <td>2100</td>\n",
       "      <td>Player 2 - LiquidClem (Terran)</td>\n",
       "      <td>...</td>\n",
       "      <td>2</td>\n",
       "      <td>2</td>\n",
       "      <td>0</td>\n",
       "      <td>15</td>\n",
       "      <td>0</td>\n",
       "      <td>0</td>\n",
       "      <td>0</td>\n",
       "      <td>0</td>\n",
       "      <td>11</td>\n",
       "      <td>0</td>\n",
       "    </tr>\n",
       "    <tr>\n",
       "      <th>69857</th>\n",
       "      <td>3455</td>\n",
       "      <td>Eternal Empire LE</td>\n",
       "      <td>eu</td>\n",
       "      <td>1610</td>\n",
       "      <td>T</td>\n",
       "      <td>Z</td>\n",
       "      <td>459.2</td>\n",
       "      <td>34080</td>\n",
       "      <td>2130</td>\n",
       "      <td>Player 2 - LiquidClem (Terran)</td>\n",
       "      <td>...</td>\n",
       "      <td>2</td>\n",
       "      <td>2</td>\n",
       "      <td>0</td>\n",
       "      <td>15</td>\n",
       "      <td>0</td>\n",
       "      <td>0</td>\n",
       "      <td>0</td>\n",
       "      <td>0</td>\n",
       "      <td>11</td>\n",
       "      <td>0</td>\n",
       "    </tr>\n",
       "    <tr>\n",
       "      <th>69858</th>\n",
       "      <td>3455</td>\n",
       "      <td>Eternal Empire LE</td>\n",
       "      <td>eu</td>\n",
       "      <td>1610</td>\n",
       "      <td>T</td>\n",
       "      <td>Z</td>\n",
       "      <td>338.8</td>\n",
       "      <td>34560</td>\n",
       "      <td>2160</td>\n",
       "      <td>Player 2 - LiquidClem (Terran)</td>\n",
       "      <td>...</td>\n",
       "      <td>2</td>\n",
       "      <td>2</td>\n",
       "      <td>0</td>\n",
       "      <td>15</td>\n",
       "      <td>0</td>\n",
       "      <td>0</td>\n",
       "      <td>0</td>\n",
       "      <td>0</td>\n",
       "      <td>12</td>\n",
       "      <td>0</td>\n",
       "    </tr>\n",
       "    <tr>\n",
       "      <th>69859</th>\n",
       "      <td>3455</td>\n",
       "      <td>Eternal Empire LE</td>\n",
       "      <td>eu</td>\n",
       "      <td>1610</td>\n",
       "      <td>T</td>\n",
       "      <td>Z</td>\n",
       "      <td>319.2</td>\n",
       "      <td>35040</td>\n",
       "      <td>2190</td>\n",
       "      <td>Player 2 - LiquidClem (Terran)</td>\n",
       "      <td>...</td>\n",
       "      <td>2</td>\n",
       "      <td>2</td>\n",
       "      <td>0</td>\n",
       "      <td>15</td>\n",
       "      <td>0</td>\n",
       "      <td>0</td>\n",
       "      <td>0</td>\n",
       "      <td>0</td>\n",
       "      <td>10</td>\n",
       "      <td>0</td>\n",
       "    </tr>\n",
       "    <tr>\n",
       "      <th>69860</th>\n",
       "      <td>3455</td>\n",
       "      <td>Eternal Empire LE</td>\n",
       "      <td>eu</td>\n",
       "      <td>1610</td>\n",
       "      <td>T</td>\n",
       "      <td>Z</td>\n",
       "      <td>0.0</td>\n",
       "      <td>35520</td>\n",
       "      <td>2220</td>\n",
       "      <td>Player 2 - LiquidClem (Terran)</td>\n",
       "      <td>...</td>\n",
       "      <td>2</td>\n",
       "      <td>2</td>\n",
       "      <td>0</td>\n",
       "      <td>15</td>\n",
       "      <td>0</td>\n",
       "      <td>0</td>\n",
       "      <td>0</td>\n",
       "      <td>0</td>\n",
       "      <td>11</td>\n",
       "      <td>0</td>\n",
       "    </tr>\n",
       "  </tbody>\n",
       "</table>\n",
       "<p>69861 rows × 69 columns</p>\n",
       "</div>"
      ],
      "text/plain": [
       "       match_id              map_name region  game_length race enemy_race  \\\n",
       "0             1  World of Sleepers LE     us          437    T          P   \n",
       "1             1  World of Sleepers LE     us          437    T          P   \n",
       "2             1  World of Sleepers LE     us          437    T          P   \n",
       "3             1  World of Sleepers LE     us          437    T          P   \n",
       "4             1  World of Sleepers LE     us          437    T          P   \n",
       "...         ...                   ...    ...          ...  ...        ...   \n",
       "69856      3455     Eternal Empire LE     eu         1610    T          Z   \n",
       "69857      3455     Eternal Empire LE     eu         1610    T          Z   \n",
       "69858      3455     Eternal Empire LE     eu         1610    T          Z   \n",
       "69859      3455     Eternal Empire LE     eu         1610    T          Z   \n",
       "69860      3455     Eternal Empire LE     eu         1610    T          Z   \n",
       "\n",
       "       ap30s  frame  second                          player  ...  starport  \\\n",
       "0        0.0      1       0  Player 1 - INnoVation (Terran)  ...         0   \n",
       "1      235.2    480      30  Player 1 - INnoVation (Terran)  ...         0   \n",
       "2      394.8    960      60  Player 1 - INnoVation (Terran)  ...         0   \n",
       "3      400.4   1440      90  Player 1 - INnoVation (Terran)  ...         0   \n",
       "4      299.6   1920     120  Player 1 - INnoVation (Terran)  ...         0   \n",
       "...      ...    ...     ...                             ...  ...       ...   \n",
       "69856  319.2  33600    2100  Player 2 - LiquidClem (Terran)  ...         2   \n",
       "69857  459.2  34080    2130  Player 2 - LiquidClem (Terran)  ...         2   \n",
       "69858  338.8  34560    2160  Player 2 - LiquidClem (Terran)  ...         2   \n",
       "69859  319.2  35040    2190  Player 2 - LiquidClem (Terran)  ...         2   \n",
       "69860    0.0  35520    2220  Player 2 - LiquidClem (Terran)  ...         2   \n",
       "\n",
       "       starportreactor  starporttechlab  supplydepot  techlab  thor  viking  \\\n",
       "0                    0                0            0        0     0       0   \n",
       "1                    0                0            1        0     0       0   \n",
       "2                    0                0            1        0     0       0   \n",
       "3                    0                0            1        0     0       0   \n",
       "4                    0                0            1        0     0       0   \n",
       "...                ...              ...          ...      ...   ...     ...   \n",
       "69856                2                0           15        0     0       0   \n",
       "69857                2                0           15        0     0       0   \n",
       "69858                2                0           15        0     0       0   \n",
       "69859                2                0           15        0     0       0   \n",
       "69860                2                0           15        0     0       0   \n",
       "\n",
       "       warhound  widowmine  win  \n",
       "0             0          0    1  \n",
       "1             0          0    1  \n",
       "2             0          0    1  \n",
       "3             0          0    1  \n",
       "4             0          0    1  \n",
       "...         ...        ...  ...  \n",
       "69856         0         11    0  \n",
       "69857         0         11    0  \n",
       "69858         0         12    0  \n",
       "69859         0         10    0  \n",
       "69860         0         11    0  \n",
       "\n",
       "[69861 rows x 69 columns]"
      ]
     },
     "metadata": {},
     "output_type": "display_data"
    }
   ],
   "source": [
    "#Importing data from csv\n",
    "from pandas import read_csv\n",
    "import pandas as pd\n",
    "\n",
    "terran_data = read_csv('../Output/terranFeb.csv', header=0, index_col=False)\n",
    "display(terran_data)"
   ]
  },
  {
   "cell_type": "code",
   "execution_count": 84,
   "id": "charming-nancy",
   "metadata": {
    "scrolled": true
   },
   "outputs": [
    {
     "data": {
      "text/html": [
       "<div>\n",
       "<style scoped>\n",
       "    .dataframe tbody tr th:only-of-type {\n",
       "        vertical-align: middle;\n",
       "    }\n",
       "\n",
       "    .dataframe tbody tr th {\n",
       "        vertical-align: top;\n",
       "    }\n",
       "\n",
       "    .dataframe thead th {\n",
       "        text-align: right;\n",
       "    }\n",
       "</style>\n",
       "<table border=\"1\" class=\"dataframe\">\n",
       "  <thead>\n",
       "    <tr style=\"text-align: right;\">\n",
       "      <th></th>\n",
       "      <th>ap30s</th>\n",
       "      <th>workers_active_count</th>\n",
       "      <th>food_used</th>\n",
       "      <th>food_made</th>\n",
       "      <th>minerals_current</th>\n",
       "      <th>minerals_collection_rate</th>\n",
       "      <th>minerals_used_in_progress</th>\n",
       "      <th>minerals_used_current</th>\n",
       "      <th>minerals_used_active_forces</th>\n",
       "      <th>minerals_lost</th>\n",
       "      <th>...</th>\n",
       "      <th>Map_킹스 코브 - 래더</th>\n",
       "      <th>Map_트라이튼 - 래더</th>\n",
       "      <th>Map_필러스 오브 골드 - 래더</th>\n",
       "      <th>Region_cn</th>\n",
       "      <th>Region_eu</th>\n",
       "      <th>Region_kr</th>\n",
       "      <th>Region_us</th>\n",
       "      <th>Enemy_P</th>\n",
       "      <th>Enemy_T</th>\n",
       "      <th>Enemy_Z</th>\n",
       "    </tr>\n",
       "  </thead>\n",
       "  <tbody>\n",
       "    <tr>\n",
       "      <th>0</th>\n",
       "      <td>0.000000</td>\n",
       "      <td>0.115385</td>\n",
       "      <td>0.060</td>\n",
       "      <td>0.034965</td>\n",
       "      <td>0.004850</td>\n",
       "      <td>0.000000</td>\n",
       "      <td>0.000000</td>\n",
       "      <td>0.000000</td>\n",
       "      <td>0.0</td>\n",
       "      <td>0.0</td>\n",
       "      <td>...</td>\n",
       "      <td>0</td>\n",
       "      <td>0</td>\n",
       "      <td>0</td>\n",
       "      <td>0</td>\n",
       "      <td>0</td>\n",
       "      <td>0</td>\n",
       "      <td>1</td>\n",
       "      <td>1</td>\n",
       "      <td>0</td>\n",
       "      <td>0</td>\n",
       "    </tr>\n",
       "    <tr>\n",
       "      <th>1</th>\n",
       "      <td>0.278146</td>\n",
       "      <td>0.125000</td>\n",
       "      <td>0.070</td>\n",
       "      <td>0.034965</td>\n",
       "      <td>0.004850</td>\n",
       "      <td>0.129199</td>\n",
       "      <td>0.031915</td>\n",
       "      <td>0.001706</td>\n",
       "      <td>0.0</td>\n",
       "      <td>0.0</td>\n",
       "      <td>...</td>\n",
       "      <td>0</td>\n",
       "      <td>0</td>\n",
       "      <td>0</td>\n",
       "      <td>0</td>\n",
       "      <td>0</td>\n",
       "      <td>0</td>\n",
       "      <td>1</td>\n",
       "      <td>1</td>\n",
       "      <td>0</td>\n",
       "      <td>0</td>\n",
       "    </tr>\n",
       "    <tr>\n",
       "      <th>2</th>\n",
       "      <td>0.466887</td>\n",
       "      <td>0.144231</td>\n",
       "      <td>0.080</td>\n",
       "      <td>0.053613</td>\n",
       "      <td>0.006305</td>\n",
       "      <td>0.129199</td>\n",
       "      <td>0.042553</td>\n",
       "      <td>0.008532</td>\n",
       "      <td>0.0</td>\n",
       "      <td>0.0</td>\n",
       "      <td>...</td>\n",
       "      <td>0</td>\n",
       "      <td>0</td>\n",
       "      <td>0</td>\n",
       "      <td>0</td>\n",
       "      <td>0</td>\n",
       "      <td>0</td>\n",
       "      <td>1</td>\n",
       "      <td>1</td>\n",
       "      <td>0</td>\n",
       "      <td>0</td>\n",
       "    </tr>\n",
       "    <tr>\n",
       "      <th>3</th>\n",
       "      <td>0.473510</td>\n",
       "      <td>0.163462</td>\n",
       "      <td>0.090</td>\n",
       "      <td>0.053613</td>\n",
       "      <td>0.013095</td>\n",
       "      <td>0.154079</td>\n",
       "      <td>0.058511</td>\n",
       "      <td>0.011945</td>\n",
       "      <td>0.0</td>\n",
       "      <td>0.0</td>\n",
       "      <td>...</td>\n",
       "      <td>0</td>\n",
       "      <td>0</td>\n",
       "      <td>0</td>\n",
       "      <td>0</td>\n",
       "      <td>0</td>\n",
       "      <td>0</td>\n",
       "      <td>1</td>\n",
       "      <td>1</td>\n",
       "      <td>0</td>\n",
       "      <td>0</td>\n",
       "    </tr>\n",
       "    <tr>\n",
       "      <th>4</th>\n",
       "      <td>0.354305</td>\n",
       "      <td>0.173077</td>\n",
       "      <td>0.095</td>\n",
       "      <td>0.053613</td>\n",
       "      <td>0.039286</td>\n",
       "      <td>0.134175</td>\n",
       "      <td>0.042553</td>\n",
       "      <td>0.016212</td>\n",
       "      <td>0.0</td>\n",
       "      <td>0.0</td>\n",
       "      <td>...</td>\n",
       "      <td>0</td>\n",
       "      <td>0</td>\n",
       "      <td>0</td>\n",
       "      <td>0</td>\n",
       "      <td>0</td>\n",
       "      <td>0</td>\n",
       "      <td>1</td>\n",
       "      <td>1</td>\n",
       "      <td>0</td>\n",
       "      <td>0</td>\n",
       "    </tr>\n",
       "  </tbody>\n",
       "</table>\n",
       "<p>5 rows × 132 columns</p>\n",
       "</div>"
      ],
      "text/plain": [
       "      ap30s  workers_active_count  food_used  food_made  minerals_current  \\\n",
       "0  0.000000              0.115385      0.060   0.034965          0.004850   \n",
       "1  0.278146              0.125000      0.070   0.034965          0.004850   \n",
       "2  0.466887              0.144231      0.080   0.053613          0.006305   \n",
       "3  0.473510              0.163462      0.090   0.053613          0.013095   \n",
       "4  0.354305              0.173077      0.095   0.053613          0.039286   \n",
       "\n",
       "   minerals_collection_rate  minerals_used_in_progress  minerals_used_current  \\\n",
       "0                  0.000000                   0.000000               0.000000   \n",
       "1                  0.129199                   0.031915               0.001706   \n",
       "2                  0.129199                   0.042553               0.008532   \n",
       "3                  0.154079                   0.058511               0.011945   \n",
       "4                  0.134175                   0.042553               0.016212   \n",
       "\n",
       "   minerals_used_active_forces  minerals_lost  ...  Map_킹스 코브 - 래더  \\\n",
       "0                          0.0            0.0  ...               0   \n",
       "1                          0.0            0.0  ...               0   \n",
       "2                          0.0            0.0  ...               0   \n",
       "3                          0.0            0.0  ...               0   \n",
       "4                          0.0            0.0  ...               0   \n",
       "\n",
       "   Map_트라이튼 - 래더  Map_필러스 오브 골드 - 래더  Region_cn  Region_eu  Region_kr  \\\n",
       "0              0                   0          0          0          0   \n",
       "1              0                   0          0          0          0   \n",
       "2              0                   0          0          0          0   \n",
       "3              0                   0          0          0          0   \n",
       "4              0                   0          0          0          0   \n",
       "\n",
       "   Region_us  Enemy_P  Enemy_T  Enemy_Z  \n",
       "0          1        1        0        0  \n",
       "1          1        1        0        0  \n",
       "2          1        1        0        0  \n",
       "3          1        1        0        0  \n",
       "4          1        1        0        0  \n",
       "\n",
       "[5 rows x 132 columns]"
      ]
     },
     "metadata": {},
     "output_type": "display_data"
    },
    {
     "data": {
      "text/html": [
       "<div>\n",
       "<style scoped>\n",
       "    .dataframe tbody tr th:only-of-type {\n",
       "        vertical-align: middle;\n",
       "    }\n",
       "\n",
       "    .dataframe tbody tr th {\n",
       "        vertical-align: top;\n",
       "    }\n",
       "\n",
       "    .dataframe thead th {\n",
       "        text-align: right;\n",
       "    }\n",
       "</style>\n",
       "<table border=\"1\" class=\"dataframe\">\n",
       "  <thead>\n",
       "    <tr style=\"text-align: right;\">\n",
       "      <th></th>\n",
       "      <th>ap30s</th>\n",
       "      <th>workers_active_count</th>\n",
       "      <th>food_used</th>\n",
       "      <th>food_made</th>\n",
       "      <th>minerals_current</th>\n",
       "      <th>minerals_collection_rate</th>\n",
       "      <th>minerals_used_in_progress</th>\n",
       "      <th>minerals_used_current</th>\n",
       "      <th>minerals_used_active_forces</th>\n",
       "      <th>minerals_lost</th>\n",
       "      <th>...</th>\n",
       "      <th>Map_킹스 코브 - 래더</th>\n",
       "      <th>Map_트라이튼 - 래더</th>\n",
       "      <th>Map_필러스 오브 골드 - 래더</th>\n",
       "      <th>Region_cn</th>\n",
       "      <th>Region_eu</th>\n",
       "      <th>Region_kr</th>\n",
       "      <th>Region_us</th>\n",
       "      <th>Enemy_P</th>\n",
       "      <th>Enemy_T</th>\n",
       "      <th>Enemy_Z</th>\n",
       "    </tr>\n",
       "  </thead>\n",
       "  <tbody>\n",
       "    <tr>\n",
       "      <th>69856</th>\n",
       "      <td>0.377483</td>\n",
       "      <td>0.596154</td>\n",
       "      <td>0.835</td>\n",
       "      <td>0.543124</td>\n",
       "      <td>0.043166</td>\n",
       "      <td>0.263551</td>\n",
       "      <td>0.287234</td>\n",
       "      <td>0.553754</td>\n",
       "      <td>0.425134</td>\n",
       "      <td>0.567680</td>\n",
       "      <td>...</td>\n",
       "      <td>0</td>\n",
       "      <td>0</td>\n",
       "      <td>0</td>\n",
       "      <td>0</td>\n",
       "      <td>1</td>\n",
       "      <td>0</td>\n",
       "      <td>0</td>\n",
       "      <td>0</td>\n",
       "      <td>0</td>\n",
       "      <td>1</td>\n",
       "    </tr>\n",
       "    <tr>\n",
       "      <th>69857</th>\n",
       "      <td>0.543046</td>\n",
       "      <td>0.432692</td>\n",
       "      <td>0.740</td>\n",
       "      <td>0.543124</td>\n",
       "      <td>0.006790</td>\n",
       "      <td>0.124222</td>\n",
       "      <td>0.138298</td>\n",
       "      <td>0.540102</td>\n",
       "      <td>0.489305</td>\n",
       "      <td>0.597062</td>\n",
       "      <td>...</td>\n",
       "      <td>0</td>\n",
       "      <td>0</td>\n",
       "      <td>0</td>\n",
       "      <td>0</td>\n",
       "      <td>1</td>\n",
       "      <td>0</td>\n",
       "      <td>0</td>\n",
       "      <td>0</td>\n",
       "      <td>0</td>\n",
       "      <td>1</td>\n",
       "    </tr>\n",
       "    <tr>\n",
       "      <th>69858</th>\n",
       "      <td>0.400662</td>\n",
       "      <td>0.394231</td>\n",
       "      <td>0.690</td>\n",
       "      <td>0.543124</td>\n",
       "      <td>0.016490</td>\n",
       "      <td>0.193887</td>\n",
       "      <td>0.063830</td>\n",
       "      <td>0.532423</td>\n",
       "      <td>0.486631</td>\n",
       "      <td>0.610958</td>\n",
       "      <td>...</td>\n",
       "      <td>0</td>\n",
       "      <td>0</td>\n",
       "      <td>0</td>\n",
       "      <td>0</td>\n",
       "      <td>1</td>\n",
       "      <td>0</td>\n",
       "      <td>0</td>\n",
       "      <td>0</td>\n",
       "      <td>0</td>\n",
       "      <td>1</td>\n",
       "    </tr>\n",
       "    <tr>\n",
       "      <th>69859</th>\n",
       "      <td>0.377483</td>\n",
       "      <td>0.355769</td>\n",
       "      <td>0.565</td>\n",
       "      <td>0.508159</td>\n",
       "      <td>0.058687</td>\n",
       "      <td>0.293407</td>\n",
       "      <td>0.069149</td>\n",
       "      <td>0.460751</td>\n",
       "      <td>0.352941</td>\n",
       "      <td>0.649567</td>\n",
       "      <td>...</td>\n",
       "      <td>0</td>\n",
       "      <td>0</td>\n",
       "      <td>0</td>\n",
       "      <td>0</td>\n",
       "      <td>1</td>\n",
       "      <td>0</td>\n",
       "      <td>0</td>\n",
       "      <td>0</td>\n",
       "      <td>0</td>\n",
       "      <td>1</td>\n",
       "    </tr>\n",
       "    <tr>\n",
       "      <th>69860</th>\n",
       "      <td>0.000000</td>\n",
       "      <td>0.355769</td>\n",
       "      <td>0.665</td>\n",
       "      <td>0.508159</td>\n",
       "      <td>0.004171</td>\n",
       "      <td>0.263551</td>\n",
       "      <td>0.234043</td>\n",
       "      <td>0.468430</td>\n",
       "      <td>0.377005</td>\n",
       "      <td>0.649567</td>\n",
       "      <td>...</td>\n",
       "      <td>0</td>\n",
       "      <td>0</td>\n",
       "      <td>0</td>\n",
       "      <td>0</td>\n",
       "      <td>1</td>\n",
       "      <td>0</td>\n",
       "      <td>0</td>\n",
       "      <td>0</td>\n",
       "      <td>0</td>\n",
       "      <td>1</td>\n",
       "    </tr>\n",
       "  </tbody>\n",
       "</table>\n",
       "<p>5 rows × 132 columns</p>\n",
       "</div>"
      ],
      "text/plain": [
       "          ap30s  workers_active_count  food_used  food_made  minerals_current  \\\n",
       "69856  0.377483              0.596154      0.835   0.543124          0.043166   \n",
       "69857  0.543046              0.432692      0.740   0.543124          0.006790   \n",
       "69858  0.400662              0.394231      0.690   0.543124          0.016490   \n",
       "69859  0.377483              0.355769      0.565   0.508159          0.058687   \n",
       "69860  0.000000              0.355769      0.665   0.508159          0.004171   \n",
       "\n",
       "       minerals_collection_rate  minerals_used_in_progress  \\\n",
       "69856                  0.263551                   0.287234   \n",
       "69857                  0.124222                   0.138298   \n",
       "69858                  0.193887                   0.063830   \n",
       "69859                  0.293407                   0.069149   \n",
       "69860                  0.263551                   0.234043   \n",
       "\n",
       "       minerals_used_current  minerals_used_active_forces  minerals_lost  ...  \\\n",
       "69856               0.553754                     0.425134       0.567680  ...   \n",
       "69857               0.540102                     0.489305       0.597062  ...   \n",
       "69858               0.532423                     0.486631       0.610958  ...   \n",
       "69859               0.460751                     0.352941       0.649567  ...   \n",
       "69860               0.468430                     0.377005       0.649567  ...   \n",
       "\n",
       "       Map_킹스 코브 - 래더  Map_트라이튼 - 래더  Map_필러스 오브 골드 - 래더  Region_cn  \\\n",
       "69856               0              0                   0          0   \n",
       "69857               0              0                   0          0   \n",
       "69858               0              0                   0          0   \n",
       "69859               0              0                   0          0   \n",
       "69860               0              0                   0          0   \n",
       "\n",
       "       Region_eu  Region_kr  Region_us  Enemy_P  Enemy_T  Enemy_Z  \n",
       "69856          1          0          0        0        0        1  \n",
       "69857          1          0          0        0        0        1  \n",
       "69858          1          0          0        0        0        1  \n",
       "69859          1          0          0        0        0        1  \n",
       "69860          1          0          0        0        0        1  \n",
       "\n",
       "[5 rows x 132 columns]"
      ]
     },
     "metadata": {},
     "output_type": "display_data"
    }
   ],
   "source": [
    "from sklearn.preprocessing import MinMaxScaler\n",
    "\n",
    "no_normalize = ['match_id','map_name','region','race','enemy_race','frame','second','player','game_length']\n",
    "\n",
    "#Names of Columns that we want to Normalize (Numerical variables only)\n",
    "normalize_columns = [x for x in list(terran_data) if x not in no_normalize]\n",
    "\n",
    "#Normalizing these columns\n",
    "norm = terran_data[normalize_columns].values\n",
    "norm_scaled = MinMaxScaler().fit_transform(norm)\n",
    "terran_data_normalized = pd.DataFrame(norm_scaled, columns=normalize_columns, index=terran_data.index)\n",
    "\n",
    "#One-hot Encoding the categorical variables\n",
    "terran_data_normalized = terran_data_normalized.join(pd.get_dummies(terran_data['map_name'], prefix='Map'))\n",
    "terran_data_normalized = terran_data_normalized.join(pd.get_dummies(terran_data['region'], prefix='Region'))\n",
    "terran_data_normalized = terran_data_normalized.join(pd.get_dummies(terran_data['enemy_race'], prefix='Enemy'))\n",
    "\n",
    "#Displaying first and last 5 rows\n",
    "display(terran_data_normalized.head(5), terran_data_normalized.tail(5))"
   ]
  },
  {
   "cell_type": "code",
   "execution_count": 85,
   "id": "satisfied-gather",
   "metadata": {},
   "outputs": [],
   "source": [
    "#Split data into dependent and independent variables\n",
    "no_X = ['win']\n",
    "yes_X = [x for x in list(terran_data_normalized) if x not in no_X]\n",
    "\n",
    "Y = terran_data_normalized['win']\n",
    "X_normalized = terran_data_normalized[yes_X]"
   ]
  },
  {
   "cell_type": "code",
   "execution_count": 86,
   "id": "above-secretary",
   "metadata": {},
   "outputs": [],
   "source": [
    "#Split data into training, validation and testing set\n",
    "train_split = 0.8\n",
    "val_split = 0.2\n",
    "\n",
    "num_data = len(X_normalized)\n",
    "num_val = int(train_split * val_split * num_data)\n",
    "num_train = int(train_split * num_data) - num_val\n",
    "num_test = num_data - int(train_split * num_data)\n",
    "\n",
    "\n",
    "Y_train = Y[0:num_train]\n",
    "Y_val = Y[num_train:(num_train + num_val)]\n",
    "Y_test = Y[(num_val + num_train):]\n",
    "\n",
    "\n",
    "X_normalized_train = X_normalized[0:num_train]\n",
    "X_normalized_val = X_normalized[num_train:(num_train + num_val)]\n",
    "X_normalized_test = X_normalized[(num_val + num_train):]"
   ]
  },
  {
   "cell_type": "code",
   "execution_count": 87,
   "id": "closing-receipt",
   "metadata": {},
   "outputs": [],
   "source": [
    "X_train = terran_data_normalized[0:num_train]\n",
    "X_val = terran_data_normalized[num_train:(num_train + num_val)]\n",
    "X_test = terran_data_normalized[(num_val + num_train):]"
   ]
  },
  {
   "cell_type": "code",
   "execution_count": 88,
   "id": "ordered-chancellor",
   "metadata": {},
   "outputs": [
    {
     "data": {
      "text/plain": [
       "(44711,)"
      ]
     },
     "execution_count": 88,
     "metadata": {},
     "output_type": "execute_result"
    }
   ],
   "source": [
    "Y_train.shape"
   ]
  },
  {
   "cell_type": "code",
   "execution_count": 89,
   "id": "bearing-reminder",
   "metadata": {},
   "outputs": [
    {
     "data": {
      "text/plain": [
       "(44711, 132)"
      ]
     },
     "execution_count": 89,
     "metadata": {},
     "output_type": "execute_result"
    }
   ],
   "source": [
    "X_train.shape"
   ]
  },
  {
   "cell_type": "code",
   "execution_count": 90,
   "id": "accepting-booking",
   "metadata": {},
   "outputs": [],
   "source": [
    "import numpy as np\n",
    "\n",
    "class WindowGenerator():\n",
    "  def __init__(self, input_width, label_width, shift,\n",
    "               train_df=X_train, val_df=X_val, test_df=X_test,\n",
    "               label_columns=None):\n",
    "    # Store the raw data.\n",
    "    self.train_df = train_df\n",
    "    self.val_df = val_df\n",
    "    self.test_df = test_df\n",
    "\n",
    "    # Work out the label column indices.\n",
    "    self.label_columns = label_columns\n",
    "    if label_columns is not None:\n",
    "      self.label_columns_indices = {name: i for i, name in\n",
    "                                    enumerate(label_columns)}\n",
    "    self.column_indices = {name: i for i, name in\n",
    "                           enumerate(train_df.columns)}\n",
    "\n",
    "    # Work out the window parameters.\n",
    "    self.input_width = input_width\n",
    "    self.label_width = label_width\n",
    "    self.shift = shift\n",
    "\n",
    "    self.total_window_size = input_width + shift\n",
    "\n",
    "    self.input_slice = slice(0, input_width)\n",
    "    self.input_indices = np.arange(self.total_window_size)[self.input_slice]\n",
    "\n",
    "    self.label_start = self.total_window_size - self.label_width\n",
    "    self.labels_slice = slice(self.label_start, None)\n",
    "    self.label_indices = np.arange(self.total_window_size)[self.labels_slice]\n",
    "\n",
    "  def __repr__(self):\n",
    "    return '\\n'.join([\n",
    "        f'Total window size: {self.total_window_size}',\n",
    "        f'Input indices: {self.input_indices}',\n",
    "        f'Label indices: {self.label_indices}',\n",
    "        f'Label column name(s): {self.label_columns}'])"
   ]
  },
  {
   "cell_type": "code",
   "execution_count": 91,
   "id": "biblical-experiment",
   "metadata": {},
   "outputs": [
    {
     "data": {
      "text/plain": [
       "Total window size: 16\n",
       "Input indices: [ 0  1  2  3  4  5  6  7  8  9 10 11 12 13 14]\n",
       "Label indices: [ 1  2  3  4  5  6  7  8  9 10 11 12 13 14 15]\n",
       "Label column name(s): ['win']"
      ]
     },
     "execution_count": 91,
     "metadata": {},
     "output_type": "execute_result"
    }
   ],
   "source": [
    "w1 = WindowGenerator(input_width=15, label_width=15, shift=1,\n",
    "                     label_columns=['win'])\n",
    "w1"
   ]
  },
  {
   "cell_type": "code",
   "execution_count": 92,
   "id": "electronic-injection",
   "metadata": {},
   "outputs": [],
   "source": [
    "def split_window(self, features):\n",
    "  inputs = features[:, self.input_slice, :]\n",
    "  labels = features[:, self.labels_slice, :]\n",
    "  if self.label_columns is not None:\n",
    "    labels = tf.stack(\n",
    "        [labels[:, :, self.column_indices[name]] for name in self.label_columns],\n",
    "        axis=-1)\n",
    "\n",
    "  # Slicing doesn't preserve static shape information, so set the shapes\n",
    "  # manually. This way the `tf.data.Datasets` are easier to inspect.\n",
    "  inputs.set_shape([None, self.input_width, None])\n",
    "  labels.set_shape([None, self.label_width, None])\n",
    "\n",
    "  return inputs, labels\n",
    "\n",
    "WindowGenerator.split_window = split_window"
   ]
  },
  {
   "cell_type": "code",
   "execution_count": 93,
   "id": "marked-essence",
   "metadata": {},
   "outputs": [
    {
     "name": "stdout",
     "output_type": "stream",
     "text": [
      "All shapes are: (batch, time, features)\n",
      "Window shape: (1, 16, 131)\n",
      "Inputs shape: (1, 15, 131)\n",
      "labels shape: (1, 15, 1)\n"
     ]
    }
   ],
   "source": [
    "import tensorflow as tf\n",
    "tf.random.set_seed(1111)\n",
    "\n",
    "# Stack three slices, the length of the total window:\n",
    "example_window = tf.stack([np.array(X_normalized[:w1.total_window_size])])\n",
    "\n",
    "\n",
    "\n",
    "example_inputs, example_labels = w1.split_window(example_window)\n",
    "\n",
    "print('All shapes are: (batch, time, features)')\n",
    "print(f'Window shape: {example_window.shape}')\n",
    "print(f'Inputs shape: {example_inputs.shape}')\n",
    "print(f'labels shape: {example_labels.shape}')"
   ]
  },
  {
   "cell_type": "code",
   "execution_count": 94,
   "id": "returning-broadway",
   "metadata": {},
   "outputs": [],
   "source": [
    "import matplotlib.pyplot as plt\n",
    "\n",
    "def plot(self, model=None, plot_col='win', max_subplots=1):\n",
    "  inputs, labels = self.example\n",
    "  plt.figure(figsize=(20,15))\n",
    "  plot_col_index = self.column_indices[plot_col]\n",
    "  max_n = min(max_subplots, len(inputs))\n",
    "  for n in range(max_n):\n",
    "    plt.subplot(3, 1, n+1)\n",
    "    plt.ylabel(f'{plot_col} [normed]')\n",
    "    plt.plot(self.input_indices, inputs[n, :, plot_col_index],\n",
    "             label='Inputs', marker='.', zorder=-10)\n",
    "\n",
    "    if self.label_columns:\n",
    "      label_col_index = self.label_columns_indices.get(plot_col, None)\n",
    "    else:\n",
    "      label_col_index = plot_col_index\n",
    "\n",
    "    if label_col_index is None:\n",
    "      continue\n",
    "\n",
    "    plt.scatter(self.label_indices, labels[n, :, label_col_index],\n",
    "                edgecolors='k', label='Labels', c='#2ca02c', s=64)\n",
    "    if model is not None:\n",
    "      predictions = model(inputs)\n",
    "      plt.scatter(self.label_indices, predictions[n, :, label_col_index],\n",
    "                  marker='X', edgecolors='k', label='Predictions',\n",
    "                  c='#ff7f0e', s=64)\n",
    "\n",
    "    if n == 0:\n",
    "      plt.legend()\n",
    "\n",
    "  plt.xlabel('Time Step')\n",
    "\n",
    "WindowGenerator.plot = plot"
   ]
  },
  {
   "cell_type": "code",
   "execution_count": 95,
   "id": "supported-stuart",
   "metadata": {},
   "outputs": [
    {
     "data": {
      "image/png": "[encoded data removed]",
      "text/plain": [
       "<Figure size 1440x1080 with 1 Axes>"
      ]
     },
     "metadata": {
      "needs_background": "light"
     },
     "output_type": "display_data"
    }
   ],
   "source": [
    "w1.example = example_inputs, example_labels\n",
    "w1.plot()"
   ]
  },
  {
   "cell_type": "code",
   "execution_count": 96,
   "id": "american-humor",
   "metadata": {},
   "outputs": [],
   "source": [
    "def make_dataset(self, data):\n",
    "  data = np.array(data, dtype=np.float32)\n",
    "  ds = tf.keras.preprocessing.timeseries_dataset_from_array(\n",
    "      data=data,\n",
    "      targets=None,\n",
    "      sequence_length=self.total_window_size,\n",
    "      sequence_stride=1,\n",
    "      shuffle=True,\n",
    "      batch_size=32,)\n",
    "\n",
    "  ds = ds.map(self.split_window)\n",
    "\n",
    "  return ds\n",
    "\n",
    "WindowGenerator.make_dataset = make_dataset"
   ]
  },
  {
   "cell_type": "code",
   "execution_count": 97,
   "id": "provincial-timing",
   "metadata": {},
   "outputs": [],
   "source": [
    "@property\n",
    "def train(self):\n",
    "  return self.make_dataset(self.train_df)\n",
    "\n",
    "@property\n",
    "def val(self):\n",
    "  return self.make_dataset(self.val_df)\n",
    "\n",
    "@property\n",
    "def test(self):\n",
    "  return self.make_dataset(self.test_df)\n",
    "\n",
    "@property\n",
    "def example(self):\n",
    "  \"\"\"Get and cache an example batch of `inputs, labels` for plotting.\"\"\"\n",
    "  result = getattr(self, '_example', None)\n",
    "  if result is None:\n",
    "    # No example batch was found, so get one from the `.train` dataset\n",
    "    result = next(iter(self.train))\n",
    "    # And cache it for next time\n",
    "    self._example = result\n",
    "  return result\n",
    "\n",
    "WindowGenerator.train = train\n",
    "WindowGenerator.val = val\n",
    "WindowGenerator.test = test\n",
    "WindowGenerator.example = example"
   ]
  },
  {
   "cell_type": "code",
   "execution_count": 98,
   "id": "intense-guarantee",
   "metadata": {},
   "outputs": [
    {
     "data": {
      "text/plain": [
       "Total window size: 2\n",
       "Input indices: [0]\n",
       "Label indices: [1]\n",
       "Label column name(s): ['win']"
      ]
     },
     "execution_count": 98,
     "metadata": {},
     "output_type": "execute_result"
    }
   ],
   "source": [
    "single_step_window = WindowGenerator(\n",
    "    input_width=1, label_width=1, shift=1,\n",
    "    label_columns=['win'])\n",
    "single_step_window"
   ]
  },
  {
   "cell_type": "code",
   "execution_count": 99,
   "id": "southern-timber",
   "metadata": {},
   "outputs": [
    {
     "data": {
      "text/plain": [
       "Total window size: 16\n",
       "Input indices: [ 0  1  2  3  4  5  6  7  8  9 10 11 12 13 14]\n",
       "Label indices: [ 1  2  3  4  5  6  7  8  9 10 11 12 13 14 15]\n",
       "Label column name(s): ['win']"
      ]
     },
     "execution_count": 99,
     "metadata": {},
     "output_type": "execute_result"
    }
   ],
   "source": [
    "wide_window = WindowGenerator(\n",
    "    input_width=15, label_width=15, shift=1,\n",
    "    label_columns=['win'])\n",
    "\n",
    "wide_window"
   ]
  },
  {
   "cell_type": "code",
   "execution_count": 100,
   "id": "underlying-catering",
   "metadata": {},
   "outputs": [],
   "source": [
    "MAX_EPOCHS = 100\n",
    "\n",
    "def compile_and_fit(model, window, patience=3):\n",
    "    early_stopping = tf.keras.callbacks.EarlyStopping(monitor='val_loss',\n",
    "                                                    patience=patience,\n",
    "                                                    mode='min')\n",
    "    model.compile(loss=tf.keras.losses.BinaryCrossentropy(),\n",
    "                optimizer=tf.optimizers.Adam(),\n",
    "                metrics=[tf.keras.metrics.BinaryAccuracy(),tf.keras.metrics.Precision(),\n",
    "                        tf.keras.metrics.Recall(), tf.keras.metrics.AUC()])\n",
    "\n",
    "    history = model.fit(window.train, epochs=MAX_EPOCHS,\n",
    "                      validation_data=window.val,\n",
    "                     callbacks=[early_stopping])\n",
    "    return history"
   ]
  },
  {
   "cell_type": "code",
   "execution_count": 101,
   "id": "mathematical-wiring",
   "metadata": {},
   "outputs": [],
   "source": [
    "linear = tf.keras.Sequential([\n",
    "    tf.keras.layers.Dense(units=1, activation='sigmoid')\n",
    "])"
   ]
  },
  {
   "cell_type": "code",
   "execution_count": 102,
   "id": "applied-replication",
   "metadata": {},
   "outputs": [
    {
     "name": "stdout",
     "output_type": "stream",
     "text": [
      "WARNING:tensorflow:AutoGraph could not transform <bound method split_window of Total window size: 16\n",
      "Input indices: [ 0  1  2  3  4  5  6  7  8  9 10 11 12 13 14]\n",
      "Label indices: [ 1  2  3  4  5  6  7  8  9 10 11 12 13 14 15]\n",
      "Label column name(s): ['win']> and will run it as-is.\n",
      "Please report this to the TensorFlow team. When filing the bug, set the verbosity to 10 (on Linux, `export AUTOGRAPH_VERBOSITY=10`) and attach the full output.\n",
      "Cause: module 'gast' has no attribute 'Index'\n",
      "To silence this warning, decorate the function with @tf.autograph.experimental.do_not_convert\n",
      "WARNING: AutoGraph could not transform <bound method split_window of Total window size: 16\n",
      "Input indices: [ 0  1  2  3  4  5  6  7  8  9 10 11 12 13 14]\n",
      "Label indices: [ 1  2  3  4  5  6  7  8  9 10 11 12 13 14 15]\n",
      "Label column name(s): ['win']> and will run it as-is.\n",
      "Please report this to the TensorFlow team. When filing the bug, set the verbosity to 10 (on Linux, `export AUTOGRAPH_VERBOSITY=10`) and attach the full output.\n",
      "Cause: module 'gast' has no attribute 'Index'\n",
      "To silence this warning, decorate the function with @tf.autograph.experimental.do_not_convert\n",
      "Epoch 1/100\n",
      "1397/1397 [==============================] - 4s 3ms/step - loss: 0.5655 - binary_accuracy: 0.8704 - precision_19: 0.8746 - recall_19: 0.8575 - auc_19: 0.9413 - val_loss: 0.4511 - val_binary_accuracy: 0.9862 - val_precision_19: 0.9872 - val_recall_19: 0.9872 - val_auc_19: 0.9868\n",
      "Epoch 2/100\n",
      "1397/1397 [==============================] - 3s 2ms/step - loss: 0.3580 - binary_accuracy: 0.9844 - precision_19: 0.9831 - recall_19: 0.9850 - auc_19: 0.9859 - val_loss: 0.2969 - val_binary_accuracy: 0.9863 - val_precision_19: 0.9874 - val_recall_19: 0.9872 - val_auc_19: 0.9869\n",
      "Epoch 3/100\n",
      "1397/1397 [==============================] - 3s 2ms/step - loss: 0.2392 - binary_accuracy: 0.9854 - precision_19: 0.9850 - recall_19: 0.9851 - auc_19: 0.9860 - val_loss: 0.2039 - val_binary_accuracy: 0.9863 - val_precision_19: 0.9874 - val_recall_19: 0.9872 - val_auc_19: 0.9871\n",
      "Epoch 4/100\n",
      "1397/1397 [==============================] - 3s 2ms/step - loss: 0.1688 - binary_accuracy: 0.9854 - precision_19: 0.9850 - recall_19: 0.9851 - auc_19: 0.9862 - val_loss: 0.1472 - val_binary_accuracy: 0.9863 - val_precision_19: 0.9874 - val_recall_19: 0.9872 - val_auc_19: 0.9874\n",
      "Epoch 5/100\n",
      "1397/1397 [==============================] - 3s 2ms/step - loss: 0.1266 - binary_accuracy: 0.9854 - precision_19: 0.9850 - recall_19: 0.9851 - auc_19: 0.9866 - val_loss: 0.1128 - val_binary_accuracy: 0.9863 - val_precision_19: 0.9874 - val_recall_19: 0.9872 - val_auc_19: 0.9878\n",
      "Epoch 6/100\n",
      "1397/1397 [==============================] - 3s 2ms/step - loss: 0.1017 - binary_accuracy: 0.9854 - precision_19: 0.9850 - recall_19: 0.9851 - auc_19: 0.9872 - val_loss: 0.0925 - val_binary_accuracy: 0.9863 - val_precision_19: 0.9874 - val_recall_19: 0.9872 - val_auc_19: 0.9885\n",
      "Epoch 7/100\n",
      "1397/1397 [==============================] - 3s 2ms/step - loss: 0.0874 - binary_accuracy: 0.9854 - precision_19: 0.9850 - recall_19: 0.9851 - auc_19: 0.9880 - val_loss: 0.0810 - val_binary_accuracy: 0.9863 - val_precision_19: 0.9874 - val_recall_19: 0.9872 - val_auc_19: 0.9894\n",
      "Epoch 8/100\n",
      "1397/1397 [==============================] - 3s 2ms/step - loss: 0.0797 - binary_accuracy: 0.9854 - precision_19: 0.9850 - recall_19: 0.9851 - auc_19: 0.9888 - val_loss: 0.0748 - val_binary_accuracy: 0.9863 - val_precision_19: 0.9874 - val_recall_19: 0.9872 - val_auc_19: 0.9898\n",
      "Epoch 9/100\n",
      "1397/1397 [==============================] - 3s 2ms/step - loss: 0.0758 - binary_accuracy: 0.9854 - precision_19: 0.9850 - recall_19: 0.9851 - auc_19: 0.9895 - val_loss: 0.0718 - val_binary_accuracy: 0.9863 - val_precision_19: 0.9874 - val_recall_19: 0.9872 - val_auc_19: 0.9904\n",
      "Epoch 10/100\n",
      "1397/1397 [==============================] - 3s 2ms/step - loss: 0.0741 - binary_accuracy: 0.9854 - precision_19: 0.9850 - recall_19: 0.9851 - auc_19: 0.9900 - val_loss: 0.0706 - val_binary_accuracy: 0.9863 - val_precision_19: 0.9874 - val_recall_19: 0.9872 - val_auc_19: 0.9904\n",
      "Epoch 11/100\n",
      "1397/1397 [==============================] - 3s 2ms/step - loss: 0.0733 - binary_accuracy: 0.9854 - precision_19: 0.9850 - recall_19: 0.9851 - auc_19: 0.9903 - val_loss: 0.0700 - val_binary_accuracy: 0.9863 - val_precision_19: 0.9874 - val_recall_19: 0.9872 - val_auc_19: 0.9906\n",
      "Epoch 12/100\n",
      "1397/1397 [==============================] - 3s 2ms/step - loss: 0.0729 - binary_accuracy: 0.9854 - precision_19: 0.9850 - recall_19: 0.9851 - auc_19: 0.9905 - val_loss: 0.0697 - val_binary_accuracy: 0.9863 - val_precision_19: 0.9874 - val_recall_19: 0.9872 - val_auc_19: 0.9908\n",
      "Epoch 13/100\n",
      "1397/1397 [==============================] - 3s 2ms/step - loss: 0.0726 - binary_accuracy: 0.9854 - precision_19: 0.9850 - recall_19: 0.9851 - auc_19: 0.9907 - val_loss: 0.0695 - val_binary_accuracy: 0.9863 - val_precision_19: 0.9874 - val_recall_19: 0.9872 - val_auc_19: 0.9907\n",
      "Epoch 14/100\n",
      "1397/1397 [==============================] - 3s 2ms/step - loss: 0.0724 - binary_accuracy: 0.9854 - precision_19: 0.9850 - recall_19: 0.9851 - auc_19: 0.9907 - val_loss: 0.0694 - val_binary_accuracy: 0.9863 - val_precision_19: 0.9874 - val_recall_19: 0.9872 - val_auc_19: 0.9909\n",
      "Epoch 15/100\n",
      "1397/1397 [==============================] - 3s 2ms/step - loss: 0.0722 - binary_accuracy: 0.9854 - precision_19: 0.9850 - recall_19: 0.9851 - auc_19: 0.9908 - val_loss: 0.0693 - val_binary_accuracy: 0.9863 - val_precision_19: 0.9874 - val_recall_19: 0.9872 - val_auc_19: 0.9909\n",
      "Epoch 16/100\n",
      "1397/1397 [==============================] - 3s 2ms/step - loss: 0.0721 - binary_accuracy: 0.9854 - precision_19: 0.9850 - recall_19: 0.9851 - auc_19: 0.9909 - val_loss: 0.0692 - val_binary_accuracy: 0.9863 - val_precision_19: 0.9874 - val_recall_19: 0.9872 - val_auc_19: 0.9911\n",
      "Epoch 17/100\n",
      "1397/1397 [==============================] - 3s 2ms/step - loss: 0.0720 - binary_accuracy: 0.9854 - precision_19: 0.9850 - recall_19: 0.9851 - auc_19: 0.9909 - val_loss: 0.0692 - val_binary_accuracy: 0.9863 - val_precision_19: 0.9874 - val_recall_19: 0.9872 - val_auc_19: 0.9911\n",
      "Epoch 18/100\n",
      "1397/1397 [==============================] - 3s 2ms/step - loss: 0.0719 - binary_accuracy: 0.9854 - precision_19: 0.9850 - recall_19: 0.9851 - auc_19: 0.9910 - val_loss: 0.0691 - val_binary_accuracy: 0.9863 - val_precision_19: 0.9874 - val_recall_19: 0.9872 - val_auc_19: 0.9912\n",
      "Epoch 19/100\n",
      "1397/1397 [==============================] - 3s 2ms/step - loss: 0.0718 - binary_accuracy: 0.9854 - precision_19: 0.9850 - recall_19: 0.9851 - auc_19: 0.9910 - val_loss: 0.0691 - val_binary_accuracy: 0.9863 - val_precision_19: 0.9874 - val_recall_19: 0.9872 - val_auc_19: 0.9912\n",
      "Epoch 20/100\n",
      "1397/1397 [==============================] - 3s 2ms/step - loss: 0.0718 - binary_accuracy: 0.9854 - precision_19: 0.9850 - recall_19: 0.9851 - auc_19: 0.9910 - val_loss: 0.0690 - val_binary_accuracy: 0.9863 - val_precision_19: 0.9874 - val_recall_19: 0.9872 - val_auc_19: 0.9911\n",
      "Epoch 21/100\n",
      "1397/1397 [==============================] - 3s 2ms/step - loss: 0.0717 - binary_accuracy: 0.9854 - precision_19: 0.9850 - recall_19: 0.9851 - auc_19: 0.9910 - val_loss: 0.0690 - val_binary_accuracy: 0.9863 - val_precision_19: 0.9874 - val_recall_19: 0.9872 - val_auc_19: 0.9912\n",
      "Epoch 22/100\n",
      "1397/1397 [==============================] - 3s 2ms/step - loss: 0.0716 - binary_accuracy: 0.9854 - precision_19: 0.9850 - recall_19: 0.9851 - auc_19: 0.9910 - val_loss: 0.0690 - val_binary_accuracy: 0.9863 - val_precision_19: 0.9874 - val_recall_19: 0.9872 - val_auc_19: 0.9912\n",
      "Epoch 23/100\n",
      "1397/1397 [==============================] - 3s 2ms/step - loss: 0.0716 - binary_accuracy: 0.9854 - precision_19: 0.9850 - recall_19: 0.9851 - auc_19: 0.9910 - val_loss: 0.0690 - val_binary_accuracy: 0.9863 - val_precision_19: 0.9874 - val_recall_19: 0.9872 - val_auc_19: 0.9910\n",
      "Epoch 24/100\n",
      "1397/1397 [==============================] - 3s 2ms/step - loss: 0.0716 - binary_accuracy: 0.9854 - precision_19: 0.9850 - recall_19: 0.9851 - auc_19: 0.9910 - val_loss: 0.0689 - val_binary_accuracy: 0.9863 - val_precision_19: 0.9874 - val_recall_19: 0.9872 - val_auc_19: 0.9910\n",
      "Epoch 25/100\n",
      "1397/1397 [==============================] - 3s 2ms/step - loss: 0.0715 - binary_accuracy: 0.9854 - precision_19: 0.9850 - recall_19: 0.9851 - auc_19: 0.9910 - val_loss: 0.0689 - val_binary_accuracy: 0.9863 - val_precision_19: 0.9874 - val_recall_19: 0.9872 - val_auc_19: 0.9910\n",
      "Epoch 26/100\n",
      "1397/1397 [==============================] - 3s 2ms/step - loss: 0.0715 - binary_accuracy: 0.9854 - precision_19: 0.9850 - recall_19: 0.9851 - auc_19: 0.9910 - val_loss: 0.0690 - val_binary_accuracy: 0.9863 - val_precision_19: 0.9874 - val_recall_19: 0.9872 - val_auc_19: 0.9911\n",
      "Epoch 27/100\n",
      "1397/1397 [==============================] - 3s 2ms/step - loss: 0.0714 - binary_accuracy: 0.9854 - precision_19: 0.9850 - recall_19: 0.9851 - auc_19: 0.9910 - val_loss: 0.0690 - val_binary_accuracy: 0.9863 - val_precision_19: 0.9874 - val_recall_19: 0.9872 - val_auc_19: 0.9911\n",
      "Epoch 28/100\n",
      "1397/1397 [==============================] - 3s 2ms/step - loss: 0.0714 - binary_accuracy: 0.9854 - precision_19: 0.9850 - recall_19: 0.9851 - auc_19: 0.9911 - val_loss: 0.0689 - val_binary_accuracy: 0.9863 - val_precision_19: 0.9874 - val_recall_19: 0.9872 - val_auc_19: 0.9911\n",
      "Epoch 29/100\n",
      "1397/1397 [==============================] - 3s 2ms/step - loss: 0.0714 - binary_accuracy: 0.9854 - precision_19: 0.9850 - recall_19: 0.9851 - auc_19: 0.9911 - val_loss: 0.0689 - val_binary_accuracy: 0.9863 - val_precision_19: 0.9874 - val_recall_19: 0.9872 - val_auc_19: 0.9911\n",
      "Epoch 30/100\n",
      "1397/1397 [==============================] - 3s 2ms/step - loss: 0.0714 - binary_accuracy: 0.9854 - precision_19: 0.9850 - recall_19: 0.9851 - auc_19: 0.9911 - val_loss: 0.0689 - val_binary_accuracy: 0.9863 - val_precision_19: 0.9874 - val_recall_19: 0.9872 - val_auc_19: 0.9912\n",
      "Epoch 31/100\n",
      "1397/1397 [==============================] - 3s 2ms/step - loss: 0.0713 - binary_accuracy: 0.9854 - precision_19: 0.9850 - recall_19: 0.9851 - auc_19: 0.9911 - val_loss: 0.0689 - val_binary_accuracy: 0.9863 - val_precision_19: 0.9874 - val_recall_19: 0.9872 - val_auc_19: 0.9912\n",
      "Epoch 32/100\n",
      "1397/1397 [==============================] - 3s 2ms/step - loss: 0.0713 - binary_accuracy: 0.9854 - precision_19: 0.9850 - recall_19: 0.9851 - auc_19: 0.9911 - val_loss: 0.0689 - val_binary_accuracy: 0.9863 - val_precision_19: 0.9874 - val_recall_19: 0.9872 - val_auc_19: 0.9912\n",
      "Epoch 33/100\n",
      "1397/1397 [==============================] - 3s 2ms/step - loss: 0.0713 - binary_accuracy: 0.9854 - precision_19: 0.9850 - recall_19: 0.9851 - auc_19: 0.9911 - val_loss: 0.0689 - val_binary_accuracy: 0.9863 - val_precision_19: 0.9874 - val_recall_19: 0.9872 - val_auc_19: 0.9912\n",
      "Epoch 34/100\n",
      "1397/1397 [==============================] - 3s 2ms/step - loss: 0.0713 - binary_accuracy: 0.9854 - precision_19: 0.9850 - recall_19: 0.9851 - auc_19: 0.9911 - val_loss: 0.0689 - val_binary_accuracy: 0.9863 - val_precision_19: 0.9874 - val_recall_19: 0.9872 - val_auc_19: 0.9912\n",
      "Epoch 35/100\n",
      "1397/1397 [==============================] - 3s 2ms/step - loss: 0.0713 - binary_accuracy: 0.9854 - precision_19: 0.9850 - recall_19: 0.9851 - auc_19: 0.9911 - val_loss: 0.0689 - val_binary_accuracy: 0.9863 - val_precision_19: 0.9874 - val_recall_19: 0.9872 - val_auc_19: 0.9911\n",
      "Epoch 36/100\n",
      "1397/1397 [==============================] - 3s 2ms/step - loss: 0.0712 - binary_accuracy: 0.9854 - precision_19: 0.9850 - recall_19: 0.9851 - auc_19: 0.9911 - val_loss: 0.0689 - val_binary_accuracy: 0.9863 - val_precision_19: 0.9874 - val_recall_19: 0.9872 - val_auc_19: 0.9911\n",
      "Epoch 37/100\n",
      "1397/1397 [==============================] - 3s 2ms/step - loss: 0.0712 - binary_accuracy: 0.9854 - precision_19: 0.9850 - recall_19: 0.9851 - auc_19: 0.9911 - val_loss: 0.0689 - val_binary_accuracy: 0.9863 - val_precision_19: 0.9874 - val_recall_19: 0.9872 - val_auc_19: 0.9911\n",
      "Epoch 38/100\n",
      "1397/1397 [==============================] - 3s 2ms/step - loss: 0.0712 - binary_accuracy: 0.9854 - precision_19: 0.9850 - recall_19: 0.9851 - auc_19: 0.9912 - val_loss: 0.0689 - val_binary_accuracy: 0.9863 - val_precision_19: 0.9874 - val_recall_19: 0.9872 - val_auc_19: 0.9910\n",
      "349/349 [==============================] - 1s 2ms/step - loss: 0.0689 - binary_accuracy: 0.9863 - precision_19: 0.9874 - recall_19: 0.9872 - auc_19: 0.9910\n",
      "437/437 - 1s - loss: 0.0777 - binary_accuracy: 0.9822 - precision_19: 0.9749 - recall_19: 0.9857 - auc_19: 0.9920\n"
     ]
    }
   ],
   "source": [
    "val_performance = {}\n",
    "performance = {}\n",
    "\n",
    "history_linear = compile_and_fit(linear, wide_window)\n",
    "\n",
    "val_performance['Linear'] = linear.evaluate(wide_window.val)\n",
    "performance['Linear'] = linear.evaluate(wide_window.test, verbose=2)"
   ]
  },
  {
   "cell_type": "code",
   "execution_count": 103,
   "id": "worth-costume",
   "metadata": {},
   "outputs": [
    {
     "data": {
      "image/png": "[encoded data removed]",
      "text/plain": [
       "<Figure size 432x288 with 1 Axes>"
      ]
     },
     "metadata": {
      "needs_background": "light"
     },
     "output_type": "display_data"
    },
    {
     "data": {
      "image/png": "[encoded data removed]",
      "text/plain": [
       "<Figure size 432x288 with 1 Axes>"
      ]
     },
     "metadata": {
      "needs_background": "light"
     },
     "output_type": "display_data"
    },
    {
     "data": {
      "image/png": "[encoded data removed]",
      "text/plain": [
       "<Figure size 432x288 with 1 Axes>"
      ]
     },
     "metadata": {
      "needs_background": "light"
     },
     "output_type": "display_data"
    }
   ],
   "source": [
    "import matplotlib.pyplot as plt\n",
    "\n",
    "#Linear Model Loss\n",
    "plt.plot(history_linear.history['loss'])\n",
    "plt.plot(history_linear.history['val_loss'])\n",
    "plt.title('Linear Model Loss')\n",
    "plt.ylabel('Loss')\n",
    "plt.xlabel('Epoch')\n",
    "plt.legend(['Train','Val'], loc='upper right')\n",
    "plt.show()\n",
    "\n",
    "#Linear Model Loss\n",
    "plt.plot(history_linear.history['loss'])\n",
    "plt.plot(history_linear.history['val_loss'])\n",
    "plt.title('Linear Model Loss - Closer Look')\n",
    "plt.ylabel('Loss')\n",
    "plt.xlabel('Epoch')\n",
    "plt.legend(['Train','Val'], loc='upper right')\n",
    "plt.ylim(0.065,0.08)\n",
    "plt.xlim(3,20)\n",
    "plt.show()\n",
    "\n",
    "#Linear Model Binary Accuracy\n",
    "plt.plot(history_linear.history['binary_accuracy'])\n",
    "plt.plot(history_linear.history['val_binary_accuracy'])\n",
    "plt.title('Linear Model Binary Accuracy')\n",
    "plt.ylabel('Binary Accuracy')\n",
    "plt.xlabel('Epoch')\n",
    "plt.legend(['Train','Val'], loc='upper right')\n",
    "plt.show()"
   ]
  },
  {
   "cell_type": "code",
   "execution_count": 104,
   "id": "prescribed-manchester",
   "metadata": {},
   "outputs": [
    {
     "name": "stdout",
     "output_type": "stream",
     "text": [
      "WARNING:tensorflow:Model was constructed with shape (None, 15, 132) for input Tensor(\"dense_36_input:0\", shape=(None, 15, 132), dtype=float32), but it was called on an input with incompatible shape (None, 132).\n"
     ]
    },
    {
     "data": {
      "image/png": "[encoded data removed]",
      "text/plain": [
       "<Figure size 288x288 with 1 Axes>"
      ]
     },
     "metadata": {
      "needs_background": "light"
     },
     "output_type": "display_data"
    }
   ],
   "source": [
    "#Confusion matrix for Test set using Linear model \n",
    "\n",
    "import numpy as np\n",
    "from sklearn.metrics import classification_report, confusion_matrix\n",
    "\n",
    "cm = confusion_matrix(Y_test, linear.predict_classes(X_test))\n",
    "fig, ax = plt.subplots(figsize=(4,4))\n",
    "ax.imshow(cm)\n",
    "ax.grid(False)\n",
    "ax.xaxis.set(ticks=(0, 1), ticklabels=('Predicted Loss', 'Predicted Win'))\n",
    "ax.yaxis.set(ticks=(0, 1), ticklabels=('Actual Loss', 'Actual Win'))\n",
    "ax.set_ylim(1.5, -0.5)\n",
    "for i in range(2):\n",
    "    for j in range(2):\n",
    "        ax.text(j, i, cm[i, j], ha='center', va='center', color='red')\n",
    "plt.show()"
   ]
  },
  {
   "cell_type": "code",
   "execution_count": 105,
   "id": "centered-huntington",
   "metadata": {
    "scrolled": true
   },
   "outputs": [
    {
     "data": {
      "image/png": "[encoded data removed]",
      "text/plain": [
       "<Figure size 1440x1080 with 1 Axes>"
      ]
     },
     "metadata": {
      "needs_background": "light"
     },
     "output_type": "display_data"
    }
   ],
   "source": [
    "#Linear\n",
    "\n",
    "wide_window.plot(linear)"
   ]
  },
  {
   "cell_type": "code",
   "execution_count": 106,
   "id": "sought-justice",
   "metadata": {},
   "outputs": [
    {
     "name": "stdout",
     "output_type": "stream",
     "text": [
      "Epoch 1/100\n",
      "1397/1397 [==============================] - 5s 3ms/step - loss: 0.1815 - binary_accuracy: 0.9456 - precision_20: 0.9567 - recall_20: 0.9307 - auc_20: 0.9831 - val_loss: 0.0673 - val_binary_accuracy: 0.9863 - val_precision_20: 0.9874 - val_recall_20: 0.9872 - val_auc_20: 0.9901\n",
      "Epoch 2/100\n",
      "1397/1397 [==============================] - 4s 3ms/step - loss: 0.0669 - binary_accuracy: 0.9853 - precision_20: 0.9848 - recall_20: 0.9851 - auc_20: 0.9917 - val_loss: 0.0574 - val_binary_accuracy: 0.9862 - val_precision_20: 0.9871 - val_recall_20: 0.9874 - val_auc_20: 0.9946\n",
      "Epoch 3/100\n",
      "1397/1397 [==============================] - 4s 3ms/step - loss: 0.0529 - binary_accuracy: 0.9853 - precision_20: 0.9846 - recall_20: 0.9854 - auc_20: 0.9970 - val_loss: 0.0438 - val_binary_accuracy: 0.9863 - val_precision_20: 0.9874 - val_recall_20: 0.9872 - val_auc_20: 0.9984\n",
      "Epoch 4/100\n",
      "1397/1397 [==============================] - 4s 3ms/step - loss: 0.0420 - binary_accuracy: 0.9854 - precision_20: 0.9850 - recall_20: 0.9850 - auc_20: 0.9983 - val_loss: 0.0414 - val_binary_accuracy: 0.9865 - val_precision_20: 0.9877 - val_recall_20: 0.9872 - val_auc_20: 0.9983\n",
      "Epoch 5/100\n",
      "1397/1397 [==============================] - 4s 3ms/step - loss: 0.0399 - binary_accuracy: 0.9854 - precision_20: 0.9852 - recall_20: 0.9849 - auc_20: 0.9983 - val_loss: 0.0415 - val_binary_accuracy: 0.9867 - val_precision_20: 0.9887 - val_recall_20: 0.9867 - val_auc_20: 0.9979\n",
      "Epoch 6/100\n",
      "1397/1397 [==============================] - 4s 3ms/step - loss: 0.0391 - binary_accuracy: 0.9854 - precision_20: 0.9854 - recall_20: 0.9847 - auc_20: 0.9983 - val_loss: 0.0418 - val_binary_accuracy: 0.9867 - val_precision_20: 0.9906 - val_recall_20: 0.9847 - val_auc_20: 0.9980\n",
      "Epoch 7/100\n",
      "1397/1397 [==============================] - 4s 3ms/step - loss: 0.0385 - binary_accuracy: 0.9855 - precision_20: 0.9857 - recall_20: 0.9845 - auc_20: 0.9984 - val_loss: 0.0414 - val_binary_accuracy: 0.9867 - val_precision_20: 0.9906 - val_recall_20: 0.9847 - val_auc_20: 0.9979\n",
      "349/349 [==============================] - 1s 2ms/step - loss: 0.0414 - binary_accuracy: 0.9867 - precision_20: 0.9906 - recall_20: 0.9847 - auc_20: 0.9979\n"
     ]
    }
   ],
   "source": [
    "dense = tf.keras.Sequential([\n",
    "    tf.keras.layers.Dense(units=131, activation='sigmoid'),\n",
    "    tf.keras.layers.Dense(units=65, activation='sigmoid'),\n",
    "    tf.keras.layers.Dense(units=1, activation='sigmoid')\n",
    "])\n",
    "\n",
    "history_dense = compile_and_fit(dense, wide_window)\n",
    "\n",
    "val_performance['Dense'] = dense.evaluate(wide_window.val)\n",
    "performance['Dense'] = dense.evaluate(wide_window.test, verbose=0)"
   ]
  },
  {
   "cell_type": "code",
   "execution_count": 107,
   "id": "genetic-concern",
   "metadata": {},
   "outputs": [
    {
     "data": {
      "image/png": "[encoded data removed]",
      "text/plain": [
       "<Figure size 432x288 with 1 Axes>"
      ]
     },
     "metadata": {
      "needs_background": "light"
     },
     "output_type": "display_data"
    },
    {
     "data": {
      "image/png": "[encoded data removed]",
      "text/plain": [
       "<Figure size 432x288 with 1 Axes>"
      ]
     },
     "metadata": {
      "needs_background": "light"
     },
     "output_type": "display_data"
    },
    {
     "data": {
      "image/png": "[encoded data removed]",
      "text/plain": [
       "<Figure size 432x288 with 1 Axes>"
      ]
     },
     "metadata": {
      "needs_background": "light"
     },
     "output_type": "display_data"
    }
   ],
   "source": [
    "#Dense Model Loss\n",
    "plt.plot(history_dense.history['loss'])\n",
    "plt.plot(history_dense.history['val_loss'])\n",
    "plt.title('Dense Model Loss')\n",
    "plt.ylabel('Loss')\n",
    "plt.xlabel('Epoch')\n",
    "plt.legend(['Train','Val'], loc='upper right')\n",
    "plt.show()\n",
    "\n",
    "#Dense Model Loss\n",
    "plt.plot(history_dense.history['loss'])\n",
    "plt.plot(history_dense.history['val_loss'])\n",
    "plt.title('Dense Model Loss - Closer Look')\n",
    "plt.ylabel('Loss')\n",
    "plt.xlabel('Epoch')\n",
    "plt.legend(['Train','Val'], loc='upper right')\n",
    "plt.ylim(0.025,0.055)\n",
    "plt.xlim(0,20)\n",
    "plt.show()\n",
    "\n",
    "#Dense Model Binary Accuracy\n",
    "plt.plot(history_dense.history['binary_accuracy'])\n",
    "plt.plot(history_dense.history['val_binary_accuracy'])\n",
    "plt.title('Dense Model Binary Accuracy')\n",
    "plt.ylabel('Binary Accuracy')\n",
    "plt.xlabel('Epoch')\n",
    "plt.legend(['Train','Val'], loc='upper right')\n",
    "plt.show()"
   ]
  },
  {
   "cell_type": "code",
   "execution_count": 108,
   "id": "higher-tours",
   "metadata": {},
   "outputs": [
    {
     "name": "stdout",
     "output_type": "stream",
     "text": [
      "WARNING:tensorflow:Model was constructed with shape (None, 15, 132) for input Tensor(\"dense_37_input:0\", shape=(None, 15, 132), dtype=float32), but it was called on an input with incompatible shape (None, 132).\n"
     ]
    },
    {
     "data": {
      "image/png": "[encoded data removed]",
      "text/plain": [
       "<Figure size 288x288 with 1 Axes>"
      ]
     },
     "metadata": {
      "needs_background": "light"
     },
     "output_type": "display_data"
    }
   ],
   "source": [
    "#Confusion matrix for Test set using Dense NN\n",
    "\n",
    "cm = confusion_matrix(Y_test, dense.predict_classes(X_test))\n",
    "fig, ax = plt.subplots(figsize=(4,4))\n",
    "ax.imshow(cm)\n",
    "ax.grid(False)\n",
    "ax.xaxis.set(ticks=(0, 1), ticklabels=('Predicted Loss', 'Predicted Win'))\n",
    "ax.yaxis.set(ticks=(0, 1), ticklabels=('Actual Loss', 'Actual Win'))\n",
    "ax.set_ylim(1.5, -0.5)\n",
    "for i in range(2):\n",
    "    for j in range(2):\n",
    "        ax.text(j, i, cm[i, j], ha='center', va='center', color='red')\n",
    "plt.show()"
   ]
  },
  {
   "cell_type": "code",
   "execution_count": 109,
   "id": "bizarre-sweet",
   "metadata": {},
   "outputs": [
    {
     "data": {
      "image/png": "[encoded data removed]",
      "text/plain": [
       "<Figure size 1440x1080 with 1 Axes>"
      ]
     },
     "metadata": {
      "needs_background": "light"
     },
     "output_type": "display_data"
    }
   ],
   "source": [
    "#Dense\n",
    "\n",
    "wide_window.plot(dense)"
   ]
  },
  {
   "cell_type": "code",
   "execution_count": 123,
   "id": "directed-spider",
   "metadata": {},
   "outputs": [],
   "source": [
    "lstm_model = tf.keras.models.Sequential([\n",
    "    # Shape [batch, time, features] => [batch, time, lstm_units]\n",
    "    tf.keras.layers.LSTM(32, return_sequences=True),\n",
    "    # Shape => [batch, time, features]\n",
    "    tf.keras.layers.Dense(units=1, activation='sigmoid')\n",
    "])"
   ]
  },
  {
   "cell_type": "code",
   "execution_count": 111,
   "id": "qualified-belfast",
   "metadata": {},
   "outputs": [
    {
     "name": "stdout",
     "output_type": "stream",
     "text": [
      "Input shape: (32, 15, 132)\n",
      "Output shape: (32, 15, 1)\n"
     ]
    }
   ],
   "source": [
    "print('Input shape:', wide_window.example[0].shape)\n",
    "print('Output shape:', lstm_model(wide_window.example[0]).shape)"
   ]
  },
  {
   "cell_type": "code",
   "execution_count": 124,
   "id": "proof-vietnam",
   "metadata": {},
   "outputs": [
    {
     "name": "stdout",
     "output_type": "stream",
     "text": [
      "Epoch 1/100\n",
      "1397/1397 [==============================] - 10s 7ms/step - loss: 0.1316 - binary_accuracy: 0.9684 - precision_24: 0.9659 - recall_24: 0.9695 - auc_24: 0.9888 - val_loss: 0.0620 - val_binary_accuracy: 0.9860 - val_precision_24: 0.9868 - val_recall_24: 0.9872 - val_auc_24: 0.9952\n",
      "Epoch 2/100\n",
      "1397/1397 [==============================] - 8s 6ms/step - loss: 0.0532 - binary_accuracy: 0.9855 - precision_24: 0.9850 - recall_24: 0.9853 - auc_24: 0.9973 - val_loss: 0.0483 - val_binary_accuracy: 0.9860 - val_precision_24: 0.9858 - val_recall_24: 0.9882 - val_auc_24: 0.9975\n",
      "Epoch 3/100\n",
      "1397/1397 [==============================] - 8s 6ms/step - loss: 0.0394 - binary_accuracy: 0.9870 - precision_24: 0.9863 - recall_24: 0.9870 - auc_24: 0.9987 - val_loss: 0.0430 - val_binary_accuracy: 0.9861 - val_precision_24: 0.9857 - val_recall_24: 0.9886 - val_auc_24: 0.9979\n",
      "Epoch 4/100\n",
      "1397/1397 [==============================] - 8s 6ms/step - loss: 0.0325 - binary_accuracy: 0.9886 - precision_24: 0.9879 - recall_24: 0.9889 - auc_24: 0.9991 - val_loss: 0.0465 - val_binary_accuracy: 0.9848 - val_precision_24: 0.9866 - val_recall_24: 0.9852 - val_auc_24: 0.9977\n",
      "Epoch 5/100\n",
      "1397/1397 [==============================] - 8s 6ms/step - loss: 0.0281 - binary_accuracy: 0.9900 - precision_24: 0.9894 - recall_24: 0.9902 - auc_24: 0.9992 - val_loss: 0.0496 - val_binary_accuracy: 0.9840 - val_precision_24: 0.9841 - val_recall_24: 0.9863 - val_auc_24: 0.9971\n",
      "Epoch 6/100\n",
      "1397/1397 [==============================] - 8s 6ms/step - loss: 0.0247 - binary_accuracy: 0.9912 - precision_24: 0.9906 - recall_24: 0.9915 - auc_24: 0.9994 - val_loss: 0.0536 - val_binary_accuracy: 0.9834 - val_precision_24: 0.9854 - val_recall_24: 0.9839 - val_auc_24: 0.9968\n",
      "349/349 [==============================] - 1s 3ms/step - loss: 0.0536 - binary_accuracy: 0.9834 - precision_24: 0.9854 - recall_24: 0.9839 - auc_24: 0.9968\n"
     ]
    }
   ],
   "source": [
    "history_lstm = compile_and_fit(lstm_model, wide_window)\n",
    "\n",
    "val_performance['LSTM'] = lstm_model.evaluate(wide_window.val)\n",
    "performance['LSTM'] = lstm_model.evaluate(wide_window.test, verbose=0)"
   ]
  },
  {
   "cell_type": "code",
   "execution_count": 127,
   "id": "advisory-exchange",
   "metadata": {},
   "outputs": [
    {
     "data": {
      "image/png": "[encoded data removed]",
      "text/plain": [
       "<Figure size 432x288 with 1 Axes>"
      ]
     },
     "metadata": {
      "needs_background": "light"
     },
     "output_type": "display_data"
    },
    {
     "data": {
      "image/png": "[encoded data removed]",
      "text/plain": [
       "<Figure size 432x288 with 1 Axes>"
      ]
     },
     "metadata": {
      "needs_background": "light"
     },
     "output_type": "display_data"
    },
    {
     "data": {
      "image/png": "[encoded data removed]",
      "text/plain": [
       "<Figure size 432x288 with 1 Axes>"
      ]
     },
     "metadata": {
      "needs_background": "light"
     },
     "output_type": "display_data"
    }
   ],
   "source": [
    "#LSTM Model Loss\n",
    "plt.plot(history_lstm.history['loss'])\n",
    "plt.plot(history_lstm.history['val_loss'])\n",
    "plt.title('LSTM Model Loss')\n",
    "plt.ylabel('Loss')\n",
    "plt.xlabel('Epoch')\n",
    "plt.legend(['Train','Val'], loc='upper right')\n",
    "plt.show()\n",
    "\n",
    "#LSTM Model Loss\n",
    "plt.plot(history_lstm.history['loss'])\n",
    "plt.plot(history_lstm.history['val_loss'])\n",
    "plt.title('LSTM Model Loss - Closer Look')\n",
    "plt.ylabel('Loss')\n",
    "plt.xlabel('Epoch')\n",
    "plt.legend(['Train','Val'], loc='upper right')\n",
    "plt.ylim(0.02,0.08)\n",
    "plt.xlim(0,6)\n",
    "plt.show()\n",
    "\n",
    "#LSTM Model Binary Accuracy\n",
    "plt.plot(history_lstm.history['binary_accuracy'])\n",
    "plt.plot(history_lstm.history['val_binary_accuracy'])\n",
    "plt.title('LSTM Model Binary Accuracy')\n",
    "plt.ylabel('Binary Accuracy')\n",
    "plt.xlabel('Epoch')\n",
    "plt.legend(['Train','Val'], loc='upper right')\n",
    "plt.show()"
   ]
  },
  {
   "cell_type": "code",
   "execution_count": 114,
   "id": "appointed-intermediate",
   "metadata": {
    "scrolled": true
   },
   "outputs": [
    {
     "data": {
      "image/png": "[encoded data removed]",
      "text/plain": [
       "<Figure size 1440x1080 with 1 Axes>"
      ]
     },
     "metadata": {
      "needs_background": "light"
     },
     "output_type": "display_data"
    }
   ],
   "source": [
    "#LSTM\n",
    "\n",
    "wide_window.plot(lstm_model)"
   ]
  },
  {
   "cell_type": "code",
   "execution_count": 115,
   "id": "sacred-primary",
   "metadata": {},
   "outputs": [],
   "source": [
    "gru_model = tf.keras.models.Sequential([\n",
    "    tf.keras.layers.GRU(32, return_sequences=True),\n",
    "    tf.keras.layers.Dense(units=1, activation='sigmoid')\n",
    "])"
   ]
  },
  {
   "cell_type": "code",
   "execution_count": 116,
   "id": "regulated-exhibit",
   "metadata": {},
   "outputs": [
    {
     "name": "stdout",
     "output_type": "stream",
     "text": [
      "Epoch 1/100\n",
      "1397/1397 [==============================] - 9s 7ms/step - loss: 0.1168 - binary_accuracy: 0.9730 - precision_22: 0.9700 - recall_22: 0.9748 - auc_22: 0.9902 - val_loss: 0.0584 - val_binary_accuracy: 0.9861 - val_precision_22: 0.9871 - val_recall_22: 0.9872 - val_auc_22: 0.9961\n",
      "Epoch 2/100\n",
      "1397/1397 [==============================] - 8s 6ms/step - loss: 0.0508 - binary_accuracy: 0.9856 - precision_22: 0.9856 - recall_22: 0.9849 - auc_22: 0.9976 - val_loss: 0.0445 - val_binary_accuracy: 0.9860 - val_precision_22: 0.9868 - val_recall_22: 0.9873 - val_auc_22: 0.9979\n",
      "Epoch 3/100\n",
      "1397/1397 [==============================] - 8s 6ms/step - loss: 0.0398 - binary_accuracy: 0.9867 - precision_22: 0.9870 - recall_22: 0.9858 - auc_22: 0.9985 - val_loss: 0.0417 - val_binary_accuracy: 0.9863 - val_precision_22: 0.9887 - val_recall_22: 0.9859 - val_auc_22: 0.9980\n",
      "Epoch 4/100\n",
      "1397/1397 [==============================] - 8s 6ms/step - loss: 0.0354 - binary_accuracy: 0.9877 - precision_22: 0.9876 - recall_22: 0.9873 - auc_22: 0.9988 - val_loss: 0.0425 - val_binary_accuracy: 0.9858 - val_precision_22: 0.9863 - val_recall_22: 0.9874 - val_auc_22: 0.9977\n",
      "Epoch 5/100\n",
      "1397/1397 [==============================] - 8s 6ms/step - loss: 0.0324 - binary_accuracy: 0.9888 - precision_22: 0.9884 - recall_22: 0.9887 - auc_22: 0.9990 - val_loss: 0.0451 - val_binary_accuracy: 0.9849 - val_precision_22: 0.9879 - val_recall_22: 0.9841 - val_auc_22: 0.9977\n",
      "Epoch 6/100\n",
      "1397/1397 [==============================] - 8s 6ms/step - loss: 0.0296 - binary_accuracy: 0.9899 - precision_22: 0.9896 - recall_22: 0.9898 - auc_22: 0.9992 - val_loss: 0.0482 - val_binary_accuracy: 0.9845 - val_precision_22: 0.9867 - val_recall_22: 0.9845 - val_auc_22: 0.9972\n",
      "349/349 [==============================] - 1s 3ms/step - loss: 0.0482 - binary_accuracy: 0.9845 - precision_22: 0.9867 - recall_22: 0.9845 - auc_22: 0.9972\n"
     ]
    }
   ],
   "source": [
    "history_gru = compile_and_fit(gru_model, wide_window)\n",
    "\n",
    "val_performance['GRU'] = gru_model.evaluate(wide_window.val)\n",
    "performance['GRU'] = gru_model.evaluate(wide_window.test, verbose=0)"
   ]
  },
  {
   "cell_type": "code",
   "execution_count": 128,
   "id": "biblical-michael",
   "metadata": {},
   "outputs": [
    {
     "data": {
      "image/png": "[encoded data removed]",
      "text/plain": [
       "<Figure size 432x288 with 1 Axes>"
      ]
     },
     "metadata": {
      "needs_background": "light"
     },
     "output_type": "display_data"
    },
    {
     "data": {
      "image/png": "[encoded data removed]",
      "text/plain": [
       "<Figure size 432x288 with 1 Axes>"
      ]
     },
     "metadata": {
      "needs_background": "light"
     },
     "output_type": "display_data"
    },
    {
     "data": {
      "image/png": "[encoded data removed]",
      "text/plain": [
       "<Figure size 432x288 with 1 Axes>"
      ]
     },
     "metadata": {
      "needs_background": "light"
     },
     "output_type": "display_data"
    }
   ],
   "source": [
    "#GRU Model Loss\n",
    "plt.plot(history_gru.history['loss'])\n",
    "plt.plot(history_gru.history['val_loss'])\n",
    "plt.title('GRU Model Loss')\n",
    "plt.ylabel('Loss')\n",
    "plt.xlabel('Epoch')\n",
    "plt.legend(['Train','Val'], loc='upper right')\n",
    "plt.show()\n",
    "\n",
    "#GRU Model Loss\n",
    "plt.plot(history_gru.history['loss'])\n",
    "plt.plot(history_gru.history['val_loss'])\n",
    "plt.title('GRU Model Loss - Closer Look')\n",
    "plt.ylabel('Loss')\n",
    "plt.xlabel('Epoch')\n",
    "plt.legend(['Train','Val'], loc='upper right')\n",
    "plt.ylim(0.03,0.05)\n",
    "plt.xlim(0,5)\n",
    "plt.show()\n",
    "\n",
    "#GRU Model Binary Accuracy\n",
    "plt.plot(history_gru.history['binary_accuracy'])\n",
    "plt.plot(history_gru.history['val_binary_accuracy'])\n",
    "plt.title('GRU Model Binary Accuracy')\n",
    "plt.ylabel('Binary Accuracy')\n",
    "plt.xlabel('Epoch')\n",
    "plt.legend(['Train','Val'], loc='upper right')\n",
    "plt.show()"
   ]
  },
  {
   "cell_type": "code",
   "execution_count": 118,
   "id": "brazilian-berry",
   "metadata": {},
   "outputs": [
    {
     "data": {
      "image/png": "[encoded data removed]",
      "text/plain": [
       "<Figure size 1440x1080 with 1 Axes>"
      ]
     },
     "metadata": {
      "needs_background": "light"
     },
     "output_type": "display_data"
    }
   ],
   "source": [
    "#GRU\n",
    "\n",
    "wide_window.plot(gru_model)"
   ]
  },
  {
   "cell_type": "code",
   "execution_count": 129,
   "id": "described-copyright",
   "metadata": {},
   "outputs": [
    {
     "data": {
      "image/png": "[encoded data removed]",
      "text/plain": [
       "<Figure size 432x288 with 1 Axes>"
      ]
     },
     "metadata": {
      "needs_background": "light"
     },
     "output_type": "display_data"
    }
   ],
   "source": [
    "x = np.arange(len(performance))\n",
    "width = 0.3\n",
    "metric_name = 'loss'\n",
    "metric_index = lstm_model.metrics_names.index('loss')\n",
    "val_loss = [v[metric_index] for v in val_performance.values()]\n",
    "test_loss = [v[metric_index] for v in performance.values()]\n",
    "\n",
    "plt.ylabel('loss [win, normalized]')\n",
    "plt.bar(x - 0.17, val_loss, width, label='Validation')\n",
    "plt.bar(x + 0.17, test_loss, width, label='Test')\n",
    "plt.xticks(ticks=x, labels=performance.keys(),\n",
    "           rotation=45)\n",
    "_ = plt.legend()"
   ]
  },
  {
   "cell_type": "code",
   "execution_count": null,
   "id": "entertaining-masters",
   "metadata": {},
   "outputs": [],
   "source": []
  }
 ],
 "metadata": {
  "kernelspec": {
   "display_name": "Python 3",
   "language": "python",
   "name": "python3"
  },
  "language_info": {
   "codemirror_mode": {
    "name": "ipython",
    "version": 3
   },
   "file_extension": ".py",
   "mimetype": "text/x-python",
   "name": "python",
   "nbconvert_exporter": "python",
   "pygments_lexer": "ipython3",
   "version": "3.8.5"
  }
 },
 "nbformat": 4,
 "nbformat_minor": 5
}
