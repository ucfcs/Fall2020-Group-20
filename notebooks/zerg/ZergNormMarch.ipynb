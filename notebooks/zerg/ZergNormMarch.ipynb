{
 "cells": [
  {
   "cell_type": "code",
   "execution_count": 1,
   "id": "worse-verification",
   "metadata": {},
   "outputs": [
    {
     "data": {
      "text/html": [
       "<div>\n",
       "<style scoped>\n",
       "    .dataframe tbody tr th:only-of-type {\n",
       "        vertical-align: middle;\n",
       "    }\n",
       "\n",
       "    .dataframe tbody tr th {\n",
       "        vertical-align: top;\n",
       "    }\n",
       "\n",
       "    .dataframe thead th {\n",
       "        text-align: right;\n",
       "    }\n",
       "</style>\n",
       "<table border=\"1\" class=\"dataframe\">\n",
       "  <thead>\n",
       "    <tr style=\"text-align: right;\">\n",
       "      <th></th>\n",
       "      <th>match_id</th>\n",
       "      <th>map_name</th>\n",
       "      <th>region</th>\n",
       "      <th>game_length</th>\n",
       "      <th>race</th>\n",
       "      <th>enemy_race</th>\n",
       "      <th>ap30s</th>\n",
       "      <th>frame</th>\n",
       "      <th>second</th>\n",
       "      <th>player</th>\n",
       "      <th>...</th>\n",
       "      <th>spawningpool</th>\n",
       "      <th>spinecrawler</th>\n",
       "      <th>spire</th>\n",
       "      <th>sporecrawler</th>\n",
       "      <th>swarmhost</th>\n",
       "      <th>ultralisk</th>\n",
       "      <th>ultraliskcavern</th>\n",
       "      <th>viper</th>\n",
       "      <th>zergling</th>\n",
       "      <th>win</th>\n",
       "    </tr>\n",
       "  </thead>\n",
       "  <tbody>\n",
       "    <tr>\n",
       "      <th>0</th>\n",
       "      <td>0</td>\n",
       "      <td>Acropolis LE</td>\n",
       "      <td>us</td>\n",
       "      <td>551</td>\n",
       "      <td>Z</td>\n",
       "      <td>Z</td>\n",
       "      <td>0.0</td>\n",
       "      <td>1</td>\n",
       "      <td>0</td>\n",
       "      <td>Player 1 - soO (Zerg)</td>\n",
       "      <td>...</td>\n",
       "      <td>0</td>\n",
       "      <td>0</td>\n",
       "      <td>0</td>\n",
       "      <td>0</td>\n",
       "      <td>0</td>\n",
       "      <td>0</td>\n",
       "      <td>0</td>\n",
       "      <td>0</td>\n",
       "      <td>0</td>\n",
       "      <td>1</td>\n",
       "    </tr>\n",
       "    <tr>\n",
       "      <th>1</th>\n",
       "      <td>0</td>\n",
       "      <td>Acropolis LE</td>\n",
       "      <td>us</td>\n",
       "      <td>551</td>\n",
       "      <td>Z</td>\n",
       "      <td>Z</td>\n",
       "      <td>266.0</td>\n",
       "      <td>480</td>\n",
       "      <td>30</td>\n",
       "      <td>Player 1 - soO (Zerg)</td>\n",
       "      <td>...</td>\n",
       "      <td>0</td>\n",
       "      <td>0</td>\n",
       "      <td>0</td>\n",
       "      <td>0</td>\n",
       "      <td>0</td>\n",
       "      <td>0</td>\n",
       "      <td>0</td>\n",
       "      <td>0</td>\n",
       "      <td>0</td>\n",
       "      <td>1</td>\n",
       "    </tr>\n",
       "    <tr>\n",
       "      <th>2</th>\n",
       "      <td>0</td>\n",
       "      <td>Acropolis LE</td>\n",
       "      <td>us</td>\n",
       "      <td>551</td>\n",
       "      <td>Z</td>\n",
       "      <td>Z</td>\n",
       "      <td>210.0</td>\n",
       "      <td>960</td>\n",
       "      <td>60</td>\n",
       "      <td>Player 1 - soO (Zerg)</td>\n",
       "      <td>...</td>\n",
       "      <td>0</td>\n",
       "      <td>0</td>\n",
       "      <td>0</td>\n",
       "      <td>0</td>\n",
       "      <td>0</td>\n",
       "      <td>0</td>\n",
       "      <td>0</td>\n",
       "      <td>0</td>\n",
       "      <td>0</td>\n",
       "      <td>1</td>\n",
       "    </tr>\n",
       "    <tr>\n",
       "      <th>3</th>\n",
       "      <td>0</td>\n",
       "      <td>Acropolis LE</td>\n",
       "      <td>us</td>\n",
       "      <td>551</td>\n",
       "      <td>Z</td>\n",
       "      <td>Z</td>\n",
       "      <td>176.4</td>\n",
       "      <td>1440</td>\n",
       "      <td>90</td>\n",
       "      <td>Player 1 - soO (Zerg)</td>\n",
       "      <td>...</td>\n",
       "      <td>0</td>\n",
       "      <td>0</td>\n",
       "      <td>0</td>\n",
       "      <td>0</td>\n",
       "      <td>0</td>\n",
       "      <td>0</td>\n",
       "      <td>0</td>\n",
       "      <td>0</td>\n",
       "      <td>0</td>\n",
       "      <td>1</td>\n",
       "    </tr>\n",
       "    <tr>\n",
       "      <th>4</th>\n",
       "      <td>0</td>\n",
       "      <td>Acropolis LE</td>\n",
       "      <td>us</td>\n",
       "      <td>551</td>\n",
       "      <td>Z</td>\n",
       "      <td>Z</td>\n",
       "      <td>179.2</td>\n",
       "      <td>1920</td>\n",
       "      <td>120</td>\n",
       "      <td>Player 1 - soO (Zerg)</td>\n",
       "      <td>...</td>\n",
       "      <td>1</td>\n",
       "      <td>0</td>\n",
       "      <td>0</td>\n",
       "      <td>0</td>\n",
       "      <td>0</td>\n",
       "      <td>0</td>\n",
       "      <td>0</td>\n",
       "      <td>0</td>\n",
       "      <td>0</td>\n",
       "      <td>1</td>\n",
       "    </tr>\n",
       "    <tr>\n",
       "      <th>...</th>\n",
       "      <td>...</td>\n",
       "      <td>...</td>\n",
       "      <td>...</td>\n",
       "      <td>...</td>\n",
       "      <td>...</td>\n",
       "      <td>...</td>\n",
       "      <td>...</td>\n",
       "      <td>...</td>\n",
       "      <td>...</td>\n",
       "      <td>...</td>\n",
       "      <td>...</td>\n",
       "      <td>...</td>\n",
       "      <td>...</td>\n",
       "      <td>...</td>\n",
       "      <td>...</td>\n",
       "      <td>...</td>\n",
       "      <td>...</td>\n",
       "      <td>...</td>\n",
       "      <td>...</td>\n",
       "      <td>...</td>\n",
       "      <td>...</td>\n",
       "    </tr>\n",
       "    <tr>\n",
       "      <th>81321</th>\n",
       "      <td>2481</td>\n",
       "      <td>Eternal Empire LE</td>\n",
       "      <td>eu</td>\n",
       "      <td>1610</td>\n",
       "      <td>Z</td>\n",
       "      <td>T</td>\n",
       "      <td>284.2</td>\n",
       "      <td>33600</td>\n",
       "      <td>2100</td>\n",
       "      <td>Player 1 - Reynor (Zerg)</td>\n",
       "      <td>...</td>\n",
       "      <td>1</td>\n",
       "      <td>0</td>\n",
       "      <td>1</td>\n",
       "      <td>9</td>\n",
       "      <td>0</td>\n",
       "      <td>0</td>\n",
       "      <td>0</td>\n",
       "      <td>3</td>\n",
       "      <td>71</td>\n",
       "      <td>1</td>\n",
       "    </tr>\n",
       "    <tr>\n",
       "      <th>81322</th>\n",
       "      <td>2481</td>\n",
       "      <td>Eternal Empire LE</td>\n",
       "      <td>eu</td>\n",
       "      <td>1610</td>\n",
       "      <td>Z</td>\n",
       "      <td>T</td>\n",
       "      <td>295.4</td>\n",
       "      <td>34080</td>\n",
       "      <td>2130</td>\n",
       "      <td>Player 1 - Reynor (Zerg)</td>\n",
       "      <td>...</td>\n",
       "      <td>1</td>\n",
       "      <td>0</td>\n",
       "      <td>1</td>\n",
       "      <td>9</td>\n",
       "      <td>0</td>\n",
       "      <td>0</td>\n",
       "      <td>0</td>\n",
       "      <td>3</td>\n",
       "      <td>68</td>\n",
       "      <td>1</td>\n",
       "    </tr>\n",
       "    <tr>\n",
       "      <th>81323</th>\n",
       "      <td>2481</td>\n",
       "      <td>Eternal Empire LE</td>\n",
       "      <td>eu</td>\n",
       "      <td>1610</td>\n",
       "      <td>Z</td>\n",
       "      <td>T</td>\n",
       "      <td>379.4</td>\n",
       "      <td>34560</td>\n",
       "      <td>2160</td>\n",
       "      <td>Player 1 - Reynor (Zerg)</td>\n",
       "      <td>...</td>\n",
       "      <td>1</td>\n",
       "      <td>0</td>\n",
       "      <td>1</td>\n",
       "      <td>9</td>\n",
       "      <td>0</td>\n",
       "      <td>0</td>\n",
       "      <td>0</td>\n",
       "      <td>3</td>\n",
       "      <td>80</td>\n",
       "      <td>1</td>\n",
       "    </tr>\n",
       "    <tr>\n",
       "      <th>81324</th>\n",
       "      <td>2481</td>\n",
       "      <td>Eternal Empire LE</td>\n",
       "      <td>eu</td>\n",
       "      <td>1610</td>\n",
       "      <td>Z</td>\n",
       "      <td>T</td>\n",
       "      <td>238.0</td>\n",
       "      <td>35040</td>\n",
       "      <td>2190</td>\n",
       "      <td>Player 1 - Reynor (Zerg)</td>\n",
       "      <td>...</td>\n",
       "      <td>1</td>\n",
       "      <td>0</td>\n",
       "      <td>1</td>\n",
       "      <td>9</td>\n",
       "      <td>0</td>\n",
       "      <td>0</td>\n",
       "      <td>0</td>\n",
       "      <td>2</td>\n",
       "      <td>79</td>\n",
       "      <td>1</td>\n",
       "    </tr>\n",
       "    <tr>\n",
       "      <th>81325</th>\n",
       "      <td>2481</td>\n",
       "      <td>Eternal Empire LE</td>\n",
       "      <td>eu</td>\n",
       "      <td>1610</td>\n",
       "      <td>Z</td>\n",
       "      <td>T</td>\n",
       "      <td>0.0</td>\n",
       "      <td>35520</td>\n",
       "      <td>2220</td>\n",
       "      <td>Player 1 - Reynor (Zerg)</td>\n",
       "      <td>...</td>\n",
       "      <td>1</td>\n",
       "      <td>0</td>\n",
       "      <td>1</td>\n",
       "      <td>9</td>\n",
       "      <td>0</td>\n",
       "      <td>0</td>\n",
       "      <td>0</td>\n",
       "      <td>2</td>\n",
       "      <td>105</td>\n",
       "      <td>1</td>\n",
       "    </tr>\n",
       "  </tbody>\n",
       "</table>\n",
       "<p>81326 rows × 60 columns</p>\n",
       "</div>"
      ],
      "text/plain": [
       "       match_id           map_name region  game_length race enemy_race  ap30s  \\\n",
       "0             0       Acropolis LE     us          551    Z          Z    0.0   \n",
       "1             0       Acropolis LE     us          551    Z          Z  266.0   \n",
       "2             0       Acropolis LE     us          551    Z          Z  210.0   \n",
       "3             0       Acropolis LE     us          551    Z          Z  176.4   \n",
       "4             0       Acropolis LE     us          551    Z          Z  179.2   \n",
       "...         ...                ...    ...          ...  ...        ...    ...   \n",
       "81321      2481  Eternal Empire LE     eu         1610    Z          T  284.2   \n",
       "81322      2481  Eternal Empire LE     eu         1610    Z          T  295.4   \n",
       "81323      2481  Eternal Empire LE     eu         1610    Z          T  379.4   \n",
       "81324      2481  Eternal Empire LE     eu         1610    Z          T  238.0   \n",
       "81325      2481  Eternal Empire LE     eu         1610    Z          T    0.0   \n",
       "\n",
       "       frame  second                    player  ...  spawningpool  \\\n",
       "0          1       0     Player 1 - soO (Zerg)  ...             0   \n",
       "1        480      30     Player 1 - soO (Zerg)  ...             0   \n",
       "2        960      60     Player 1 - soO (Zerg)  ...             0   \n",
       "3       1440      90     Player 1 - soO (Zerg)  ...             0   \n",
       "4       1920     120     Player 1 - soO (Zerg)  ...             1   \n",
       "...      ...     ...                       ...  ...           ...   \n",
       "81321  33600    2100  Player 1 - Reynor (Zerg)  ...             1   \n",
       "81322  34080    2130  Player 1 - Reynor (Zerg)  ...             1   \n",
       "81323  34560    2160  Player 1 - Reynor (Zerg)  ...             1   \n",
       "81324  35040    2190  Player 1 - Reynor (Zerg)  ...             1   \n",
       "81325  35520    2220  Player 1 - Reynor (Zerg)  ...             1   \n",
       "\n",
       "       spinecrawler  spire  sporecrawler  swarmhost  ultralisk  \\\n",
       "0                 0      0             0          0          0   \n",
       "1                 0      0             0          0          0   \n",
       "2                 0      0             0          0          0   \n",
       "3                 0      0             0          0          0   \n",
       "4                 0      0             0          0          0   \n",
       "...             ...    ...           ...        ...        ...   \n",
       "81321             0      1             9          0          0   \n",
       "81322             0      1             9          0          0   \n",
       "81323             0      1             9          0          0   \n",
       "81324             0      1             9          0          0   \n",
       "81325             0      1             9          0          0   \n",
       "\n",
       "       ultraliskcavern  viper  zergling  win  \n",
       "0                    0      0         0    1  \n",
       "1                    0      0         0    1  \n",
       "2                    0      0         0    1  \n",
       "3                    0      0         0    1  \n",
       "4                    0      0         0    1  \n",
       "...                ...    ...       ...  ...  \n",
       "81321                0      3        71    1  \n",
       "81322                0      3        68    1  \n",
       "81323                0      3        80    1  \n",
       "81324                0      2        79    1  \n",
       "81325                0      2       105    1  \n",
       "\n",
       "[81326 rows x 60 columns]"
      ]
     },
     "metadata": {},
     "output_type": "display_data"
    }
   ],
   "source": [
    "#Importing data from csv\n",
    "from pandas import read_csv\n",
    "import pandas as pd\n",
    "\n",
    "zerg_data = read_csv('../Output/ZergMarch.csv', header=0, index_col=False)\n",
    "display(zerg_data)"
   ]
  },
  {
   "cell_type": "code",
   "execution_count": 2,
   "id": "charming-nancy",
   "metadata": {
    "scrolled": true
   },
   "outputs": [
    {
     "data": {
      "text/html": [
       "<div>\n",
       "<style scoped>\n",
       "    .dataframe tbody tr th:only-of-type {\n",
       "        vertical-align: middle;\n",
       "    }\n",
       "\n",
       "    .dataframe tbody tr th {\n",
       "        vertical-align: top;\n",
       "    }\n",
       "\n",
       "    .dataframe thead th {\n",
       "        text-align: right;\n",
       "    }\n",
       "</style>\n",
       "<table border=\"1\" class=\"dataframe\">\n",
       "  <thead>\n",
       "    <tr style=\"text-align: right;\">\n",
       "      <th></th>\n",
       "      <th>ap30s</th>\n",
       "      <th>workers_active_count</th>\n",
       "      <th>food_used</th>\n",
       "      <th>food_made</th>\n",
       "      <th>minerals_current</th>\n",
       "      <th>minerals_collection_rate</th>\n",
       "      <th>minerals_used_in_progress</th>\n",
       "      <th>minerals_used_current</th>\n",
       "      <th>minerals_used_active_forces</th>\n",
       "      <th>minerals_lost</th>\n",
       "      <th>...</th>\n",
       "      <th>Map_킹스 코브 - 래더</th>\n",
       "      <th>Map_트라이튼 - 래더</th>\n",
       "      <th>Map_필러스 오브 골드 - 래더</th>\n",
       "      <th>Region_cn</th>\n",
       "      <th>Region_eu</th>\n",
       "      <th>Region_kr</th>\n",
       "      <th>Region_us</th>\n",
       "      <th>Enemy_P</th>\n",
       "      <th>Enemy_T</th>\n",
       "      <th>Enemy_Z</th>\n",
       "    </tr>\n",
       "  </thead>\n",
       "  <tbody>\n",
       "    <tr>\n",
       "      <th>0</th>\n",
       "      <td>0.000000</td>\n",
       "      <td>0.111111</td>\n",
       "      <td>0.049020</td>\n",
       "      <td>0.000000</td>\n",
       "      <td>0.003451</td>\n",
       "      <td>0.000000</td>\n",
       "      <td>0.000000</td>\n",
       "      <td>0.003711</td>\n",
       "      <td>0.0</td>\n",
       "      <td>0.0</td>\n",
       "      <td>...</td>\n",
       "      <td>0</td>\n",
       "      <td>0</td>\n",
       "      <td>0</td>\n",
       "      <td>0</td>\n",
       "      <td>0</td>\n",
       "      <td>0</td>\n",
       "      <td>1</td>\n",
       "      <td>0</td>\n",
       "      <td>0</td>\n",
       "      <td>1</td>\n",
       "    </tr>\n",
       "    <tr>\n",
       "      <th>1</th>\n",
       "      <td>0.144158</td>\n",
       "      <td>0.120370</td>\n",
       "      <td>0.058824</td>\n",
       "      <td>0.000000</td>\n",
       "      <td>0.003796</td>\n",
       "      <td>0.164452</td>\n",
       "      <td>0.027397</td>\n",
       "      <td>0.005566</td>\n",
       "      <td>0.0</td>\n",
       "      <td>0.0</td>\n",
       "      <td>...</td>\n",
       "      <td>0</td>\n",
       "      <td>0</td>\n",
       "      <td>0</td>\n",
       "      <td>0</td>\n",
       "      <td>0</td>\n",
       "      <td>0</td>\n",
       "      <td>1</td>\n",
       "      <td>0</td>\n",
       "      <td>0</td>\n",
       "      <td>1</td>\n",
       "    </tr>\n",
       "    <tr>\n",
       "      <th>2</th>\n",
       "      <td>0.113809</td>\n",
       "      <td>0.129630</td>\n",
       "      <td>0.068627</td>\n",
       "      <td>0.024096</td>\n",
       "      <td>0.016563</td>\n",
       "      <td>0.182749</td>\n",
       "      <td>0.018265</td>\n",
       "      <td>0.011132</td>\n",
       "      <td>0.0</td>\n",
       "      <td>0.0</td>\n",
       "      <td>...</td>\n",
       "      <td>0</td>\n",
       "      <td>0</td>\n",
       "      <td>0</td>\n",
       "      <td>0</td>\n",
       "      <td>0</td>\n",
       "      <td>0</td>\n",
       "      <td>1</td>\n",
       "      <td>0</td>\n",
       "      <td>0</td>\n",
       "      <td>1</td>\n",
       "    </tr>\n",
       "    <tr>\n",
       "      <th>3</th>\n",
       "      <td>0.095599</td>\n",
       "      <td>0.148148</td>\n",
       "      <td>0.078431</td>\n",
       "      <td>0.024096</td>\n",
       "      <td>0.006211</td>\n",
       "      <td>0.188848</td>\n",
       "      <td>0.082192</td>\n",
       "      <td>0.014842</td>\n",
       "      <td>0.0</td>\n",
       "      <td>0.0</td>\n",
       "      <td>...</td>\n",
       "      <td>0</td>\n",
       "      <td>0</td>\n",
       "      <td>0</td>\n",
       "      <td>0</td>\n",
       "      <td>0</td>\n",
       "      <td>0</td>\n",
       "      <td>1</td>\n",
       "      <td>0</td>\n",
       "      <td>0</td>\n",
       "      <td>1</td>\n",
       "    </tr>\n",
       "    <tr>\n",
       "      <th>4</th>\n",
       "      <td>0.097117</td>\n",
       "      <td>0.148148</td>\n",
       "      <td>0.078431</td>\n",
       "      <td>0.024096</td>\n",
       "      <td>0.006556</td>\n",
       "      <td>0.201046</td>\n",
       "      <td>0.141553</td>\n",
       "      <td>0.014842</td>\n",
       "      <td>0.0</td>\n",
       "      <td>0.0</td>\n",
       "      <td>...</td>\n",
       "      <td>0</td>\n",
       "      <td>0</td>\n",
       "      <td>0</td>\n",
       "      <td>0</td>\n",
       "      <td>0</td>\n",
       "      <td>0</td>\n",
       "      <td>1</td>\n",
       "      <td>0</td>\n",
       "      <td>0</td>\n",
       "      <td>1</td>\n",
       "    </tr>\n",
       "  </tbody>\n",
       "</table>\n",
       "<p>5 rows × 116 columns</p>\n",
       "</div>"
      ],
      "text/plain": [
       "      ap30s  workers_active_count  food_used  food_made  minerals_current  \\\n",
       "0  0.000000              0.111111   0.049020   0.000000          0.003451   \n",
       "1  0.144158              0.120370   0.058824   0.000000          0.003796   \n",
       "2  0.113809              0.129630   0.068627   0.024096          0.016563   \n",
       "3  0.095599              0.148148   0.078431   0.024096          0.006211   \n",
       "4  0.097117              0.148148   0.078431   0.024096          0.006556   \n",
       "\n",
       "   minerals_collection_rate  minerals_used_in_progress  minerals_used_current  \\\n",
       "0                  0.000000                   0.000000               0.003711   \n",
       "1                  0.164452                   0.027397               0.005566   \n",
       "2                  0.182749                   0.018265               0.011132   \n",
       "3                  0.188848                   0.082192               0.014842   \n",
       "4                  0.201046                   0.141553               0.014842   \n",
       "\n",
       "   minerals_used_active_forces  minerals_lost  ...  Map_킹스 코브 - 래더  \\\n",
       "0                          0.0            0.0  ...               0   \n",
       "1                          0.0            0.0  ...               0   \n",
       "2                          0.0            0.0  ...               0   \n",
       "3                          0.0            0.0  ...               0   \n",
       "4                          0.0            0.0  ...               0   \n",
       "\n",
       "   Map_트라이튼 - 래더  Map_필러스 오브 골드 - 래더  Region_cn  Region_eu  Region_kr  \\\n",
       "0              0                   0          0          0          0   \n",
       "1              0                   0          0          0          0   \n",
       "2              0                   0          0          0          0   \n",
       "3              0                   0          0          0          0   \n",
       "4              0                   0          0          0          0   \n",
       "\n",
       "   Region_us  Enemy_P  Enemy_T  Enemy_Z  \n",
       "0          1        0        0        1  \n",
       "1          1        0        0        1  \n",
       "2          1        0        0        1  \n",
       "3          1        0        0        1  \n",
       "4          1        0        0        1  \n",
       "\n",
       "[5 rows x 116 columns]"
      ]
     },
     "metadata": {},
     "output_type": "display_data"
    },
    {
     "data": {
      "text/html": [
       "<div>\n",
       "<style scoped>\n",
       "    .dataframe tbody tr th:only-of-type {\n",
       "        vertical-align: middle;\n",
       "    }\n",
       "\n",
       "    .dataframe tbody tr th {\n",
       "        vertical-align: top;\n",
       "    }\n",
       "\n",
       "    .dataframe thead th {\n",
       "        text-align: right;\n",
       "    }\n",
       "</style>\n",
       "<table border=\"1\" class=\"dataframe\">\n",
       "  <thead>\n",
       "    <tr style=\"text-align: right;\">\n",
       "      <th></th>\n",
       "      <th>ap30s</th>\n",
       "      <th>workers_active_count</th>\n",
       "      <th>food_used</th>\n",
       "      <th>food_made</th>\n",
       "      <th>minerals_current</th>\n",
       "      <th>minerals_collection_rate</th>\n",
       "      <th>minerals_used_in_progress</th>\n",
       "      <th>minerals_used_current</th>\n",
       "      <th>minerals_used_active_forces</th>\n",
       "      <th>minerals_lost</th>\n",
       "      <th>...</th>\n",
       "      <th>Map_킹스 코브 - 래더</th>\n",
       "      <th>Map_트라이튼 - 래더</th>\n",
       "      <th>Map_필러스 오브 골드 - 래더</th>\n",
       "      <th>Region_cn</th>\n",
       "      <th>Region_eu</th>\n",
       "      <th>Region_kr</th>\n",
       "      <th>Region_us</th>\n",
       "      <th>Enemy_P</th>\n",
       "      <th>Enemy_T</th>\n",
       "      <th>Enemy_Z</th>\n",
       "    </tr>\n",
       "  </thead>\n",
       "  <tbody>\n",
       "    <tr>\n",
       "      <th>81321</th>\n",
       "      <td>0.154021</td>\n",
       "      <td>0.629630</td>\n",
       "      <td>0.901961</td>\n",
       "      <td>0.572289</td>\n",
       "      <td>0.093444</td>\n",
       "      <td>0.621869</td>\n",
       "      <td>0.182648</td>\n",
       "      <td>0.564007</td>\n",
       "      <td>0.430147</td>\n",
       "      <td>0.625062</td>\n",
       "      <td>...</td>\n",
       "      <td>0</td>\n",
       "      <td>0</td>\n",
       "      <td>0</td>\n",
       "      <td>0</td>\n",
       "      <td>1</td>\n",
       "      <td>0</td>\n",
       "      <td>0</td>\n",
       "      <td>0</td>\n",
       "      <td>1</td>\n",
       "      <td>0</td>\n",
       "    </tr>\n",
       "    <tr>\n",
       "      <th>81322</th>\n",
       "      <td>0.160091</td>\n",
       "      <td>0.629630</td>\n",
       "      <td>0.909314</td>\n",
       "      <td>0.572289</td>\n",
       "      <td>0.104141</td>\n",
       "      <td>0.634067</td>\n",
       "      <td>0.127854</td>\n",
       "      <td>0.579777</td>\n",
       "      <td>0.461397</td>\n",
       "      <td>0.636691</td>\n",
       "      <td>...</td>\n",
       "      <td>0</td>\n",
       "      <td>0</td>\n",
       "      <td>0</td>\n",
       "      <td>0</td>\n",
       "      <td>1</td>\n",
       "      <td>0</td>\n",
       "      <td>0</td>\n",
       "      <td>0</td>\n",
       "      <td>1</td>\n",
       "      <td>0</td>\n",
       "    </tr>\n",
       "    <tr>\n",
       "      <th>81323</th>\n",
       "      <td>0.205615</td>\n",
       "      <td>0.629630</td>\n",
       "      <td>0.928922</td>\n",
       "      <td>0.572289</td>\n",
       "      <td>0.090683</td>\n",
       "      <td>0.597473</td>\n",
       "      <td>0.091324</td>\n",
       "      <td>0.594620</td>\n",
       "      <td>0.498162</td>\n",
       "      <td>0.647195</td>\n",
       "      <td>...</td>\n",
       "      <td>0</td>\n",
       "      <td>0</td>\n",
       "      <td>0</td>\n",
       "      <td>0</td>\n",
       "      <td>1</td>\n",
       "      <td>0</td>\n",
       "      <td>0</td>\n",
       "      <td>0</td>\n",
       "      <td>1</td>\n",
       "      <td>0</td>\n",
       "    </tr>\n",
       "    <tr>\n",
       "      <th>81324</th>\n",
       "      <td>0.128983</td>\n",
       "      <td>0.620370</td>\n",
       "      <td>0.872549</td>\n",
       "      <td>0.572289</td>\n",
       "      <td>0.136577</td>\n",
       "      <td>0.579177</td>\n",
       "      <td>0.054795</td>\n",
       "      <td>0.584416</td>\n",
       "      <td>0.488971</td>\n",
       "      <td>0.662575</td>\n",
       "      <td>...</td>\n",
       "      <td>0</td>\n",
       "      <td>0</td>\n",
       "      <td>0</td>\n",
       "      <td>0</td>\n",
       "      <td>1</td>\n",
       "      <td>0</td>\n",
       "      <td>0</td>\n",
       "      <td>0</td>\n",
       "      <td>1</td>\n",
       "      <td>0</td>\n",
       "    </tr>\n",
       "    <tr>\n",
       "      <th>81325</th>\n",
       "      <td>0.000000</td>\n",
       "      <td>0.574074</td>\n",
       "      <td>0.970588</td>\n",
       "      <td>0.572289</td>\n",
       "      <td>0.111387</td>\n",
       "      <td>0.548682</td>\n",
       "      <td>0.063927</td>\n",
       "      <td>0.621521</td>\n",
       "      <td>0.580882</td>\n",
       "      <td>0.666327</td>\n",
       "      <td>...</td>\n",
       "      <td>0</td>\n",
       "      <td>0</td>\n",
       "      <td>0</td>\n",
       "      <td>0</td>\n",
       "      <td>1</td>\n",
       "      <td>0</td>\n",
       "      <td>0</td>\n",
       "      <td>0</td>\n",
       "      <td>1</td>\n",
       "      <td>0</td>\n",
       "    </tr>\n",
       "  </tbody>\n",
       "</table>\n",
       "<p>5 rows × 116 columns</p>\n",
       "</div>"
      ],
      "text/plain": [
       "          ap30s  workers_active_count  food_used  food_made  minerals_current  \\\n",
       "81321  0.154021              0.629630   0.901961   0.572289          0.093444   \n",
       "81322  0.160091              0.629630   0.909314   0.572289          0.104141   \n",
       "81323  0.205615              0.629630   0.928922   0.572289          0.090683   \n",
       "81324  0.128983              0.620370   0.872549   0.572289          0.136577   \n",
       "81325  0.000000              0.574074   0.970588   0.572289          0.111387   \n",
       "\n",
       "       minerals_collection_rate  minerals_used_in_progress  \\\n",
       "81321                  0.621869                   0.182648   \n",
       "81322                  0.634067                   0.127854   \n",
       "81323                  0.597473                   0.091324   \n",
       "81324                  0.579177                   0.054795   \n",
       "81325                  0.548682                   0.063927   \n",
       "\n",
       "       minerals_used_current  minerals_used_active_forces  minerals_lost  ...  \\\n",
       "81321               0.564007                     0.430147       0.625062  ...   \n",
       "81322               0.579777                     0.461397       0.636691  ...   \n",
       "81323               0.594620                     0.498162       0.647195  ...   \n",
       "81324               0.584416                     0.488971       0.662575  ...   \n",
       "81325               0.621521                     0.580882       0.666327  ...   \n",
       "\n",
       "       Map_킹스 코브 - 래더  Map_트라이튼 - 래더  Map_필러스 오브 골드 - 래더  Region_cn  \\\n",
       "81321               0              0                   0          0   \n",
       "81322               0              0                   0          0   \n",
       "81323               0              0                   0          0   \n",
       "81324               0              0                   0          0   \n",
       "81325               0              0                   0          0   \n",
       "\n",
       "       Region_eu  Region_kr  Region_us  Enemy_P  Enemy_T  Enemy_Z  \n",
       "81321          1          0          0        0        1        0  \n",
       "81322          1          0          0        0        1        0  \n",
       "81323          1          0          0        0        1        0  \n",
       "81324          1          0          0        0        1        0  \n",
       "81325          1          0          0        0        1        0  \n",
       "\n",
       "[5 rows x 116 columns]"
      ]
     },
     "metadata": {},
     "output_type": "display_data"
    }
   ],
   "source": [
    "from sklearn.preprocessing import MinMaxScaler\n",
    "\n",
    "no_normalize = ['match_id','map_name','region','race','enemy_race','frame','second','player','game_length']\n",
    "\n",
    "#Names of Columns that we want to Normalize (Numerical variables only)\n",
    "normalize_columns = [x for x in list(zerg_data) if x not in no_normalize]\n",
    "\n",
    "#Normalizing these columns\n",
    "norm = zerg_data[normalize_columns].values\n",
    "norm_scaled = MinMaxScaler().fit_transform(norm)\n",
    "zerg_data_normalized = pd.DataFrame(norm_scaled, columns=normalize_columns, index=zerg_data.index)\n",
    "\n",
    "#One-hot Encoding the categorical variables\n",
    "zerg_data_normalized = zerg_data_normalized.join(pd.get_dummies(zerg_data['map_name'], prefix='Map'))\n",
    "zerg_data_normalized = zerg_data_normalized.join(pd.get_dummies(zerg_data['region'], prefix='Region'))\n",
    "zerg_data_normalized = zerg_data_normalized.join(pd.get_dummies(zerg_data['enemy_race'], prefix='Enemy'))\n",
    "\n",
    "#Displaying first and last 5 rows\n",
    "display(zerg_data_normalized.head(5), zerg_data_normalized.tail(5))"
   ]
  },
  {
   "cell_type": "code",
   "execution_count": 3,
   "id": "satisfied-gather",
   "metadata": {},
   "outputs": [],
   "source": [
    "#Split data into dependent and independent variables\n",
    "no_X = ['win']\n",
    "yes_X = [x for x in list(zerg_data_normalized) if x not in no_X]\n",
    "\n",
    "Y = zerg_data_normalized['win']\n",
    "X_normalized = zerg_data_normalized[yes_X]"
   ]
  },
  {
   "cell_type": "code",
   "execution_count": 4,
   "id": "above-secretary",
   "metadata": {},
   "outputs": [],
   "source": [
    "#Split data into training, validation and testing set\n",
    "train_split = 0.8\n",
    "val_split = 0.2\n",
    "\n",
    "num_data = len(X_normalized)\n",
    "num_val = int(train_split * val_split * num_data)\n",
    "num_train = int(train_split * num_data) - num_val\n",
    "num_test = num_data - int(train_split * num_data)\n",
    "\n",
    "\n",
    "Y_train = Y[0:num_train]\n",
    "Y_val = Y[num_train:(num_train + num_val)]\n",
    "Y_test = Y[(num_val + num_train):]\n",
    "\n",
    "\n",
    "X_normalized_train = X_normalized[0:num_train]\n",
    "X_normalized_val = X_normalized[num_train:(num_train + num_val)]\n",
    "X_normalized_test = X_normalized[(num_val + num_train):]"
   ]
  },
  {
   "cell_type": "code",
   "execution_count": 5,
   "id": "closing-receipt",
   "metadata": {},
   "outputs": [],
   "source": [
    "X_train = zerg_data_normalized[0:num_train]\n",
    "X_val = zerg_data_normalized[num_train:(num_train + num_val)]\n",
    "X_test = zerg_data_normalized[(num_val + num_train):]"
   ]
  },
  {
   "cell_type": "code",
   "execution_count": 6,
   "id": "ordered-chancellor",
   "metadata": {},
   "outputs": [
    {
     "data": {
      "text/plain": [
       "(52048,)"
      ]
     },
     "execution_count": 6,
     "metadata": {},
     "output_type": "execute_result"
    }
   ],
   "source": [
    "Y_train.shape"
   ]
  },
  {
   "cell_type": "code",
   "execution_count": 7,
   "id": "bearing-reminder",
   "metadata": {},
   "outputs": [
    {
     "data": {
      "text/plain": [
       "(52048, 116)"
      ]
     },
     "execution_count": 7,
     "metadata": {},
     "output_type": "execute_result"
    }
   ],
   "source": [
    "X_train.shape"
   ]
  },
  {
   "cell_type": "code",
   "execution_count": 8,
   "id": "accepting-booking",
   "metadata": {},
   "outputs": [],
   "source": [
    "import numpy as np\n",
    "\n",
    "class WindowGenerator():\n",
    "  def __init__(self, input_width, label_width, shift,\n",
    "               train_df=X_train, val_df=X_val, test_df=X_test,\n",
    "               label_columns=None):\n",
    "    # Store the raw data.\n",
    "    self.train_df = train_df\n",
    "    self.val_df = val_df\n",
    "    self.test_df = test_df\n",
    "\n",
    "    # Work out the label column indices.\n",
    "    self.label_columns = label_columns\n",
    "    if label_columns is not None:\n",
    "      self.label_columns_indices = {name: i for i, name in\n",
    "                                    enumerate(label_columns)}\n",
    "    self.column_indices = {name: i for i, name in\n",
    "                           enumerate(train_df.columns)}\n",
    "\n",
    "    # Work out the window parameters.\n",
    "    self.input_width = input_width\n",
    "    self.label_width = label_width\n",
    "    self.shift = shift\n",
    "\n",
    "    self.total_window_size = input_width + shift\n",
    "\n",
    "    self.input_slice = slice(0, input_width)\n",
    "    self.input_indices = np.arange(self.total_window_size)[self.input_slice]\n",
    "\n",
    "    self.label_start = self.total_window_size - self.label_width\n",
    "    self.labels_slice = slice(self.label_start, None)\n",
    "    self.label_indices = np.arange(self.total_window_size)[self.labels_slice]\n",
    "\n",
    "  def __repr__(self):\n",
    "    return '\\n'.join([\n",
    "        f'Total window size: {self.total_window_size}',\n",
    "        f'Input indices: {self.input_indices}',\n",
    "        f'Label indices: {self.label_indices}',\n",
    "        f'Label column name(s): {self.label_columns}'])"
   ]
  },
  {
   "cell_type": "code",
   "execution_count": 9,
   "id": "biblical-experiment",
   "metadata": {},
   "outputs": [
    {
     "data": {
      "text/plain": [
       "Total window size: 16\n",
       "Input indices: [ 0  1  2  3  4  5  6  7  8  9 10 11 12 13 14]\n",
       "Label indices: [ 1  2  3  4  5  6  7  8  9 10 11 12 13 14 15]\n",
       "Label column name(s): ['win']"
      ]
     },
     "execution_count": 9,
     "metadata": {},
     "output_type": "execute_result"
    }
   ],
   "source": [
    "w1 = WindowGenerator(input_width=15, label_width=15, shift=1,\n",
    "                     label_columns=['win'])\n",
    "w1"
   ]
  },
  {
   "cell_type": "code",
   "execution_count": 10,
   "id": "electronic-injection",
   "metadata": {},
   "outputs": [],
   "source": [
    "def split_window(self, features):\n",
    "  inputs = features[:, self.input_slice, :]\n",
    "  labels = features[:, self.labels_slice, :]\n",
    "  if self.label_columns is not None:\n",
    "    labels = tf.stack(\n",
    "        [labels[:, :, self.column_indices[name]] for name in self.label_columns],\n",
    "        axis=-1)\n",
    "\n",
    "  # Slicing doesn't preserve static shape information, so set the shapes\n",
    "  # manually. This way the `tf.data.Datasets` are easier to inspect.\n",
    "  inputs.set_shape([None, self.input_width, None])\n",
    "  labels.set_shape([None, self.label_width, None])\n",
    "\n",
    "  return inputs, labels\n",
    "\n",
    "WindowGenerator.split_window = split_window"
   ]
  },
  {
   "cell_type": "code",
   "execution_count": 11,
   "id": "marked-essence",
   "metadata": {},
   "outputs": [
    {
     "name": "stdout",
     "output_type": "stream",
     "text": [
      "All shapes are: (batch, time, features)\n",
      "Window shape: (1, 16, 115)\n",
      "Inputs shape: (1, 15, 115)\n",
      "labels shape: (1, 15, 1)\n"
     ]
    }
   ],
   "source": [
    "import tensorflow as tf\n",
    "tf.random.set_seed(1111)\n",
    "\n",
    "# Stack three slices, the length of the total window:\n",
    "example_window = tf.stack([np.array(X_normalized[:w1.total_window_size])])\n",
    "\n",
    "example_inputs, example_labels = w1.split_window(example_window)\n",
    "\n",
    "print('All shapes are: (batch, time, features)')\n",
    "print(f'Window shape: {example_window.shape}')\n",
    "print(f'Inputs shape: {example_inputs.shape}')\n",
    "print(f'labels shape: {example_labels.shape}')"
   ]
  },
  {
   "cell_type": "code",
   "execution_count": 12,
   "id": "returning-broadway",
   "metadata": {},
   "outputs": [],
   "source": [
    "import matplotlib.pyplot as plt\n",
    "\n",
    "def plot(self, model=None, plot_col='win', max_subplots=1):\n",
    "  inputs, labels = self.example\n",
    "  plt.figure(figsize=(20,15))\n",
    "  plot_col_index = self.column_indices[plot_col]\n",
    "  max_n = min(max_subplots, len(inputs))\n",
    "  for n in range(max_n):\n",
    "    plt.subplot(3, 1, n+1)\n",
    "    plt.ylabel(f'{plot_col} [normed]')\n",
    "    plt.plot(self.input_indices, inputs[n, :, plot_col_index],\n",
    "             label='Inputs', marker='.', zorder=-10)\n",
    "\n",
    "    if self.label_columns:\n",
    "      label_col_index = self.label_columns_indices.get(plot_col, None)\n",
    "    else:\n",
    "      label_col_index = plot_col_index\n",
    "\n",
    "    if label_col_index is None:\n",
    "      continue\n",
    "\n",
    "    plt.scatter(self.label_indices, labels[n, :, label_col_index],\n",
    "                edgecolors='k', label='Labels', c='#2ca02c', s=64)\n",
    "    if model is not None:\n",
    "      predictions = model(inputs)\n",
    "      plt.scatter(self.label_indices, predictions[n, :, label_col_index],\n",
    "                  marker='X', edgecolors='k', label='Predictions',\n",
    "                  c='#ff7f0e', s=64)\n",
    "\n",
    "    if n == 0:\n",
    "      plt.legend()\n",
    "\n",
    "  plt.xlabel('Time Step')\n",
    "\n",
    "WindowGenerator.plot = plot"
   ]
  },
  {
   "cell_type": "code",
   "execution_count": 13,
   "id": "supported-stuart",
   "metadata": {},
   "outputs": [
    {
     "data": {
      "image/png": "[encoded data removed]",
      "text/plain": [
       "<Figure size 1440x1080 with 1 Axes>"
      ]
     },
     "metadata": {
      "needs_background": "light"
     },
     "output_type": "display_data"
    }
   ],
   "source": [
    "w1.example = example_inputs, example_labels\n",
    "w1.plot()"
   ]
  },
  {
   "cell_type": "code",
   "execution_count": 14,
   "id": "american-humor",
   "metadata": {},
   "outputs": [],
   "source": [
    "def make_dataset(self, data):\n",
    "  data = np.array(data, dtype=np.float32)\n",
    "  ds = tf.keras.preprocessing.timeseries_dataset_from_array(\n",
    "      data=data,\n",
    "      targets=None,\n",
    "      sequence_length=self.total_window_size,\n",
    "      sequence_stride=1,\n",
    "      shuffle=True,\n",
    "      batch_size=32,)\n",
    "\n",
    "  ds = ds.map(self.split_window)\n",
    "\n",
    "  return ds\n",
    "\n",
    "WindowGenerator.make_dataset = make_dataset"
   ]
  },
  {
   "cell_type": "code",
   "execution_count": 15,
   "id": "provincial-timing",
   "metadata": {},
   "outputs": [],
   "source": [
    "@property\n",
    "def train(self):\n",
    "  return self.make_dataset(self.train_df)\n",
    "\n",
    "@property\n",
    "def val(self):\n",
    "  return self.make_dataset(self.val_df)\n",
    "\n",
    "@property\n",
    "def test(self):\n",
    "  return self.make_dataset(self.test_df)\n",
    "\n",
    "@property\n",
    "def example(self):\n",
    "  \"\"\"Get and cache an example batch of `inputs, labels` for plotting.\"\"\"\n",
    "  result = getattr(self, '_example', None)\n",
    "  if result is None:\n",
    "    # No example batch was found, so get one from the `.train` dataset\n",
    "    result = next(iter(self.train))\n",
    "    # And cache it for next time\n",
    "    self._example = result\n",
    "  return result\n",
    "\n",
    "WindowGenerator.train = train\n",
    "WindowGenerator.val = val\n",
    "WindowGenerator.test = test\n",
    "WindowGenerator.example = example"
   ]
  },
  {
   "cell_type": "code",
   "execution_count": 16,
   "id": "intense-guarantee",
   "metadata": {},
   "outputs": [
    {
     "data": {
      "text/plain": [
       "Total window size: 2\n",
       "Input indices: [0]\n",
       "Label indices: [1]\n",
       "Label column name(s): ['win']"
      ]
     },
     "execution_count": 16,
     "metadata": {},
     "output_type": "execute_result"
    }
   ],
   "source": [
    "single_step_window = WindowGenerator(\n",
    "    input_width=1, label_width=1, shift=1,\n",
    "    label_columns=['win'])\n",
    "single_step_window"
   ]
  },
  {
   "cell_type": "code",
   "execution_count": 17,
   "id": "southern-timber",
   "metadata": {},
   "outputs": [
    {
     "data": {
      "text/plain": [
       "Total window size: 16\n",
       "Input indices: [ 0  1  2  3  4  5  6  7  8  9 10 11 12 13 14]\n",
       "Label indices: [ 1  2  3  4  5  6  7  8  9 10 11 12 13 14 15]\n",
       "Label column name(s): ['win']"
      ]
     },
     "execution_count": 17,
     "metadata": {},
     "output_type": "execute_result"
    }
   ],
   "source": [
    "wide_window = WindowGenerator(\n",
    "    input_width=15, label_width=15, shift=1,\n",
    "    label_columns=['win'])\n",
    "\n",
    "wide_window"
   ]
  },
  {
   "cell_type": "code",
   "execution_count": 18,
   "id": "underlying-catering",
   "metadata": {},
   "outputs": [],
   "source": [
    "MAX_EPOCHS = 100\n",
    "\n",
    "def compile_and_fit(model, window, patience=3):\n",
    "    early_stopping = tf.keras.callbacks.EarlyStopping(monitor='val_loss',\n",
    "                                                    patience=patience,\n",
    "                                                    mode='min')\n",
    "    model.compile(loss=tf.keras.losses.BinaryCrossentropy(),\n",
    "                optimizer=tf.optimizers.Adam(),\n",
    "                metrics=[tf.keras.metrics.BinaryAccuracy(),tf.keras.metrics.Precision(),\n",
    "                        tf.keras.metrics.Recall(), tf.keras.metrics.AUC()])\n",
    "\n",
    "    history = model.fit(window.train, epochs=MAX_EPOCHS,\n",
    "                      validation_data=window.val,\n",
    "                     callbacks=[early_stopping])\n",
    "    return history"
   ]
  },
  {
   "cell_type": "code",
   "execution_count": 19,
   "id": "packed-qualification",
   "metadata": {},
   "outputs": [],
   "source": [
    "linear = tf.keras.Sequential([\n",
    "    tf.keras.layers.Dense(units=1, activation='sigmoid')\n",
    "])"
   ]
  },
  {
   "cell_type": "code",
   "execution_count": 20,
   "id": "applied-replication",
   "metadata": {},
   "outputs": [
    {
     "name": "stdout",
     "output_type": "stream",
     "text": [
      "WARNING:tensorflow:AutoGraph could not transform <bound method split_window of Total window size: 16\n",
      "Input indices: [ 0  1  2  3  4  5  6  7  8  9 10 11 12 13 14]\n",
      "Label indices: [ 1  2  3  4  5  6  7  8  9 10 11 12 13 14 15]\n",
      "Label column name(s): ['win']> and will run it as-is.\n",
      "Please report this to the TensorFlow team. When filing the bug, set the verbosity to 10 (on Linux, `export AUTOGRAPH_VERBOSITY=10`) and attach the full output.\n",
      "Cause: module 'gast' has no attribute 'Index'\n",
      "To silence this warning, decorate the function with @tf.autograph.experimental.do_not_convert\n",
      "WARNING: AutoGraph could not transform <bound method split_window of Total window size: 16\n",
      "Input indices: [ 0  1  2  3  4  5  6  7  8  9 10 11 12 13 14]\n",
      "Label indices: [ 1  2  3  4  5  6  7  8  9 10 11 12 13 14 15]\n",
      "Label column name(s): ['win']> and will run it as-is.\n",
      "Please report this to the TensorFlow team. When filing the bug, set the verbosity to 10 (on Linux, `export AUTOGRAPH_VERBOSITY=10`) and attach the full output.\n",
      "Cause: module 'gast' has no attribute 'Index'\n",
      "To silence this warning, decorate the function with @tf.autograph.experimental.do_not_convert\n",
      "Epoch 1/100\n",
      "1627/1627 [==============================] - 3s 2ms/step - loss: 0.4861 - binary_accuracy: 0.9447 - precision: 0.9268 - recall: 0.9675 - auc: 0.9787 - val_loss: 0.3775 - val_binary_accuracy: 0.9828 - val_precision: 0.9810 - val_recall: 0.9812 - val_auc: 0.9815\n",
      "Epoch 2/100\n",
      "1627/1627 [==============================] - 3s 2ms/step - loss: 0.2897 - binary_accuracy: 0.9828 - precision: 0.9829 - recall: 0.9832 - auc: 0.9827 - val_loss: 0.2387 - val_binary_accuracy: 0.9829 - val_precision: 0.9812 - val_recall: 0.9812 - val_auc: 0.9815\n",
      "Epoch 3/100\n",
      "1627/1627 [==============================] - 3s 2ms/step - loss: 0.1902 - binary_accuracy: 0.9830 - precision: 0.9832 - recall: 0.9832 - auc: 0.9826 - val_loss: 0.1636 - val_binary_accuracy: 0.9829 - val_precision: 0.9812 - val_recall: 0.9812 - val_auc: 0.9816\n",
      "Epoch 4/100\n",
      "1627/1627 [==============================] - 3s 2ms/step - loss: 0.1370 - binary_accuracy: 0.9830 - precision: 0.9832 - recall: 0.9832 - auc: 0.9829 - val_loss: 0.1230 - val_binary_accuracy: 0.9829 - val_precision: 0.9812 - val_recall: 0.9812 - val_auc: 0.9822\n",
      "Epoch 5/100\n",
      "1627/1627 [==============================] - 3s 2ms/step - loss: 0.1086 - binary_accuracy: 0.9830 - precision: 0.9832 - recall: 0.9832 - auc: 0.9837 - val_loss: 0.1018 - val_binary_accuracy: 0.9829 - val_precision: 0.9812 - val_recall: 0.9812 - val_auc: 0.9831 0.1131 - binary_accuracy: 0.9828 - precisio\n",
      "Epoch 6/100\n",
      "1627/1627 [==============================] - 3s 2ms/step - loss: 0.0942 - binary_accuracy: 0.9830 - precision: 0.9832 - recall: 0.9832 - auc: 0.9849 - val_loss: 0.0914 - val_binary_accuracy: 0.9829 - val_precision: 0.9812 - val_recall: 0.9812 - val_auc: 0.9847\n",
      "Epoch 7/100\n",
      "1627/1627 [==============================] - 3s 2ms/step - loss: 0.0876 - binary_accuracy: 0.9830 - precision: 0.9832 - recall: 0.9832 - auc: 0.9864 - val_loss: 0.0871 - val_binary_accuracy: 0.9829 - val_precision: 0.9812 - val_recall: 0.9812 - val_auc: 0.9857\n",
      "Epoch 8/100\n",
      "1627/1627 [==============================] - 3s 2ms/step - loss: 0.0849 - binary_accuracy: 0.9830 - precision: 0.9832 - recall: 0.9832 - auc: 0.9876 - val_loss: 0.0856 - val_binary_accuracy: 0.9829 - val_precision: 0.9812 - val_recall: 0.9812 - val_auc: 0.9865\n",
      "Epoch 9/100\n",
      "1627/1627 [==============================] - 3s 2ms/step - loss: 0.0838 - binary_accuracy: 0.9830 - precision: 0.9832 - recall: 0.9832 - auc: 0.9881 - val_loss: 0.0851 - val_binary_accuracy: 0.9829 - val_precision: 0.9812 - val_recall: 0.9812 - val_auc: 0.9868\n",
      "Epoch 10/100\n",
      "1627/1627 [==============================] - 3s 2ms/step - loss: 0.0833 - binary_accuracy: 0.9830 - precision: 0.9832 - recall: 0.9832 - auc: 0.9884 - val_loss: 0.0850 - val_binary_accuracy: 0.9829 - val_precision: 0.9812 - val_recall: 0.9812 - val_auc: 0.9869\n",
      "Epoch 11/100\n",
      "1627/1627 [==============================] - 3s 2ms/step - loss: 0.0830 - binary_accuracy: 0.9830 - precision: 0.9832 - recall: 0.9832 - auc: 0.9886 - val_loss: 0.0849 - val_binary_accuracy: 0.9829 - val_precision: 0.9812 - val_recall: 0.9812 - val_auc: 0.9871\n",
      "Epoch 12/100\n",
      "1627/1627 [==============================] - 3s 2ms/step - loss: 0.0827 - binary_accuracy: 0.9830 - precision: 0.9832 - recall: 0.9832 - auc: 0.9887 - val_loss: 0.0849 - val_binary_accuracy: 0.9829 - val_precision: 0.9812 - val_recall: 0.9812 - val_auc: 0.9871\n",
      "Epoch 13/100\n",
      "1627/1627 [==============================] - 3s 2ms/step - loss: 0.0825 - binary_accuracy: 0.9830 - precision: 0.9832 - recall: 0.9832 - auc: 0.9888 - val_loss: 0.0849 - val_binary_accuracy: 0.9829 - val_precision: 0.9812 - val_recall: 0.9812 - val_auc: 0.9873\n",
      "Epoch 14/100\n",
      "1627/1627 [==============================] - 3s 2ms/step - loss: 0.0824 - binary_accuracy: 0.9830 - precision: 0.9832 - recall: 0.9832 - auc: 0.9889 - val_loss: 0.0849 - val_binary_accuracy: 0.9829 - val_precision: 0.9812 - val_recall: 0.9812 - val_auc: 0.9874\n",
      "Epoch 15/100\n",
      "1627/1627 [==============================] - 3s 2ms/step - loss: 0.0823 - binary_accuracy: 0.9830 - precision: 0.9832 - recall: 0.9832 - auc: 0.9890 - val_loss: 0.0849 - val_binary_accuracy: 0.9829 - val_precision: 0.9812 - val_recall: 0.9812 - val_auc: 0.9876binary_accuracy: 0.9828 - precision: 0.9824 - recall: 0.9833 - - ETA: 1s - loss: 0.0831 - binary_accuracy: 0\n",
      "Epoch 16/100\n",
      "1627/1627 [==============================] - 3s 2ms/step - loss: 0.0822 - binary_accuracy: 0.9830 - precision: 0.9832 - recall: 0.9832 - auc: 0.9890 - val_loss: 0.0849 - val_binary_accuracy: 0.9828 - val_precision: 0.9810 - val_recall: 0.9812 - val_auc: 0.9876\n",
      "Epoch 17/100\n",
      "1627/1627 [==============================] - 3s 2ms/step - loss: 0.0821 - binary_accuracy: 0.9830 - precision: 0.9832 - recall: 0.9832 - auc: 0.9891 - val_loss: 0.0849 - val_binary_accuracy: 0.9827 - val_precision: 0.9807 - val_recall: 0.9812 - val_auc: 0.9876\n",
      "Epoch 18/100\n",
      "1627/1627 [==============================] - 3s 2ms/step - loss: 0.0820 - binary_accuracy: 0.9830 - precision: 0.9832 - recall: 0.9832 - auc: 0.9892 - val_loss: 0.0849 - val_binary_accuracy: 0.9826 - val_precision: 0.9805 - val_recall: 0.9812 - val_auc: 0.9876\n",
      "407/407 [==============================] - 1s 1ms/step - loss: 0.0849 - binary_accuracy: 0.9826 - precision: 0.9805 - recall: 0.9812 - auc: 0.9876\n"
     ]
    }
   ],
   "source": [
    "val_performance = {}\n",
    "performance = {}\n",
    "\n",
    "history_linear = compile_and_fit(linear, wide_window)\n",
    "\n",
    "val_performance['Linear'] = linear.evaluate(wide_window.val)\n",
    "performance['Linear'] = linear.evaluate(wide_window.test, verbose=0)"
   ]
  },
  {
   "cell_type": "code",
   "execution_count": 21,
   "id": "unauthorized-persian",
   "metadata": {},
   "outputs": [
    {
     "data": {
      "image/png": "[encoded data removed]",
      "text/plain": [
       "<Figure size 432x288 with 1 Axes>"
      ]
     },
     "metadata": {
      "needs_background": "light"
     },
     "output_type": "display_data"
    },
    {
     "data": {
      "image/png": "[encoded data removed]",
      "text/plain": [
       "<Figure size 432x288 with 1 Axes>"
      ]
     },
     "metadata": {
      "needs_background": "light"
     },
     "output_type": "display_data"
    },
    {
     "data": {
      "image/png": "[encoded data removed]",
      "text/plain": [
       "<Figure size 432x288 with 1 Axes>"
      ]
     },
     "metadata": {
      "needs_background": "light"
     },
     "output_type": "display_data"
    }
   ],
   "source": [
    "import matplotlib.pyplot as plt\n",
    "\n",
    "#Linear Model Loss\n",
    "plt.plot(history_linear.history['loss'])\n",
    "plt.plot(history_linear.history['val_loss'])\n",
    "plt.title('Linear Model Loss')\n",
    "plt.ylabel('Loss')\n",
    "plt.xlabel('Epoch')\n",
    "plt.legend(['Train','Val'], loc='upper right')\n",
    "plt.show()\n",
    "\n",
    "#Linear Model Loss\n",
    "plt.plot(history_linear.history['loss'])\n",
    "plt.plot(history_linear.history['val_loss'])\n",
    "plt.title('Linear Model Loss - Closer Look')\n",
    "plt.ylabel('Loss')\n",
    "plt.xlabel('Epoch')\n",
    "plt.legend(['Train','Val'], loc='upper right')\n",
    "plt.ylim(0.06,0.2)\n",
    "plt.xlim(0,10)\n",
    "plt.show()\n",
    "\n",
    "#Linear Model Binary Accuracy\n",
    "plt.plot(history_linear.history['binary_accuracy'])\n",
    "plt.plot(history_linear.history['val_binary_accuracy'])\n",
    "plt.title('Linear Model Binary Accuracy')\n",
    "plt.ylabel('Binary Accuracy')\n",
    "plt.xlabel('Epoch')\n",
    "plt.legend(['Train','Val'], loc='upper right')\n",
    "plt.show()"
   ]
  },
  {
   "cell_type": "code",
   "execution_count": 22,
   "id": "novel-portfolio",
   "metadata": {},
   "outputs": [
    {
     "name": "stdout",
     "output_type": "stream",
     "text": [
      "WARNING:tensorflow:From <ipython-input-22-4d8cd6ff24c2>:6: Sequential.predict_classes (from tensorflow.python.keras.engine.sequential) is deprecated and will be removed after 2021-01-01.\n",
      "Instructions for updating:\n",
      "Please use instead:* `np.argmax(model.predict(x), axis=-1)`,   if your model does multi-class classification   (e.g. if it uses a `softmax` last-layer activation).* `(model.predict(x) > 0.5).astype(\"int32\")`,   if your model does binary classification   (e.g. if it uses a `sigmoid` last-layer activation).\n",
      "WARNING:tensorflow:Model was constructed with shape (None, 15, 116) for input Tensor(\"dense_input:0\", shape=(None, 15, 116), dtype=float32), but it was called on an input with incompatible shape (None, 116).\n"
     ]
    },
    {
     "data": {
      "image/png": "[encoded data removed]",
      "text/plain": [
       "<Figure size 288x288 with 1 Axes>"
      ]
     },
     "metadata": {
      "needs_background": "light"
     },
     "output_type": "display_data"
    }
   ],
   "source": [
    "#Confusion matrix for Test set using Linear model \n",
    "\n",
    "import numpy as np\n",
    "from sklearn.metrics import classification_report, confusion_matrix\n",
    "\n",
    "cm = confusion_matrix(Y_test, linear.predict_classes(X_test))\n",
    "fig, ax = plt.subplots(figsize=(4,4))\n",
    "ax.imshow(cm)\n",
    "ax.grid(False)\n",
    "ax.xaxis.set(ticks=(0, 1), ticklabels=('Predicted Loss', 'Predicted Win'))\n",
    "ax.yaxis.set(ticks=(0, 1), ticklabels=('Actual Loss', 'Actual Win'))\n",
    "ax.set_ylim(1.5, -0.5)\n",
    "for i in range(2):\n",
    "    for j in range(2):\n",
    "        ax.text(j, i, cm[i, j], ha='center', va='center', color='red')\n",
    "plt.show()"
   ]
  },
  {
   "cell_type": "code",
   "execution_count": 23,
   "id": "centered-huntington",
   "metadata": {
    "scrolled": true
   },
   "outputs": [
    {
     "data": {
      "image/png": "[encoded data removed]",
      "text/plain": [
       "<Figure size 1440x1080 with 1 Axes>"
      ]
     },
     "metadata": {
      "needs_background": "light"
     },
     "output_type": "display_data"
    }
   ],
   "source": [
    "#Linear\n",
    "\n",
    "wide_window.plot(linear)"
   ]
  },
  {
   "cell_type": "code",
   "execution_count": 24,
   "id": "sought-justice",
   "metadata": {},
   "outputs": [
    {
     "name": "stdout",
     "output_type": "stream",
     "text": [
      "Epoch 1/100\n",
      "1627/1627 [==============================] - 4s 3ms/step - loss: 0.1642 - binary_accuracy: 0.9550 - precision_1: 0.9558 - recall_1: 0.9555 - auc_1: 0.9831 - val_loss: 0.0840 - val_binary_accuracy: 0.9822 - val_precision_1: 0.9797 - val_recall_1: 0.9812 - val_auc_1: 0.9867\n",
      "Epoch 2/100\n",
      "1627/1627 [==============================] - 4s 2ms/step - loss: 0.0767 - binary_accuracy: 0.9829 - precision_1: 0.9830 - recall_1: 0.9833 - auc_1: 0.9897 - val_loss: 0.0744 - val_binary_accuracy: 0.9822 - val_precision_1: 0.9791 - val_recall_1: 0.9819 - val_auc_1: 0.9930\n",
      "Epoch 3/100\n",
      "1627/1627 [==============================] - 4s 2ms/step - loss: 0.0639 - binary_accuracy: 0.9829 - precision_1: 0.9826 - recall_1: 0.9837 - auc_1: 0.9956 - val_loss: 0.0628 - val_binary_accuracy: 0.9826 - val_precision_1: 0.9801 - val_recall_1: 0.9817 - val_auc_1: 0.9962\n",
      "Epoch 4/100\n",
      "1627/1627 [==============================] - 4s 2ms/step - loss: 0.0538 - binary_accuracy: 0.9829 - precision_1: 0.9828 - recall_1: 0.9835 - auc_1: 0.9976 - val_loss: 0.0547 - val_binary_accuracy: 0.9828 - val_precision_1: 0.9812 - val_recall_1: 0.9810 - val_auc_1: 0.9972\n",
      "Epoch 5/100\n",
      "1627/1627 [==============================] - 4s 2ms/step - loss: 0.0464 - binary_accuracy: 0.9829 - precision_1: 0.9833 - recall_1: 0.9831 - auc_1: 0.9981 - val_loss: 0.0508 - val_binary_accuracy: 0.9828 - val_precision_1: 0.9827 - val_recall_1: 0.9795 - val_auc_1: 0.9974\n",
      "Epoch 6/100\n",
      "1627/1627 [==============================] - 4s 2ms/step - loss: 0.0434 - binary_accuracy: 0.9833 - precision_1: 0.9850 - recall_1: 0.9821 - auc_1: 0.9981 - val_loss: 0.0511 - val_binary_accuracy: 0.9825 - val_precision_1: 0.9789 - val_recall_1: 0.9827 - val_auc_1: 0.9972\n",
      "Epoch 7/100\n",
      "1627/1627 [==============================] - 4s 2ms/step - loss: 0.0427 - binary_accuracy: 0.9835 - precision_1: 0.9859 - recall_1: 0.9816 - auc_1: 0.9981 - val_loss: 0.0499 - val_binary_accuracy: 0.9822 - val_precision_1: 0.9845 - val_recall_1: 0.9763 - val_auc_1: 0.9973\n",
      "Epoch 8/100\n",
      "1627/1627 [==============================] - 4s 2ms/step - loss: 0.0420 - binary_accuracy: 0.9839 - precision_1: 0.9868 - recall_1: 0.9814 - auc_1: 0.9981 - val_loss: 0.0501 - val_binary_accuracy: 0.9818 - val_precision_1: 0.9848 - val_recall_1: 0.9751 - val_auc_1: 0.9974\n",
      "Epoch 9/100\n",
      "1627/1627 [==============================] - 4s 2ms/step - loss: 0.0414 - binary_accuracy: 0.9843 - precision_1: 0.9864 - recall_1: 0.9826 - auc_1: 0.9982 - val_loss: 0.0493 - val_binary_accuracy: 0.9828 - val_precision_1: 0.9840 - val_recall_1: 0.9782 - val_auc_1: 0.9973\n",
      "Epoch 10/100\n",
      "1627/1627 [==============================] - 4s 2ms/step - loss: 0.0407 - binary_accuracy: 0.9845 - precision_1: 0.9859 - recall_1: 0.9835 - auc_1: 0.9982 - val_loss: 0.0492 - val_binary_accuracy: 0.9830 - val_precision_1: 0.9825 - val_recall_1: 0.9800 - val_auc_1: 0.9973\n",
      "Epoch 11/100\n",
      "1627/1627 [==============================] - 4s 2ms/step - loss: 0.0401 - binary_accuracy: 0.9847 - precision_1: 0.9858 - recall_1: 0.9841 - auc_1: 0.9983 - val_loss: 0.0493 - val_binary_accuracy: 0.9828 - val_precision_1: 0.9814 - val_recall_1: 0.9809 - val_auc_1: 0.9974\n",
      "Epoch 12/100\n",
      "1627/1627 [==============================] - 4s 2ms/step - loss: 0.0397 - binary_accuracy: 0.9849 - precision_1: 0.9858 - recall_1: 0.9844 - auc_1: 0.9983 - val_loss: 0.0496 - val_binary_accuracy: 0.9825 - val_precision_1: 0.9805 - val_recall_1: 0.9810 - val_auc_1: 0.9974\n",
      "Epoch 13/100\n",
      "1627/1627 [==============================] - 4s 2ms/step - loss: 0.0393 - binary_accuracy: 0.9850 - precision_1: 0.9859 - recall_1: 0.9845 - auc_1: 0.9984 - val_loss: 0.0498 - val_binary_accuracy: 0.9830 - val_precision_1: 0.9788 - val_recall_1: 0.9839 - val_auc_1: 0.9972\n",
      "407/407 [==============================] - 1s 2ms/step - loss: 0.0498 - binary_accuracy: 0.9830 - precision_1: 0.9788 - recall_1: 0.9839 - auc_1: 0.9972\n"
     ]
    }
   ],
   "source": [
    "dense = tf.keras.Sequential([\n",
    "    tf.keras.layers.Dense(units=131, activation='sigmoid'),\n",
    "    tf.keras.layers.Dense(units=65, activation='sigmoid'),\n",
    "    tf.keras.layers.Dense(units=1, activation='sigmoid')\n",
    "])\n",
    "\n",
    "history_dense = compile_and_fit(dense, wide_window)\n",
    "\n",
    "val_performance['Dense'] = dense.evaluate(wide_window.val)\n",
    "performance['Dense'] = dense.evaluate(wide_window.test, verbose=0)"
   ]
  },
  {
   "cell_type": "code",
   "execution_count": 25,
   "id": "historic-cornwall",
   "metadata": {},
   "outputs": [
    {
     "data": {
      "image/png": "[encoded data removed]",
      "text/plain": [
       "<Figure size 432x288 with 1 Axes>"
      ]
     },
     "metadata": {
      "needs_background": "light"
     },
     "output_type": "display_data"
    },
    {
     "data": {
      "image/png": "[encoded data removed]",
      "text/plain": [
       "<Figure size 432x288 with 1 Axes>"
      ]
     },
     "metadata": {
      "needs_background": "light"
     },
     "output_type": "display_data"
    },
    {
     "data": {
      "image/png": "[encoded data removed]",
      "text/plain": [
       "<Figure size 432x288 with 1 Axes>"
      ]
     },
     "metadata": {
      "needs_background": "light"
     },
     "output_type": "display_data"
    }
   ],
   "source": [
    "#Dense Model Loss\n",
    "plt.plot(history_dense.history['loss'])\n",
    "plt.plot(history_dense.history['val_loss'])\n",
    "plt.title('Dense Model Loss')\n",
    "plt.ylabel('Loss')\n",
    "plt.xlabel('Epoch')\n",
    "plt.legend(['Train','Val'], loc='upper right')\n",
    "plt.show()\n",
    "\n",
    "#Dense Model Loss\n",
    "plt.plot(history_dense.history['loss'])\n",
    "plt.plot(history_dense.history['val_loss'])\n",
    "plt.title('Dense Model Loss - Closer Look')\n",
    "plt.ylabel('Loss')\n",
    "plt.xlabel('Epoch')\n",
    "plt.legend(['Train','Val'], loc='upper right')\n",
    "plt.ylim(0.04,0.1)\n",
    "plt.xlim(0,6)\n",
    "plt.show()\n",
    "\n",
    "#Dense Model Binary Accuracy\n",
    "plt.plot(history_dense.history['binary_accuracy'])\n",
    "plt.plot(history_dense.history['val_binary_accuracy'])\n",
    "plt.title('Dense Model Binary Accuracy')\n",
    "plt.ylabel('Binary Accuracy')\n",
    "plt.xlabel('Epoch')\n",
    "plt.legend(['Train','Val'], loc='upper right')\n",
    "plt.show()"
   ]
  },
  {
   "cell_type": "code",
   "execution_count": 26,
   "id": "adaptive-product",
   "metadata": {},
   "outputs": [
    {
     "name": "stdout",
     "output_type": "stream",
     "text": [
      "WARNING:tensorflow:Model was constructed with shape (None, 15, 116) for input Tensor(\"dense_1_input:0\", shape=(None, 15, 116), dtype=float32), but it was called on an input with incompatible shape (None, 116).\n"
     ]
    },
    {
     "data": {
      "image/png": "[encoded data removed]",
      "text/plain": [
       "<Figure size 288x288 with 1 Axes>"
      ]
     },
     "metadata": {
      "needs_background": "light"
     },
     "output_type": "display_data"
    }
   ],
   "source": [
    "#Confusion matrix for Test set using Dense NN\n",
    "\n",
    "cm = confusion_matrix(Y_test, dense.predict_classes(X_test))\n",
    "fig, ax = plt.subplots(figsize=(4,4))\n",
    "ax.imshow(cm)\n",
    "ax.grid(False)\n",
    "ax.xaxis.set(ticks=(0, 1), ticklabels=('Predicted Loss', 'Predicted Win'))\n",
    "ax.yaxis.set(ticks=(0, 1), ticklabels=('Actual Loss', 'Actual Win'))\n",
    "ax.set_ylim(1.5, -0.5)\n",
    "for i in range(2):\n",
    "    for j in range(2):\n",
    "        ax.text(j, i, cm[i, j], ha='center', va='center', color='red')\n",
    "plt.show()"
   ]
  },
  {
   "cell_type": "code",
   "execution_count": 27,
   "id": "bizarre-sweet",
   "metadata": {},
   "outputs": [
    {
     "data": {
      "image/png": "[encoded data removed]",
      "text/plain": [
       "<Figure size 1440x1080 with 1 Axes>"
      ]
     },
     "metadata": {
      "needs_background": "light"
     },
     "output_type": "display_data"
    }
   ],
   "source": [
    "#Dense\n",
    "\n",
    "wide_window.plot(dense)"
   ]
  },
  {
   "cell_type": "code",
   "execution_count": 28,
   "id": "directed-spider",
   "metadata": {},
   "outputs": [],
   "source": [
    "lstm_model = tf.keras.models.Sequential([\n",
    "    # Shape [batch, time, features] => [batch, time, lstm_units]\n",
    "    tf.keras.layers.LSTM(32, return_sequences=True),\n",
    "    # Shape => [batch, time, features]\n",
    "    tf.keras.layers.Dense(units=1, activation='sigmoid')\n",
    "])"
   ]
  },
  {
   "cell_type": "code",
   "execution_count": 29,
   "id": "configured-gabriel",
   "metadata": {},
   "outputs": [
    {
     "name": "stdout",
     "output_type": "stream",
     "text": [
      "Input shape: (32, 15, 116)\n",
      "Output shape: (32, 15, 1)\n"
     ]
    }
   ],
   "source": [
    "print('Input shape:', wide_window.example[0].shape)\n",
    "print('Output shape:', lstm_model(wide_window.example[0]).shape)"
   ]
  },
  {
   "cell_type": "code",
   "execution_count": 30,
   "id": "proof-vietnam",
   "metadata": {},
   "outputs": [
    {
     "name": "stdout",
     "output_type": "stream",
     "text": [
      "Epoch 1/100\n",
      "1627/1627 [==============================] - 9s 5ms/step - loss: 0.1300 - binary_accuracy: 0.9679 - precision_2: 0.9635 - recall_2: 0.9737 - auc_2: 0.9879 - val_loss: 0.0768 - val_binary_accuracy: 0.9827 - val_precision_2: 0.9810 - val_recall_2: 0.9811 - val_auc_2: 0.9929\n",
      "Epoch 2/100\n",
      "1627/1627 [==============================] - 8s 5ms/step - loss: 0.0659 - binary_accuracy: 0.9830 - precision_2: 0.9831 - recall_2: 0.9833 - auc_2: 0.9958 - val_loss: 0.0673 - val_binary_accuracy: 0.9819 - val_precision_2: 0.9790 - val_recall_2: 0.9811 - val_auc_2: 0.9958\n",
      "Epoch 3/100\n",
      "1627/1627 [==============================] - 8s 5ms/step - loss: 0.0542 - binary_accuracy: 0.9834 - precision_2: 0.9832 - recall_2: 0.9841 - auc_2: 0.9977 - val_loss: 0.0639 - val_binary_accuracy: 0.9811 - val_precision_2: 0.9751 - val_recall_2: 0.9834 - val_auc_2: 0.9966\n",
      "Epoch 4/100\n",
      "1627/1627 [==============================] - 8s 5ms/step - loss: 0.0445 - binary_accuracy: 0.9847 - precision_2: 0.9846 - recall_2: 0.9853 - auc_2: 0.9985 - val_loss: 0.0600 - val_binary_accuracy: 0.9801 - val_precision_2: 0.9771 - val_recall_2: 0.9791 - val_auc_2: 0.9967\n",
      "Epoch 5/100\n",
      "1627/1627 [==============================] - 8s 5ms/step - loss: 0.0375 - binary_accuracy: 0.9866 - precision_2: 0.9869 - recall_2: 0.9866 - auc_2: 0.9988 - val_loss: 0.0606 - val_binary_accuracy: 0.9793 - val_precision_2: 0.9800 - val_recall_2: 0.9744 - val_auc_2: 0.9963\n",
      "Epoch 6/100\n",
      "1627/1627 [==============================] - 8s 5ms/step - loss: 0.0327 - binary_accuracy: 0.9881 - precision_2: 0.9886 - recall_2: 0.9879 - auc_2: 0.9991 - val_loss: 0.0643 - val_binary_accuracy: 0.9790 - val_precision_2: 0.9775 - val_recall_2: 0.9763 - val_auc_2: 0.9961\n",
      "Epoch 7/100\n",
      "1627/1627 [==============================] - 8s 5ms/step - loss: 0.0290 - binary_accuracy: 0.9895 - precision_2: 0.9901 - recall_2: 0.9892 - auc_2: 0.9992 - val_loss: 0.0729 - val_binary_accuracy: 0.9761 - val_precision_2: 0.9698 - val_recall_2: 0.9779 - val_auc_2: 0.9955\n",
      "407/407 [==============================] - 1s 2ms/step - loss: 0.0729 - binary_accuracy: 0.9761 - precision_2: 0.9698 - recall_2: 0.9779 - auc_2: 0.9955\n"
     ]
    }
   ],
   "source": [
    "history_lstm = compile_and_fit(lstm_model, wide_window)\n",
    "\n",
    "val_performance['LSTM'] = lstm_model.evaluate(wide_window.val)\n",
    "performance['LSTM'] = lstm_model.evaluate(wide_window.test, verbose=0)"
   ]
  },
  {
   "cell_type": "code",
   "execution_count": 31,
   "id": "acting-blade",
   "metadata": {},
   "outputs": [
    {
     "data": {
      "image/png": "[encoded data removed]",
      "text/plain": [
       "<Figure size 432x288 with 1 Axes>"
      ]
     },
     "metadata": {
      "needs_background": "light"
     },
     "output_type": "display_data"
    },
    {
     "data": {
      "image/png": "[encoded data removed]",
      "text/plain": [
       "<Figure size 432x288 with 1 Axes>"
      ]
     },
     "metadata": {
      "needs_background": "light"
     },
     "output_type": "display_data"
    },
    {
     "data": {
      "image/png": "[encoded data removed]",
      "text/plain": [
       "<Figure size 432x288 with 1 Axes>"
      ]
     },
     "metadata": {
      "needs_background": "light"
     },
     "output_type": "display_data"
    }
   ],
   "source": [
    "#LSTM Model Loss\n",
    "plt.plot(history_lstm.history['loss'])\n",
    "plt.plot(history_lstm.history['val_loss'])\n",
    "plt.title('LSTM Model Loss')\n",
    "plt.ylabel('Loss')\n",
    "plt.xlabel('Epoch')\n",
    "plt.legend(['Train','Val'], loc='upper right')\n",
    "plt.show()\n",
    "\n",
    "#LSTM Model Loss\n",
    "plt.plot(history_lstm.history['loss'])\n",
    "plt.plot(history_lstm.history['val_loss'])\n",
    "plt.title('LSTM Model Loss - Closer Look')\n",
    "plt.ylabel('Loss')\n",
    "plt.xlabel('Epoch')\n",
    "plt.legend(['Train','Val'], loc='upper right')\n",
    "plt.ylim(0.04,0.1)\n",
    "plt.xlim(0,6)\n",
    "plt.show()\n",
    "\n",
    "#LSTM Model Binary Accuracy\n",
    "plt.plot(history_lstm.history['binary_accuracy'])\n",
    "plt.plot(history_lstm.history['val_binary_accuracy'])\n",
    "plt.title('LSTM Model Binary Accuracy')\n",
    "plt.ylabel('Binary Accuracy')\n",
    "plt.xlabel('Epoch')\n",
    "plt.legend(['Train','Val'], loc='upper right')\n",
    "plt.show()"
   ]
  },
  {
   "cell_type": "code",
   "execution_count": 32,
   "id": "appointed-intermediate",
   "metadata": {},
   "outputs": [
    {
     "data": {
      "image/png": "[encoded data removed]",
      "text/plain": [
       "<Figure size 1440x1080 with 1 Axes>"
      ]
     },
     "metadata": {
      "needs_background": "light"
     },
     "output_type": "display_data"
    }
   ],
   "source": [
    "#LSTM\n",
    "\n",
    "wide_window.plot(lstm_model)"
   ]
  },
  {
   "cell_type": "code",
   "execution_count": 33,
   "id": "czech-extra",
   "metadata": {},
   "outputs": [],
   "source": [
    "gru_model = tf.keras.models.Sequential([\n",
    "    tf.keras.layers.GRU(32, return_sequences=True),\n",
    "    tf.keras.layers.Dense(units=1, activation='sigmoid')\n",
    "])"
   ]
  },
  {
   "cell_type": "code",
   "execution_count": 34,
   "id": "adjustable-expression",
   "metadata": {},
   "outputs": [
    {
     "name": "stdout",
     "output_type": "stream",
     "text": [
      "Epoch 1/100\n",
      "1627/1627 [==============================] - 10s 6ms/step - loss: 0.1182 - binary_accuracy: 0.9713 - precision_3: 0.9710 - recall_3: 0.9724 - auc_3: 0.9889 - val_loss: 0.0766 - val_binary_accuracy: 0.9829 - val_precision_3: 0.9812 - val_recall_3: 0.9811 - val_auc_3: 0.9932\n",
      "Epoch 2/100\n",
      "1627/1627 [==============================] - 9s 5ms/step - loss: 0.0662 - binary_accuracy: 0.9830 - precision_3: 0.9832 - recall_3: 0.9833 - auc_3: 0.9957 - val_loss: 0.0648 - val_binary_accuracy: 0.9828 - val_precision_3: 0.9803 - val_recall_3: 0.9818 - val_auc_3: 0.9963\n",
      "Epoch 3/100\n",
      "1627/1627 [==============================] - 9s 5ms/step - loss: 0.0527 - binary_accuracy: 0.9835 - precision_3: 0.9832 - recall_3: 0.9843 - auc_3: 0.9977 - val_loss: 0.0570 - val_binary_accuracy: 0.9811 - val_precision_3: 0.9774 - val_recall_3: 0.9813 - val_auc_3: 0.9974\n",
      "Epoch 4/100\n",
      "1627/1627 [==============================] - 8s 5ms/step - loss: 0.0434 - binary_accuracy: 0.9847 - precision_3: 0.9851 - recall_3: 0.9848 - auc_3: 0.9985 - val_loss: 0.0546 - val_binary_accuracy: 0.9798 - val_precision_3: 0.9747 - val_recall_3: 0.9809 - val_auc_3: 0.9973\n",
      "Epoch 5/100\n",
      "1627/1627 [==============================] - 8s 5ms/step - loss: 0.0389 - binary_accuracy: 0.9859 - precision_3: 0.9867 - recall_3: 0.9856 - auc_3: 0.9987 - val_loss: 0.0560 - val_binary_accuracy: 0.9789 - val_precision_3: 0.9780 - val_recall_3: 0.9754 - val_auc_3: 0.9972\n",
      "Epoch 6/100\n",
      "1627/1627 [==============================] - 7s 4ms/step - loss: 0.0354 - binary_accuracy: 0.9871 - precision_3: 0.9879 - recall_3: 0.9866 - auc_3: 0.9989 - val_loss: 0.0573 - val_binary_accuracy: 0.9795 - val_precision_3: 0.9771 - val_recall_3: 0.9779 - val_auc_3: 0.9971\n",
      "Epoch 7/100\n",
      "1627/1627 [==============================] - 7s 5ms/step - loss: 0.0327 - binary_accuracy: 0.9882 - precision_3: 0.9888 - recall_3: 0.9879 - auc_3: 0.9991 - val_loss: 0.0603 - val_binary_accuracy: 0.9788 - val_precision_3: 0.9773 - val_recall_3: 0.9761 - val_auc_3: 0.9967\n",
      "407/407 [==============================] - 1s 2ms/step - loss: 0.0603 - binary_accuracy: 0.9788 - precision_3: 0.9773 - recall_3: 0.9761 - auc_3: 0.9967\n"
     ]
    }
   ],
   "source": [
    "history_gru = compile_and_fit(gru_model, wide_window)\n",
    "\n",
    "val_performance['GRU'] = gru_model.evaluate(wide_window.val)\n",
    "performance['GRU'] = gru_model.evaluate(wide_window.test, verbose=0)"
   ]
  },
  {
   "cell_type": "code",
   "execution_count": 35,
   "id": "rocky-matrix",
   "metadata": {},
   "outputs": [
    {
     "data": {
      "image/png": "[encoded data removed]",
      "text/plain": [
       "<Figure size 432x288 with 1 Axes>"
      ]
     },
     "metadata": {
      "needs_background": "light"
     },
     "output_type": "display_data"
    },
    {
     "data": {
      "image/png": "[encoded data removed]",
      "text/plain": [
       "<Figure size 432x288 with 1 Axes>"
      ]
     },
     "metadata": {
      "needs_background": "light"
     },
     "output_type": "display_data"
    },
    {
     "data": {
      "image/png": "[encoded data removed]",
      "text/plain": [
       "<Figure size 432x288 with 1 Axes>"
      ]
     },
     "metadata": {
      "needs_background": "light"
     },
     "output_type": "display_data"
    }
   ],
   "source": [
    "#GRU Model Loss\n",
    "plt.plot(history_gru.history['loss'])\n",
    "plt.plot(history_gru.history['val_loss'])\n",
    "plt.title('GRU Model Loss')\n",
    "plt.ylabel('Loss')\n",
    "plt.xlabel('Epoch')\n",
    "plt.legend(['Train','Val'], loc='upper right')\n",
    "plt.show()\n",
    "\n",
    "#GRU Model Loss\n",
    "plt.plot(history_gru.history['loss'])\n",
    "plt.plot(history_gru.history['val_loss'])\n",
    "plt.title('GRU Model Loss - Closer Look')\n",
    "plt.ylabel('Loss')\n",
    "plt.xlabel('Epoch')\n",
    "plt.legend(['Train','Val'], loc='upper right')\n",
    "plt.ylim(0.04,0.08)\n",
    "plt.xlim(0,6)\n",
    "plt.show()\n",
    "\n",
    "#GRU Model Binary Accuracy\n",
    "plt.plot(history_gru.history['binary_accuracy'])\n",
    "plt.plot(history_gru.history['val_binary_accuracy'])\n",
    "plt.title('GRU Model Binary Accuracy')\n",
    "plt.ylabel('Binary Accuracy')\n",
    "plt.xlabel('Epoch')\n",
    "plt.legend(['Train','Val'], loc='upper right')\n",
    "plt.show()"
   ]
  },
  {
   "cell_type": "code",
   "execution_count": 36,
   "id": "distinguished-nicholas",
   "metadata": {},
   "outputs": [
    {
     "data": {
      "image/png": "[encoded data removed]",
      "text/plain": [
       "<Figure size 1440x1080 with 1 Axes>"
      ]
     },
     "metadata": {
      "needs_background": "light"
     },
     "output_type": "display_data"
    }
   ],
   "source": [
    "#GRU\n",
    "\n",
    "wide_window.plot(gru_model)"
   ]
  },
  {
   "cell_type": "code",
   "execution_count": 37,
   "id": "described-copyright",
   "metadata": {},
   "outputs": [
    {
     "data": {
      "image/png": "[encoded data removed]",
      "text/plain": [
       "<Figure size 432x288 with 1 Axes>"
      ]
     },
     "metadata": {
      "needs_background": "light"
     },
     "output_type": "display_data"
    }
   ],
   "source": [
    "x = np.arange(len(performance))\n",
    "width = 0.3\n",
    "metric_name = 'loss'\n",
    "metric_index = lstm_model.metrics_names.index('loss')\n",
    "val_loss = [v[metric_index] for v in val_performance.values()]\n",
    "test_loss = [v[metric_index] for v in performance.values()]\n",
    "\n",
    "plt.ylabel('loss [win, normalized]')\n",
    "plt.bar(x - 0.17, val_loss, width, label='Validation')\n",
    "plt.bar(x + 0.17, test_loss, width, label='Test')\n",
    "plt.xticks(ticks=x, labels=performance.keys(),\n",
    "           rotation=45)\n",
    "_ = plt.legend()"
   ]
  },
  {
   "cell_type": "code",
   "execution_count": null,
   "id": "valued-master",
   "metadata": {},
   "outputs": [],
   "source": []
  }
 ],
 "metadata": {
  "kernelspec": {
   "display_name": "Python 3",
   "language": "python",
   "name": "python3"
  },
  "language_info": {
   "codemirror_mode": {
    "name": "ipython",
    "version": 3
   },
   "file_extension": ".py",
   "mimetype": "text/x-python",
   "name": "python",
   "nbconvert_exporter": "python",
   "pygments_lexer": "ipython3",
   "version": "3.8.5"
  }
 },
 "nbformat": 4,
 "nbformat_minor": 5
}
