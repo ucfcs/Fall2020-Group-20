{
 "cells": [
  {
   "cell_type": "code",
   "execution_count": 25,
   "id": "perfect-arbor",
   "metadata": {
    "scrolled": true
   },
   "outputs": [
    {
     "data": {
      "text/html": [
       "<div>\n",
       "<style scoped>\n",
       "    .dataframe tbody tr th:only-of-type {\n",
       "        vertical-align: middle;\n",
       "    }\n",
       "\n",
       "    .dataframe tbody tr th {\n",
       "        vertical-align: top;\n",
       "    }\n",
       "\n",
       "    .dataframe thead th {\n",
       "        text-align: right;\n",
       "    }\n",
       "</style>\n",
       "<table border=\"1\" class=\"dataframe\">\n",
       "  <thead>\n",
       "    <tr style=\"text-align: right;\">\n",
       "      <th></th>\n",
       "      <th>match_id</th>\n",
       "      <th>map_name</th>\n",
       "      <th>region</th>\n",
       "      <th>game_length</th>\n",
       "      <th>race</th>\n",
       "      <th>enemy_race</th>\n",
       "      <th>ap30s</th>\n",
       "      <th>frame</th>\n",
       "      <th>second</th>\n",
       "      <th>player</th>\n",
       "      <th>...</th>\n",
       "      <th>spawningpool</th>\n",
       "      <th>spinecrawler</th>\n",
       "      <th>spire</th>\n",
       "      <th>sporecrawler</th>\n",
       "      <th>swarmhost</th>\n",
       "      <th>ultralisk</th>\n",
       "      <th>ultraliskcavern</th>\n",
       "      <th>viper</th>\n",
       "      <th>zergling</th>\n",
       "      <th>win</th>\n",
       "    </tr>\n",
       "  </thead>\n",
       "  <tbody>\n",
       "    <tr>\n",
       "      <th>0</th>\n",
       "      <td>0</td>\n",
       "      <td>Acropolis LE</td>\n",
       "      <td>us</td>\n",
       "      <td>551</td>\n",
       "      <td>Z</td>\n",
       "      <td>Z</td>\n",
       "      <td>0.0</td>\n",
       "      <td>1</td>\n",
       "      <td>0</td>\n",
       "      <td>Player 1 - soO (Zerg)</td>\n",
       "      <td>...</td>\n",
       "      <td>0</td>\n",
       "      <td>0</td>\n",
       "      <td>0</td>\n",
       "      <td>0</td>\n",
       "      <td>0</td>\n",
       "      <td>0</td>\n",
       "      <td>0</td>\n",
       "      <td>0</td>\n",
       "      <td>0</td>\n",
       "      <td>1</td>\n",
       "    </tr>\n",
       "    <tr>\n",
       "      <th>1</th>\n",
       "      <td>0</td>\n",
       "      <td>Acropolis LE</td>\n",
       "      <td>us</td>\n",
       "      <td>551</td>\n",
       "      <td>Z</td>\n",
       "      <td>Z</td>\n",
       "      <td>532.0</td>\n",
       "      <td>480</td>\n",
       "      <td>30</td>\n",
       "      <td>Player 1 - soO (Zerg)</td>\n",
       "      <td>...</td>\n",
       "      <td>0</td>\n",
       "      <td>0</td>\n",
       "      <td>0</td>\n",
       "      <td>0</td>\n",
       "      <td>0</td>\n",
       "      <td>0</td>\n",
       "      <td>0</td>\n",
       "      <td>0</td>\n",
       "      <td>0</td>\n",
       "      <td>1</td>\n",
       "    </tr>\n",
       "    <tr>\n",
       "      <th>2</th>\n",
       "      <td>0</td>\n",
       "      <td>Acropolis LE</td>\n",
       "      <td>us</td>\n",
       "      <td>551</td>\n",
       "      <td>Z</td>\n",
       "      <td>Z</td>\n",
       "      <td>420.0</td>\n",
       "      <td>960</td>\n",
       "      <td>60</td>\n",
       "      <td>Player 1 - soO (Zerg)</td>\n",
       "      <td>...</td>\n",
       "      <td>0</td>\n",
       "      <td>0</td>\n",
       "      <td>0</td>\n",
       "      <td>0</td>\n",
       "      <td>0</td>\n",
       "      <td>0</td>\n",
       "      <td>0</td>\n",
       "      <td>0</td>\n",
       "      <td>0</td>\n",
       "      <td>1</td>\n",
       "    </tr>\n",
       "    <tr>\n",
       "      <th>3</th>\n",
       "      <td>0</td>\n",
       "      <td>Acropolis LE</td>\n",
       "      <td>us</td>\n",
       "      <td>551</td>\n",
       "      <td>Z</td>\n",
       "      <td>Z</td>\n",
       "      <td>352.8</td>\n",
       "      <td>1440</td>\n",
       "      <td>90</td>\n",
       "      <td>Player 1 - soO (Zerg)</td>\n",
       "      <td>...</td>\n",
       "      <td>0</td>\n",
       "      <td>0</td>\n",
       "      <td>0</td>\n",
       "      <td>0</td>\n",
       "      <td>0</td>\n",
       "      <td>0</td>\n",
       "      <td>0</td>\n",
       "      <td>0</td>\n",
       "      <td>0</td>\n",
       "      <td>1</td>\n",
       "    </tr>\n",
       "    <tr>\n",
       "      <th>4</th>\n",
       "      <td>0</td>\n",
       "      <td>Acropolis LE</td>\n",
       "      <td>us</td>\n",
       "      <td>551</td>\n",
       "      <td>Z</td>\n",
       "      <td>Z</td>\n",
       "      <td>358.4</td>\n",
       "      <td>1920</td>\n",
       "      <td>120</td>\n",
       "      <td>Player 1 - soO (Zerg)</td>\n",
       "      <td>...</td>\n",
       "      <td>1</td>\n",
       "      <td>0</td>\n",
       "      <td>0</td>\n",
       "      <td>0</td>\n",
       "      <td>0</td>\n",
       "      <td>0</td>\n",
       "      <td>0</td>\n",
       "      <td>0</td>\n",
       "      <td>0</td>\n",
       "      <td>1</td>\n",
       "    </tr>\n",
       "    <tr>\n",
       "      <th>...</th>\n",
       "      <td>...</td>\n",
       "      <td>...</td>\n",
       "      <td>...</td>\n",
       "      <td>...</td>\n",
       "      <td>...</td>\n",
       "      <td>...</td>\n",
       "      <td>...</td>\n",
       "      <td>...</td>\n",
       "      <td>...</td>\n",
       "      <td>...</td>\n",
       "      <td>...</td>\n",
       "      <td>...</td>\n",
       "      <td>...</td>\n",
       "      <td>...</td>\n",
       "      <td>...</td>\n",
       "      <td>...</td>\n",
       "      <td>...</td>\n",
       "      <td>...</td>\n",
       "      <td>...</td>\n",
       "      <td>...</td>\n",
       "      <td>...</td>\n",
       "    </tr>\n",
       "    <tr>\n",
       "      <th>81321</th>\n",
       "      <td>3455</td>\n",
       "      <td>Eternal Empire LE</td>\n",
       "      <td>eu</td>\n",
       "      <td>1610</td>\n",
       "      <td>Z</td>\n",
       "      <td>T</td>\n",
       "      <td>568.4</td>\n",
       "      <td>33600</td>\n",
       "      <td>2100</td>\n",
       "      <td>Player 1 - Reynor (Zerg)</td>\n",
       "      <td>...</td>\n",
       "      <td>1</td>\n",
       "      <td>0</td>\n",
       "      <td>1</td>\n",
       "      <td>9</td>\n",
       "      <td>0</td>\n",
       "      <td>0</td>\n",
       "      <td>0</td>\n",
       "      <td>3</td>\n",
       "      <td>71</td>\n",
       "      <td>1</td>\n",
       "    </tr>\n",
       "    <tr>\n",
       "      <th>81322</th>\n",
       "      <td>3455</td>\n",
       "      <td>Eternal Empire LE</td>\n",
       "      <td>eu</td>\n",
       "      <td>1610</td>\n",
       "      <td>Z</td>\n",
       "      <td>T</td>\n",
       "      <td>590.8</td>\n",
       "      <td>34080</td>\n",
       "      <td>2130</td>\n",
       "      <td>Player 1 - Reynor (Zerg)</td>\n",
       "      <td>...</td>\n",
       "      <td>1</td>\n",
       "      <td>0</td>\n",
       "      <td>1</td>\n",
       "      <td>9</td>\n",
       "      <td>0</td>\n",
       "      <td>0</td>\n",
       "      <td>0</td>\n",
       "      <td>3</td>\n",
       "      <td>68</td>\n",
       "      <td>1</td>\n",
       "    </tr>\n",
       "    <tr>\n",
       "      <th>81323</th>\n",
       "      <td>3455</td>\n",
       "      <td>Eternal Empire LE</td>\n",
       "      <td>eu</td>\n",
       "      <td>1610</td>\n",
       "      <td>Z</td>\n",
       "      <td>T</td>\n",
       "      <td>758.8</td>\n",
       "      <td>34560</td>\n",
       "      <td>2160</td>\n",
       "      <td>Player 1 - Reynor (Zerg)</td>\n",
       "      <td>...</td>\n",
       "      <td>1</td>\n",
       "      <td>0</td>\n",
       "      <td>1</td>\n",
       "      <td>9</td>\n",
       "      <td>0</td>\n",
       "      <td>0</td>\n",
       "      <td>0</td>\n",
       "      <td>3</td>\n",
       "      <td>80</td>\n",
       "      <td>1</td>\n",
       "    </tr>\n",
       "    <tr>\n",
       "      <th>81324</th>\n",
       "      <td>3455</td>\n",
       "      <td>Eternal Empire LE</td>\n",
       "      <td>eu</td>\n",
       "      <td>1610</td>\n",
       "      <td>Z</td>\n",
       "      <td>T</td>\n",
       "      <td>476.0</td>\n",
       "      <td>35040</td>\n",
       "      <td>2190</td>\n",
       "      <td>Player 1 - Reynor (Zerg)</td>\n",
       "      <td>...</td>\n",
       "      <td>1</td>\n",
       "      <td>0</td>\n",
       "      <td>1</td>\n",
       "      <td>9</td>\n",
       "      <td>0</td>\n",
       "      <td>0</td>\n",
       "      <td>0</td>\n",
       "      <td>2</td>\n",
       "      <td>79</td>\n",
       "      <td>1</td>\n",
       "    </tr>\n",
       "    <tr>\n",
       "      <th>81325</th>\n",
       "      <td>3455</td>\n",
       "      <td>Eternal Empire LE</td>\n",
       "      <td>eu</td>\n",
       "      <td>1610</td>\n",
       "      <td>Z</td>\n",
       "      <td>T</td>\n",
       "      <td>0.0</td>\n",
       "      <td>35520</td>\n",
       "      <td>2220</td>\n",
       "      <td>Player 1 - Reynor (Zerg)</td>\n",
       "      <td>...</td>\n",
       "      <td>1</td>\n",
       "      <td>0</td>\n",
       "      <td>1</td>\n",
       "      <td>9</td>\n",
       "      <td>0</td>\n",
       "      <td>0</td>\n",
       "      <td>0</td>\n",
       "      <td>2</td>\n",
       "      <td>105</td>\n",
       "      <td>1</td>\n",
       "    </tr>\n",
       "  </tbody>\n",
       "</table>\n",
       "<p>81326 rows × 60 columns</p>\n",
       "</div>"
      ],
      "text/plain": [
       "       match_id           map_name region  game_length race enemy_race  ap30s  \\\n",
       "0             0       Acropolis LE     us          551    Z          Z    0.0   \n",
       "1             0       Acropolis LE     us          551    Z          Z  532.0   \n",
       "2             0       Acropolis LE     us          551    Z          Z  420.0   \n",
       "3             0       Acropolis LE     us          551    Z          Z  352.8   \n",
       "4             0       Acropolis LE     us          551    Z          Z  358.4   \n",
       "...         ...                ...    ...          ...  ...        ...    ...   \n",
       "81321      3455  Eternal Empire LE     eu         1610    Z          T  568.4   \n",
       "81322      3455  Eternal Empire LE     eu         1610    Z          T  590.8   \n",
       "81323      3455  Eternal Empire LE     eu         1610    Z          T  758.8   \n",
       "81324      3455  Eternal Empire LE     eu         1610    Z          T  476.0   \n",
       "81325      3455  Eternal Empire LE     eu         1610    Z          T    0.0   \n",
       "\n",
       "       frame  second                    player  ...  spawningpool  \\\n",
       "0          1       0     Player 1 - soO (Zerg)  ...             0   \n",
       "1        480      30     Player 1 - soO (Zerg)  ...             0   \n",
       "2        960      60     Player 1 - soO (Zerg)  ...             0   \n",
       "3       1440      90     Player 1 - soO (Zerg)  ...             0   \n",
       "4       1920     120     Player 1 - soO (Zerg)  ...             1   \n",
       "...      ...     ...                       ...  ...           ...   \n",
       "81321  33600    2100  Player 1 - Reynor (Zerg)  ...             1   \n",
       "81322  34080    2130  Player 1 - Reynor (Zerg)  ...             1   \n",
       "81323  34560    2160  Player 1 - Reynor (Zerg)  ...             1   \n",
       "81324  35040    2190  Player 1 - Reynor (Zerg)  ...             1   \n",
       "81325  35520    2220  Player 1 - Reynor (Zerg)  ...             1   \n",
       "\n",
       "       spinecrawler  spire  sporecrawler  swarmhost  ultralisk  \\\n",
       "0                 0      0             0          0          0   \n",
       "1                 0      0             0          0          0   \n",
       "2                 0      0             0          0          0   \n",
       "3                 0      0             0          0          0   \n",
       "4                 0      0             0          0          0   \n",
       "...             ...    ...           ...        ...        ...   \n",
       "81321             0      1             9          0          0   \n",
       "81322             0      1             9          0          0   \n",
       "81323             0      1             9          0          0   \n",
       "81324             0      1             9          0          0   \n",
       "81325             0      1             9          0          0   \n",
       "\n",
       "       ultraliskcavern  viper  zergling  win  \n",
       "0                    0      0         0    1  \n",
       "1                    0      0         0    1  \n",
       "2                    0      0         0    1  \n",
       "3                    0      0         0    1  \n",
       "4                    0      0         0    1  \n",
       "...                ...    ...       ...  ...  \n",
       "81321                0      3        71    1  \n",
       "81322                0      3        68    1  \n",
       "81323                0      3        80    1  \n",
       "81324                0      2        79    1  \n",
       "81325                0      2       105    1  \n",
       "\n",
       "[81326 rows x 60 columns]"
      ]
     },
     "metadata": {},
     "output_type": "display_data"
    }
   ],
   "source": [
    "#Importing data from csv\n",
    "from pandas import read_csv\n",
    "import pandas as pd\n",
    "\n",
    "zerg_data = read_csv('../Output/ZergFeb.csv', header=0, index_col=False)\n",
    "display(zerg_data)"
   ]
  },
  {
   "cell_type": "code",
   "execution_count": 26,
   "id": "associate-slovak",
   "metadata": {},
   "outputs": [
    {
     "data": {
      "text/html": [
       "<div>\n",
       "<style scoped>\n",
       "    .dataframe tbody tr th:only-of-type {\n",
       "        vertical-align: middle;\n",
       "    }\n",
       "\n",
       "    .dataframe tbody tr th {\n",
       "        vertical-align: top;\n",
       "    }\n",
       "\n",
       "    .dataframe thead th {\n",
       "        text-align: right;\n",
       "    }\n",
       "</style>\n",
       "<table border=\"1\" class=\"dataframe\">\n",
       "  <thead>\n",
       "    <tr style=\"text-align: right;\">\n",
       "      <th></th>\n",
       "      <th>ap30s</th>\n",
       "      <th>workers_active_count</th>\n",
       "      <th>food_used</th>\n",
       "      <th>food_made</th>\n",
       "      <th>minerals_current</th>\n",
       "      <th>minerals_collection_rate</th>\n",
       "      <th>minerals_used_in_progress</th>\n",
       "      <th>minerals_used_current</th>\n",
       "      <th>minerals_used_active_forces</th>\n",
       "      <th>minerals_lost</th>\n",
       "      <th>...</th>\n",
       "      <th>Map_트라이튼 - 래더</th>\n",
       "      <th>Map_필러스 오브 골드 - 래더</th>\n",
       "      <th>Region_cn</th>\n",
       "      <th>Region_eu</th>\n",
       "      <th>Region_kr</th>\n",
       "      <th>Region_us</th>\n",
       "      <th>Enemy_P</th>\n",
       "      <th>Enemy_T</th>\n",
       "      <th>Enemy_Z</th>\n",
       "      <th>win</th>\n",
       "    </tr>\n",
       "  </thead>\n",
       "  <tbody>\n",
       "    <tr>\n",
       "      <th>0</th>\n",
       "      <td>-2.008314</td>\n",
       "      <td>-1.356647</td>\n",
       "      <td>-1.221893</td>\n",
       "      <td>-1.230111</td>\n",
       "      <td>-0.472175</td>\n",
       "      <td>-2.052014</td>\n",
       "      <td>-1.571582</td>\n",
       "      <td>-1.165381</td>\n",
       "      <td>-0.916749</td>\n",
       "      <td>-0.507509</td>\n",
       "      <td>...</td>\n",
       "      <td>0</td>\n",
       "      <td>0</td>\n",
       "      <td>0</td>\n",
       "      <td>0</td>\n",
       "      <td>0</td>\n",
       "      <td>1</td>\n",
       "      <td>0</td>\n",
       "      <td>0</td>\n",
       "      <td>1</td>\n",
       "      <td>1</td>\n",
       "    </tr>\n",
       "    <tr>\n",
       "      <th>1</th>\n",
       "      <td>0.813810</td>\n",
       "      <td>-1.314249</td>\n",
       "      <td>-1.189833</td>\n",
       "      <td>-1.230111</td>\n",
       "      <td>-0.466463</td>\n",
       "      <td>-1.173250</td>\n",
       "      <td>-1.228843</td>\n",
       "      <td>-1.156463</td>\n",
       "      <td>-0.916749</td>\n",
       "      <td>-0.507509</td>\n",
       "      <td>...</td>\n",
       "      <td>0</td>\n",
       "      <td>0</td>\n",
       "      <td>0</td>\n",
       "      <td>0</td>\n",
       "      <td>0</td>\n",
       "      <td>1</td>\n",
       "      <td>0</td>\n",
       "      <td>0</td>\n",
       "      <td>1</td>\n",
       "      <td>1</td>\n",
       "    </tr>\n",
       "    <tr>\n",
       "      <th>2</th>\n",
       "      <td>0.219678</td>\n",
       "      <td>-1.271851</td>\n",
       "      <td>-1.157773</td>\n",
       "      <td>-1.121271</td>\n",
       "      <td>-0.255107</td>\n",
       "      <td>-1.075481</td>\n",
       "      <td>-1.343089</td>\n",
       "      <td>-1.129709</td>\n",
       "      <td>-0.916749</td>\n",
       "      <td>-0.507509</td>\n",
       "      <td>...</td>\n",
       "      <td>0</td>\n",
       "      <td>0</td>\n",
       "      <td>0</td>\n",
       "      <td>0</td>\n",
       "      <td>0</td>\n",
       "      <td>1</td>\n",
       "      <td>0</td>\n",
       "      <td>0</td>\n",
       "      <td>1</td>\n",
       "      <td>1</td>\n",
       "    </tr>\n",
       "    <tr>\n",
       "      <th>3</th>\n",
       "      <td>-0.136800</td>\n",
       "      <td>-1.187054</td>\n",
       "      <td>-1.125713</td>\n",
       "      <td>-1.121271</td>\n",
       "      <td>-0.426476</td>\n",
       "      <td>-1.042891</td>\n",
       "      <td>-0.543365</td>\n",
       "      <td>-1.111873</td>\n",
       "      <td>-0.916749</td>\n",
       "      <td>-0.507509</td>\n",
       "      <td>...</td>\n",
       "      <td>0</td>\n",
       "      <td>0</td>\n",
       "      <td>0</td>\n",
       "      <td>0</td>\n",
       "      <td>0</td>\n",
       "      <td>1</td>\n",
       "      <td>0</td>\n",
       "      <td>0</td>\n",
       "      <td>1</td>\n",
       "      <td>1</td>\n",
       "    </tr>\n",
       "    <tr>\n",
       "      <th>4</th>\n",
       "      <td>-0.107094</td>\n",
       "      <td>-1.187054</td>\n",
       "      <td>-1.125713</td>\n",
       "      <td>-1.121271</td>\n",
       "      <td>-0.420764</td>\n",
       "      <td>-0.977711</td>\n",
       "      <td>0.199236</td>\n",
       "      <td>-1.111873</td>\n",
       "      <td>-0.916749</td>\n",
       "      <td>-0.507509</td>\n",
       "      <td>...</td>\n",
       "      <td>0</td>\n",
       "      <td>0</td>\n",
       "      <td>0</td>\n",
       "      <td>0</td>\n",
       "      <td>0</td>\n",
       "      <td>1</td>\n",
       "      <td>0</td>\n",
       "      <td>0</td>\n",
       "      <td>1</td>\n",
       "      <td>1</td>\n",
       "    </tr>\n",
       "  </tbody>\n",
       "</table>\n",
       "<p>5 rows × 116 columns</p>\n",
       "</div>"
      ],
      "text/plain": [
       "      ap30s  workers_active_count  food_used  food_made  minerals_current  \\\n",
       "0 -2.008314             -1.356647  -1.221893  -1.230111         -0.472175   \n",
       "1  0.813810             -1.314249  -1.189833  -1.230111         -0.466463   \n",
       "2  0.219678             -1.271851  -1.157773  -1.121271         -0.255107   \n",
       "3 -0.136800             -1.187054  -1.125713  -1.121271         -0.426476   \n",
       "4 -0.107094             -1.187054  -1.125713  -1.121271         -0.420764   \n",
       "\n",
       "   minerals_collection_rate  minerals_used_in_progress  minerals_used_current  \\\n",
       "0                 -2.052014                  -1.571582              -1.165381   \n",
       "1                 -1.173250                  -1.228843              -1.156463   \n",
       "2                 -1.075481                  -1.343089              -1.129709   \n",
       "3                 -1.042891                  -0.543365              -1.111873   \n",
       "4                 -0.977711                   0.199236              -1.111873   \n",
       "\n",
       "   minerals_used_active_forces  minerals_lost  ...  Map_트라이튼 - 래더  \\\n",
       "0                    -0.916749      -0.507509  ...              0   \n",
       "1                    -0.916749      -0.507509  ...              0   \n",
       "2                    -0.916749      -0.507509  ...              0   \n",
       "3                    -0.916749      -0.507509  ...              0   \n",
       "4                    -0.916749      -0.507509  ...              0   \n",
       "\n",
       "   Map_필러스 오브 골드 - 래더  Region_cn  Region_eu  Region_kr  Region_us  Enemy_P  \\\n",
       "0                   0          0          0          0          1        0   \n",
       "1                   0          0          0          0          1        0   \n",
       "2                   0          0          0          0          1        0   \n",
       "3                   0          0          0          0          1        0   \n",
       "4                   0          0          0          0          1        0   \n",
       "\n",
       "   Enemy_T  Enemy_Z  win  \n",
       "0        0        1    1  \n",
       "1        0        1    1  \n",
       "2        0        1    1  \n",
       "3        0        1    1  \n",
       "4        0        1    1  \n",
       "\n",
       "[5 rows x 116 columns]"
      ]
     },
     "metadata": {},
     "output_type": "display_data"
    },
    {
     "data": {
      "text/html": [
       "<div>\n",
       "<style scoped>\n",
       "    .dataframe tbody tr th:only-of-type {\n",
       "        vertical-align: middle;\n",
       "    }\n",
       "\n",
       "    .dataframe tbody tr th {\n",
       "        vertical-align: top;\n",
       "    }\n",
       "\n",
       "    .dataframe thead th {\n",
       "        text-align: right;\n",
       "    }\n",
       "</style>\n",
       "<table border=\"1\" class=\"dataframe\">\n",
       "  <thead>\n",
       "    <tr style=\"text-align: right;\">\n",
       "      <th></th>\n",
       "      <th>ap30s</th>\n",
       "      <th>workers_active_count</th>\n",
       "      <th>food_used</th>\n",
       "      <th>food_made</th>\n",
       "      <th>minerals_current</th>\n",
       "      <th>minerals_collection_rate</th>\n",
       "      <th>minerals_used_in_progress</th>\n",
       "      <th>minerals_used_current</th>\n",
       "      <th>minerals_used_active_forces</th>\n",
       "      <th>minerals_lost</th>\n",
       "      <th>...</th>\n",
       "      <th>Map_트라이튼 - 래더</th>\n",
       "      <th>Map_필러스 오브 골드 - 래더</th>\n",
       "      <th>Region_cn</th>\n",
       "      <th>Region_eu</th>\n",
       "      <th>Region_kr</th>\n",
       "      <th>Region_us</th>\n",
       "      <th>Enemy_P</th>\n",
       "      <th>Enemy_T</th>\n",
       "      <th>Enemy_Z</th>\n",
       "      <th>win</th>\n",
       "    </tr>\n",
       "  </thead>\n",
       "  <tbody>\n",
       "    <tr>\n",
       "      <th>81321</th>\n",
       "      <td>1.006902</td>\n",
       "      <td>1.017652</td>\n",
       "      <td>1.567328</td>\n",
       "      <td>1.354837</td>\n",
       "      <td>1.017600</td>\n",
       "      <td>1.270992</td>\n",
       "      <td>0.713344</td>\n",
       "      <td>1.527827</td>\n",
       "      <td>1.763291</td>\n",
       "      <td>5.371868</td>\n",
       "      <td>...</td>\n",
       "      <td>0</td>\n",
       "      <td>0</td>\n",
       "      <td>0</td>\n",
       "      <td>1</td>\n",
       "      <td>0</td>\n",
       "      <td>0</td>\n",
       "      <td>0</td>\n",
       "      <td>1</td>\n",
       "      <td>0</td>\n",
       "      <td>1</td>\n",
       "    </tr>\n",
       "    <tr>\n",
       "      <th>81322</th>\n",
       "      <td>1.125729</td>\n",
       "      <td>1.017652</td>\n",
       "      <td>1.591373</td>\n",
       "      <td>1.354837</td>\n",
       "      <td>1.194682</td>\n",
       "      <td>1.336172</td>\n",
       "      <td>0.027866</td>\n",
       "      <td>1.603629</td>\n",
       "      <td>1.957994</td>\n",
       "      <td>5.481252</td>\n",
       "      <td>...</td>\n",
       "      <td>0</td>\n",
       "      <td>0</td>\n",
       "      <td>0</td>\n",
       "      <td>1</td>\n",
       "      <td>0</td>\n",
       "      <td>0</td>\n",
       "      <td>0</td>\n",
       "      <td>1</td>\n",
       "      <td>0</td>\n",
       "      <td>1</td>\n",
       "    </tr>\n",
       "    <tr>\n",
       "      <th>81323</th>\n",
       "      <td>2.016926</td>\n",
       "      <td>1.017652</td>\n",
       "      <td>1.655493</td>\n",
       "      <td>1.354837</td>\n",
       "      <td>0.971901</td>\n",
       "      <td>1.140632</td>\n",
       "      <td>-0.429119</td>\n",
       "      <td>1.674972</td>\n",
       "      <td>2.187058</td>\n",
       "      <td>5.580051</td>\n",
       "      <td>...</td>\n",
       "      <td>0</td>\n",
       "      <td>0</td>\n",
       "      <td>0</td>\n",
       "      <td>1</td>\n",
       "      <td>0</td>\n",
       "      <td>0</td>\n",
       "      <td>0</td>\n",
       "      <td>1</td>\n",
       "      <td>0</td>\n",
       "      <td>1</td>\n",
       "    </tr>\n",
       "    <tr>\n",
       "      <th>81324</th>\n",
       "      <td>0.516744</td>\n",
       "      <td>0.975254</td>\n",
       "      <td>1.471148</td>\n",
       "      <td>1.354837</td>\n",
       "      <td>1.731640</td>\n",
       "      <td>1.042863</td>\n",
       "      <td>-0.886104</td>\n",
       "      <td>1.625924</td>\n",
       "      <td>2.129792</td>\n",
       "      <td>5.724720</td>\n",
       "      <td>...</td>\n",
       "      <td>0</td>\n",
       "      <td>0</td>\n",
       "      <td>0</td>\n",
       "      <td>1</td>\n",
       "      <td>0</td>\n",
       "      <td>0</td>\n",
       "      <td>0</td>\n",
       "      <td>1</td>\n",
       "      <td>0</td>\n",
       "      <td>1</td>\n",
       "    </tr>\n",
       "    <tr>\n",
       "      <th>81325</th>\n",
       "      <td>-2.008314</td>\n",
       "      <td>0.763263</td>\n",
       "      <td>1.791748</td>\n",
       "      <td>1.354837</td>\n",
       "      <td>1.314641</td>\n",
       "      <td>0.879913</td>\n",
       "      <td>-0.771858</td>\n",
       "      <td>1.804282</td>\n",
       "      <td>2.702450</td>\n",
       "      <td>5.760006</td>\n",
       "      <td>...</td>\n",
       "      <td>0</td>\n",
       "      <td>0</td>\n",
       "      <td>0</td>\n",
       "      <td>1</td>\n",
       "      <td>0</td>\n",
       "      <td>0</td>\n",
       "      <td>0</td>\n",
       "      <td>1</td>\n",
       "      <td>0</td>\n",
       "      <td>1</td>\n",
       "    </tr>\n",
       "  </tbody>\n",
       "</table>\n",
       "<p>5 rows × 116 columns</p>\n",
       "</div>"
      ],
      "text/plain": [
       "          ap30s  workers_active_count  food_used  food_made  minerals_current  \\\n",
       "81321  1.006902              1.017652   1.567328   1.354837          1.017600   \n",
       "81322  1.125729              1.017652   1.591373   1.354837          1.194682   \n",
       "81323  2.016926              1.017652   1.655493   1.354837          0.971901   \n",
       "81324  0.516744              0.975254   1.471148   1.354837          1.731640   \n",
       "81325 -2.008314              0.763263   1.791748   1.354837          1.314641   \n",
       "\n",
       "       minerals_collection_rate  minerals_used_in_progress  \\\n",
       "81321                  1.270992                   0.713344   \n",
       "81322                  1.336172                   0.027866   \n",
       "81323                  1.140632                  -0.429119   \n",
       "81324                  1.042863                  -0.886104   \n",
       "81325                  0.879913                  -0.771858   \n",
       "\n",
       "       minerals_used_current  minerals_used_active_forces  minerals_lost  ...  \\\n",
       "81321               1.527827                     1.763291       5.371868  ...   \n",
       "81322               1.603629                     1.957994       5.481252  ...   \n",
       "81323               1.674972                     2.187058       5.580051  ...   \n",
       "81324               1.625924                     2.129792       5.724720  ...   \n",
       "81325               1.804282                     2.702450       5.760006  ...   \n",
       "\n",
       "       Map_트라이튼 - 래더  Map_필러스 오브 골드 - 래더  Region_cn  Region_eu  Region_kr  \\\n",
       "81321              0                   0          0          1          0   \n",
       "81322              0                   0          0          1          0   \n",
       "81323              0                   0          0          1          0   \n",
       "81324              0                   0          0          1          0   \n",
       "81325              0                   0          0          1          0   \n",
       "\n",
       "       Region_us  Enemy_P  Enemy_T  Enemy_Z  win  \n",
       "81321          0        0        1        0    1  \n",
       "81322          0        0        1        0    1  \n",
       "81323          0        0        1        0    1  \n",
       "81324          0        0        1        0    1  \n",
       "81325          0        0        1        0    1  \n",
       "\n",
       "[5 rows x 116 columns]"
      ]
     },
     "metadata": {},
     "output_type": "display_data"
    }
   ],
   "source": [
    "#Standardization\n",
    "\n",
    "from sklearn.preprocessing import StandardScaler\n",
    "\n",
    "no_standardize = ['match_id','map_name','region','race','enemy_race','frame','second','player','game_length','win']\n",
    "\n",
    "#Names of Columns that we do want to Standardize\n",
    "standardize_columns = [x for x in list(zerg_data) if x not in no_standardize]\n",
    "\n",
    "#Standardizing these columns\n",
    "stand = zerg_data[standardize_columns].values\n",
    "stand_scaled = StandardScaler().fit_transform(stand)\n",
    "zerg_data_standardized = pd.DataFrame(stand_scaled, columns=standardize_columns, index=zerg_data.index)\n",
    "\n",
    "#One-hot Encoding the categorical variables\n",
    "zerg_data_standardized = zerg_data_standardized.join(pd.get_dummies(zerg_data['map_name'], prefix='Map'))\n",
    "zerg_data_standardized = zerg_data_standardized.join(pd.get_dummies(zerg_data['region'], prefix='Region'))\n",
    "zerg_data_standardized = zerg_data_standardized.join(pd.get_dummies(zerg_data['enemy_race'], prefix='Enemy'))\n",
    "zerg_data_standardized = zerg_data_standardized.join(zerg_data['win'])\n",
    "\n",
    "#Displaying first and last 5 rows\n",
    "display(zerg_data_standardized.head(5), zerg_data_standardized.tail(5))"
   ]
  },
  {
   "cell_type": "code",
   "execution_count": 27,
   "id": "similar-cherry",
   "metadata": {},
   "outputs": [],
   "source": [
    "#Split data into dependent and independent variables\n",
    "no_X = ['win']\n",
    "yes_X = [x for x in list(zerg_data_standardized) if x not in no_X]\n",
    "\n",
    "Y = zerg_data_standardized['win']\n",
    "X_standardized = zerg_data_standardized[yes_X]"
   ]
  },
  {
   "cell_type": "code",
   "execution_count": 28,
   "id": "expected-wrapping",
   "metadata": {},
   "outputs": [],
   "source": [
    "#Split data into training, validation and testing set\n",
    "train_split = 0.8\n",
    "val_split = 0.2\n",
    "\n",
    "num_data = len(zerg_data_standardized)\n",
    "num_val = int(train_split * val_split * num_data)\n",
    "num_train = int(train_split * num_data) - num_val\n",
    "num_test = num_data - int(train_split * num_data)\n",
    "\n",
    "\n",
    "Y_train = Y[0:num_train]\n",
    "Y_val = Y[num_train:(num_train + num_val)]\n",
    "Y_test = Y[(num_val + num_train):]\n",
    "\n",
    "\n",
    "X_standardized_train = X_standardized[0:num_train]\n",
    "X_standardized_val = X_standardized[num_train:(num_train + num_val)]\n",
    "X_standardized_test = X_standardized[(num_val + num_train):]"
   ]
  },
  {
   "cell_type": "code",
   "execution_count": 29,
   "id": "floppy-medline",
   "metadata": {},
   "outputs": [],
   "source": [
    "X_train = zerg_data_standardized[0:num_train]\n",
    "X_val = zerg_data_standardized[num_train:(num_train + num_val)]\n",
    "X_test = zerg_data_standardized[(num_val + num_train):]"
   ]
  },
  {
   "cell_type": "code",
   "execution_count": 30,
   "id": "affiliated-prairie",
   "metadata": {},
   "outputs": [
    {
     "data": {
      "text/plain": [
       "(52048,)"
      ]
     },
     "execution_count": 30,
     "metadata": {},
     "output_type": "execute_result"
    }
   ],
   "source": [
    "Y_train.shape"
   ]
  },
  {
   "cell_type": "code",
   "execution_count": 31,
   "id": "right-hopkins",
   "metadata": {},
   "outputs": [
    {
     "data": {
      "text/plain": [
       "(52048, 116)"
      ]
     },
     "execution_count": 31,
     "metadata": {},
     "output_type": "execute_result"
    }
   ],
   "source": [
    "X_train.shape"
   ]
  },
  {
   "cell_type": "code",
   "execution_count": 32,
   "id": "generous-burner",
   "metadata": {},
   "outputs": [],
   "source": [
    "import numpy as np\n",
    "\n",
    "class WindowGenerator():\n",
    "  def __init__(self, input_width, label_width, shift,\n",
    "               train_df=X_train, val_df=X_val, test_df=X_test,\n",
    "               label_columns=None):\n",
    "    # Store the raw data.\n",
    "    self.train_df = train_df\n",
    "    self.val_df = val_df\n",
    "    self.test_df = test_df\n",
    "\n",
    "    # Work out the label column indices.\n",
    "    self.label_columns = label_columns\n",
    "    if label_columns is not None:\n",
    "      self.label_columns_indices = {name: i for i, name in\n",
    "                                    enumerate(label_columns)}\n",
    "    self.column_indices = {name: i for i, name in\n",
    "                           enumerate(train_df.columns)}\n",
    "\n",
    "    # Work out the window parameters.\n",
    "    self.input_width = input_width\n",
    "    self.label_width = label_width\n",
    "    self.shift = shift\n",
    "\n",
    "    self.total_window_size = input_width + shift\n",
    "\n",
    "    self.input_slice = slice(0, input_width)\n",
    "    self.input_indices = np.arange(self.total_window_size)[self.input_slice]\n",
    "\n",
    "    self.label_start = self.total_window_size - self.label_width\n",
    "    self.labels_slice = slice(self.label_start, None)\n",
    "    self.label_indices = np.arange(self.total_window_size)[self.labels_slice]\n",
    "\n",
    "  def __repr__(self):\n",
    "    return '\\n'.join([\n",
    "        f'Total window size: {self.total_window_size}',\n",
    "        f'Input indices: {self.input_indices}',\n",
    "        f'Label indices: {self.label_indices}',\n",
    "        f'Label column name(s): {self.label_columns}'])"
   ]
  },
  {
   "cell_type": "code",
   "execution_count": 33,
   "id": "ready-berkeley",
   "metadata": {},
   "outputs": [
    {
     "data": {
      "text/plain": [
       "Total window size: 16\n",
       "Input indices: [ 0  1  2  3  4  5  6  7  8  9 10 11 12 13 14]\n",
       "Label indices: [ 1  2  3  4  5  6  7  8  9 10 11 12 13 14 15]\n",
       "Label column name(s): ['win']"
      ]
     },
     "execution_count": 33,
     "metadata": {},
     "output_type": "execute_result"
    }
   ],
   "source": [
    "w1 = WindowGenerator(input_width=15, label_width=15, shift=1,\n",
    "                     label_columns=['win'])\n",
    "w1"
   ]
  },
  {
   "cell_type": "code",
   "execution_count": 34,
   "id": "resistant-swing",
   "metadata": {},
   "outputs": [],
   "source": [
    "def split_window(self, features):\n",
    "  inputs = features[:, self.input_slice, :]\n",
    "  labels = features[:, self.labels_slice, :]\n",
    "  if self.label_columns is not None:\n",
    "    labels = tf.stack(\n",
    "        [labels[:, :, self.column_indices[name]] for name in self.label_columns],\n",
    "        axis=-1)\n",
    "\n",
    "  # Slicing doesn't preserve static shape information, so set the shapes\n",
    "  # manually. This way the `tf.data.Datasets` are easier to inspect.\n",
    "  inputs.set_shape([None, self.input_width, None])\n",
    "  labels.set_shape([None, self.label_width, None])\n",
    "\n",
    "  return inputs, labels\n",
    "\n",
    "WindowGenerator.split_window = split_window"
   ]
  },
  {
   "cell_type": "code",
   "execution_count": 35,
   "id": "better-relaxation",
   "metadata": {},
   "outputs": [
    {
     "name": "stdout",
     "output_type": "stream",
     "text": [
      "All shapes are: (batch, time, features)\n",
      "Window shape: (1, 16, 116)\n",
      "Inputs shape: (1, 15, 116)\n",
      "labels shape: (1, 15, 1)\n"
     ]
    }
   ],
   "source": [
    "import tensorflow as tf\n",
    "tf.random.set_seed(1111)\n",
    "\n",
    "# Stack three slices, the length of the total window:\n",
    "example_window = tf.stack([np.array(zerg_data_standardized[:w1.total_window_size])])\n",
    "\n",
    "example_inputs, example_labels = w1.split_window(example_window)\n",
    "\n",
    "print('All shapes are: (batch, time, features)')\n",
    "print(f'Window shape: {example_window.shape}')\n",
    "print(f'Inputs shape: {example_inputs.shape}')\n",
    "print(f'labels shape: {example_labels.shape}')"
   ]
  },
  {
   "cell_type": "code",
   "execution_count": 36,
   "id": "twelve-restaurant",
   "metadata": {},
   "outputs": [],
   "source": [
    "import matplotlib.pyplot as plt\n",
    "\n",
    "def plot(self, model=None, plot_col='win', max_subplots=1):\n",
    "  inputs, labels = self.example\n",
    "  plt.figure(figsize=(20,15))\n",
    "  plot_col_index = self.column_indices[plot_col]\n",
    "  max_n = min(max_subplots, len(inputs))\n",
    "  for n in range(max_n):\n",
    "    plt.subplot(3, 1, n+1)\n",
    "    plt.ylabel(f'{plot_col} [standardized]')\n",
    "    plt.plot(self.input_indices, inputs[n, :, plot_col_index],\n",
    "             label='Inputs', marker='.', zorder=-10)\n",
    "\n",
    "    if self.label_columns:\n",
    "      label_col_index = self.label_columns_indices.get(plot_col, None)\n",
    "    else:\n",
    "      label_col_index = plot_col_index\n",
    "\n",
    "    if label_col_index is None:\n",
    "      continue\n",
    "\n",
    "    plt.scatter(self.label_indices, labels[n, :, label_col_index],\n",
    "                edgecolors='k', label='Labels', c='#2ca02c', s=64)\n",
    "    if model is not None:\n",
    "      predictions = model(inputs)\n",
    "      plt.scatter(self.label_indices, predictions[n, :, label_col_index],\n",
    "                  marker='X', edgecolors='k', label='Predictions',\n",
    "                  c='#ff7f0e', s=64)\n",
    "\n",
    "    if n == 0:\n",
    "      plt.legend()\n",
    "\n",
    "  plt.xlabel('Time Step')\n",
    "\n",
    "WindowGenerator.plot = plot"
   ]
  },
  {
   "cell_type": "code",
   "execution_count": 37,
   "id": "cordless-gossip",
   "metadata": {},
   "outputs": [
    {
     "data": {
      "image/png": "[encoded data removed]",
      "text/plain": [
       "<Figure size 1440x1080 with 1 Axes>"
      ]
     },
     "metadata": {
      "needs_background": "light"
     },
     "output_type": "display_data"
    }
   ],
   "source": [
    "w1.example = example_inputs, example_labels\n",
    "w1.plot()"
   ]
  },
  {
   "cell_type": "code",
   "execution_count": 38,
   "id": "substantial-snapshot",
   "metadata": {},
   "outputs": [],
   "source": [
    "def make_dataset(self, data):\n",
    "  data = np.array(data, dtype=np.float32)\n",
    "  ds = tf.keras.preprocessing.timeseries_dataset_from_array(\n",
    "      data=data,\n",
    "      targets=None,\n",
    "      sequence_length=self.total_window_size,\n",
    "      sequence_stride=1,\n",
    "      shuffle=True,\n",
    "      batch_size=32,)\n",
    "\n",
    "  ds = ds.map(self.split_window)\n",
    "\n",
    "  return ds\n",
    "\n",
    "WindowGenerator.make_dataset = make_dataset"
   ]
  },
  {
   "cell_type": "code",
   "execution_count": 39,
   "id": "qualified-communications",
   "metadata": {},
   "outputs": [],
   "source": [
    "@property\n",
    "def train(self):\n",
    "  return self.make_dataset(self.train_df)\n",
    "\n",
    "@property\n",
    "def val(self):\n",
    "  return self.make_dataset(self.val_df)\n",
    "\n",
    "@property\n",
    "def test(self):\n",
    "  return self.make_dataset(self.test_df)\n",
    "\n",
    "@property\n",
    "def example(self):\n",
    "  \"\"\"Get and cache an example batch of `inputs, labels` for plotting.\"\"\"\n",
    "  result = getattr(self, '_example', None)\n",
    "  if result is None:\n",
    "    # No example batch was found, so get one from the `.train` dataset\n",
    "    result = next(iter(self.train))\n",
    "    # And cache it for next time\n",
    "    self._example = result\n",
    "  return result\n",
    "\n",
    "WindowGenerator.train = train\n",
    "WindowGenerator.val = val\n",
    "WindowGenerator.test = test\n",
    "WindowGenerator.example = example"
   ]
  },
  {
   "cell_type": "code",
   "execution_count": 40,
   "id": "powerful-district",
   "metadata": {},
   "outputs": [
    {
     "data": {
      "text/plain": [
       "Total window size: 2\n",
       "Input indices: [0]\n",
       "Label indices: [1]\n",
       "Label column name(s): ['win']"
      ]
     },
     "execution_count": 40,
     "metadata": {},
     "output_type": "execute_result"
    }
   ],
   "source": [
    "single_step_window = WindowGenerator(\n",
    "    input_width=1, label_width=1, shift=1,\n",
    "    label_columns=['win'])\n",
    "single_step_window"
   ]
  },
  {
   "cell_type": "code",
   "execution_count": 41,
   "id": "shared-andorra",
   "metadata": {},
   "outputs": [
    {
     "data": {
      "text/plain": [
       "Total window size: 16\n",
       "Input indices: [ 0  1  2  3  4  5  6  7  8  9 10 11 12 13 14]\n",
       "Label indices: [ 1  2  3  4  5  6  7  8  9 10 11 12 13 14 15]\n",
       "Label column name(s): ['win']"
      ]
     },
     "execution_count": 41,
     "metadata": {},
     "output_type": "execute_result"
    }
   ],
   "source": [
    "wide_window = WindowGenerator(\n",
    "    input_width=15, label_width=15, shift=1,\n",
    "    label_columns=['win'])\n",
    "\n",
    "wide_window"
   ]
  },
  {
   "cell_type": "code",
   "execution_count": 42,
   "id": "sexual-flush",
   "metadata": {},
   "outputs": [],
   "source": [
    "MAX_EPOCHS = 100\n",
    "\n",
    "def compile_and_fit(model, window, patience=3):\n",
    "    early_stopping = tf.keras.callbacks.EarlyStopping(monitor='val_loss',\n",
    "                                                    patience=patience,\n",
    "                                                    mode='min')\n",
    "    model.compile(loss=tf.keras.losses.BinaryCrossentropy(),\n",
    "                optimizer=tf.optimizers.Adam(),\n",
    "                metrics=[tf.keras.metrics.BinaryAccuracy(),tf.keras.metrics.Precision(),\n",
    "                        tf.keras.metrics.Recall(), tf.keras.metrics.AUC()])\n",
    "\n",
    "    history = model.fit(window.train, epochs=MAX_EPOCHS,\n",
    "                      validation_data=window.val,\n",
    "                     callbacks=[early_stopping])\n",
    "    return history"
   ]
  },
  {
   "cell_type": "code",
   "execution_count": 43,
   "id": "adaptive-celebrity",
   "metadata": {},
   "outputs": [],
   "source": [
    "linear = tf.keras.Sequential([\n",
    "    tf.keras.layers.Dense(units=1, activation='sigmoid')\n",
    "])"
   ]
  },
  {
   "cell_type": "code",
   "execution_count": 44,
   "id": "excited-cruise",
   "metadata": {},
   "outputs": [
    {
     "name": "stdout",
     "output_type": "stream",
     "text": [
      "WARNING:tensorflow:AutoGraph could not transform <bound method split_window of Total window size: 16\n",
      "Input indices: [ 0  1  2  3  4  5  6  7  8  9 10 11 12 13 14]\n",
      "Label indices: [ 1  2  3  4  5  6  7  8  9 10 11 12 13 14 15]\n",
      "Label column name(s): ['win']> and will run it as-is.\n",
      "Please report this to the TensorFlow team. When filing the bug, set the verbosity to 10 (on Linux, `export AUTOGRAPH_VERBOSITY=10`) and attach the full output.\n",
      "Cause: module 'gast' has no attribute 'Index'\n",
      "To silence this warning, decorate the function with @tf.autograph.experimental.do_not_convert\n",
      "WARNING: AutoGraph could not transform <bound method split_window of Total window size: 16\n",
      "Input indices: [ 0  1  2  3  4  5  6  7  8  9 10 11 12 13 14]\n",
      "Label indices: [ 1  2  3  4  5  6  7  8  9 10 11 12 13 14 15]\n",
      "Label column name(s): ['win']> and will run it as-is.\n",
      "Please report this to the TensorFlow team. When filing the bug, set the verbosity to 10 (on Linux, `export AUTOGRAPH_VERBOSITY=10`) and attach the full output.\n",
      "Cause: module 'gast' has no attribute 'Index'\n",
      "To silence this warning, decorate the function with @tf.autograph.experimental.do_not_convert\n",
      "Epoch 1/100\n",
      "1627/1627 [==============================] - 3s 2ms/step - loss: 0.5438 - binary_accuracy: 0.8268 - precision_2: 0.8312 - recall_2: 0.8265 - auc_2: 0.8851 - val_loss: 0.4281 - val_binary_accuracy: 0.9615 - val_precision_2: 0.9440 - val_recall_2: 0.9729 - val_auc_2: 0.9753\n",
      "Epoch 2/100\n",
      "1627/1627 [==============================] - 3s 2ms/step - loss: 0.3238 - binary_accuracy: 0.9792 - precision_2: 0.9775 - recall_2: 0.9816 - auc_2: 0.9809 - val_loss: 0.2699 - val_binary_accuracy: 0.9808 - val_precision_2: 0.9767 - val_recall_2: 0.9812 - val_auc_2: 0.9807\n",
      "Epoch 3/100\n",
      "1627/1627 [==============================] - 3s 2ms/step - loss: 0.2102 - binary_accuracy: 0.9829 - precision_2: 0.9831 - recall_2: 0.9832 - auc_2: 0.9817 - val_loss: 0.1816 - val_binary_accuracy: 0.9829 - val_precision_2: 0.9812 - val_recall_2: 0.9812 - val_auc_2: 0.9811\n",
      "Epoch 4/100\n",
      "1627/1627 [==============================] - 3s 2ms/step - loss: 0.1479 - binary_accuracy: 0.9830 - precision_2: 0.9832 - recall_2: 0.9832 - auc_2: 0.9827 - val_loss: 0.1326 - val_binary_accuracy: 0.9829 - val_precision_2: 0.9812 - val_recall_2: 0.9812 - val_auc_2: 0.9826\n",
      "Epoch 5/100\n",
      "1627/1627 [==============================] - 3s 2ms/step - loss: 0.1140 - binary_accuracy: 0.9830 - precision_2: 0.9832 - recall_2: 0.9832 - auc_2: 0.9845 - val_loss: 0.1065 - val_binary_accuracy: 0.9829 - val_precision_2: 0.9812 - val_recall_2: 0.9812 - val_auc_2: 0.9849\n",
      "Epoch 6/100\n",
      "1627/1627 [==============================] - 3s 2ms/step - loss: 0.0963 - binary_accuracy: 0.9830 - precision_2: 0.9832 - recall_2: 0.9832 - auc_2: 0.9869 - val_loss: 0.0934 - val_binary_accuracy: 0.9829 - val_precision_2: 0.9812 - val_recall_2: 0.9812 - val_auc_2: 0.9868\n",
      "Epoch 7/100\n",
      "1627/1627 [==============================] - 3s 2ms/step - loss: 0.0875 - binary_accuracy: 0.9830 - precision_2: 0.9832 - recall_2: 0.9832 - auc_2: 0.9884 - val_loss: 0.0875 - val_binary_accuracy: 0.9829 - val_precision_2: 0.9812 - val_recall_2: 0.9812 - val_auc_2: 0.9874\n",
      "Epoch 8/100\n",
      "1627/1627 [==============================] - 3s 2ms/step - loss: 0.0837 - binary_accuracy: 0.9830 - precision_2: 0.9832 - recall_2: 0.9832 - auc_2: 0.9890 - val_loss: 0.0855 - val_binary_accuracy: 0.9829 - val_precision_2: 0.9812 - val_recall_2: 0.9812 - val_auc_2: 0.9875\n",
      "Epoch 9/100\n",
      "1627/1627 [==============================] - 3s 2ms/step - loss: 0.0822 - binary_accuracy: 0.9830 - precision_2: 0.9832 - recall_2: 0.9832 - auc_2: 0.9893 - val_loss: 0.0850 - val_binary_accuracy: 0.9827 - val_precision_2: 0.9807 - val_recall_2: 0.9812 - val_auc_2: 0.9875\n",
      "Epoch 10/100\n",
      "1627/1627 [==============================] - 3s 2ms/step - loss: 0.0817 - binary_accuracy: 0.9830 - precision_2: 0.9832 - recall_2: 0.9832 - auc_2: 0.9894 - val_loss: 0.0849 - val_binary_accuracy: 0.9825 - val_precision_2: 0.9804 - val_recall_2: 0.9812 - val_auc_2: 0.9879\n",
      "Epoch 11/100\n",
      "1627/1627 [==============================] - 3s 2ms/step - loss: 0.0815 - binary_accuracy: 0.9829 - precision_2: 0.9832 - recall_2: 0.9832 - auc_2: 0.9895 - val_loss: 0.0849 - val_binary_accuracy: 0.9825 - val_precision_2: 0.9804 - val_recall_2: 0.9812 - val_auc_2: 0.9877\n",
      "Epoch 12/100\n",
      "1627/1627 [==============================] - 3s 2ms/step - loss: 0.0814 - binary_accuracy: 0.9829 - precision_2: 0.9831 - recall_2: 0.9832 - auc_2: 0.9896 - val_loss: 0.0849 - val_binary_accuracy: 0.9828 - val_precision_2: 0.9809 - val_recall_2: 0.9812 - val_auc_2: 0.9877\n",
      "Epoch 13/100\n",
      "1627/1627 [==============================] - 3s 2ms/step - loss: 0.0813 - binary_accuracy: 0.9829 - precision_2: 0.9831 - recall_2: 0.9832 - auc_2: 0.9896 - val_loss: 0.0850 - val_binary_accuracy: 0.9828 - val_precision_2: 0.9809 - val_recall_2: 0.9812 - val_auc_2: 0.9878\n",
      "407/407 [==============================] - 1s 1ms/step - loss: 0.0850 - binary_accuracy: 0.9828 - precision_2: 0.9809 - recall_2: 0.9812 - auc_2: 0.9878\n"
     ]
    }
   ],
   "source": [
    "val_performance = {}\n",
    "performance = {}\n",
    "\n",
    "history_linear = compile_and_fit(linear, wide_window)\n",
    "\n",
    "val_performance['Linear'] = linear.evaluate(wide_window.val)\n",
    "performance['Linear'] = linear.evaluate(wide_window.test, verbose=0)"
   ]
  },
  {
   "cell_type": "code",
   "execution_count": 61,
   "id": "prepared-gallery",
   "metadata": {},
   "outputs": [
    {
     "data": {
      "image/png": "[encoded data removed]",
      "text/plain": [
       "<Figure size 432x288 with 1 Axes>"
      ]
     },
     "metadata": {
      "needs_background": "light"
     },
     "output_type": "display_data"
    },
    {
     "data": {
      "image/png": "[encoded data removed]",
      "text/plain": [
       "<Figure size 432x288 with 1 Axes>"
      ]
     },
     "metadata": {
      "needs_background": "light"
     },
     "output_type": "display_data"
    },
    {
     "data": {
      "image/png": "[encoded data removed]",
      "text/plain": [
       "<Figure size 432x288 with 1 Axes>"
      ]
     },
     "metadata": {
      "needs_background": "light"
     },
     "output_type": "display_data"
    }
   ],
   "source": [
    "import matplotlib.pyplot as plt\n",
    "\n",
    "#Linear Model Loss\n",
    "plt.plot(history_linear.history['loss'])\n",
    "plt.plot(history_linear.history['val_loss'])\n",
    "plt.title('Linear Model Loss')\n",
    "plt.ylabel('Loss')\n",
    "plt.xlabel('Epoch')\n",
    "plt.legend(['Train','Val'], loc='upper right')\n",
    "plt.show()\n",
    "\n",
    "#Linear Model Loss\n",
    "plt.plot(history_linear.history['loss'])\n",
    "plt.plot(history_linear.history['val_loss'])\n",
    "plt.title('Linear Model Loss - Closer Look')\n",
    "plt.ylabel('Loss')\n",
    "plt.xlabel('Epoch')\n",
    "plt.legend(['Train','Val'], loc='upper right')\n",
    "plt.ylim(0.05,0.2)\n",
    "plt.xlim(0,12)\n",
    "plt.show()\n",
    "\n",
    "#Linear Model Binary Accuracy\n",
    "plt.plot(history_linear.history['binary_accuracy'])\n",
    "plt.plot(history_linear.history['val_binary_accuracy'])\n",
    "plt.title('Linear Model Binary Accuracy')\n",
    "plt.ylabel('Binary Accuracy')\n",
    "plt.xlabel('Epoch')\n",
    "plt.legend(['Train','Val'], loc='upper right')\n",
    "plt.show()"
   ]
  },
  {
   "cell_type": "code",
   "execution_count": 46,
   "id": "great-tobacco",
   "metadata": {},
   "outputs": [
    {
     "name": "stdout",
     "output_type": "stream",
     "text": [
      "WARNING:tensorflow:Model was constructed with shape (None, 15, 116) for input Tensor(\"dense_4_input:0\", shape=(None, 15, 116), dtype=float32), but it was called on an input with incompatible shape (None, 116).\n"
     ]
    },
    {
     "data": {
      "image/png": "[encoded data removed]",
      "text/plain": [
       "<Figure size 288x288 with 1 Axes>"
      ]
     },
     "metadata": {
      "needs_background": "light"
     },
     "output_type": "display_data"
    }
   ],
   "source": [
    "#Confusion matrix for Test set using Linear model \n",
    "\n",
    "import numpy as np\n",
    "from sklearn.metrics import classification_report, confusion_matrix\n",
    "\n",
    "cm = confusion_matrix(Y_test, linear.predict_classes(X_test))\n",
    "fig, ax = plt.subplots(figsize=(4,4))\n",
    "ax.imshow(cm)\n",
    "ax.grid(False)\n",
    "ax.xaxis.set(ticks=(0, 1), ticklabels=('Predicted Loss', 'Predicted Win'))\n",
    "ax.yaxis.set(ticks=(0, 1), ticklabels=('Actual Loss', 'Actual Win'))\n",
    "ax.set_ylim(1.5, -0.5)\n",
    "for i in range(2):\n",
    "    for j in range(2):\n",
    "        ax.text(j, i, cm[i, j], ha='center', va='center', color='red')\n",
    "plt.show()"
   ]
  },
  {
   "cell_type": "code",
   "execution_count": 47,
   "id": "individual-chapter",
   "metadata": {},
   "outputs": [
    {
     "data": {
      "image/png": "[encoded data removed]",
      "text/plain": [
       "<Figure size 1440x1080 with 1 Axes>"
      ]
     },
     "metadata": {
      "needs_background": "light"
     },
     "output_type": "display_data"
    }
   ],
   "source": [
    "#Linear\n",
    "\n",
    "wide_window.plot(linear)"
   ]
  },
  {
   "cell_type": "code",
   "execution_count": 48,
   "id": "increasing-quilt",
   "metadata": {},
   "outputs": [
    {
     "name": "stdout",
     "output_type": "stream",
     "text": [
      "Epoch 1/100\n",
      "1627/1627 [==============================] - 4s 3ms/step - loss: 0.1676 - binary_accuracy: 0.9441 - precision_3: 0.9436 - recall_3: 0.9464 - auc_3: 0.9845 - val_loss: 0.0642 - val_binary_accuracy: 0.9828 - val_precision_3: 0.9812 - val_recall_3: 0.9810 - val_auc_3: 0.9972\n",
      "Epoch 2/100\n",
      "1627/1627 [==============================] - 4s 2ms/step - loss: 0.0471 - binary_accuracy: 0.9830 - precision_3: 0.9832 - recall_3: 0.9832 - auc_3: 0.9981 - val_loss: 0.0498 - val_binary_accuracy: 0.9829 - val_precision_3: 0.9812 - val_recall_3: 0.9812 - val_auc_3: 0.9972\n",
      "Epoch 3/100\n",
      "1627/1627 [==============================] - 4s 2ms/step - loss: 0.0418 - binary_accuracy: 0.9831 - precision_3: 0.9835 - recall_3: 0.9831 - auc_3: 0.9982 - val_loss: 0.0504 - val_binary_accuracy: 0.9826 - val_precision_3: 0.9805 - val_recall_3: 0.9812 - val_auc_3: 0.9972\n",
      "Epoch 4/100\n",
      "1627/1627 [==============================] - 4s 2ms/step - loss: 0.0397 - binary_accuracy: 0.9833 - precision_3: 0.9846 - recall_3: 0.9825 - auc_3: 0.9983 - val_loss: 0.0507 - val_binary_accuracy: 0.9825 - val_precision_3: 0.9804 - val_recall_3: 0.9812 - val_auc_3: 0.9970\n",
      "Epoch 5/100\n",
      "1627/1627 [==============================] - 4s 2ms/step - loss: 0.0377 - binary_accuracy: 0.9836 - precision_3: 0.9855 - recall_3: 0.9821 - auc_3: 0.9985 - val_loss: 0.0510 - val_binary_accuracy: 0.9830 - val_precision_3: 0.9827 - val_recall_3: 0.9799 - val_auc_3: 0.9969\n",
      "407/407 [==============================] - 1s 2ms/step - loss: 0.0510 - binary_accuracy: 0.9830 - precision_3: 0.9827 - recall_3: 0.9799 - auc_3: 0.9969\n"
     ]
    }
   ],
   "source": [
    "dense = tf.keras.Sequential([\n",
    "    tf.keras.layers.Dense(units=131, activation='sigmoid'),\n",
    "    tf.keras.layers.Dense(units=65, activation='sigmoid'),\n",
    "    tf.keras.layers.Dense(units=1, activation='sigmoid')\n",
    "])\n",
    "\n",
    "history_dense = compile_and_fit(dense, wide_window)\n",
    "\n",
    "val_performance['Dense'] = dense.evaluate(wide_window.val)\n",
    "performance['Dense'] = dense.evaluate(wide_window.test, verbose=0)"
   ]
  },
  {
   "cell_type": "code",
   "execution_count": 62,
   "id": "middle-period",
   "metadata": {},
   "outputs": [
    {
     "data": {
      "image/png": "[encoded data removed]",
      "text/plain": [
       "<Figure size 432x288 with 1 Axes>"
      ]
     },
     "metadata": {
      "needs_background": "light"
     },
     "output_type": "display_data"
    },
    {
     "data": {
      "image/png": "[encoded data removed]",
      "text/plain": [
       "<Figure size 432x288 with 1 Axes>"
      ]
     },
     "metadata": {
      "needs_background": "light"
     },
     "output_type": "display_data"
    },
    {
     "data": {
      "image/png": "[encoded data removed]",
      "text/plain": [
       "<Figure size 432x288 with 1 Axes>"
      ]
     },
     "metadata": {
      "needs_background": "light"
     },
     "output_type": "display_data"
    }
   ],
   "source": [
    "#Dense Model Loss\n",
    "plt.plot(history_dense.history['loss'])\n",
    "plt.plot(history_dense.history['val_loss'])\n",
    "plt.title('Dense Model Loss')\n",
    "plt.ylabel('Loss')\n",
    "plt.xlabel('Epoch')\n",
    "plt.legend(['Train','Val'], loc='upper right')\n",
    "plt.show()\n",
    "\n",
    "#Dense Model Loss\n",
    "plt.plot(history_dense.history['loss'])\n",
    "plt.plot(history_dense.history['val_loss'])\n",
    "plt.title('Dense Model Loss - Closer Look')\n",
    "plt.ylabel('Loss')\n",
    "plt.xlabel('Epoch')\n",
    "plt.legend(['Train','Val'], loc='upper right')\n",
    "plt.ylim(0.03,0.1)\n",
    "plt.xlim(0,5)\n",
    "plt.show()\n",
    "\n",
    "#Dense Model Binary Accuracy\n",
    "plt.plot(history_dense.history['binary_accuracy'])\n",
    "plt.plot(history_dense.history['val_binary_accuracy'])\n",
    "plt.title('Dense Model Binary Accuracy')\n",
    "plt.ylabel('Binary Accuracy')\n",
    "plt.xlabel('Epoch')\n",
    "plt.legend(['Train','Val'], loc='upper right')\n",
    "plt.show()"
   ]
  },
  {
   "cell_type": "code",
   "execution_count": 50,
   "id": "juvenile-building",
   "metadata": {},
   "outputs": [
    {
     "name": "stdout",
     "output_type": "stream",
     "text": [
      "WARNING:tensorflow:Model was constructed with shape (None, 15, 116) for input Tensor(\"dense_5_input:0\", shape=(None, 15, 116), dtype=float32), but it was called on an input with incompatible shape (None, 116).\n"
     ]
    },
    {
     "data": {
      "image/png": "[encoded data removed]",
      "text/plain": [
       "<Figure size 288x288 with 1 Axes>"
      ]
     },
     "metadata": {
      "needs_background": "light"
     },
     "output_type": "display_data"
    }
   ],
   "source": [
    "#Confusion matrix for Test set using Dense NN\n",
    "\n",
    "cm = confusion_matrix(Y_test, dense.predict_classes(X_test))\n",
    "fig, ax = plt.subplots(figsize=(4,4))\n",
    "ax.imshow(cm)\n",
    "ax.grid(False)\n",
    "ax.xaxis.set(ticks=(0, 1), ticklabels=('Predicted Loss', 'Predicted Win'))\n",
    "ax.yaxis.set(ticks=(0, 1), ticklabels=('Actual Loss', 'Actual Win'))\n",
    "ax.set_ylim(1.5, -0.5)\n",
    "for i in range(2):\n",
    "    for j in range(2):\n",
    "        ax.text(j, i, cm[i, j], ha='center', va='center', color='red')\n",
    "plt.show()"
   ]
  },
  {
   "cell_type": "code",
   "execution_count": 51,
   "id": "grateful-prior",
   "metadata": {},
   "outputs": [
    {
     "data": {
      "image/png": "[encoded data removed]",
      "text/plain": [
       "<Figure size 1440x1080 with 1 Axes>"
      ]
     },
     "metadata": {
      "needs_background": "light"
     },
     "output_type": "display_data"
    }
   ],
   "source": [
    "#Dense\n",
    "\n",
    "wide_window.plot(dense)"
   ]
  },
  {
   "cell_type": "code",
   "execution_count": 52,
   "id": "thousand-story",
   "metadata": {},
   "outputs": [],
   "source": [
    "lstm_model = tf.keras.models.Sequential([\n",
    "    # Shape [batch, time, features] => [batch, time, lstm_units]\n",
    "    tf.keras.layers.LSTM(32, return_sequences=True),\n",
    "    # Shape => [batch, time, features]\n",
    "    tf.keras.layers.Dense(units=1, activation='sigmoid')\n",
    "])"
   ]
  },
  {
   "cell_type": "code",
   "execution_count": 53,
   "id": "broad-peter",
   "metadata": {},
   "outputs": [
    {
     "name": "stdout",
     "output_type": "stream",
     "text": [
      "Epoch 1/100\n",
      "1627/1627 [==============================] - 9s 5ms/step - loss: 0.1228 - binary_accuracy: 0.9639 - precision_4: 0.9609 - recall_4: 0.9683 - auc_4: 0.9921 - val_loss: 0.0592 - val_binary_accuracy: 0.9813 - val_precision_4: 0.9782 - val_recall_4: 0.9808 - val_auc_4: 0.9970\n",
      "Epoch 2/100\n",
      "1627/1627 [==============================] - 8s 5ms/step - loss: 0.0390 - binary_accuracy: 0.9857 - precision_4: 0.9868 - recall_4: 0.9851 - auc_4: 0.9987 - val_loss: 0.0555 - val_binary_accuracy: 0.9800 - val_precision_4: 0.9785 - val_recall_4: 0.9775 - val_auc_4: 0.9971\n",
      "Epoch 3/100\n",
      "1627/1627 [==============================] - 8s 5ms/step - loss: 0.0286 - binary_accuracy: 0.9893 - precision_4: 0.9900 - recall_4: 0.9889 - auc_4: 0.9993 - val_loss: 0.0605 - val_binary_accuracy: 0.9786 - val_precision_4: 0.9770 - val_recall_4: 0.9759 - val_auc_4: 0.9966\n",
      "Epoch 4/100\n",
      "1627/1627 [==============================] - 8s 5ms/step - loss: 0.0210 - binary_accuracy: 0.9925 - precision_4: 0.9929 - recall_4: 0.9924 - auc_4: 0.9995 - val_loss: 0.0697 - val_binary_accuracy: 0.9778 - val_precision_4: 0.9768 - val_recall_4: 0.9742 - val_auc_4: 0.9957\n",
      "Epoch 5/100\n",
      "1627/1627 [==============================] - 7s 5ms/step - loss: 0.0156 - binary_accuracy: 0.9947 - precision_4: 0.9949 - recall_4: 0.9946 - auc_4: 0.9997 - val_loss: 0.0795 - val_binary_accuracy: 0.9766 - val_precision_4: 0.9725 - val_recall_4: 0.9760 - val_auc_4: 0.9946\n",
      "407/407 [==============================] - 1s 2ms/step - loss: 0.0795 - binary_accuracy: 0.9766 - precision_4: 0.9725 - recall_4: 0.9760 - auc_4: 0.9946\n"
     ]
    }
   ],
   "source": [
    "history_lstm = compile_and_fit(lstm_model, wide_window)\n",
    "\n",
    "val_performance['LSTM'] = lstm_model.evaluate(wide_window.val)\n",
    "performance['LSTM'] = lstm_model.evaluate(wide_window.test, verbose=0)"
   ]
  },
  {
   "cell_type": "code",
   "execution_count": 63,
   "id": "young-input",
   "metadata": {},
   "outputs": [
    {
     "data": {
      "image/png": "[encoded data removed]",
      "text/plain": [
       "<Figure size 432x288 with 1 Axes>"
      ]
     },
     "metadata": {
      "needs_background": "light"
     },
     "output_type": "display_data"
    },
    {
     "data": {
      "image/png": "[encoded data removed]",
      "text/plain": [
       "<Figure size 432x288 with 1 Axes>"
      ]
     },
     "metadata": {
      "needs_background": "light"
     },
     "output_type": "display_data"
    },
    {
     "data": {
      "image/png": "[encoded data removed]",
      "text/plain": [
       "<Figure size 432x288 with 1 Axes>"
      ]
     },
     "metadata": {
      "needs_background": "light"
     },
     "output_type": "display_data"
    }
   ],
   "source": [
    "#LSTM Model Loss\n",
    "plt.plot(history_lstm.history['loss'])\n",
    "plt.plot(history_lstm.history['val_loss'])\n",
    "plt.title('LSTM Model Loss')\n",
    "plt.ylabel('Loss')\n",
    "plt.xlabel('Epoch')\n",
    "plt.legend(['Train','Val'], loc='upper right')\n",
    "plt.show()\n",
    "\n",
    "#LSTM Model Loss\n",
    "plt.plot(history_lstm.history['loss'])\n",
    "plt.plot(history_lstm.history['val_loss'])\n",
    "plt.title('LSTM Model Loss - Closer Look')\n",
    "plt.ylabel('Loss')\n",
    "plt.xlabel('Epoch')\n",
    "plt.legend(['Train','Val'], loc='upper right')\n",
    "plt.ylim(0.03,0.1)\n",
    "plt.xlim(0,5)\n",
    "plt.show()\n",
    "\n",
    "#LSTM Model Binary Accuracy\n",
    "plt.plot(history_lstm.history['binary_accuracy'])\n",
    "plt.plot(history_lstm.history['val_binary_accuracy'])\n",
    "plt.title('LSTM Model Binary Accuracy')\n",
    "plt.ylabel('Binary Accuracy')\n",
    "plt.xlabel('Epoch')\n",
    "plt.legend(['Train','Val'], loc='upper right')\n",
    "plt.show()"
   ]
  },
  {
   "cell_type": "code",
   "execution_count": 55,
   "id": "psychological-publisher",
   "metadata": {},
   "outputs": [
    {
     "data": {
      "image/png": "[encoded data removed]",
      "text/plain": [
       "<Figure size 1440x1080 with 1 Axes>"
      ]
     },
     "metadata": {
      "needs_background": "light"
     },
     "output_type": "display_data"
    }
   ],
   "source": [
    "#LSTM\n",
    "\n",
    "wide_window.plot(lstm_model)"
   ]
  },
  {
   "cell_type": "code",
   "execution_count": 56,
   "id": "consistent-president",
   "metadata": {},
   "outputs": [],
   "source": [
    "gru_model = tf.keras.models.Sequential([\n",
    "    tf.keras.layers.GRU(32, return_sequences=True),\n",
    "    tf.keras.layers.Dense(units=1, activation='sigmoid')\n",
    "])"
   ]
  },
  {
   "cell_type": "code",
   "execution_count": 57,
   "id": "automotive-patrol",
   "metadata": {},
   "outputs": [
    {
     "name": "stdout",
     "output_type": "stream",
     "text": [
      "Epoch 1/100\n",
      "1627/1627 [==============================] - 9s 6ms/step - loss: 0.1105 - binary_accuracy: 0.9678 - precision_5: 0.9641 - recall_5: 0.9729 - auc_5: 0.9932 - val_loss: 0.0570 - val_binary_accuracy: 0.9814 - val_precision_5: 0.9798 - val_recall_5: 0.9792 - val_auc_5: 0.9971\n",
      "Epoch 2/100\n",
      "1627/1627 [==============================] - 7s 4ms/step - loss: 0.0398 - binary_accuracy: 0.9850 - precision_5: 0.9860 - recall_5: 0.9845 - auc_5: 0.9986 - val_loss: 0.0551 - val_binary_accuracy: 0.9802 - val_precision_5: 0.9787 - val_recall_5: 0.9777 - val_auc_5: 0.9971\n",
      "Epoch 3/100\n",
      "1627/1627 [==============================] - 7s 4ms/step - loss: 0.0316 - binary_accuracy: 0.9879 - precision_5: 0.9887 - recall_5: 0.9875 - auc_5: 0.9991 - val_loss: 0.0605 - val_binary_accuracy: 0.9782 - val_precision_5: 0.9784 - val_recall_5: 0.9736 - val_auc_5: 0.9966\n",
      "Epoch 4/100\n",
      "1627/1627 [==============================] - 7s 4ms/step - loss: 0.0259 - binary_accuracy: 0.9906 - precision_5: 0.9911 - recall_5: 0.9903 - auc_5: 0.9994 - val_loss: 0.0652 - val_binary_accuracy: 0.9780 - val_precision_5: 0.9791 - val_recall_5: 0.9725 - val_auc_5: 0.9961\n",
      "Epoch 5/100\n",
      "1627/1627 [==============================] - 7s 4ms/step - loss: 0.0204 - binary_accuracy: 0.9927 - precision_5: 0.9932 - recall_5: 0.9924 - auc_5: 0.9996 - val_loss: 0.0731 - val_binary_accuracy: 0.9778 - val_precision_5: 0.9788 - val_recall_5: 0.9722 - val_auc_5: 0.9953\n",
      "407/407 [==============================] - 1s 2ms/step - loss: 0.0731 - binary_accuracy: 0.9778 - precision_5: 0.9788 - recall_5: 0.9722 - auc_5: 0.9953\n"
     ]
    }
   ],
   "source": [
    "history_gru = compile_and_fit(gru_model, wide_window)\n",
    "\n",
    "val_performance['GRU'] = gru_model.evaluate(wide_window.val)\n",
    "performance['GRU'] = gru_model.evaluate(wide_window.test, verbose=0)"
   ]
  },
  {
   "cell_type": "code",
   "execution_count": 65,
   "id": "agreed-softball",
   "metadata": {},
   "outputs": [
    {
     "data": {
      "image/png": "[encoded data removed]",
      "text/plain": [
       "<Figure size 432x288 with 1 Axes>"
      ]
     },
     "metadata": {
      "needs_background": "light"
     },
     "output_type": "display_data"
    },
    {
     "data": {
      "image/png": "[encoded data removed]",
      "text/plain": [
       "<Figure size 432x288 with 1 Axes>"
      ]
     },
     "metadata": {
      "needs_background": "light"
     },
     "output_type": "display_data"
    },
    {
     "data": {
      "image/png": "[encoded data removed]",
      "text/plain": [
       "<Figure size 432x288 with 1 Axes>"
      ]
     },
     "metadata": {
      "needs_background": "light"
     },
     "output_type": "display_data"
    }
   ],
   "source": [
    "#GRU Model Loss\n",
    "plt.plot(history_gru.history['loss'])\n",
    "plt.plot(history_gru.history['val_loss'])\n",
    "plt.title('GRU Model Loss')\n",
    "plt.ylabel('Loss')\n",
    "plt.xlabel('Epoch')\n",
    "plt.legend(['Train','Val'], loc='upper right')\n",
    "plt.show()\n",
    "\n",
    "#GRU Model Loss\n",
    "plt.plot(history_gru.history['loss'])\n",
    "plt.plot(history_gru.history['val_loss'])\n",
    "plt.title('GRU Model Loss - Closer Look')\n",
    "plt.ylabel('Loss')\n",
    "plt.xlabel('Epoch')\n",
    "plt.legend(['Train','Val'], loc='upper right')\n",
    "plt.ylim(0.04,0.1)\n",
    "plt.xlim(0,5)\n",
    "plt.show()\n",
    "\n",
    "#GRU Model Binary Accuracy\n",
    "plt.plot(history_gru.history['binary_accuracy'])\n",
    "plt.plot(history_gru.history['val_binary_accuracy'])\n",
    "plt.title('GRU Model Binary Accuracy')\n",
    "plt.ylabel('Binary Accuracy')\n",
    "plt.xlabel('Epoch')\n",
    "plt.legend(['Train','Val'], loc='upper right')\n",
    "plt.show()"
   ]
  },
  {
   "cell_type": "code",
   "execution_count": 59,
   "id": "beautiful-alberta",
   "metadata": {},
   "outputs": [
    {
     "data": {
      "image/png": "[encoded data removed]",
      "text/plain": [
       "<Figure size 1440x1080 with 1 Axes>"
      ]
     },
     "metadata": {
      "needs_background": "light"
     },
     "output_type": "display_data"
    }
   ],
   "source": [
    "#GRU\n",
    "\n",
    "wide_window.plot(gru_model)"
   ]
  },
  {
   "cell_type": "code",
   "execution_count": 60,
   "id": "premier-martial",
   "metadata": {},
   "outputs": [
    {
     "data": {
      "image/png": "[encoded data removed]",
      "text/plain": [
       "<Figure size 432x288 with 1 Axes>"
      ]
     },
     "metadata": {
      "needs_background": "light"
     },
     "output_type": "display_data"
    }
   ],
   "source": [
    "x = np.arange(len(performance))\n",
    "width = 0.3\n",
    "metric_name = 'loss'\n",
    "metric_index = lstm_model.metrics_names.index('loss')\n",
    "val_loss = [v[metric_index] for v in val_performance.values()]\n",
    "test_loss = [v[metric_index] for v in performance.values()]\n",
    "\n",
    "plt.ylabel('loss [win, standardized]')\n",
    "plt.bar(x - 0.17, val_loss, width, label='Validation')\n",
    "plt.bar(x + 0.17, test_loss, width, label='Test')\n",
    "plt.xticks(ticks=x, labels=performance.keys(),\n",
    "           rotation=45)\n",
    "_ = plt.legend()"
   ]
  },
  {
   "cell_type": "code",
   "execution_count": null,
   "id": "sized-breeding",
   "metadata": {},
   "outputs": [],
   "source": []
  }
 ],
 "metadata": {
  "kernelspec": {
   "display_name": "Python 3",
   "language": "python",
   "name": "python3"
  },
  "language_info": {
   "codemirror_mode": {
    "name": "ipython",
    "version": 3
   },
   "file_extension": ".py",
   "mimetype": "text/x-python",
   "name": "python",
   "nbconvert_exporter": "python",
   "pygments_lexer": "ipython3",
   "version": "3.8.5"
  }
 },
 "nbformat": 4,
 "nbformat_minor": 5
}
