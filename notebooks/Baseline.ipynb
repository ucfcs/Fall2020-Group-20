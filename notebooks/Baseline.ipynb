{
 "cells": [
  {
   "cell_type": "code",
   "execution_count": 5,
   "id": "formal-venue",
   "metadata": {},
   "outputs": [],
   "source": [
    "#Importing 3 data sets from csv\n",
    "from pandas import read_csv\n",
    "import pandas as pd\n",
    "import numpy as np\n",
    "from sklearn.dummy import DummyClassifier\n",
    "\n",
    "terran_data = read_csv('../Output/terranFeb.csv', header=0, index_col=False)\n",
    "protoss_data = read_csv('../Output/ProtossFeb.csv', header=0, index_col=False)\n",
    "zerg_data = read_csv('../Output/ZergFeb.csv', header=0, index_col=False)"
   ]
  },
  {
   "cell_type": "code",
   "execution_count": 6,
   "id": "funky-gothic",
   "metadata": {},
   "outputs": [],
   "source": [
    "#Split data into dependent and independent variables\n",
    "no_X = ['win']\n",
    "terran_yes_X = [x for x in list(terran_data) if x not in no_X]\n",
    "protoss_yes_X = [x for x in list(protoss_data) if x not in no_X]\n",
    "zerg_yes_X = [x for x in list(zerg_data) if x not in no_X]\n",
    "\n",
    "terran_Y = terran_data['win']\n",
    "terran_X = terran_data[terran_yes_X]\n",
    "\n",
    "protoss_Y = protoss_data['win']\n",
    "protoss_X = protoss_data[protoss_yes_X]\n",
    "\n",
    "zerg_Y = zerg_data['win']\n",
    "zerg_X = zerg_data[zerg_yes_X]"
   ]
  },
  {
   "cell_type": "code",
   "execution_count": 7,
   "id": "referenced-mechanics",
   "metadata": {},
   "outputs": [],
   "source": [
    "#Split data into training, and testing set\n",
    "terran_train_split = 0.8\n",
    "protoss_train_split = 0.8\n",
    "zerg_train_split = 0.8\n",
    "\n",
    "terran_num_data = len(terran_X)\n",
    "terran_num_train = int(terran_train_split * terran_num_data)\n",
    "terran_num_test = terran_num_data - int(terran_train_split * terran_num_data)\n",
    "\n",
    "protoss_num_data = len(protoss_X)\n",
    "protoss_num_train = int(protoss_train_split * protoss_num_data)\n",
    "protoss_num_test = protoss_num_data - int(protoss_train_split * protoss_num_data)\n",
    "\n",
    "zerg_num_data = len(zerg_X)\n",
    "zerg_num_train = int(zerg_train_split * zerg_num_data)\n",
    "zerg_num_test = zerg_num_data - int(zerg_train_split * zerg_num_data)\n",
    "\n",
    "terran_Y_train = terran_Y[0:terran_num_train]\n",
    "terran_Y_test = terran_Y[terran_num_train:]\n",
    "\n",
    "terran_X_train = terran_X[0:terran_num_train]\n",
    "terran_X_test = terran_X[terran_num_train:]\n",
    "\n",
    "protoss_Y_train = protoss_Y[0:protoss_num_train]\n",
    "protoss_Y_test = protoss_Y[protoss_num_train:]\n",
    "\n",
    "protoss_X_train = protoss_X[0:protoss_num_train]\n",
    "protoss_X_test = protoss_X[protoss_num_train:]\n",
    "\n",
    "zerg_Y_train = zerg_Y[0:zerg_num_train]\n",
    "zerg_Y_test = zerg_Y[zerg_num_train:]\n",
    "\n",
    "zerg_X_train = zerg_X[0:zerg_num_train]\n",
    "zerg_X_test = zerg_X[zerg_num_train:]"
   ]
  },
  {
   "cell_type": "code",
   "execution_count": 8,
   "id": "adult-beatles",
   "metadata": {},
   "outputs": [],
   "source": [
    "#Zero Rule Baseline\n",
    "\n",
    "#Terran \n",
    "terran_most_frequent_dummy = DummyClassifier(strategy=\"most_frequent\")\n",
    "terran_most_frequent_dummy.fit(terran_X_train, terran_Y_train)\n",
    "terran_most_frequent_dummy.predict(terran_X_test)\n",
    "terran_most_frequent_score = terran_most_frequent_dummy.score(terran_X_test, terran_Y_test)\n",
    "\n",
    "#Protoss \n",
    "protoss_most_frequent_dummy = DummyClassifier(strategy=\"most_frequent\")\n",
    "protoss_most_frequent_dummy.fit(protoss_X_train, protoss_Y_train)\n",
    "protoss_most_frequent_dummy.predict(protoss_X_test)\n",
    "protoss_most_frequent_score = protoss_most_frequent_dummy.score(protoss_X_test, protoss_Y_test)\n",
    "\n",
    "#Zerg\n",
    "zerg_most_frequent_dummy = DummyClassifier(strategy=\"most_frequent\")\n",
    "zerg_most_frequent_dummy.fit(zerg_X_train, zerg_Y_train)\n",
    "zerg_most_frequent_dummy.predict(zerg_X_test)\n",
    "zerg_most_frequent_score = zerg_most_frequent_dummy.score(zerg_X_test, zerg_Y_test)"
   ]
  },
  {
   "cell_type": "code",
   "execution_count": 9,
   "id": "sapphire-murder",
   "metadata": {},
   "outputs": [],
   "source": [
    "#Random Prediction Baseline\n",
    "\n",
    "#Terran\n",
    "terran_uniform_dummy = DummyClassifier(strategy=\"uniform\")\n",
    "terran_uniform_dummy.fit(terran_X_train, terran_Y_train)\n",
    "terran_uniform_dummy.predict(terran_X_test)\n",
    "terran_uniform_score = terran_uniform_dummy.score(terran_X_test, terran_Y_test)\n",
    "\n",
    "#Protoss\n",
    "protoss_uniform_dummy = DummyClassifier(strategy=\"uniform\")\n",
    "protoss_uniform_dummy.fit(protoss_X_train, protoss_Y_train)\n",
    "protoss_uniform_dummy.predict(protoss_X_test)\n",
    "protoss_uniform_score = protoss_uniform_dummy.score(protoss_X_test, protoss_Y_test)\n",
    "\n",
    "#Zerg\n",
    "zerg_uniform_dummy = DummyClassifier(strategy=\"uniform\")\n",
    "zerg_uniform_dummy.fit(zerg_X_train, zerg_Y_train)\n",
    "zerg_uniform_dummy.predict(zerg_X_test)\n",
    "zerg_uniform_score = zerg_uniform_dummy.score(zerg_X_test, zerg_Y_test)"
   ]
  },
  {
   "cell_type": "code",
   "execution_count": 10,
   "id": "applicable-hammer",
   "metadata": {},
   "outputs": [],
   "source": [
    "table = pd.DataFrame ({'Baseline Algorithm': ['Zero Rule','Random Prediction'],\n",
    "                   'Terran': [terran_most_frequent_score, terran_uniform_score],\n",
    "                      'Protoss': [protoss_most_frequent_score, protoss_uniform_score],\n",
    "                    'Zerg': [zerg_most_frequent_score, zerg_uniform_score]})"
   ]
  },
  {
   "cell_type": "code",
   "execution_count": 11,
   "id": "adopted-brand",
   "metadata": {},
   "outputs": [
    {
     "name": "stdout",
     "output_type": "stream",
     "text": [
      "The score in the table is the Mean Accuracy for that Baseline and Data Set\n"
     ]
    },
    {
     "data": {
      "text/html": [
       "<div>\n",
       "<style scoped>\n",
       "    .dataframe tbody tr th:only-of-type {\n",
       "        vertical-align: middle;\n",
       "    }\n",
       "\n",
       "    .dataframe tbody tr th {\n",
       "        vertical-align: top;\n",
       "    }\n",
       "\n",
       "    .dataframe thead th {\n",
       "        text-align: right;\n",
       "    }\n",
       "</style>\n",
       "<table border=\"1\" class=\"dataframe\">\n",
       "  <thead>\n",
       "    <tr style=\"text-align: right;\">\n",
       "      <th></th>\n",
       "      <th>Baseline Algorithm</th>\n",
       "      <th>Terran</th>\n",
       "      <th>Protoss</th>\n",
       "      <th>Zerg</th>\n",
       "    </tr>\n",
       "  </thead>\n",
       "  <tbody>\n",
       "    <tr>\n",
       "      <th>0</th>\n",
       "      <td>Zero Rule</td>\n",
       "      <td>0.551063</td>\n",
       "      <td>0.489918</td>\n",
       "      <td>0.453031</td>\n",
       "    </tr>\n",
       "    <tr>\n",
       "      <th>1</th>\n",
       "      <td>Random Prediction</td>\n",
       "      <td>0.501753</td>\n",
       "      <td>0.502357</td>\n",
       "      <td>0.499447</td>\n",
       "    </tr>\n",
       "  </tbody>\n",
       "</table>\n",
       "</div>"
      ],
      "text/plain": [
       "  Baseline Algorithm    Terran   Protoss      Zerg\n",
       "0          Zero Rule  0.551063  0.489918  0.453031\n",
       "1  Random Prediction  0.501753  0.502357  0.499447"
      ]
     },
     "metadata": {},
     "output_type": "display_data"
    }
   ],
   "source": [
    "print('The score in the table is the Mean Accuracy for that Baseline and Data Set')\n",
    "display(table)"
   ]
  }
 ],
 "metadata": {
  "kernelspec": {
   "display_name": "Python 3",
   "language": "python",
   "name": "python3"
  },
  "language_info": {
   "codemirror_mode": {
    "name": "ipython",
    "version": 3
   },
   "file_extension": ".py",
   "mimetype": "text/x-python",
   "name": "python",
   "nbconvert_exporter": "python",
   "pygments_lexer": "ipython3",
   "version": "3.8.5"
  }
 },
 "nbformat": 4,
 "nbformat_minor": 5
}
