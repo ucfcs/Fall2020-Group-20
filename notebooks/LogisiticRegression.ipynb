{
 "cells": [
  {
   "cell_type": "code",
   "execution_count": 18,
   "id": "greater-communication",
   "metadata": {},
   "outputs": [],
   "source": [
    "#Importing data from csv\n",
    "from pandas import read_csv\n",
    "import pandas as pd\n",
    "\n",
    "terran_data = read_csv('../Output/terranFeb.csv', header=0, index_col=False)\n",
    "protoss_data = read_csv('../Output/ProtossFeb.csv', header=0, index_col=False)\n",
    "zerg_data = read_csv('../Output/ZergFeb.csv', header=0, index_col=False)"
   ]
  },
  {
   "cell_type": "code",
   "execution_count": 19,
   "id": "aggregate-personality",
   "metadata": {},
   "outputs": [],
   "source": [
    "import matplotlib.pyplot as plt\n",
    "import numpy as np\n",
    "from sklearn.linear_model import LogisticRegression\n",
    "from sklearn.metrics import classification_report, confusion_matrix\n",
    "\n",
    "log_model = LogisticRegression(solver='liblinear', random_state=0)"
   ]
  },
  {
   "cell_type": "markdown",
   "id": "terminal-aging",
   "metadata": {},
   "source": [
    "TERRAN LOGISTIC REGRESSION"
   ]
  },
  {
   "cell_type": "code",
   "execution_count": 20,
   "id": "ruled-documentation",
   "metadata": {},
   "outputs": [],
   "source": [
    "from sklearn.preprocessing import MinMaxScaler\n",
    "\n",
    "no_normalize = ['match_id','map_name','region','race','enemy_race','frame','second','player','game_length']\n",
    "\n",
    "#Names of Columns that we want to Normalize (Numerical variables only)\n",
    "normalize_columns = [x for x in list(terran_data) if x not in no_normalize]\n",
    "\n",
    "#Normalizing these columns\n",
    "norm = terran_data[normalize_columns].values\n",
    "norm_scaled = MinMaxScaler().fit_transform(norm)\n",
    "terran_data_normalized = pd.DataFrame(norm_scaled, columns=normalize_columns, index=terran_data.index)\n",
    "\n",
    "#One-hot Encoding the categorical variables\n",
    "terran_data_normalized = terran_data_normalized.join(pd.get_dummies(terran_data['map_name'], prefix='Map'))\n",
    "terran_data_normalized = terran_data_normalized.join(pd.get_dummies(terran_data['region'], prefix='Region'))\n",
    "terran_data_normalized = terran_data_normalized.join(pd.get_dummies(terran_data['enemy_race'], prefix='Enemy'))"
   ]
  },
  {
   "cell_type": "code",
   "execution_count": 21,
   "id": "critical-groove",
   "metadata": {},
   "outputs": [],
   "source": [
    "#Standardization\n",
    "\n",
    "from sklearn.preprocessing import StandardScaler\n",
    "\n",
    "no_standardize = ['match_id','map_name','region','race','enemy_race','frame','second','player','game_length','win']\n",
    "\n",
    "#Names of Columns that we do want to Standardize\n",
    "standardize_columns = [x for x in list(terran_data) if x not in no_standardize]\n",
    "\n",
    "#Standardizing these columns\n",
    "stand = terran_data[standardize_columns].values\n",
    "stand_scaled = StandardScaler().fit_transform(stand)\n",
    "terran_data_standardized = pd.DataFrame(stand_scaled, columns=standardize_columns, index=terran_data.index)\n",
    "\n",
    "#One-hot Encoding the categorical variables\n",
    "terran_data_standardized = terran_data_standardized.join(pd.get_dummies(terran_data['map_name'], prefix='Map'))\n",
    "terran_data_standardized = terran_data_standardized.join(pd.get_dummies(terran_data['region'], prefix='Region'))\n",
    "terran_data_standardized = terran_data_standardized.join(pd.get_dummies(terran_data['enemy_race'], prefix='Enemy'))\n",
    "terran_data_standardized = terran_data_standardized.join(terran_data['win'])"
   ]
  },
  {
   "cell_type": "code",
   "execution_count": 22,
   "id": "rotary-improvement",
   "metadata": {},
   "outputs": [],
   "source": [
    "#Split data into dependent and independent variables\n",
    "no_X = ['win']\n",
    "yes_X = [x for x in list(terran_data_normalized) if x not in no_X]\n",
    "\n",
    "Y = terran_data_normalized['win']\n",
    "X_normalized = terran_data_normalized[yes_X]"
   ]
  },
  {
   "cell_type": "code",
   "execution_count": 23,
   "id": "saved-hello",
   "metadata": {},
   "outputs": [],
   "source": [
    "#Split data into dependent and independent variables\n",
    "no_X = ['win']\n",
    "yes_X = [x for x in list(terran_data_standardized) if x not in no_X]\n",
    "\n",
    "Y = terran_data_standardized['win']\n",
    "X_standardized = terran_data_standardized[yes_X]"
   ]
  },
  {
   "cell_type": "code",
   "execution_count": 24,
   "id": "prime-bullet",
   "metadata": {},
   "outputs": [],
   "source": [
    "#Split data into training, validation and testing set\n",
    "train_split = 0.8\n",
    "val_split = 0.2\n",
    "\n",
    "num_data = len(X_normalized)\n",
    "num_val = int(train_split * val_split * num_data)\n",
    "num_train = int(train_split * num_data) - num_val\n",
    "num_test = num_data - int(train_split * num_data)\n",
    "\n",
    "Y_train = Y[0:num_train]\n",
    "Y_val = Y[num_train:(num_train + num_val)]\n",
    "Y_test = Y[(num_val + num_train):]\n",
    "\n",
    "X_normalized_train = X_normalized[0:num_train]\n",
    "X_normalized_val = X_normalized[num_train:(num_train + num_val)]\n",
    "X_normalized_test = X_normalized[(num_val + num_train):]\n",
    "\n",
    "X_standardized_train = X_standardized[0:num_train]\n",
    "X_standardized_val = X_standardized[num_train:(num_train + num_val)]\n",
    "X_standardized_test = X_standardized[(num_val + num_train):]"
   ]
  },
  {
   "cell_type": "code",
   "execution_count": 26,
   "id": "necessary-alloy",
   "metadata": {},
   "outputs": [],
   "source": [
    "log_normT = log_model.fit(X_normalized_train, Y_train)\n",
    "log_standT = log_model.fit(X_standardized_train, Y_train)"
   ]
  },
  {
   "cell_type": "code",
   "execution_count": 27,
   "id": "patient-burton",
   "metadata": {},
   "outputs": [],
   "source": [
    "log_normprobT = log_normT.predict_proba(X_normalized_val)\n",
    "log_standprobT = log_standT.predict_proba(X_standardized_val)"
   ]
  },
  {
   "cell_type": "code",
   "execution_count": 28,
   "id": "powerful-impossible",
   "metadata": {},
   "outputs": [
    {
     "data": {
      "image/png": "[encoded data removed]",
      "text/plain": [
       "<Figure size 432x432 with 1 Axes>"
      ]
     },
     "metadata": {
      "needs_background": "light"
     },
     "output_type": "display_data"
    }
   ],
   "source": [
    "log_norm_cmT = confusion_matrix(Y_test, log_normT.predict(X_normalized_test))\n",
    "fig, ax = plt.subplots(figsize=(6,6))\n",
    "ax.imshow(log_norm_cmT)\n",
    "ax.grid(False)\n",
    "ax.xaxis.set(ticks=(0, 1), ticklabels=('Predicted Loss', 'Predicted Win'))\n",
    "ax.yaxis.set(ticks=(0, 1), ticklabels=('Actual Loss', 'Actual Win'))\n",
    "ax.set_ylim(1.5, -0.5)\n",
    "for i in range(2):\n",
    "    for j in range(2):\n",
    "        ax.text(j, i, log_norm_cmT[i, j], ha='center', va='center', color='red')\n",
    "plt.title('Confusion Matrix - Log Regression - Normalized')\n",
    "plt.show()"
   ]
  },
  {
   "cell_type": "code",
   "execution_count": 29,
   "id": "smaller-expense",
   "metadata": {},
   "outputs": [
    {
     "data": {
      "image/png": "[encoded data removed]",
      "text/plain": [
       "<Figure size 432x432 with 1 Axes>"
      ]
     },
     "metadata": {
      "needs_background": "light"
     },
     "output_type": "display_data"
    }
   ],
   "source": [
    "log_stand_cmT = confusion_matrix(Y_test, log_standT.predict(X_standardized_test))\n",
    "fig, ax = plt.subplots(figsize=(6,6))\n",
    "ax.imshow(log_stand_cmT)\n",
    "ax.grid(False)\n",
    "ax.xaxis.set(ticks=(0, 1), ticklabels=('Predicted Loss', 'Predicted Win'))\n",
    "ax.yaxis.set(ticks=(0, 1), ticklabels=('Actual Loss', 'Actual Win'))\n",
    "ax.set_ylim(1.5, -0.5)\n",
    "for i in range(2):\n",
    "    for j in range(2):\n",
    "        ax.text(j, i, log_stand_cmT[i, j], ha='center', va='center', color='red')\n",
    "plt.title('Confusion Matrix - Log Regression - Standardized')\n",
    "plt.show()"
   ]
  },
  {
   "cell_type": "code",
   "execution_count": 30,
   "id": "lyric-segment",
   "metadata": {},
   "outputs": [
    {
     "name": "stdout",
     "output_type": "stream",
     "text": [
      "              precision    recall  f1-score   support\n",
      "\n",
      "           0       0.57      0.14      0.22      7700\n",
      "           1       0.45      0.88      0.60      6273\n",
      "\n",
      "    accuracy                           0.47     13973\n",
      "   macro avg       0.51      0.51      0.41     13973\n",
      "weighted avg       0.52      0.47      0.39     13973\n",
      "\n"
     ]
    }
   ],
   "source": [
    "#Normalized\n",
    "print(classification_report(Y_test, log_normT.predict(X_normalized_test)))"
   ]
  },
  {
   "cell_type": "code",
   "execution_count": 31,
   "id": "outer-pharmacy",
   "metadata": {},
   "outputs": [
    {
     "name": "stdout",
     "output_type": "stream",
     "text": [
      "              precision    recall  f1-score   support\n",
      "\n",
      "           0       0.62      0.66      0.64      7700\n",
      "           1       0.55      0.51      0.53      6273\n",
      "\n",
      "    accuracy                           0.59     13973\n",
      "   macro avg       0.58      0.58      0.58     13973\n",
      "weighted avg       0.59      0.59      0.59     13973\n",
      "\n"
     ]
    }
   ],
   "source": [
    "#Standardized\n",
    "print(classification_report(Y_test, log_standT.predict(X_standardized_test)))"
   ]
  },
  {
   "cell_type": "markdown",
   "id": "generic-blend",
   "metadata": {},
   "source": [
    "PROTOSS LOGISTIC REGRESSION "
   ]
  },
  {
   "cell_type": "code",
   "execution_count": 32,
   "id": "under-interval",
   "metadata": {},
   "outputs": [],
   "source": [
    "no_normalize = ['match_id','map_name','region','race','enemy_race','frame','second','player','game_length']\n",
    "\n",
    "#Names of Columns that we want to Normalize (Numerical variables only)\n",
    "normalize_columns = [x for x in list(protoss_data) if x not in no_normalize]\n",
    "\n",
    "#Normalizing these columns\n",
    "norm = protoss_data[normalize_columns].values\n",
    "norm_scaled = MinMaxScaler().fit_transform(norm)\n",
    "protoss_data_normalized = pd.DataFrame(norm_scaled, columns=normalize_columns, index=protoss_data.index)\n",
    "\n",
    "#One-hot Encoding the categorical variables\n",
    "protoss_data_normalized = protoss_data_normalized.join(pd.get_dummies(protoss_data['map_name'], prefix='Map'))\n",
    "protoss_data_normalized = protoss_data_normalized.join(pd.get_dummies(protoss_data['region'], prefix='Region'))\n",
    "protoss_data_normalized = protoss_data_normalized.join(pd.get_dummies(protoss_data['enemy_race'], prefix='Enemy'))"
   ]
  },
  {
   "cell_type": "code",
   "execution_count": 33,
   "id": "lovely-turtle",
   "metadata": {},
   "outputs": [],
   "source": [
    "no_standardize = ['match_id','map_name','region','race','enemy_race','frame','second','player','game_length','win']\n",
    "\n",
    "#Names of Columns that we do want to Standardize\n",
    "standardize_columns = [x for x in list(protoss_data) if x not in no_standardize]\n",
    "\n",
    "#Standardizing these columns\n",
    "stand = protoss_data[standardize_columns].values\n",
    "stand_scaled = StandardScaler().fit_transform(stand)\n",
    "protoss_data_standardized = pd.DataFrame(stand_scaled, columns=standardize_columns, index=protoss_data.index)\n",
    "\n",
    "#One-hot Encoding the categorical variables\n",
    "protoss_data_standardized = protoss_data_standardized.join(pd.get_dummies(protoss_data['map_name'], prefix='Map'))\n",
    "protoss_data_standardized = protoss_data_standardized.join(pd.get_dummies(protoss_data['region'], prefix='Region'))\n",
    "protoss_data_standardized = protoss_data_standardized.join(pd.get_dummies(protoss_data['enemy_race'], prefix='Enemy'))\n",
    "protoss_data_standardized = protoss_data_standardized.join(protoss_data['win'])"
   ]
  },
  {
   "cell_type": "code",
   "execution_count": 34,
   "id": "behavioral-sound",
   "metadata": {},
   "outputs": [],
   "source": [
    "#Split data into dependent and independent variables\n",
    "no_X = ['win']\n",
    "yes_X = [x for x in list(protoss_data_normalized) if x not in no_X]\n",
    "\n",
    "Y = protoss_data_normalized['win']\n",
    "X_normalized = protoss_data_normalized[yes_X]"
   ]
  },
  {
   "cell_type": "code",
   "execution_count": 35,
   "id": "primary-commonwealth",
   "metadata": {},
   "outputs": [],
   "source": [
    "#Split data into dependent and independent variables\n",
    "no_X = ['win']\n",
    "yes_X = [x for x in list(protoss_data_standardized) if x not in no_X]\n",
    "\n",
    "Y = protoss_data_standardized['win']\n",
    "X_standardized = protoss_data_standardized[yes_X]"
   ]
  },
  {
   "cell_type": "code",
   "execution_count": 36,
   "id": "focal-science",
   "metadata": {},
   "outputs": [],
   "source": [
    "#Split data into training, validation and testing set\n",
    "train_split = 0.8\n",
    "val_split = 0.2\n",
    "\n",
    "num_data = len(X_normalized)\n",
    "num_val = int(train_split * val_split * num_data)\n",
    "num_train = int(train_split * num_data) - num_val\n",
    "num_test = num_data - int(train_split * num_data)\n",
    "\n",
    "Y_train = Y[0:num_train]\n",
    "Y_val = Y[num_train:(num_train + num_val)]\n",
    "Y_test = Y[(num_val + num_train):]\n",
    "\n",
    "X_normalized_train = X_normalized[0:num_train]\n",
    "X_normalized_val = X_normalized[num_train:(num_train + num_val)]\n",
    "X_normalized_test = X_normalized[(num_val + num_train):]\n",
    "\n",
    "X_standardized_train = X_standardized[0:num_train]\n",
    "X_standardized_val = X_standardized[num_train:(num_train + num_val)]\n",
    "X_standardized_test = X_standardized[(num_val + num_train):]"
   ]
  },
  {
   "cell_type": "code",
   "execution_count": 38,
   "id": "female-documentation",
   "metadata": {},
   "outputs": [],
   "source": [
    "log_normP = log_model.fit(X_normalized_train, Y_train)\n",
    "log_standP = log_model.fit(X_standardized_train, Y_train)"
   ]
  },
  {
   "cell_type": "code",
   "execution_count": 39,
   "id": "binary-dollar",
   "metadata": {},
   "outputs": [],
   "source": [
    "log_normprobP = log_normP.predict_proba(X_normalized_val)\n",
    "log_standprobP = log_standP.predict_proba(X_standardized_val)"
   ]
  },
  {
   "cell_type": "code",
   "execution_count": 40,
   "id": "increasing-barbados",
   "metadata": {},
   "outputs": [
    {
     "data": {
      "image/png": "[encoded data removed]",
      "text/plain": [
       "<Figure size 432x432 with 1 Axes>"
      ]
     },
     "metadata": {
      "needs_background": "light"
     },
     "output_type": "display_data"
    }
   ],
   "source": [
    "log_norm_cmP = confusion_matrix(Y_test, log_normP.predict(X_normalized_test))\n",
    "fig, ax = plt.subplots(figsize=(6,6))\n",
    "ax.imshow(log_norm_cmT)\n",
    "ax.grid(False)\n",
    "ax.xaxis.set(ticks=(0, 1), ticklabels=('Predicted Loss', 'Predicted Win'))\n",
    "ax.yaxis.set(ticks=(0, 1), ticklabels=('Actual Loss', 'Actual Win'))\n",
    "ax.set_ylim(1.5, -0.5)\n",
    "for i in range(2):\n",
    "    for j in range(2):\n",
    "        ax.text(j, i, log_norm_cmP[i, j], ha='center', va='center', color='red')\n",
    "plt.title('Confusion Matrix - Log Regression - Normalized')\n",
    "plt.show()"
   ]
  },
  {
   "cell_type": "code",
   "execution_count": 41,
   "id": "confirmed-berkeley",
   "metadata": {},
   "outputs": [
    {
     "data": {
      "image/png": "[encoded data removed]",
      "text/plain": [
       "<Figure size 432x432 with 1 Axes>"
      ]
     },
     "metadata": {
      "needs_background": "light"
     },
     "output_type": "display_data"
    }
   ],
   "source": [
    "log_stand_cmP = confusion_matrix(Y_test, log_standP.predict(X_standardized_test))\n",
    "fig, ax = plt.subplots(figsize=(6,6))\n",
    "ax.imshow(log_stand_cmP)\n",
    "ax.grid(False)\n",
    "ax.xaxis.set(ticks=(0, 1), ticklabels=('Predicted Loss', 'Predicted Win'))\n",
    "ax.yaxis.set(ticks=(0, 1), ticklabels=('Actual Loss', 'Actual Win'))\n",
    "ax.set_ylim(1.5, -0.5)\n",
    "for i in range(2):\n",
    "    for j in range(2):\n",
    "        ax.text(j, i, log_stand_cmP[i, j], ha='center', va='center', color='red')\n",
    "plt.title('Confusion Matrix - Log Regression - Standardized')\n",
    "plt.show()"
   ]
  },
  {
   "cell_type": "code",
   "execution_count": 42,
   "id": "choice-structure",
   "metadata": {},
   "outputs": [
    {
     "name": "stdout",
     "output_type": "stream",
     "text": [
      "              precision    recall  f1-score   support\n",
      "\n",
      "           0       0.53      0.64      0.58      7791\n",
      "           1       0.52      0.40      0.45      7483\n",
      "\n",
      "    accuracy                           0.52     15274\n",
      "   macro avg       0.52      0.52      0.52     15274\n",
      "weighted avg       0.52      0.52      0.52     15274\n",
      "\n"
     ]
    }
   ],
   "source": [
    "#Normalized\n",
    "print(classification_report(Y_test, log_normP.predict(X_normalized_test)))"
   ]
  },
  {
   "cell_type": "code",
   "execution_count": 43,
   "id": "vanilla-optics",
   "metadata": {},
   "outputs": [
    {
     "name": "stdout",
     "output_type": "stream",
     "text": [
      "              precision    recall  f1-score   support\n",
      "\n",
      "           0       0.57      0.58      0.57      7791\n",
      "           1       0.55      0.54      0.54      7483\n",
      "\n",
      "    accuracy                           0.56     15274\n",
      "   macro avg       0.56      0.56      0.56     15274\n",
      "weighted avg       0.56      0.56      0.56     15274\n",
      "\n"
     ]
    }
   ],
   "source": [
    "#Standardized\n",
    "print(classification_report(Y_test, log_standP.predict(X_standardized_test)))"
   ]
  },
  {
   "cell_type": "markdown",
   "id": "instant-parameter",
   "metadata": {},
   "source": [
    "ZERG LOGISTIC REGRESSION"
   ]
  },
  {
   "cell_type": "code",
   "execution_count": 44,
   "id": "convinced-candle",
   "metadata": {},
   "outputs": [],
   "source": [
    "no_normalize = ['match_id','map_name','region','race','enemy_race','frame','second','player','game_length']\n",
    "\n",
    "#Names of Columns that we want to Normalize (Numerical variables only)\n",
    "normalize_columns = [x for x in list(zerg_data) if x not in no_normalize]\n",
    "\n",
    "#Normalizing these columns\n",
    "norm = zerg_data[normalize_columns].values\n",
    "norm_scaled = MinMaxScaler().fit_transform(norm)\n",
    "zerg_data_normalized = pd.DataFrame(norm_scaled, columns=normalize_columns, index=zerg_data.index)\n",
    "\n",
    "#One-hot Encoding the categorical variables\n",
    "zerg_data_normalized = zerg_data_normalized.join(pd.get_dummies(zerg_data['map_name'], prefix='Map'))\n",
    "zerg_data_normalized = zerg_data_normalized.join(pd.get_dummies(zerg_data['region'], prefix='Region'))\n",
    "zerg_data_normalized = zerg_data_normalized.join(pd.get_dummies(zerg_data['enemy_race'], prefix='Enemy'))"
   ]
  },
  {
   "cell_type": "code",
   "execution_count": 45,
   "id": "loved-muscle",
   "metadata": {},
   "outputs": [],
   "source": [
    "no_standardize = ['match_id','map_name','region','race','enemy_race','frame','second','player','game_length','win']\n",
    "\n",
    "#Names of Columns that we do want to Standardize\n",
    "standardize_columns = [x for x in list(zerg_data) if x not in no_standardize]\n",
    "\n",
    "#Standardizing these columns\n",
    "stand = zerg_data[standardize_columns].values\n",
    "stand_scaled = StandardScaler().fit_transform(stand)\n",
    "zerg_data_standardized = pd.DataFrame(stand_scaled, columns=standardize_columns, index=zerg_data.index)\n",
    "\n",
    "#One-hot Encoding the categorical variables\n",
    "zerg_data_standardized = zerg_data_standardized.join(pd.get_dummies(zerg_data['map_name'], prefix='Map'))\n",
    "zerg_data_standardized = zerg_data_standardized.join(pd.get_dummies(zerg_data['region'], prefix='Region'))\n",
    "zerg_data_standardized = zerg_data_standardized.join(pd.get_dummies(zerg_data['enemy_race'], prefix='Enemy'))\n",
    "zerg_data_standardized = zerg_data_standardized.join(zerg_data['win'])"
   ]
  },
  {
   "cell_type": "code",
   "execution_count": 46,
   "id": "continued-machine",
   "metadata": {},
   "outputs": [],
   "source": [
    "no_X = ['win']\n",
    "yes_X = [x for x in list(zerg_data_normalized) if x not in no_X]\n",
    "\n",
    "Y = zerg_data_normalized['win']\n",
    "X_normalized = zerg_data_normalized[yes_X]"
   ]
  },
  {
   "cell_type": "code",
   "execution_count": 47,
   "id": "working-principal",
   "metadata": {},
   "outputs": [],
   "source": [
    "no_X = ['win']\n",
    "yes_X = [x for x in list(zerg_data_standardized) if x not in no_X]\n",
    "\n",
    "Y = zerg_data_standardized['win']\n",
    "X_standardized = zerg_data_standardized[yes_X]"
   ]
  },
  {
   "cell_type": "code",
   "execution_count": 48,
   "id": "equipped-region",
   "metadata": {},
   "outputs": [],
   "source": [
    "train_split = 0.8\n",
    "val_split = 0.2\n",
    "\n",
    "num_data = len(X_normalized)\n",
    "num_val = int(train_split * val_split * num_data)\n",
    "num_train = int(train_split * num_data) - num_val\n",
    "num_test = num_data - int(train_split * num_data)\n",
    "\n",
    "\n",
    "Y_train = Y[0:num_train]\n",
    "Y_val = Y[num_train:(num_train + num_val)]\n",
    "Y_test = Y[(num_val + num_train):]\n",
    "\n",
    "\n",
    "X_normalized_train = X_normalized[0:num_train]\n",
    "X_normalized_val = X_normalized[num_train:(num_train + num_val)]\n",
    "X_normalized_test = X_normalized[(num_val + num_train):]\n",
    "\n",
    "X_standardized_train = X_standardized[0:num_train]\n",
    "X_standardized_val = X_standardized[num_train:(num_train + num_val)]\n",
    "X_standardized_test = X_standardized[(num_val + num_train):]"
   ]
  },
  {
   "cell_type": "code",
   "execution_count": 50,
   "id": "satellite-virgin",
   "metadata": {},
   "outputs": [],
   "source": [
    "log_normZ = log_model.fit(X_normalized_train, Y_train)\n",
    "log_standZ = log_model.fit(X_standardized_train, Y_train)"
   ]
  },
  {
   "cell_type": "code",
   "execution_count": 51,
   "id": "immune-boutique",
   "metadata": {},
   "outputs": [],
   "source": [
    "log_normprobZ = log_normZ.predict_proba(X_normalized_val)\n",
    "log_standprobZ = log_standZ.predict_proba(X_standardized_val)"
   ]
  },
  {
   "cell_type": "code",
   "execution_count": 52,
   "id": "applicable-petite",
   "metadata": {},
   "outputs": [
    {
     "data": {
      "image/png": "[encoded data removed]",
      "text/plain": [
       "<Figure size 432x432 with 1 Axes>"
      ]
     },
     "metadata": {
      "needs_background": "light"
     },
     "output_type": "display_data"
    }
   ],
   "source": [
    "log_norm_cmZ = confusion_matrix(Y_test, log_normZ.predict(X_normalized_test))\n",
    "fig, ax = plt.subplots(figsize=(6,6))\n",
    "ax.imshow(log_norm_cmZ)\n",
    "ax.grid(False)\n",
    "ax.xaxis.set(ticks=(0, 1), ticklabels=('Predicted Loss', 'Predicted Win'))\n",
    "ax.yaxis.set(ticks=(0, 1), ticklabels=('Actual Loss', 'Actual Win'))\n",
    "ax.set_ylim(1.5, -0.5)\n",
    "for i in range(2):\n",
    "    for j in range(2):\n",
    "        ax.text(j, i, log_norm_cmZ[i, j], ha='center', va='center', color='red')\n",
    "plt.title('Confusion Matrix - Log Regression - Normalized')\n",
    "plt.show()"
   ]
  },
  {
   "cell_type": "code",
   "execution_count": 53,
   "id": "eleven-young",
   "metadata": {},
   "outputs": [
    {
     "data": {
      "image/png": "[encoded data removed]",
      "text/plain": [
       "<Figure size 432x432 with 1 Axes>"
      ]
     },
     "metadata": {
      "needs_background": "light"
     },
     "output_type": "display_data"
    }
   ],
   "source": [
    "log_stand_cmZ = confusion_matrix(Y_test, log_standZ.predict(X_standardized_test))\n",
    "fig, ax = plt.subplots(figsize=(6,6))\n",
    "ax.imshow(log_stand_cmZ)\n",
    "ax.grid(False)\n",
    "ax.xaxis.set(ticks=(0, 1), ticklabels=('Predicted Loss', 'Predicted Win'))\n",
    "ax.yaxis.set(ticks=(0, 1), ticklabels=('Actual Loss', 'Actual Win'))\n",
    "ax.set_ylim(1.5, -0.5)\n",
    "for i in range(2):\n",
    "    for j in range(2):\n",
    "        ax.text(j, i, log_stand_cmZ[i, j], ha='center', va='center', color='red')\n",
    "plt.title('Confusion Matrix - Log Regression - Standardized')\n",
    "plt.show()"
   ]
  },
  {
   "cell_type": "code",
   "execution_count": 54,
   "id": "civilian-highway",
   "metadata": {},
   "outputs": [
    {
     "name": "stdout",
     "output_type": "stream",
     "text": [
      "              precision    recall  f1-score   support\n",
      "\n",
      "           0       0.57      0.27      0.37      7369\n",
      "           1       0.58      0.83      0.68      8897\n",
      "\n",
      "    accuracy                           0.58     16266\n",
      "   macro avg       0.58      0.55      0.53     16266\n",
      "weighted avg       0.58      0.58      0.54     16266\n",
      "\n"
     ]
    }
   ],
   "source": [
    "#Normalized\n",
    "print(classification_report(Y_test, log_normZ.predict(X_normalized_test)))"
   ]
  },
  {
   "cell_type": "code",
   "execution_count": 55,
   "id": "enhanced-automation",
   "metadata": {},
   "outputs": [
    {
     "name": "stdout",
     "output_type": "stream",
     "text": [
      "              precision    recall  f1-score   support\n",
      "\n",
      "           0       0.55      0.43      0.48      7369\n",
      "           1       0.60      0.70      0.65      8897\n",
      "\n",
      "    accuracy                           0.58     16266\n",
      "   macro avg       0.57      0.57      0.57     16266\n",
      "weighted avg       0.58      0.58      0.57     16266\n",
      "\n"
     ]
    }
   ],
   "source": [
    "#Standardized\n",
    "print(classification_report(Y_test, log_standZ.predict(X_standardized_test)))"
   ]
  }
 ],
 "metadata": {
  "kernelspec": {
   "display_name": "Python 3",
   "language": "python",
   "name": "python3"
  },
  "language_info": {
   "codemirror_mode": {
    "name": "ipython",
    "version": 3
   },
   "file_extension": ".py",
   "mimetype": "text/x-python",
   "name": "python",
   "nbconvert_exporter": "python",
   "pygments_lexer": "ipython3",
   "version": "3.8.5"
  }
 },
 "nbformat": 4,
 "nbformat_minor": 5
}
