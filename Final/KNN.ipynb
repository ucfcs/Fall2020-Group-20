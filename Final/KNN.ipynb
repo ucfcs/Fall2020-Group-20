{
 "cells": [
  {
   "cell_type": "code",
   "execution_count": 1,
   "id": "capable-pasta",
   "metadata": {},
   "outputs": [],
   "source": [
    "#Importing data from csv\n",
    "from pandas import read_csv\n",
    "import pandas as pd\n",
    "\n",
    "terran_data = read_csv('../Output/TerranMarch.csv', header=0, index_col=False)\n",
    "protoss_data = read_csv('../Output/ProtossMarch.csv', header=0, index_col=False)\n",
    "zerg_data = read_csv('../Output/ZergMarch.csv', header=0, index_col=False)"
   ]
  },
  {
   "cell_type": "code",
   "execution_count": 2,
   "id": "brilliant-nutrition",
   "metadata": {},
   "outputs": [],
   "source": [
    "import matplotlib.pyplot as plt\n",
    "import numpy as np\n",
    "from sklearn.metrics import classification_report, confusion_matrix\n",
    "from sklearn.neighbors import KNeighborsClassifier\n",
    "knn = KNeighborsClassifier(n_neighbors=5)"
   ]
  },
  {
   "cell_type": "markdown",
   "id": "raised-commissioner",
   "metadata": {},
   "source": [
    "TERRAN KNN"
   ]
  },
  {
   "cell_type": "code",
   "execution_count": 3,
   "id": "recognized-dryer",
   "metadata": {},
   "outputs": [],
   "source": [
    "from sklearn.preprocessing import MinMaxScaler\n",
    "\n",
    "no_normalize = ['match_id','map_name','region','race','enemy_race','frame','second','player','game_length']\n",
    "\n",
    "#Names of Columns that we want to Normalize (Numerical variables only)\n",
    "normalize_columns = [x for x in list(terran_data) if x not in no_normalize]\n",
    "\n",
    "#Normalizing these columns\n",
    "norm = terran_data[normalize_columns].values\n",
    "norm_scaled = MinMaxScaler().fit_transform(norm)\n",
    "terran_data_normalized = pd.DataFrame(norm_scaled, columns=normalize_columns, index=terran_data.index)\n",
    "\n",
    "#One-hot Encoding the categorical variables\n",
    "terran_data_normalized = terran_data_normalized.join(pd.get_dummies(terran_data['map_name'], prefix='Map'))\n",
    "terran_data_normalized = terran_data_normalized.join(pd.get_dummies(terran_data['region'], prefix='Region'))\n",
    "terran_data_normalized = terran_data_normalized.join(pd.get_dummies(terran_data['enemy_race'], prefix='Enemy'))"
   ]
  },
  {
   "cell_type": "code",
   "execution_count": 4,
   "id": "spread-announcement",
   "metadata": {},
   "outputs": [],
   "source": [
    "#Standardization\n",
    "\n",
    "from sklearn.preprocessing import StandardScaler\n",
    "\n",
    "no_standardize = ['match_id','map_name','region','race','enemy_race','frame','second','player','game_length','win']\n",
    "\n",
    "#Names of Columns that we do want to Standardize\n",
    "standardize_columns = [x for x in list(terran_data) if x not in no_standardize]\n",
    "\n",
    "#Standardizing these columns\n",
    "stand = terran_data[standardize_columns].values\n",
    "stand_scaled = StandardScaler().fit_transform(stand)\n",
    "terran_data_standardized = pd.DataFrame(stand_scaled, columns=standardize_columns, index=terran_data.index)\n",
    "\n",
    "#One-hot Encoding the categorical variables\n",
    "terran_data_standardized = terran_data_standardized.join(pd.get_dummies(terran_data['map_name'], prefix='Map'))\n",
    "terran_data_standardized = terran_data_standardized.join(pd.get_dummies(terran_data['region'], prefix='Region'))\n",
    "terran_data_standardized = terran_data_standardized.join(pd.get_dummies(terran_data['enemy_race'], prefix='Enemy'))\n",
    "terran_data_standardized = terran_data_standardized.join(terran_data['win'])"
   ]
  },
  {
   "cell_type": "code",
   "execution_count": 5,
   "id": "printable-palace",
   "metadata": {},
   "outputs": [],
   "source": [
    "#Split data into dependent and independent variables\n",
    "no_X = ['win']\n",
    "yes_X = [x for x in list(terran_data_normalized) if x not in no_X]\n",
    "\n",
    "Y = terran_data_normalized['win']\n",
    "X_normalized = terran_data_normalized[yes_X]"
   ]
  },
  {
   "cell_type": "code",
   "execution_count": 6,
   "id": "significant-delta",
   "metadata": {},
   "outputs": [],
   "source": [
    "no_X = ['win']\n",
    "yes_X = [x for x in list(terran_data_standardized) if x not in no_X]\n",
    "\n",
    "Y = terran_data_standardized['win']\n",
    "X_standardized = terran_data_standardized[yes_X]"
   ]
  },
  {
   "cell_type": "code",
   "execution_count": 7,
   "id": "patient-bargain",
   "metadata": {},
   "outputs": [],
   "source": [
    "train_split = 0.8\n",
    "val_split = 0.2\n",
    "\n",
    "num_data = len(X_normalized)\n",
    "num_val = int(train_split * val_split * num_data)\n",
    "num_train = int(train_split * num_data) - num_val\n",
    "num_test = num_data - int(train_split * num_data)\n",
    "\n",
    "Y_train = Y[0:num_train]\n",
    "Y_val = Y[num_train:(num_train + num_val)]\n",
    "Y_test = Y[(num_val + num_train):]\n",
    "\n",
    "X_normalized_train = X_normalized[0:num_train]\n",
    "X_normalized_val = X_normalized[num_train:(num_train + num_val)]\n",
    "X_normalized_test = X_normalized[(num_val + num_train):]\n",
    "\n",
    "X_standardized_train = X_standardized[0:num_train]\n",
    "X_standardized_val = X_standardized[num_train:(num_train + num_val)]\n",
    "X_standardized_test = X_standardized[(num_val + num_train):]"
   ]
  },
  {
   "cell_type": "code",
   "execution_count": 8,
   "id": "manufactured-garlic",
   "metadata": {},
   "outputs": [],
   "source": [
    "knn_normT = knn.fit(X_normalized_train, Y_train)\n",
    "knn_standT = knn.fit(X_standardized_train, Y_train)\n",
    "knn_normpredT = knn_normT.predict(X_normalized_test)\n",
    "knn_standpredT = knn_standT.predict(X_standardized_test)"
   ]
  },
  {
   "cell_type": "code",
   "execution_count": 9,
   "id": "sporting-medium",
   "metadata": {},
   "outputs": [
    {
     "data": {
      "image/png": "[encoded data removed]",
      "text/plain": [
       "<Figure size 432x432 with 1 Axes>"
      ]
     },
     "metadata": {
      "needs_background": "light"
     },
     "output_type": "display_data"
    }
   ],
   "source": [
    "knn_norm_cmT = confusion_matrix(Y_test, knn_normpredT)\n",
    "fig, ax = plt.subplots(figsize=(6,6))\n",
    "ax.imshow(knn_norm_cmT)\n",
    "ax.grid(False)\n",
    "ax.xaxis.set(ticks=(0, 1), ticklabels=('Predicted Loss', 'Predicted Win'))\n",
    "ax.yaxis.set(ticks=(0, 1), ticklabels=('Actual Loss', 'Actual Win'))\n",
    "ax.set_ylim(1.5, -0.5)\n",
    "for i in range(2):\n",
    "    for j in range(2):\n",
    "        ax.text(j, i, knn_norm_cmT[i, j], ha='center', va='center', color='red')\n",
    "plt.title('Confusion Matrix - KNN - Normalized')\n",
    "plt.show()"
   ]
  },
  {
   "cell_type": "code",
   "execution_count": 10,
   "id": "female-flesh",
   "metadata": {},
   "outputs": [
    {
     "data": {
      "image/png": "[encoded data removed]",
      "text/plain": [
       "<Figure size 432x432 with 1 Axes>"
      ]
     },
     "metadata": {
      "needs_background": "light"
     },
     "output_type": "display_data"
    }
   ],
   "source": [
    "knn_stand_cmT = confusion_matrix(Y_test, knn_standpredT)\n",
    "fig, ax = plt.subplots(figsize=(6,6))\n",
    "ax.imshow(knn_stand_cmT)\n",
    "ax.grid(False)\n",
    "ax.xaxis.set(ticks=(0, 1), ticklabels=('Predicted Loss', 'Predicted Win'))\n",
    "ax.yaxis.set(ticks=(0, 1), ticklabels=('Actual Loss', 'Actual Win'))\n",
    "ax.set_ylim(1.5, -0.5)\n",
    "for i in range(2):\n",
    "    for j in range(2):\n",
    "        ax.text(j, i, knn_stand_cmT[i, j], ha='center', va='center', color='red')\n",
    "plt.title('Confusion Matrix - KNN - Standardized')\n",
    "plt.show()"
   ]
  },
  {
   "cell_type": "code",
   "execution_count": 11,
   "id": "wooden-rugby",
   "metadata": {},
   "outputs": [
    {
     "name": "stdout",
     "output_type": "stream",
     "text": [
      "              precision    recall  f1-score   support\n",
      "\n",
      "           0       0.52      0.62      0.57      7700\n",
      "           1       0.40      0.31      0.35      6273\n",
      "\n",
      "    accuracy                           0.48     13973\n",
      "   macro avg       0.46      0.47      0.46     13973\n",
      "weighted avg       0.47      0.48      0.47     13973\n",
      "\n"
     ]
    }
   ],
   "source": [
    "#Normalized\n",
    "print(classification_report(Y_test, knn_normpredT))"
   ]
  },
  {
   "cell_type": "code",
   "execution_count": 12,
   "id": "short-restaurant",
   "metadata": {},
   "outputs": [
    {
     "name": "stdout",
     "output_type": "stream",
     "text": [
      "              precision    recall  f1-score   support\n",
      "\n",
      "           0       0.60      0.58      0.59      7700\n",
      "           1       0.51      0.53      0.52      6273\n",
      "\n",
      "    accuracy                           0.56     13973\n",
      "   macro avg       0.55      0.55      0.55     13973\n",
      "weighted avg       0.56      0.56      0.56     13973\n",
      "\n"
     ]
    }
   ],
   "source": [
    "#Standardized\n",
    "print(classification_report(Y_test, knn_standpredT))"
   ]
  },
  {
   "cell_type": "markdown",
   "id": "occupied-disaster",
   "metadata": {},
   "source": [
    "PROTOSS KNN"
   ]
  },
  {
   "cell_type": "code",
   "execution_count": 13,
   "id": "standard-upset",
   "metadata": {},
   "outputs": [],
   "source": [
    "no_normalize = ['match_id','map_name','region','race','enemy_race','frame','second','player','game_length']\n",
    "\n",
    "#Names of Columns that we want to Normalize (Numerical variables only)\n",
    "normalize_columns = [x for x in list(protoss_data) if x not in no_normalize]\n",
    "\n",
    "#Normalizing these columns\n",
    "norm = protoss_data[normalize_columns].values\n",
    "norm_scaled = MinMaxScaler().fit_transform(norm)\n",
    "protoss_data_normalized = pd.DataFrame(norm_scaled, columns=normalize_columns, index=protoss_data.index)\n",
    "\n",
    "#One-hot Encoding the categorical variables\n",
    "protoss_data_normalized = protoss_data_normalized.join(pd.get_dummies(protoss_data['map_name'], prefix='Map'))\n",
    "protoss_data_normalized = protoss_data_normalized.join(pd.get_dummies(protoss_data['region'], prefix='Region'))\n",
    "protoss_data_normalized = protoss_data_normalized.join(pd.get_dummies(protoss_data['enemy_race'], prefix='Enemy'))"
   ]
  },
  {
   "cell_type": "code",
   "execution_count": 14,
   "id": "dress-marijuana",
   "metadata": {},
   "outputs": [],
   "source": [
    "no_standardize = ['match_id','map_name','region','race','enemy_race','frame','second','player','game_length','win']\n",
    "\n",
    "#Names of Columns that we do want to Standardize\n",
    "standardize_columns = [x for x in list(protoss_data) if x not in no_standardize]\n",
    "\n",
    "#Standardizing these columns\n",
    "stand = protoss_data[standardize_columns].values\n",
    "stand_scaled = StandardScaler().fit_transform(stand)\n",
    "protoss_data_standardized = pd.DataFrame(stand_scaled, columns=standardize_columns, index=protoss_data.index)\n",
    "\n",
    "#One-hot Encoding the categorical variables\n",
    "protoss_data_standardized = protoss_data_standardized.join(pd.get_dummies(protoss_data['map_name'], prefix='Map'))\n",
    "protoss_data_standardized = protoss_data_standardized.join(pd.get_dummies(protoss_data['region'], prefix='Region'))\n",
    "protoss_data_standardized = protoss_data_standardized.join(pd.get_dummies(protoss_data['enemy_race'], prefix='Enemy'))\n",
    "protoss_data_standardized = protoss_data_standardized.join(protoss_data['win'])"
   ]
  },
  {
   "cell_type": "code",
   "execution_count": 15,
   "id": "sharing-aberdeen",
   "metadata": {},
   "outputs": [],
   "source": [
    "no_X = ['win']\n",
    "yes_X = [x for x in list(protoss_data_normalized) if x not in no_X]\n",
    "\n",
    "Y = protoss_data_normalized['win']\n",
    "X_normalized = protoss_data_normalized[yes_X]"
   ]
  },
  {
   "cell_type": "code",
   "execution_count": 16,
   "id": "applicable-geography",
   "metadata": {},
   "outputs": [],
   "source": [
    "no_X = ['win']\n",
    "yes_X = [x for x in list(protoss_data_standardized) if x not in no_X]\n",
    "\n",
    "Y = protoss_data_standardized['win']\n",
    "X_standardized = protoss_data_standardized[yes_X]"
   ]
  },
  {
   "cell_type": "code",
   "execution_count": 17,
   "id": "potential-alaska",
   "metadata": {},
   "outputs": [],
   "source": [
    "#Split data into training, validation and testing set\n",
    "train_split = 0.8\n",
    "val_split = 0.2\n",
    "\n",
    "num_data = len(X_normalized)\n",
    "num_val = int(train_split * val_split * num_data)\n",
    "num_train = int(train_split * num_data) - num_val\n",
    "num_test = num_data - int(train_split * num_data)\n",
    "\n",
    "Y_train = Y[0:num_train]\n",
    "Y_val = Y[num_train:(num_train + num_val)]\n",
    "Y_test = Y[(num_val + num_train):]\n",
    "\n",
    "X_normalized_train = X_normalized[0:num_train]\n",
    "X_normalized_val = X_normalized[num_train:(num_train + num_val)]\n",
    "X_normalized_test = X_normalized[(num_val + num_train):]\n",
    "\n",
    "X_standardized_train = X_standardized[0:num_train]\n",
    "X_standardized_val = X_standardized[num_train:(num_train + num_val)]\n",
    "X_standardized_test = X_standardized[(num_val + num_train):]"
   ]
  },
  {
   "cell_type": "code",
   "execution_count": 18,
   "id": "composite-invalid",
   "metadata": {},
   "outputs": [],
   "source": [
    "knn_normP = knn.fit(X_normalized_train, Y_train)\n",
    "knn_standP = knn.fit(X_standardized_train, Y_train)\n",
    "knn_normpredP = knn_normP.predict(X_normalized_test)\n",
    "knn_standpredP = knn_standP.predict(X_standardized_test)"
   ]
  },
  {
   "cell_type": "code",
   "execution_count": 19,
   "id": "endangered-queen",
   "metadata": {},
   "outputs": [
    {
     "data": {
      "image/png": "[encoded data removed]",
      "text/plain": [
       "<Figure size 432x432 with 1 Axes>"
      ]
     },
     "metadata": {
      "needs_background": "light"
     },
     "output_type": "display_data"
    }
   ],
   "source": [
    "knn_norm_cmP = confusion_matrix(Y_test, knn_normpredP)\n",
    "fig, ax = plt.subplots(figsize=(6,6))\n",
    "ax.imshow(knn_norm_cmP)\n",
    "ax.grid(False)\n",
    "ax.xaxis.set(ticks=(0, 1), ticklabels=('Predicted Loss', 'Predicted Win'))\n",
    "ax.yaxis.set(ticks=(0, 1), ticklabels=('Actual Loss', 'Actual Win'))\n",
    "ax.set_ylim(1.5, -0.5)\n",
    "for i in range(2):\n",
    "    for j in range(2):\n",
    "        ax.text(j, i, knn_norm_cmP[i, j], ha='center', va='center', color='red')\n",
    "plt.title('Confusion Matrix - KNN - Normalized')\n",
    "plt.show()"
   ]
  },
  {
   "cell_type": "code",
   "execution_count": 20,
   "id": "athletic-temple",
   "metadata": {},
   "outputs": [
    {
     "data": {
      "image/png": "[encoded data removed]",
      "text/plain": [
       "<Figure size 432x432 with 1 Axes>"
      ]
     },
     "metadata": {
      "needs_background": "light"
     },
     "output_type": "display_data"
    }
   ],
   "source": [
    "knn_stand_cmP = confusion_matrix(Y_test, knn_standpredP)\n",
    "fig, ax = plt.subplots(figsize=(6,6))\n",
    "ax.imshow(knn_stand_cmP)\n",
    "ax.grid(False)\n",
    "ax.xaxis.set(ticks=(0, 1), ticklabels=('Predicted Loss', 'Predicted Win'))\n",
    "ax.yaxis.set(ticks=(0, 1), ticklabels=('Actual Loss', 'Actual Win'))\n",
    "ax.set_ylim(1.5, -0.5)\n",
    "for i in range(2):\n",
    "    for j in range(2):\n",
    "        ax.text(j, i, knn_stand_cmP[i, j], ha='center', va='center', color='red')\n",
    "plt.title('Confusion Matrix - KNN - Standardized')\n",
    "plt.show()"
   ]
  },
  {
   "cell_type": "code",
   "execution_count": 21,
   "id": "adjacent-decrease",
   "metadata": {},
   "outputs": [
    {
     "name": "stdout",
     "output_type": "stream",
     "text": [
      "              precision    recall  f1-score   support\n",
      "\n",
      "           0       0.50      0.53      0.51      7782\n",
      "           1       0.48      0.45      0.46      7483\n",
      "\n",
      "    accuracy                           0.49     15265\n",
      "   macro avg       0.49      0.49      0.49     15265\n",
      "weighted avg       0.49      0.49      0.49     15265\n",
      "\n"
     ]
    }
   ],
   "source": [
    "#Normalized\n",
    "print(classification_report(Y_test, knn_normpredP))"
   ]
  },
  {
   "cell_type": "code",
   "execution_count": 22,
   "id": "palestinian-apache",
   "metadata": {},
   "outputs": [
    {
     "name": "stdout",
     "output_type": "stream",
     "text": [
      "              precision    recall  f1-score   support\n",
      "\n",
      "           0       0.54      0.50      0.52      7782\n",
      "           1       0.52      0.56      0.54      7483\n",
      "\n",
      "    accuracy                           0.53     15265\n",
      "   macro avg       0.53      0.53      0.53     15265\n",
      "weighted avg       0.53      0.53      0.53     15265\n",
      "\n"
     ]
    }
   ],
   "source": [
    "#Standardized\n",
    "print(classification_report(Y_test, knn_standpredP))"
   ]
  },
  {
   "cell_type": "markdown",
   "id": "lyric-reality",
   "metadata": {},
   "source": [
    "ZERG KNN"
   ]
  },
  {
   "cell_type": "code",
   "execution_count": 23,
   "id": "written-congress",
   "metadata": {},
   "outputs": [],
   "source": [
    "no_normalize = ['match_id','map_name','region','race','enemy_race','frame','second','player','game_length']\n",
    "\n",
    "#Names of Columns that we want to Normalize (Numerical variables only)\n",
    "normalize_columns = [x for x in list(zerg_data) if x not in no_normalize]\n",
    "\n",
    "#Normalizing these columns\n",
    "norm = zerg_data[normalize_columns].values\n",
    "norm_scaled = MinMaxScaler().fit_transform(norm)\n",
    "zerg_data_normalized = pd.DataFrame(norm_scaled, columns=normalize_columns, index=zerg_data.index)\n",
    "\n",
    "#One-hot Encoding the categorical variables\n",
    "zerg_data_normalized = zerg_data_normalized.join(pd.get_dummies(zerg_data['map_name'], prefix='Map'))\n",
    "zerg_data_normalized = zerg_data_normalized.join(pd.get_dummies(zerg_data['region'], prefix='Region'))\n",
    "zerg_data_normalized = zerg_data_normalized.join(pd.get_dummies(zerg_data['enemy_race'], prefix='Enemy'))"
   ]
  },
  {
   "cell_type": "code",
   "execution_count": 24,
   "id": "filled-channels",
   "metadata": {},
   "outputs": [],
   "source": [
    "no_standardize = ['match_id','map_name','region','race','enemy_race','frame','second','player','game_length','win']\n",
    "\n",
    "#Names of Columns that we do want to Standardize\n",
    "standardize_columns = [x for x in list(zerg_data) if x not in no_standardize]\n",
    "\n",
    "#Standardizing these columns\n",
    "stand = zerg_data[standardize_columns].values\n",
    "stand_scaled = StandardScaler().fit_transform(stand)\n",
    "zerg_data_standardized = pd.DataFrame(stand_scaled, columns=standardize_columns, index=zerg_data.index)\n",
    "\n",
    "#One-hot Encoding the categorical variables\n",
    "zerg_data_standardized = zerg_data_standardized.join(pd.get_dummies(zerg_data['map_name'], prefix='Map'))\n",
    "zerg_data_standardized = zerg_data_standardized.join(pd.get_dummies(zerg_data['region'], prefix='Region'))\n",
    "zerg_data_standardized = zerg_data_standardized.join(pd.get_dummies(zerg_data['enemy_race'], prefix='Enemy'))\n",
    "zerg_data_standardized = zerg_data_standardized.join(zerg_data['win'])"
   ]
  },
  {
   "cell_type": "code",
   "execution_count": 25,
   "id": "alert-punishment",
   "metadata": {},
   "outputs": [],
   "source": [
    "no_X = ['win']\n",
    "yes_X = [x for x in list(zerg_data_normalized) if x not in no_X]\n",
    "\n",
    "Y = zerg_data_normalized['win']\n",
    "X_normalized = zerg_data_normalized[yes_X]"
   ]
  },
  {
   "cell_type": "code",
   "execution_count": 26,
   "id": "pressing-drama",
   "metadata": {},
   "outputs": [],
   "source": [
    "no_X = ['win']\n",
    "yes_X = [x for x in list(zerg_data_standardized) if x not in no_X]\n",
    "\n",
    "Y = zerg_data_standardized['win']\n",
    "X_standardized = zerg_data_standardized[yes_X]"
   ]
  },
  {
   "cell_type": "code",
   "execution_count": 27,
   "id": "sporting-cleaners",
   "metadata": {},
   "outputs": [],
   "source": [
    "train_split = 0.8\n",
    "val_split = 0.2\n",
    "\n",
    "num_data = len(X_normalized)\n",
    "num_val = int(train_split * val_split * num_data)\n",
    "num_train = int(train_split * num_data) - num_val\n",
    "num_test = num_data - int(train_split * num_data)\n",
    "\n",
    "\n",
    "Y_train = Y[0:num_train]\n",
    "Y_val = Y[num_train:(num_train + num_val)]\n",
    "Y_test = Y[(num_val + num_train):]\n",
    "\n",
    "\n",
    "X_normalized_train = X_normalized[0:num_train]\n",
    "X_normalized_val = X_normalized[num_train:(num_train + num_val)]\n",
    "X_normalized_test = X_normalized[(num_val + num_train):]\n",
    "\n",
    "X_standardized_train = X_standardized[0:num_train]\n",
    "X_standardized_val = X_standardized[num_train:(num_train + num_val)]\n",
    "X_standardized_test = X_standardized[(num_val + num_train):]"
   ]
  },
  {
   "cell_type": "code",
   "execution_count": 28,
   "id": "burning-pixel",
   "metadata": {},
   "outputs": [],
   "source": [
    "knn_normZ = knn.fit(X_normalized_train, Y_train)\n",
    "knn_standZ = knn.fit(X_standardized_train, Y_train)\n",
    "knn_normpredZ = knn_normZ.predict(X_normalized_test)\n",
    "knn_standpredZ = knn_standZ.predict(X_standardized_test)"
   ]
  },
  {
   "cell_type": "code",
   "execution_count": 29,
   "id": "metallic-harbor",
   "metadata": {},
   "outputs": [
    {
     "data": {
      "image/png": "[encoded data removed]",
      "text/plain": [
       "<Figure size 432x432 with 1 Axes>"
      ]
     },
     "metadata": {
      "needs_background": "light"
     },
     "output_type": "display_data"
    }
   ],
   "source": [
    "knn_norm_cmZ = confusion_matrix(Y_test, knn_normpredZ)\n",
    "fig, ax = plt.subplots(figsize=(6,6))\n",
    "ax.imshow(knn_norm_cmZ)\n",
    "ax.grid(False)\n",
    "ax.xaxis.set(ticks=(0, 1), ticklabels=('Predicted Loss', 'Predicted Win'))\n",
    "ax.yaxis.set(ticks=(0, 1), ticklabels=('Actual Loss', 'Actual Win'))\n",
    "ax.set_ylim(1.5, -0.5)\n",
    "for i in range(2):\n",
    "    for j in range(2):\n",
    "        ax.text(j, i, knn_norm_cmZ[i, j], ha='center', va='center', color='red')\n",
    "plt.title('Confusion Matrix - KNN - Normalized')\n",
    "plt.show()"
   ]
  },
  {
   "cell_type": "code",
   "execution_count": 30,
   "id": "suspended-hours",
   "metadata": {},
   "outputs": [
    {
     "data": {
      "image/png": "[encoded data removed]",
      "text/plain": [
       "<Figure size 432x432 with 1 Axes>"
      ]
     },
     "metadata": {
      "needs_background": "light"
     },
     "output_type": "display_data"
    }
   ],
   "source": [
    "knn_stand_cmZ = confusion_matrix(Y_test, knn_standpredZ)\n",
    "fig, ax = plt.subplots(figsize=(6,6))\n",
    "ax.imshow(knn_stand_cmZ)\n",
    "ax.grid(False)\n",
    "ax.xaxis.set(ticks=(0, 1), ticklabels=('Predicted Loss', 'Predicted Win'))\n",
    "ax.yaxis.set(ticks=(0, 1), ticklabels=('Actual Loss', 'Actual Win'))\n",
    "ax.set_ylim(1.5, -0.5)\n",
    "for i in range(2):\n",
    "    for j in range(2):\n",
    "        ax.text(j, i, knn_stand_cmZ[i, j], ha='center', va='center', color='red')\n",
    "plt.title('Confusion Matrix - KNN - Standardized')\n",
    "plt.show()"
   ]
  },
  {
   "cell_type": "code",
   "execution_count": 31,
   "id": "forbidden-effects",
   "metadata": {},
   "outputs": [
    {
     "name": "stdout",
     "output_type": "stream",
     "text": [
      "              precision    recall  f1-score   support\n",
      "\n",
      "           0       0.45      0.37      0.40      7360\n",
      "           1       0.55      0.63      0.58      8897\n",
      "\n",
      "    accuracy                           0.51     16257\n",
      "   macro avg       0.50      0.50      0.49     16257\n",
      "weighted avg       0.50      0.51      0.50     16257\n",
      "\n"
     ]
    }
   ],
   "source": [
    "#Normalized\n",
    "print(classification_report(Y_test, knn_normpredZ))"
   ]
  },
  {
   "cell_type": "code",
   "execution_count": 32,
   "id": "floral-distribution",
   "metadata": {},
   "outputs": [
    {
     "name": "stdout",
     "output_type": "stream",
     "text": [
      "              precision    recall  f1-score   support\n",
      "\n",
      "           0       0.50      0.44      0.46      7360\n",
      "           1       0.58      0.63      0.60      8897\n",
      "\n",
      "    accuracy                           0.54     16257\n",
      "   macro avg       0.54      0.53      0.53     16257\n",
      "weighted avg       0.54      0.54      0.54     16257\n",
      "\n"
     ]
    }
   ],
   "source": [
    "#Standardized\n",
    "print(classification_report(Y_test, knn_standpredZ))"
   ]
  }
 ],
 "metadata": {
  "kernelspec": {
   "display_name": "Python 3",
   "language": "python",
   "name": "python3"
  },
  "language_info": {
   "codemirror_mode": {
    "name": "ipython",
    "version": 3
   },
   "file_extension": ".py",
   "mimetype": "text/x-python",
   "name": "python",
   "nbconvert_exporter": "python",
   "pygments_lexer": "ipython3",
   "version": "3.8.5"
  }
 },
 "nbformat": 4,
 "nbformat_minor": 5
}
